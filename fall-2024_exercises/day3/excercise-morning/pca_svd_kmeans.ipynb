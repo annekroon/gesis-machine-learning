{
 "cells": [
  {
   "cell_type": "markdown",
   "metadata": {},
   "source": [
    "# Introduction into Unsupervised Machine Learning: dimensionality reduction and clustering techniques"
   ]
  },
  {
   "cell_type": "code",
   "execution_count": 26,
   "metadata": {},
   "outputs": [],
   "source": [
    "from sklearn import datasets\n",
    "from sklearn.decomposition import PCA\n",
    "from sklearn.decomposition import TruncatedSVD\n",
    "from sklearn.feature_extraction.text import CountVectorizer\n",
    "from sklearn.pipeline import make_pipeline\n",
    "from sklearn.preprocessing import FunctionTransformer\n",
    "import random\n",
    "import csv\n",
    "random.seed(555)\n",
    "import matplotlib.pyplot as plt\n",
    "import numpy as np\n",
    "import pandas as pd\n",
    "\n",
    "autotexts = datasets.fetch_20newsgroups(categories=['rec.autos'], remove=('headers', 'footers', 'quotes'), subset='train')['data']\n",
    "religiontexts = datasets.fetch_20newsgroups(categories=['soc.religion.christian'], remove=('headers', 'footers', 'quotes'), subset='train')['data']\n",
    "\n",
    "texts = autotexts[:20] + religiontexts[:20]\n",
    "random.shuffle(texts)"
   ]
  },
  {
   "cell_type": "markdown",
   "metadata": {},
   "source": [
    "print the length of the texts"
   ]
  },
  {
   "cell_type": "code",
   "execution_count": 2,
   "metadata": {},
   "outputs": [
    {
     "data": {
      "text/plain": [
       "(599, 594)"
      ]
     },
     "execution_count": 2,
     "metadata": {},
     "output_type": "execute_result"
    }
   ],
   "source": [
    "len(religiontexts), len(autotexts)"
   ]
  },
  {
   "cell_type": "markdown",
   "metadata": {},
   "source": [
    "if you want to know more about the specific dataset we are using here, you can run the following cell. "
   ]
  },
  {
   "cell_type": "code",
   "execution_count": 40,
   "metadata": {},
   "outputs": [],
   "source": [
    "datasets.fetch_20newsgroups?"
   ]
  },
  {
   "cell_type": "code",
   "execution_count": 64,
   "metadata": {},
   "outputs": [],
   "source": [
    "# print textual data"
   ]
  },
  {
   "cell_type": "code",
   "execution_count": 63,
   "metadata": {},
   "outputs": [
    {
     "name": "stdout",
     "output_type": "stream",
     "text": [
      "Article 1: \n",
      "\n",
      "I wrote in response to dlecoint@garnet.acns.fsu.edu (Darius_Lecointe):\n",
      "\n",
      "\n",
      "Was Paul a God too? Is an interpretation of the words of Paul of higher\n",
      "priority than the direct word of Jesus in Matt5:14-19? Paul begins\n",
      "Romans 14 with \"If someone is weak in the faith ...\" Do you count\n",
      "yourself as one who is weak in the faith?\n",
      "\n",
      "\n",
      "Yes, but what does the Bible have to say? What did Jesus say? Paul\n",
      "closes Romans 14 with, \"On the other hand, the person with doubts about\n",
      "something who eats it anyway is guilty, because he isn't acting on his\n",
      "faith, and any failure to act on faith is a sin.\" Gaus, ISBN:0-933999-99-2\n",
      "Have you read the Ten Commandments which are a portion of the Law? Have\n",
      "you read Jesus' word in Matt5:14-19? Is there any doubt in your mind\n",
      "about what is right and what is sin (Greek hamartia = missing the mark)?\n",
      "\n",
      "\n",
      "Whereas, the Ten Commandments and Jesus' words in Matt5:14-19 are fairly\n",
      "clear, are they not?\n",
      "\n",
      "\n",
      "Matt5:14-19 doesn't answer your question?\n",
      "\n",
      "\n",
      "Breaking bread - roughly synonymous w\n",
      "\n",
      "********************************************************************************\n",
      "\n",
      "Article 2: \n",
      "\n",
      "From article <1993Apr5.200048.23421@ucsu.Colorado.EDU>, by lorenzo@rintintin.Colorado.EDU (Eric Lorenzo):\n",
      "\n",
      "--Let me put it like this.  The only similarity between the three models\n",
      "  is the \"300\", or 3-liter engine displacement.  Actually, the SC300 (the\n",
      "  coupe) and the GS300 (the funky-looking new sedan) share the same 3.0\n",
      "  liter inline-six, and the ES300 (popular small sedan) uses 3.0 V6 shared\n",
      "  with the Camry.  The SC300 is a luxury/sports coupe, the GS300 is the new\n",
      "  luxury sedan, and the ES300 is the base executive sedan.  All three look\n",
      "  completely different.\n",
      "\n",
      "--Aamir Qazi\n",
      "-- \n"
     ]
    }
   ],
   "source": [
    "print(f\"Article 1: \\n\\n{religiontexts[0][:1000]}\")\n",
    "print(f'\\n{\"*\" * 80}\\n')\n",
    "print(f\"Article 2: \\n\\n{autotexts[0][:1000]}\")"
   ]
  },
  {
   "cell_type": "markdown",
   "metadata": {},
   "source": [
    "Next, inspect your data some more: what is in the data?\n",
    "as you can see, this data is not preprocessed--you may want to apply some of the preprocessing steps from day 2 in order to clean up the data"
   ]
  },
  {
   "cell_type": "code",
   "execution_count": 65,
   "metadata": {},
   "outputs": [
    {
     "data": {
      "text/plain": [
       "'\\nOn the cars mentioned - 3 series from the late 80\\'s the \"electronic\"\\nodometer is really a mechanical drum type odometer, that is driven\\nby pulses from a speed sensor on the rear axle.  These pulses are \\nconverted into mechanical pulses that turn the odometer - and speedometer.\\nNo way changing or erasing an eprom is going to change the mileage\\nreading.  It also means the odometer is just as easy (or hard) to\\nchange as any other mechanical odometer.\\n\\nOn the other hand it is a bit easier to disconnect the speed sensor\\nand run the car with no speedometer or odometer reading...a simple\\nswitch will do the job.  It also will disable the speed limiter,\\nwhich will enable the car to reach it\\'s full speed.  ;-)\\n\\n'"
      ]
     },
     "execution_count": 65,
     "metadata": {},
     "output_type": "execute_result"
    }
   ],
   "source": [
    "texts[20]"
   ]
  },
  {
   "cell_type": "code",
   "execution_count": 6,
   "metadata": {},
   "outputs": [
    {
     "data": {
      "text/plain": [
       "'Heres the life of St. MAria Goretti, posted with kind permission of\\nthe editor of the Australian Catholic Magazine \"Morning Star\".\\n\\nHope you like it.\\n\\n    Put up with anything to prevent sin St. Maria Goretti\\n\\n\\n\\n    Maria was born on October 16th 1890 to Luigi and Assunta Goretti,\\n    the  eldest  daughter  in the family of seven. She was a cheerful\\n    girl, always imitating her parents.  She had but one disire,  but\\n    one wish: to receive our Lord in the Blessed Sacrament.\\n\\n    The date was finally set for little Maria to receive our Lord  on\\n    the feast of Corpus Christi. For Maria, time seemed like an eter-\\n    nity as she  slowly  neared  the  great  day.   When  it  finally\\n    arrived, Fr. Jerome( the priest who was to celebrate the Mass and\\n    give the children their First Holy Communion) delivered a  sermon\\n    on\\tthe  immense love of Jesus Christ for them and the great love\\n    we should have in return for Him. He then warmly  urged  them  to\\n    die rather than commit a mortal sin.\\n\\n    Maria humbly approached the Altar of God and  received  the  Holy\\n    Eucharist.\\tHer  only  sadness  was  the  thought of her father\\'s\\n    absence, who died some time beforehand. As for the\\trest  of  the\\n    day,  Maria remained under the spell of the divine visit; that is\\n    until\\n\\n\\t\\t\\t\\t   -4-\\n\\n\\n\\n\\n\\n\\n\\n    her thoughts changed to when she could go next to Holy Communion.\\n    Thus ended the happiest day of Maria\\'s life.\\n\\n    Over the next twelve months, Maria had changed  from  a  giggling\\n    little girl into a quiet young lady with responsibilities. As her\\n    mother went out into the fields in place of  her  husband,\\tMaria\\n    took  on the ironing, cooking, washing and other motherly duties.\\n    She was doing this not only for her own family, but also for  the\\n    Serenellis, a father and son who lived with the Goretti\\'s, owning\\n    a share in the farm. Although Maria was poorer than all the other\\n    children, she by far surpassed them in virtue. In all thi ngs she\\n    did the Holy Will of God.\\n\\n    During the month of June,  Alessandro  Serenelli(the  son)\\ttwice\\n    made advances upon Maria when he chanced to be alone with her. On\\n    both occasions Maria managed to  struggle  free  of  Alessandro\\'s\\n    strong  grip, but on the second, he threatened to kill her if she\\n    even uttered a word to her mother. From this day on, Maria\\tlived\\n    in terror, fearing lest Alessandro attack again.\\n\\n\\n    On July 5th 1902, Alessandro left work in the fields  to  \"get  a\\n    handkerchief,\"  as\\the  claimed. He went to the storeroom beneath\\n    the house where Maria, who was outside on the  landing  with  the\\n    baby,  could  hear him fumbling about in with tools. She wondered\\n    what he was doing. It was later learned that he was sharpening  a\\n    91/2\"  blade. He went to the house and called for Maria. She told\\n    him she wouldn\\'t go to him unless she knew why she was needed. He\\n    stormed out to the landing and dragged her up to her room. Mar ia\\n    instantly realized what he was up to. \"No, No, No! Do  not\\ttouch\\n    me!  It  is a sin, you will go to Hell!\" At this point Alessandro\\n    held the knife over Maria\\'s chest, who was now on the floor.\\n\\n    \"Will you or will you not?\" Maria gathered all her energy.\\t\"No I\\n    will  not,\\tAlessandro,  no!\"   She had chosen her martyrdom over\\n    sin, God over Satan.  Overcome with rage, Alessandro plunged  the\\n    knife  into   Maria\\'s  breast fourteen times.  Finally he came to\\n    his senses and thought Maria was dead.  Frantically he threw  the\\n    knife behind a closet and locked himself in his room.  The crying\\n    of the baby Teresa\\ton  the  landing  brought  the\\tattention  to\\n    Assunta  and the father of Alessandro. As the baby was unattended\\n    and was in danger of falling off, they ran to the house  to  find\\n    Maria,  who,  covered in blood, was dragging herself to the door.\\n    When asked what happened she said Alessandro  stabbed  her.   \"He\\n    wanted to make me do wrong and I would not.\"\\n\\n    The ambulance arrived, then the police who took Alessandro\\taway.\\n    As\\tthe  ambulance\\tcarried  Maria to the hospital, a large crowd\\n    followed on foot.  The doctors at the  hospital held no hope  for\\n    poor  little Maria.  The same Fr. Jerome who gave Maria her First\\n    Communion\\n\\n\\t\\t\\t\\t   -5-\\n\\n\\n\\n\\n\\n\\n\\n    came to administer the last rites and to give her Holy  Viaticum.\\n    He asked Maria if she would forgive her murderer.  \"Yes.  For the\\n    love of Jesus I forgive him.  I wish for him to one day  join  me\\n    in\\tParadise.   May  God forgive him, for I alread y have.\" Maria\\n    died at about three o\\'clock.\\n\\n    Alessandro was tried  and  found  guilty  of  Maria\\'s  death  but\\n    because  of  his  age  he  was  sentenced to only thirty years in\\n    prison.  After eight  years of being a violent prisoner and show-\\n    ing  no regret for his crime, he saw in a dream, in the  midst of\\n    a field of flowers, Maria holding out a bunch of white lilies  to\\n    him.  Soon later he wrote to the local bishop, begging God\\'s par-\\n    don for the grave sin he had committed.  He later gave  testimony\\n    in\\tMaria\\'s  beatification in 1947.  Less than three years later,\\n    on Ju ne 24th 1950, Maria was canonised.  Assunta Goretti was the\\n    first mother ever to be present at her daughter\\'s canonisation.\\n\\n    May St. Maria Goretti help\\tus  to\\tbe  pure  and  grant  us  the\\n    strength to die rather than commit a mortal sin.\\n\\n    Saint Maria Goretti, pray for us.\\n\\n\\n    by Brendan Arthur\\n'"
      ]
     },
     "execution_count": 6,
     "metadata": {},
     "output_type": "execute_result"
    }
   ],
   "source": [
    "texts[0]"
   ]
  },
  {
   "cell_type": "markdown",
   "metadata": {},
   "source": [
    "## Dimensionality reduction:  PCA\n",
    "\n",
    "Now that we have inspected the data, let's proceed with running Principal Component Analysis (PCA).\n",
    "\n",
    "*Step 1*\n",
    "\n",
    "Create an instance of the `CountVectorizer()` class from `sklearn`, which we'll name `myvec`. This instance possesses specific properties for transforming text data into a document-term matrix, including a straightforward technique for dimensionality reduction: Pruning (specifically, removing tokens that occur in more than 50\\% of the documents, `max_df=.5` and features that occur in less than 5 documents: `min_df=5`)."
   ]
  },
  {
   "cell_type": "code",
   "execution_count": 7,
   "metadata": {},
   "outputs": [],
   "source": [
    "myvec = CountVectorizer(max_df=.5, min_df=5)"
   ]
  },
  {
   "cell_type": "markdown",
   "metadata": {},
   "source": [
    "*Step 2* \n",
    "\n",
    "Create an instance of the Principal Component Analysis (PCA) class (imported from `sklearn`), named `mypca`. \n",
    "`n_components=2` means that you want to reduce the dimensionality of the data to two principal components. "
   ]
  },
  {
   "cell_type": "code",
   "execution_count": 67,
   "metadata": {},
   "outputs": [],
   "source": [
    "mypca = PCA(n_components=2)"
   ]
  },
  {
   "cell_type": "markdown",
   "metadata": {},
   "source": [
    "*Step 3* \n",
    "\n",
    "Create a `sklearn` `pipeline` that sequentially applies a series of data transformations. The pipeline will consist of three steps: `myvec`, the `FunctionTransformer`, and `mypca`.\n",
    "The FunctionTransformer applies a custom function to the data: it converting a sparse matrix to a dense array (as `mypca` expects this). \n",
    "\n",
    "*Step 4*\n",
    "\n",
    "`mypipe.fit_transform(texts)`: here we fit the `mypipe` pipeline to your input texts. It applies each transformation step sequentially: first, it vectorizes the text data, then converts the sparse matrix to a dense array, and finally reduces the dimensionality to two components using PCA. `r` is a reduced-dimensional representation of the text data.\n"
   ]
  },
  {
   "cell_type": "code",
   "execution_count": 9,
   "metadata": {},
   "outputs": [],
   "source": [
    "mypipe = make_pipeline(myvec, FunctionTransformer(lambda x: np.asarray(x.todense()), accept_sparse=True), mypca)\n",
    "r = mypipe.fit_transform(texts)"
   ]
  },
  {
   "cell_type": "markdown",
   "metadata": {},
   "source": [
    "inspect the shape of the `r` object"
   ]
  },
  {
   "cell_type": "code",
   "execution_count": 10,
   "metadata": {},
   "outputs": [
    {
     "data": {
      "text/plain": [
       "(40, 2)"
      ]
     },
     "execution_count": 10,
     "metadata": {},
     "output_type": "execute_result"
    }
   ],
   "source": [
    "r.shape"
   ]
  },
  {
   "cell_type": "code",
   "execution_count": 11,
   "metadata": {},
   "outputs": [
    {
     "data": {
      "text/plain": [
       "array([ 20.88856326, -11.88221923])"
      ]
     },
     "execution_count": 11,
     "metadata": {},
     "output_type": "execute_result"
    }
   ],
   "source": [
    "r[0]"
   ]
  },
  {
   "cell_type": "markdown",
   "metadata": {},
   "source": [
    "These list comprehensions extract the first and second components of each data point in the variable r. Hence, the x and y coordinates for each point in the scatter plot are extracted and plotted. "
   ]
  },
  {
   "cell_type": "code",
   "execution_count": 12,
   "metadata": {},
   "outputs": [
    {
     "data": {
      "text/plain": [
       "<matplotlib.collections.PathCollection at 0x12e4f4b20>"
      ]
     },
     "execution_count": 12,
     "metadata": {},
     "output_type": "execute_result"
    },
    {
     "data": {
      "image/png": "[encoded data removed]",
      "text/plain": [
       "<Figure size 640x480 with 1 Axes>"
      ]
     },
     "metadata": {},
     "output_type": "display_data"
    }
   ],
   "source": [
    "plt.scatter([e[0] for e in r], [e[1] for e in r], alpha=.6)"
   ]
  },
  {
   "cell_type": "markdown",
   "metadata": {},
   "source": [
    "Assign components scores to documents"
   ]
  },
  {
   "cell_type": "code",
   "execution_count": 13,
   "metadata": {},
   "outputs": [
    {
     "name": "stdout",
     "output_type": "stream",
     "text": [
      "Heres the life of St. MAria Goretti, pos 20.88856326118096 -11.882219232741553\n",
      " A question for you - can you give me th 6.910990952938773 -3.6839201820679777\n",
      " If you don't already know it, you shoul -5.190653765732617 1.229487805947572\n",
      "  I think you are vastly oversimplifying -0.0770574871081561 -0.5813748483996394\n",
      "My brother has been alienated from my pa 9.798003410585313 -12.688910556109976\n",
      "Is there anyone out there in NetLand tha -4.804292519202744 1.8794786968664239\n",
      "A \"new Christian\" wrote that he was new  1.9591114277945885 -0.7582900021479807\n",
      "Hello,   I have a 92 Toyota 4X4 and in t -3.347735405811322 0.3536708248550773\n",
      "                            ^^^^^^^^^^^^ -2.089946478051476 2.4285794650817243\n",
      " \tAs a stong self-defense advocate, you' -3.645447207800208 0.2558613343150798\n",
      "True.  Also read 2 Peter 3:16  Peter war -5.2771696498316 2.0616111995448736\n",
      " An interesting interpretation of Revela -2.413623971396888 0.22683960197842917\n",
      "     This is the problem. This is not he -3.088328819096389 1.8939110824299745\n",
      " I don't understand the fascination with -5.273711734724381 2.0064613784986283\n",
      "  Terms are being used in a loaded way h -4.110696091285014 0.9337053237008327\n",
      "[With Frank's permission, I have added s 50.22919654540347 22.27273039052473\n",
      "Well, there *is* a difference.  I don't  -3.478484273987259 0.3836325263305856\n",
      "I wrote in response to dlecoint@garnet.a 25.724570707896138 -21.540793522141584\n",
      "   Must there be a \"why\" to this?  I ask -0.9243744168851818 1.0711037818553188\n",
      "  My whole point was not to say that the -1.4677213940148561 -2.7070337435200806\n",
      " Perhaps it is because witnesses who hav -3.0555171417788736 0.9043388284211457\n",
      "Hello World, \t     just bought a new Ste -5.239782440460179 1.8654831325091676\n",
      "Is clear coat really worth it?  Yes, on  -2.6352549338509292 -1.4941678210658582\n",
      "From article <1993Apr5.200048.23421@ucsu -5.122431569344464 2.2459092482156082\n",
      " Sounds a lot more like an Opel GT to me -5.164692239201976 2.0634218583578336\n",
      "DeSoto's first year of manufacture was 1 -4.7631660960436975 1.843019559975539\n",
      " I strongly disagree that absolute truth 1.9858209320896911 -5.096714593484503\n",
      "   > [A very nice article on the DSS, wh -2.995490037926197 1.1718556098887922\n",
      ": > \t   I'm a commited Christian that is -3.053069850294407 -0.4252615070806137\n",
      "                        ^^^^^^^^^^^^^^^^ 1.2536309197139084 0.4533743164322661\n",
      "     >[I'm sort of mystified about how a -3.635824436953016 1.2576079901927502\n",
      "Why is it that we have this notion that  -3.287932446026133 2.316453265532139\n",
      " Ok, here's what I understand:  The SL/S -1.8633852297179496 0.03812547384131606\n",
      "You can be sure they wouldn't do it if i -5.421147032687403 2.0318941649555438\n",
      "Stuff deleted... -5.598634279254131 2.274242665226893\n",
      "James Sledd asks:   1. What is the natur -3.8529205475881043 0.8835262210835826\n",
      "  Yes, however, with the top off and the -5.22631182284097 2.1139748277253423\n",
      "MK48T02 from thomsom.  It has a timekeep -4.156744286989785 1.1482288571144768\n",
      "  sure sounds like they got a ringer.  t -4.870296548649857 1.1760624758175486\n",
      " Because Greyhound has apparently gotten -3.618044003066657 0.07409410154057872\n"
     ]
    }
   ],
   "source": [
    "for i, case in enumerate(r):\n",
    "    print(texts[i][:40].replace(\"\\n\", \" \"), case[0], case[1])"
   ]
  },
  {
   "cell_type": "markdown",
   "metadata": {},
   "source": [
    "Write the textual data to a `.csv` file"
   ]
  },
  {
   "cell_type": "code",
   "execution_count": 14,
   "metadata": {},
   "outputs": [],
   "source": [
    "i = 0\n",
    "with open(\"output.csv\", mode=\"w\") as f:\n",
    "    writer = csv.writer(f)\n",
    "    for case in r:\n",
    "        writer.writerow([texts[i], case[0], case[1]])\n",
    "        i+=1"
   ]
  },
  {
   "cell_type": "markdown",
   "metadata": {},
   "source": [
    "or, using pandas to convert to a `df`"
   ]
  },
  {
   "cell_type": "code",
   "execution_count": 69,
   "metadata": {
    "scrolled": true
   },
   "outputs": [
    {
     "data": {
      "text/html": [
       "<div>\n",
       "<style scoped>\n",
       "    .dataframe tbody tr th:only-of-type {\n",
       "        vertical-align: middle;\n",
       "    }\n",
       "\n",
       "    .dataframe tbody tr th {\n",
       "        vertical-align: top;\n",
       "    }\n",
       "\n",
       "    .dataframe thead th {\n",
       "        text-align: right;\n",
       "    }\n",
       "</style>\n",
       "<table border=\"1\" class=\"dataframe\">\n",
       "  <thead>\n",
       "    <tr style=\"text-align: right;\">\n",
       "      <th></th>\n",
       "      <th>texts</th>\n",
       "      <th>comp_1</th>\n",
       "      <th>comp_2</th>\n",
       "    </tr>\n",
       "  </thead>\n",
       "  <tbody>\n",
       "    <tr>\n",
       "      <th>0</th>\n",
       "      <td>From article &lt;1993Apr5.200048.23421@ucsu.Color...</td>\n",
       "      <td>1.367383</td>\n",
       "      <td>0.510390</td>\n",
       "    </tr>\n",
       "    <tr>\n",
       "      <th>1</th>\n",
       "      <td>\\nPerhaps it is because witnesses who have lef...</td>\n",
       "      <td>5.335943</td>\n",
       "      <td>0.016034</td>\n",
       "    </tr>\n",
       "    <tr>\n",
       "      <th>2</th>\n",
       "      <td>\\nIf you don't already know it, you should cal...</td>\n",
       "      <td>4.088168</td>\n",
       "      <td>3.816745</td>\n",
       "    </tr>\n",
       "    <tr>\n",
       "      <th>3</th>\n",
       "      <td>Well, there *is* a difference.\\n\\nI don't happ...</td>\n",
       "      <td>7.705803</td>\n",
       "      <td>5.579548</td>\n",
       "    </tr>\n",
       "    <tr>\n",
       "      <th>4</th>\n",
       "      <td>Is clear coat really worth it?  Yes, on the sh...</td>\n",
       "      <td>6.922052</td>\n",
       "      <td>3.420928</td>\n",
       "    </tr>\n",
       "  </tbody>\n",
       "</table>\n",
       "</div>"
      ],
      "text/plain": [
       "                                               texts    comp_1    comp_2\n",
       "0  From article <1993Apr5.200048.23421@ucsu.Color...  1.367383  0.510390\n",
       "1  \\nPerhaps it is because witnesses who have lef...  5.335943  0.016034\n",
       "2  \\nIf you don't already know it, you should cal...  4.088168  3.816745\n",
       "3  Well, there *is* a difference.\\n\\nI don't happ...  7.705803  5.579548\n",
       "4  Is clear coat really worth it?  Yes, on the sh...  6.922052  3.420928"
      ]
     },
     "execution_count": 69,
     "metadata": {},
     "output_type": "execute_result"
    }
   ],
   "source": [
    "import pandas as pd\n",
    "\n",
    "df = pd.DataFrame(zip(texts, [e[0] for e in r], [e[1] for e in r]), columns=['texts', 'comp_1', 'comp_2']) \n",
    "df.head()"
   ]
  },
  {
   "cell_type": "markdown",
   "metadata": {},
   "source": [
    "if you want to display more texts, you may run:  \n",
    "`df.style.set_properties(subset=['texts'], **{'width': '100px'})`"
   ]
  },
  {
   "cell_type": "markdown",
   "metadata": {},
   "source": [
    "Read the `output.csv` file back into memory "
   ]
  },
  {
   "cell_type": "code",
   "execution_count": 70,
   "metadata": {},
   "outputs": [
    {
     "data": {
      "text/html": [
       "<div>\n",
       "<style scoped>\n",
       "    .dataframe tbody tr th:only-of-type {\n",
       "        vertical-align: middle;\n",
       "    }\n",
       "\n",
       "    .dataframe tbody tr th {\n",
       "        vertical-align: top;\n",
       "    }\n",
       "\n",
       "    .dataframe thead th {\n",
       "        text-align: right;\n",
       "    }\n",
       "</style>\n",
       "<table border=\"1\" class=\"dataframe\">\n",
       "  <thead>\n",
       "    <tr style=\"text-align: right;\">\n",
       "      <th></th>\n",
       "      <th>0</th>\n",
       "      <th>1</th>\n",
       "      <th>2</th>\n",
       "    </tr>\n",
       "  </thead>\n",
       "  <tbody>\n",
       "    <tr>\n",
       "      <th>0</th>\n",
       "      <td>Heres the life of St. MAria Goretti, posted wi...</td>\n",
       "      <td>20.888563</td>\n",
       "      <td>-11.882219</td>\n",
       "    </tr>\n",
       "    <tr>\n",
       "      <th>1</th>\n",
       "      <td>\\nA question for you - can you give me the nam...</td>\n",
       "      <td>6.910991</td>\n",
       "      <td>-3.683920</td>\n",
       "    </tr>\n",
       "    <tr>\n",
       "      <th>2</th>\n",
       "      <td>\\nIf you don't already know it, you should cal...</td>\n",
       "      <td>-5.190654</td>\n",
       "      <td>1.229488</td>\n",
       "    </tr>\n",
       "    <tr>\n",
       "      <th>3</th>\n",
       "      <td>\\n\\nI think you are vastly oversimplifying thi...</td>\n",
       "      <td>-0.077057</td>\n",
       "      <td>-0.581375</td>\n",
       "    </tr>\n",
       "    <tr>\n",
       "      <th>4</th>\n",
       "      <td>My brother has been alienated from my parents ...</td>\n",
       "      <td>9.798003</td>\n",
       "      <td>-12.688911</td>\n",
       "    </tr>\n",
       "  </tbody>\n",
       "</table>\n",
       "</div>"
      ],
      "text/plain": [
       "                                                   0          1          2\n",
       "0  Heres the life of St. MAria Goretti, posted wi...  20.888563 -11.882219\n",
       "1  \\nA question for you - can you give me the nam...   6.910991  -3.683920\n",
       "2  \\nIf you don't already know it, you should cal...  -5.190654   1.229488\n",
       "3  \\n\\nI think you are vastly oversimplifying thi...  -0.077057  -0.581375\n",
       "4  My brother has been alienated from my parents ...   9.798003 -12.688911"
      ]
     },
     "execution_count": 70,
     "metadata": {},
     "output_type": "execute_result"
    }
   ],
   "source": [
    "import pandas as pd\n",
    "df = pd.read_csv(\"output.csv\", header = None)\n",
    "df.head()"
   ]
  },
  {
   "cell_type": "markdown",
   "metadata": {},
   "source": [
    "# dimensionality reduction: SVD\n",
    "\n",
    "Try performing the same task as before, but this time using Singular Value Decomposition (SVD). One advantage of using SVD is that there's no need to convert our data into a dense structure."
   ]
  },
  {
   "cell_type": "markdown",
   "metadata": {},
   "source": [
    "make longer dataset"
   ]
  },
  {
   "cell_type": "code",
   "execution_count": 71,
   "metadata": {},
   "outputs": [
    {
     "data": {
      "text/plain": [
       "1193"
      ]
     },
     "execution_count": 71,
     "metadata": {},
     "output_type": "execute_result"
    }
   ],
   "source": [
    "texts = autotexts + religiontexts\n",
    "len(texts)"
   ]
  },
  {
   "cell_type": "markdown",
   "metadata": {},
   "source": [
    "We create an instance of the `TruncatedSVD` class with `n_components=2`,  indicating that we want to reduce the dimensionality of the data to two components using `SVD`. This is a technique similar to PCA but designed to work with sparse data.\n",
    "\n",
    "Create an instance of `make_pipeline` from `sklearn` called  `mypipe`. This pipeline applies two steps sequentially: myvec, which vectorizes the text data using `CountVectorizer` (see in the code above), and `mysvd`, which reduces the dimensionality. \n",
    "\n",
    "`mypipe.fit_transform(texts)`: here we fit the `mypipe` pipeline to our texts. It applies each transformation step in order: first, it vectorizes the text data using CountVectorizer, and then it reduces the dimensionality to two components using `SVD`. The result are stored in `r`."
   ]
  },
  {
   "cell_type": "code",
   "execution_count": 72,
   "metadata": {},
   "outputs": [],
   "source": [
    "mysvd = TruncatedSVD(n_components=2)\n",
    "mypipe = make_pipeline(myvec, mysvd)\n",
    "r = mypipe.fit_transform(texts)"
   ]
  },
  {
   "cell_type": "code",
   "execution_count": 73,
   "metadata": {},
   "outputs": [],
   "source": [
    "TruncatedSVD?"
   ]
  },
  {
   "cell_type": "markdown",
   "metadata": {},
   "source": [
    "Similarly as we did for PCA, lets visualize the results... "
   ]
  },
  {
   "cell_type": "code",
   "execution_count": 20,
   "metadata": {},
   "outputs": [
    {
     "data": {
      "text/plain": [
       "<matplotlib.collections.PathCollection at 0x12e545610>"
      ]
     },
     "execution_count": 20,
     "metadata": {},
     "output_type": "execute_result"
    },
    {
     "data": {
      "image/png": "[encoded data removed]",
      "text/plain": [
       "<Figure size 640x480 with 1 Axes>"
      ]
     },
     "metadata": {},
     "output_type": "display_data"
    }
   ],
   "source": [
    "plt.scatter([e[0] for e in r], [e[1] for e in r], alpha=.6)"
   ]
  },
  {
   "cell_type": "markdown",
   "metadata": {},
   "source": [
    "assign the coordinates and texts to a `df`, so we can inspect the results better. "
   ]
  },
  {
   "cell_type": "code",
   "execution_count": 76,
   "metadata": {},
   "outputs": [
    {
     "data": {
      "text/html": [
       "<div>\n",
       "<style scoped>\n",
       "    .dataframe tbody tr th:only-of-type {\n",
       "        vertical-align: middle;\n",
       "    }\n",
       "\n",
       "    .dataframe tbody tr th {\n",
       "        vertical-align: top;\n",
       "    }\n",
       "\n",
       "    .dataframe thead th {\n",
       "        text-align: right;\n",
       "    }\n",
       "</style>\n",
       "<table border=\"1\" class=\"dataframe\">\n",
       "  <thead>\n",
       "    <tr style=\"text-align: right;\">\n",
       "      <th></th>\n",
       "      <th>x</th>\n",
       "      <th>y</th>\n",
       "      <th>texts</th>\n",
       "    </tr>\n",
       "  </thead>\n",
       "  <tbody>\n",
       "    <tr>\n",
       "      <th>0</th>\n",
       "      <td>1.367383</td>\n",
       "      <td>0.510485</td>\n",
       "      <td>From article &lt;1993Apr5.200048.23421@ucsu.Color...</td>\n",
       "    </tr>\n",
       "    <tr>\n",
       "      <th>1</th>\n",
       "      <td>5.335943</td>\n",
       "      <td>0.015659</td>\n",
       "      <td>\\nPerhaps it is because witnesses who have lef...</td>\n",
       "    </tr>\n",
       "    <tr>\n",
       "      <th>2</th>\n",
       "      <td>4.088168</td>\n",
       "      <td>3.816815</td>\n",
       "      <td>\\nIf you don't already know it, you should cal...</td>\n",
       "    </tr>\n",
       "  </tbody>\n",
       "</table>\n",
       "</div>"
      ],
      "text/plain": [
       "          x         y                                              texts\n",
       "0  1.367383  0.510485  From article <1993Apr5.200048.23421@ucsu.Color...\n",
       "1  5.335943  0.015659  \\nPerhaps it is because witnesses who have lef...\n",
       "2  4.088168  3.816815  \\nIf you don't already know it, you should cal..."
      ]
     },
     "execution_count": 76,
     "metadata": {},
     "output_type": "execute_result"
    }
   ],
   "source": [
    "df = pd.DataFrame(r)\n",
    "df.columns = ['x','y']\n",
    "df['texts'] = texts\n",
    "df.head(3)"
   ]
  },
  {
   "cell_type": "markdown",
   "metadata": {},
   "source": [
    "if you want to inspect particular elements, you can do so as well. "
   ]
  },
  {
   "cell_type": "code",
   "execution_count": 38,
   "metadata": {},
   "outputs": [
    {
     "data": {
      "text/html": [
       "<div>\n",
       "<style scoped>\n",
       "    .dataframe tbody tr th:only-of-type {\n",
       "        vertical-align: middle;\n",
       "    }\n",
       "\n",
       "    .dataframe tbody tr th {\n",
       "        vertical-align: top;\n",
       "    }\n",
       "\n",
       "    .dataframe thead th {\n",
       "        text-align: right;\n",
       "    }\n",
       "</style>\n",
       "<table border=\"1\" class=\"dataframe\">\n",
       "  <thead>\n",
       "    <tr style=\"text-align: right;\">\n",
       "      <th></th>\n",
       "      <th>x</th>\n",
       "      <th>y</th>\n",
       "      <th>texts</th>\n",
       "    </tr>\n",
       "  </thead>\n",
       "  <tbody>\n",
       "    <tr>\n",
       "      <th>42</th>\n",
       "      <td>127.154194</td>\n",
       "      <td>101.298242</td>\n",
       "      <td>Archive-name: rec-autos/part5\\n\\n[this article...</td>\n",
       "    </tr>\n",
       "  </tbody>\n",
       "</table>\n",
       "</div>"
      ],
      "text/plain": [
       "             x           y                                              texts\n",
       "42  127.154194  101.298242  Archive-name: rec-autos/part5\\n\\n[this article..."
      ]
     },
     "execution_count": 38,
     "metadata": {},
     "output_type": "execute_result"
    }
   ],
   "source": [
    "df.query(\"x>60 & y >20\")"
   ]
  },
  {
   "cell_type": "markdown",
   "metadata": {},
   "source": [
    "# Cluster analysis: k-means\n",
    "\n",
    "Next, we continue with clustering techniques, more specifically, k-means "
   ]
  },
  {
   "cell_type": "markdown",
   "metadata": {},
   "source": [
    "\n",
    "*Step 1*\n",
    "\n",
    "Create an stance of the `TfidfVectorizer` called `vec`. Again, we apply pruning: `min_df=5`: Words that appear in fewer than 5 documents will be ignored. `max_df=0.4`: Words that appear in more than 40% of the documents will be ignored.\n",
    "    \n",
    "*Step 2*\n",
    "\n",
    "We use the `vec` object to transform the text data into a document-term matrix in TF-IDF format. \n",
    "\n",
    "*Step 3*\n",
    "\n",
    "Create an instance of the `K-Means` clustering algorithm with the following parameters:\n",
    "\n",
    "`n_clusters=k`: Specifies that you want to create k clusters.\n",
    "`init='k-means++'`: Initializes the cluster centroids using a smart method called \"k-means++.\"\n",
    "max_iter=100: Specifies the maximum number of iterations for each K-Means run.\n",
    "n_init=1: Indicates that K-Means will be run only once (with the specified number of clusters).\n",
    "\n",
    "u fit the K-Means model (km) to the transformed TF-IDF features (features) and obtain cluster assignments for each document. The predictions array contains the cluster labels for each document in your dataset."
   ]
  },
  {
   "cell_type": "code",
   "execution_count": 21,
   "metadata": {},
   "outputs": [],
   "source": [
    "from sklearn.feature_extraction.text import TfidfVectorizer\n",
    "from sklearn.cluster import KMeans\n",
    "\n",
    "k = 5\n",
    "\n",
    "vec = TfidfVectorizer(min_df=5, max_df=.4)\n",
    "features = vec.fit_transform(texts)\n",
    "km = KMeans(n_clusters=k, init='k-means++', max_iter=100, n_init=1)\n",
    "predictions = km.fit_predict(features)"
   ]
  },
  {
   "cell_type": "markdown",
   "metadata": {},
   "source": [
    "Print out the resulting clusters"
   ]
  },
  {
   "cell_type": "code",
   "execution_count": 77,
   "metadata": {},
   "outputs": [
    {
     "name": "stdout",
     "output_type": "stream",
     "text": [
      "Top terms per cluster:\n",
      "Cluster 0: church by me please anyone about from thanks was would \n",
      "Cluster 1: god we he his was who jesus what by do \n",
      "Cluster 2: car any dealer they cars price has me new anyone \n",
      "Cluster 3: they was at your about an get can out would \n",
      "Cluster 4: my was just there any out would what had right \n"
     ]
    }
   ],
   "source": [
    "order_centroids = km.cluster_centers_.argsort()[:, ::-1]\n",
    "terms = vec.get_feature_names_out()\n",
    "\n",
    "print(\"Top terms per cluster:\")\n",
    "\n",
    "for i in range(k):\n",
    "    print(\"Cluster {}: \".format(i), end='')\n",
    "    for ind in order_centroids[i, :10]:\n",
    "        print(\"{} \".format(terms[ind]), end='')\n",
    "    print()"
   ]
  },
  {
   "cell_type": "markdown",
   "metadata": {},
   "source": [
    "# Combining cluster analysis and dimensionality reduction\n",
    "\n",
    "First, let's rewrite the code above to use a pipeline instead of separate steps. Note that this is equivalent to the code above."
   ]
  },
  {
   "cell_type": "code",
   "execution_count": 23,
   "metadata": {},
   "outputs": [],
   "source": [
    "k = 5\n",
    "coolpipe = make_pipeline( TfidfVectorizer(min_df=5, max_df=.4), \n",
    "                         KMeans(n_clusters=k, init='k-means++', max_iter=100, n_init=1))\n",
    "\n",
    "mycoolpredictions = coolpipe.fit_predict(texts)"
   ]
  },
  {
   "cell_type": "markdown",
   "metadata": {},
   "source": [
    "Now, lets add a SVD dimension reduction in between:"
   ]
  },
  {
   "cell_type": "code",
   "execution_count": 25,
   "metadata": {},
   "outputs": [],
   "source": [
    "k = 5\n",
    "evencoolerpipe = make_pipeline( TfidfVectorizer(min_df=5, max_df=.4), \n",
    "                               TruncatedSVD(n_components=10),\n",
    "                               KMeans(n_clusters=k, init='k-means++', max_iter=100, n_init=1))\n",
    "\n",
    "mycoolestpredictions = evencoolerpipe.fit_predict(texts)"
   ]
  },
  {
   "cell_type": "markdown",
   "metadata": {},
   "source": [
    "As you see, it's literally just adding the SVD in the middle of the pipe!"
   ]
  }
 ],
 "metadata": {
  "kernelspec": {
   "display_name": "Python 3 (ipykernel)",
   "language": "python",
   "name": "python3"
  },
  "language_info": {
   "codemirror_mode": {
    "name": "ipython",
    "version": 3
   },
   "file_extension": ".py",
   "mimetype": "text/x-python",
   "name": "python",
   "nbconvert_exporter": "python",
   "pygments_lexer": "ipython3",
   "version": "3.9.6"
  }
 },
 "nbformat": 4,
 "nbformat_minor": 2
}
