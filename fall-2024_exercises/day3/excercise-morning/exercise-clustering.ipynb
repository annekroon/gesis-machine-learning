{
 "cells": [
  {
   "cell_type": "markdown",
   "metadata": {},
   "source": [
    "# Clustering Exercise\n",
    "\n",
    "Go to\n",
    "https://figshare.com/articles/News-Processed-Dataset/5296357 and download `WSJ_20170607_to_20170726_10AmTo4Pm.json` (the small file of 9 MB)\n",
    "\n",
    "You can read this one-json-object-per-line (jsonlines) file (and select the only key we care about simultaneously) as follows:\n",
    "\n",
    "### For inspiration, see [here](pca_svd_kmeans.ipynb)."
   ]
  },
  {
   "cell_type": "code",
   "execution_count": null,
   "metadata": {},
   "outputs": [],
   "source": []
  },
  {
   "cell_type": "markdown",
   "metadata": {},
   "source": [
    "### First, load in the WSJ dataset (or your own):"
   ]
  },
  {
   "cell_type": "code",
   "execution_count": null,
   "metadata": {},
   "outputs": [],
   "source": [
    "import json #for reading JSON files\n",
    "with open('/home/damian/Downloads/WSJ_20170607_to_20170726_10AmTo4Pm.json', encoding=\"utf-8\") as f:\n",
    "  texts = [json.loads(line)['content'] for line in f]"
   ]
  },
  {
   "cell_type": "markdown",
   "metadata": {},
   "source": [
    "### Try out some dimensional reduction techniques, such as `PCA` or `SVD`:"
   ]
  },
  {
   "cell_type": "code",
   "execution_count": null,
   "metadata": {},
   "outputs": [],
   "source": []
  },
  {
   "cell_type": "markdown",
   "metadata": {},
   "source": [
    "### Next, run the `kmeans`algorithm and try to determine the right number of `k`.   "
   ]
  },
  {
   "cell_type": "code",
   "execution_count": null,
   "metadata": {},
   "outputs": [],
   "source": [
    "#### Code suggestion for getting the right number of `k`:\n",
    "\n",
    "### Estimate some models to determine the best value of `k`\n",
    "wss = []\n",
    "for i in range(2, 10):\n",
    "    print(i)\n",
    "    km = KMeans(n_clusters=i, init='k-means++', max_iter=100, n_init=5)\n",
    "    km.fit(features)\n",
    "    wss.append(km.inertia_)\n",
    "\n",
    "### Plot total within sum of squares vs. number of clusters to get the elbow plot\n",
    "plt.plot(range(2, 10), wss, marker='o')\n",
    "plt.xlabel('Number of clusters')\n",
    "plt.ylabel('Within groups sum of squares')\n",
    "plt.show()"
   ]
  }
 ],
 "metadata": {
  "language_info": {
   "name": "python"
  }
 },
 "nbformat": 4,
 "nbformat_minor": 2
}
