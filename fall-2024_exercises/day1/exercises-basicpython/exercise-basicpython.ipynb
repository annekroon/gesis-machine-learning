{
 "cells": [
  {
   "cell_type": "markdown",
   "metadata": {},
   "source": [
    "# Exercise 1: Working with lists\n",
    "\n",
    "## 1. Warming up\n",
    "\n",
    "- Create a list, loop over the list, and do something with each value (you're free to choose). "
   ]
  },
  {
   "cell_type": "code",
   "execution_count": null,
   "metadata": {},
   "outputs": [],
   "source": []
  },
  {
   "cell_type": "markdown",
   "metadata": {},
   "source": [
    "## 2. Did you pass?\n",
    "\n",
    "- Think of a way to determine for a list of  grades whether they are a pass (>5.5) or fail.\n",
    "- Can you make that program robust enough to handle invalid input (e.g., a grade as 'ewghjieh')?\n",
    "- How does your program deal with impossible grades (e.g., 12 or -3)?\n",
    "- Any other improvements?"
   ]
  },
  {
   "cell_type": "code",
   "execution_count": null,
   "metadata": {},
   "outputs": [],
   "source": []
  },
  {
   "cell_type": "markdown",
   "metadata": {},
   "source": [
    "# Exercise 2: Working with dictionaries\n",
    "\n",
    "\n",
    "- Create a program that takes lists of corresponding data (a list of first names, a list of last names, a list of phone numbers) and converts them into a dictionary. You may assume that the lists are ordered correspondingly. To loop over two lists at the same time, you can do sth like this: (of course, you later on do not want to print put to put in a dictionary):\n",
    "```\n",
    "for i, j in zip(list1, list):\n",
    "   print(i,j)\n",
    "```\n",
    "- Improve the program to control what should happen if the lists are (unexpectedly) of unequal length.\n",
    "- Create another program to handle a phone dictionary. The keys are names, and the value can either be a single phone number, a list of phone numbers, or another dict of the form {\"office\": \"020123456\", \"mobile\": \"0699999999\", ... ... ... }. Write a function that shows how many different phone numbers a given person has.\n",
    "- Write another function that prints only mobile numbers (and their owners) and omits the rest (If you want to take it easy, you may assume that they are stored in a dict and use the key \"mobile\". If you like challenges, you can also support strings and lists of strings by parsing the numbers themselves and check whether they start with 06. You can check whether a string starts with 06 by checking mystring[:2]==\"06\" (the double equal sign indicates a comparison that will return True or False). If you like even more challenges, you could support country codes).\n"
   ]
  },
  {
   "cell_type": "code",
   "execution_count": null,
   "metadata": {},
   "outputs": [],
   "source": []
  },
  {
   "cell_type": "markdown",
   "metadata": {},
   "source": [
    "# Exercise 3: Working with defaultdicts\n",
    "\n",
    "- Take the data from Excercise 2. Write a program that collects all office numbers, all mobile numers, etc. Assume that there are potentially also other categories like \"home\", \"second\", maybe even \"fax\", and that they are unknown byforehand.\n",
    "- To do so, you can use the following approach:\n",
    "```python\n",
    "from collections import defaultdict\n",
    "myresults = defaultdict(list)\n",
    "```\n",
    "Loop over the appropriate data. For all the key-value pairs (like \"office\": \"020111111\"), do ` myresults[key].append(value)`: This will append the current phone numner (02011111) to the list of \"office\" numbers. \n",
    "- Do you see why this works only with a defaultdict but not with a \"normal\" dict? What would happen with a normal dict?\n",
    "- Take the function from Exercise 2 that prints how many phone numbers a given person has. Use a defaultdict instead to achieve the same result. What are the pros and cons?"
   ]
  },
  {
   "cell_type": "code",
   "execution_count": null,
   "metadata": {},
   "outputs": [],
   "source": []
  },
  {
   "cell_type": "markdown",
   "metadata": {},
   "source": [
    "# Instructional videos\n",
    "#### The linked videos further explain the answers provided to today's [exercises](https://github.com/uvacw/teachteacher-python/blob/main/day1/exercises/exercises.md).\n",
    "\n",
    "- Instructional video explaining [Exercise 2](https://github.com/uvacw/teachteacher-python/blob/main/day1/exercises/exercises.md#exercise-2-working-with-dictionaries): *Working with dictionaries*: [Video here](https://www.youtube.com/watch?v=M_bkVPfQcgs)\n",
    "\n",
    "- Instructional video explaining [Exercise 3](https://github.com/uvacw/teachteacher-python/blob/main/day1/exercises/exercises.md#exercise-3-working-with-defaultdicts): *Working with defaultdicts:* [Video here](https://www.youtube.com/watch?v=2l9aRWcKVyA)"
   ]
  }
 ],
 "metadata": {
  "kernelspec": {
   "display_name": "gesis_iml",
   "language": "python",
   "name": "python3"
  },
  "language_info": {
   "codemirror_mode": {
    "name": "ipython",
    "version": 3
   },
   "file_extension": ".py",
   "mimetype": "text/x-python",
   "name": "python",
   "nbconvert_exporter": "python",
   "pygments_lexer": "ipython3",
   "version": "3.10.14"
  }
 },
 "nbformat": 4,
 "nbformat_minor": 2
}
