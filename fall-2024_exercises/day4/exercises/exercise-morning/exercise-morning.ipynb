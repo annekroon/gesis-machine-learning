{
 "cells": [
  {
   "cell_type": "markdown",
   "metadata": {},
   "source": [
    "# Exercise SML -- Morning day 4\n",
    "\n",
    "### Option 1: practice with the ImDB data\n",
    "\n",
    "* Reproduce examples from the book for SML on the IMDB data (11.2, 11.3, 11.4) (check [codefrombook.py](codefrombook.py) if you do not want to type the code)\n",
    "* Play around with different options! Can you tweak the models and make them even better? Take a look back at the [slides](../../day1/day1-afternoon.pdf) where we compared different vectorizers as well!\n",
    "\n",
    "### Option 2: practice with the data from [Vermeer](data-vermeer/)\n",
    "\n",
    "* Work with the file `train.csv` and `test.csv` in the folder [`data-vermeer`](data-vermeer/) and train a classifier using this data.\n",
    "* If you feel lost, you can use the following notebook for inspiration: [`potential-solution-exercise-vermeer.ipynb`](potential-solution-exercise-vermeer.ipynb) \n",
    "\n",
    "### BONUS: Try it with your own data!"
   ]
  },
  {
   "cell_type": "code",
   "execution_count": null,
   "metadata": {},
   "outputs": [],
   "source": []
  }
 ],
 "metadata": {
  "kernelspec": {
   "display_name": "gesis_iml",
   "language": "python",
   "name": "python3"
  },
  "language_info": {
   "codemirror_mode": {
    "name": "ipython",
    "version": 3
   },
   "file_extension": ".py",
   "mimetype": "text/x-python",
   "name": "python",
   "nbconvert_exporter": "python",
   "pygments_lexer": "ipython3",
   "version": "3.10.14"
  }
 },
 "nbformat": 4,
 "nbformat_minor": 2
}
