{
 "cells": [
  {
   "cell_type": "markdown",
   "metadata": {},
   "source": [
    "# Exercise SML -- Morning day 4\n",
    "\n",
    "### Option 1: practice with the ImDB data\n",
    "\n",
    "* Reproduce examples from the book for SML on the IMDB data (11.2, 11.3, 11.4) (check [codefrombook.py](codefrombook.py) if you do not want to type the code)\n",
    "* Play around with different options! Can you tweak the models and make them even better? Take a look back at the [slides](../../day1/day1-afternoon.pdf) where we compared different vectorizers as well!\n",
    "\n",
    "### Option 2: practice with the data from [Vermeer](data-vermeer/)\n",
    "\n",
    "* Work with the file `train.csv` and `test.csv` in the folder [`data-vermeer`](data-vermeer/) and train a classifier using this data.\n",
    "\n",
    "### BONUS: Try it with your own data!"
   ]
  },
  {
   "cell_type": "markdown",
   "metadata": {},
   "source": [
    "### Classifying news categories with data-vermeer"
   ]
  },
  {
   "cell_type": "code",
   "execution_count": null,
   "metadata": {},
   "outputs": [],
   "source": [
    "import sys\n",
    "import csv\n",
    "\n",
    "from sklearn.svm import SVC\n",
    "from sklearn.feature_extraction.text import CountVectorizer, TfidfVectorizer\n",
    "from sklearn.naive_bayes import MultinomialNB \n",
    "from sklearn.svm import LinearSVC\n",
    "from sklearn.linear_model import LogisticRegression\n",
    "from sklearn.ensemble import RandomForestClassifier\n",
    "from sklearn.naive_bayes import MultinomialNB\n",
    "from sklearn import metrics\n",
    "\n",
    "csv.field_size_limit(sys.maxsize)"
   ]
  },
  {
   "cell_type": "code",
   "execution_count": null,
   "metadata": {},
   "outputs": [],
   "source": [
    "def get_data(t='test'):\n",
    "    text= []\n",
    "    label= []\n",
    "\n",
    "    with open(f'data-vermeer/{t}.csv') as fi:\n",
    "        next(fi) # skips header row\n",
    "        reader = csv.reader(fi, delimiter=',')\n",
    "\n",
    "        for row in reader:\n",
    "            text.append(row[0])\n",
    "            label.append(row[1])\n",
    "\n",
    "    return text, label"
   ]
  },
  {
   "cell_type": "code",
   "execution_count": null,
   "metadata": {},
   "outputs": [],
   "source": [
    "print(len(X_test), len(y_test))\n",
    "print(len(X_train), len(y_train))   "
   ]
  },
  {
   "cell_type": "code",
   "execution_count": null,
   "metadata": {},
   "outputs": [],
   "source": [
    "# load data with existing train/test split\n",
    "X_test, y_test = get_data('test')\n",
    "X_train, y_train = get_data('train')"
   ]
  },
  {
   "cell_type": "markdown",
   "metadata": {},
   "source": [
    "- Which configuration achieves the best performance? Based on which metrics? \n",
    "- Can you add to this configuration? (e.g., n_grams, custom tokenizer, ...?)"
   ]
  },
  {
   "cell_type": "code",
   "execution_count": null,
   "metadata": {},
   "outputs": [],
   "source": [
    "configurations = [('NB with Count', CountVectorizer(min_df=5, max_df=.5), MultinomialNB()),\n",
    "                 ('NB with TfIdf', TfidfVectorizer(min_df=5, max_df=.5), MultinomialNB()),\n",
    "                 ('LogReg with Count', CountVectorizer(min_df=5, max_df=.5), LogisticRegression(solver='liblinear')),\n",
    "                 ('LogReg with TfIdf', TfidfVectorizer(min_df=5, max_df=.5), LogisticRegression(solver='liblinear')),\n",
    "                 ('SVM with Count - rbf kernel', CountVectorizer(min_df=5, max_df=.5), SVC(kernel='rbf')),\n",
    "                 ('SVM with Count - linear kernel', CountVectorizer(min_df=5, max_df=.5), SVC(kernel='linear')),\n",
    "                 ('SVM with Tfidf - rbf kernel', TfidfVectorizer(min_df=5, max_df=.5), SVC(kernel='rbf')),\n",
    "                 ('SVM with Tfidf - linear kernel', TfidfVectorizer(min_df=5, max_df=.5), SVC(kernel='linear')),\n",
    "\n",
    "                 ]\n",
    "\n",
    "for description, vectorizer, classifier in configurations:\n",
    "    print(description)\n",
    "    X_tr = vectorizer.fit_transform(X_train)\n",
    "    X_te = vectorizer.transform(X_test)\n",
    "    classifier.fit(X_tr, y_train)\n",
    "    y_pred = classifier.predict(X_te)\n",
    "    print(metrics.classification_report(y_test, y_pred) )\n",
    "    print('\\n')"
   ]
  },
  {
   "cell_type": "code",
   "execution_count": null,
   "metadata": {},
   "outputs": [],
   "source": []
  }
 ],
 "metadata": {
  "kernelspec": {
   "display_name": "gesis_iml",
   "language": "python",
   "name": "python3"
  },
  "language_info": {
   "codemirror_mode": {
    "name": "ipython",
    "version": 3
   },
   "file_extension": ".py",
   "mimetype": "text/x-python",
   "name": "python",
   "nbconvert_exporter": "python",
   "pygments_lexer": "ipython3",
   "version": "3.10.14"
  }
 },
 "nbformat": 4,
 "nbformat_minor": 2
}
