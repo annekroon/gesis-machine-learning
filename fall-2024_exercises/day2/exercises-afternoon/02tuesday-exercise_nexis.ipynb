{
 "cells": [
  {
   "cell_type": "markdown",
   "metadata": {},
   "source": [
    "# A Practical Introduction to Machine Learning in Python\n",
    "Anne Kroon and Damian Trilling\n",
    "\n",
    "## Day 2 (Tuesday Afternoon)\n",
    "\n",
    "## Exercise: Parsing unstructured text files\n",
    "\n",
    "When working with text data, often we have to deal with unstructured files. Before we can start with our analysis, we have to transform such files to more structured forms of data.\n",
    "\n",
    "An example of such forms of unstructured data is the output of Nexis Uni, a large news database often used by social scientists.\n",
    "We will practise with some files downloaded from Nexis Uni.\n",
    "\n",
    "Download and unpack a set of .RTF files [here](corona_news.tar.gz).\n",
    "Windows users may need an additional program to unpack it, such as 7zip.\n",
    "\n",
    "Specific tasks\n",
    "\n",
    "1. Write some code to read the data in.\n",
    "3. Try to extract the newspaper title using regular expressions.\n",
    "4. Do the same for the publication dates.\n",
    "5. Finally, extract the full body of the text.\n",
    "6. Think about a way to store the data\n",
    "\n",
    "\n",
    "Hints:\n",
    "\n",
    "In order to read .RTF files with python, we need to convert rtf files to strings, before we can start parsing and processing.\n",
    "This library can help: https://pypi.org/project/striprtf/\n",
    "\n",
    "```bash\n",
    "pip install striprtf\n",
    "```\n",
    "\n",
    "Afterwards, we can start converting our files:\n",
    "\n",
    "```python\n",
    "from striprtf.striprtf import rtf_to_text\n",
    "\n",
    "rtf_string = open(\"exercises-afternoon/corona_news/news_corona_1.RTF\").read()\n",
    "text = rtf_to_text(rtf_string)\n",
    "\n",
    "```\n",
    "\n",
    "This will return a string object. In order to split up the string by article, we can look at the structure of the data.\n",
    "As you might notice, all news articles went with 'End of Document  '. We can use this information to split the string.\n",
    "\n",
    "```python\n",
    "splitted_text = text.replace(\"\\n\", \" \").split(\"End of Document  \")\n",
    "```\n"
   ]
  },
  {
   "cell_type": "code",
   "execution_count": null,
   "metadata": {},
   "outputs": [],
   "source": []
  }
 ],
 "metadata": {
  "kernelspec": {
   "display_name": "gesis_iml",
   "language": "python",
   "name": "python3"
  },
  "language_info": {
   "codemirror_mode": {
    "name": "ipython",
    "version": 3
   },
   "file_extension": ".py",
   "mimetype": "text/x-python",
   "name": "python",
   "nbconvert_exporter": "python",
   "pygments_lexer": "ipython3",
   "version": "3.10.14"
  }
 },
 "nbformat": 4,
 "nbformat_minor": 2
}
