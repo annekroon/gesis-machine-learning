{
 "cells": [
  {
   "cell_type": "markdown",
   "metadata": {},
   "source": [
    "# Exercise with regular expressions\n",
    "\n",
    "Let’s take some time to write some regular expressions. Write a\n",
    "script that\n",
    "\n",
    "• extracts URLS form a list of strings  \n",
    "• removes everything that is not a letter or number from a list of\n",
    "strings  \n"
   ]
  },
  {
   "cell_type": "code",
   "execution_count": null,
   "metadata": {},
   "outputs": [],
   "source": [
    "list_w_urls = [\"some text with a url http://www.youtube.com... \",\n",
    "\"and another one!! https://www.facebook.com\",\n",
    "\"more urls www.baidu.com??\",\n",
    "\"And even more?!! %$##($^) https://www.yahoo.com and this one http://www.amazon.com and this one www.wikipedia.org\" ]"
   ]
  },
  {
   "cell_type": "code",
   "execution_count": null,
   "metadata": {},
   "outputs": [],
   "source": []
  }
 ],
 "metadata": {
  "kernelspec": {
   "display_name": "gesis_iml",
   "language": "python",
   "name": "python3"
  },
  "language_info": {
   "codemirror_mode": {
    "name": "ipython",
    "version": 3
   },
   "file_extension": ".py",
   "mimetype": "text/x-python",
   "name": "python",
   "nbconvert_exporter": "python",
   "pygments_lexer": "ipython3",
   "version": "3.10.14"
  }
 },
 "nbformat": 4,
 "nbformat_minor": 2
}
