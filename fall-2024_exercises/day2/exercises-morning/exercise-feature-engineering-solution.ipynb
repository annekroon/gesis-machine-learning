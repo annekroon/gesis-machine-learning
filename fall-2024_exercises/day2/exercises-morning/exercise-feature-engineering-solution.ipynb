{
 "cells": [
  {
   "cell_type": "markdown",
   "metadata": {},
   "source": [
    "# Exercise 2: NLP and feature engineering\n",
    "----\n",
    "\n",
    "In this exercise, you can use yesterday's dataset (news articles) or your own data.\n",
    "\n",
    "Today, we will use this data for analysis and feature extraction using NLP, focusing on pre-processing steps. \n",
    "\n",
    "These are important components of feature engineering: moving from textual data to a feature set that can be used in a classification model.\n",
    "\n",
    "Remember: the goal in the end is to produce an optimal 'bag of words' model (i.e., a document-term matrix) as input for a machine learning model (in this case, a classification model)."
   ]
  },
  {
   "cell_type": "code",
   "execution_count": 1,
   "metadata": {},
   "outputs": [],
   "source": [
    "#PACKAGES -\n",
    "#NOTE: you should import all packages you need here, but for now, we will do this in-line.\n",
    "\n",
    "\n",
    "#INITIALIZATION - \n",
    "datadir = \"/Users/rupertkiddle/Desktop/teach/2024/Introduction to Machine Learning (GESIS)/3_datasets\"\n"
   ]
  },
  {
   "cell_type": "markdown",
   "metadata": {},
   "source": [
    "### 1. Read in the data\n",
    "\n",
    "You can use the code you've written yesterday as a starting point. Again, try your code on a small sample of the data, and scale up later--once your confident that your code works as intended."
   ]
  },
  {
   "cell_type": "code",
   "execution_count": 2,
   "metadata": {},
   "outputs": [
    {
     "name": "stdout",
     "output_type": "stream",
     "text": [
      "Number of documents: 6000\n",
      "Number of labels: 3\n"
     ]
    }
   ],
   "source": [
    "from glob import glob #for getting filepaths:\n",
    "\n",
    "#let's define a function to read the data:\n",
    "def read_data(listofoutlets):\n",
    "    texts = []\n",
    "    labels = []\n",
    "    for label in listofoutlets:\n",
    "        for file in glob(datadir+f'/articles/*/{label}/*'):\n",
    "            with open(file) as f:\n",
    "                texts.append(f.read())\n",
    "                labels.append(label)\n",
    "    return texts, labels\n",
    "\n",
    "#let's read the articles and set the corresponding labels\n",
    "articles, labels = read_data(['Infowars', 'BBC', 'The Guardian']) #choose your own news-outlets\n",
    "\n",
    "#report outcome:\n",
    "print(f\"Number of documents: {len(articles)}\")\n",
    "print(f\"Number of labels: {len(set(labels))}\")"
   ]
  },
  {
   "cell_type": "markdown",
   "metadata": {},
   "source": [
    "### sample the data (for testing)"
   ]
  },
  {
   "cell_type": "code",
   "execution_count": 23,
   "metadata": {},
   "outputs": [],
   "source": [
    "import random\n",
    "\n",
    "#zip the articles and labels together:\n",
    "zipped_data = list(zip(articles, labels))\n",
    "\n",
    "#sample 1% of the data:\n",
    "sample_size = int(len(zipped_data) * 0.01)\n",
    "sampled_data = random.sample(zipped_data, sample_size)\n",
    "\n",
    "#unzip the sampled data:\n",
    "articles, labels = zip(*sampled_data)\n",
    "\n",
    "#convert back to lists (<tuples)\n",
    "articles = list(articles)\n",
    "labels = list(labels)"
   ]
  },
  {
   "cell_type": "markdown",
   "metadata": {},
   "source": [
    "### 2. Examples of Pre-processing Steps - \n",
    "\n",
    "\n",
    "a.  lowercasing  \n",
    "b.  tokenization  \n",
    "c.  stopword removal  \n",
    "d.  stemming and/or lemmatizing  \n",
    "e.  cleaning: removing punctuation, line breaks, double spaces  "
   ]
  },
  {
   "cell_type": "markdown",
   "metadata": {},
   "source": [
    "#### Lowercasing:"
   ]
  },
  {
   "cell_type": "code",
   "execution_count": 24,
   "metadata": {},
   "outputs": [
    {
     "name": "stdout",
     "output_type": "stream",
     "text": [
      "Sample text before lowercasing:\n",
      "['Formula 1 has returned this weekend with one big difference - there are no grid girls.\\n\\nIn the past, you would have seen the likes of professional glamour model Nikki Lee on the tracks ahead of the races.\\n\\nBut following a backlash in the off-season, this will be the first F1 season in decades that won\\'t feature grid girls.\\n\\n\"Looks like I\\'ll be going to the job centre now,\" Nikki told Newsbeat when the ban was announced.\\n\\nShe said F1\\'s decision to axe grid girls has put her livelihood on the line and that the work she does is dying out.\\n\\nNikki says most of the criticism comes from other women.\\n\\n\"When I went to Le Mans [car race], I had beer bottles pelted at me by the wives and girlfriends.\\n\\n\"I don\\'t see where women get off on telling us how to dress. I don\\'t care what other people do as long as you\\'re not harming me,\" she says.\\n\\nOther grid girls have also hit out at the decision to axe their profession.\\n\\nThe decision to scrap promo girls hasn\\'t only affected Formula 1.\\n\\nEarlier this year, it was announced walk-on girls would no longer be used by the Professional Darts Corporation.\\n\\nSupporters of the decision say sports promo girls invite objectification and reduce women\\'s visibility in sports to sideline eye candy.\\n\\nBut the rebrand by the Professional Darts Corporation and Formula 1\\'s new owner Liberty Media has not been popular with everyone.\\n\\nGrid girl Lucy Stokes, 22, questioned where the boundary was between her job and high street modelling.\\n\\n\"Even Marks & Spencer underwear models - is that going to be the same? Is that considered demeaning?\"\\n\\nJamie Chadwick, who at 17 became the youngest driver (and first female) to win the British GT Championship, thinks people focusing on grid girls are missing the point.\\n\\n\"I think the focus should be on the machines. I think, basically, if you\\'re coming to look at the grid girls then you\\'re at the wrong sport,\" said the 19-year-old F3 racing driver.\\n\\n\"There are stereotypes of the grid girls but a lot of them are at university, they have other jobs. They are beautiful girls that are at work and a lot of them just really love motorsports.\"\\n\\nThe ban of grid girls and darts walk-on girls has put another group of women - boxing ring girls - on high alert.\\n\\nFormer ring girl Lauren Frain employs nearly 150 women - from full-time models, to mothers and students - in Manchester and London for promotional and modelling work.\\n\\nShe fears the recent bans will kill the industry she\\'s spent her life in.\\n\\n\"I don\\'t comprehend the difference between modelling and promotional modelling,\" she said.\\n\\n\"In all my years I have been doing this, I\\'ve had more grief and harassment in Tesco or a man driving down the road in a white van that pulls up.\"\\n\\nListen to Newsbeat live at 12:45 and 17:45 every weekday on BBC Radio 1 and 1Xtra - if you miss us you can listen back here.']\n",
      "Sample text after lowercasing:\n",
      "['formula 1 has returned this weekend with one big difference - there are no grid girls.\\n\\nin the past, you would have seen the likes of professional glamour model nikki lee on the tracks ahead of the races.\\n\\nbut following a backlash in the off-season, this will be the first f1 season in decades that won\\'t feature grid girls.\\n\\n\"looks like i\\'ll be going to the job centre now,\" nikki told newsbeat when the ban was announced.\\n\\nshe said f1\\'s decision to axe grid girls has put her livelihood on the line and that the work she does is dying out.\\n\\nnikki says most of the criticism comes from other women.\\n\\n\"when i went to le mans [car race], i had beer bottles pelted at me by the wives and girlfriends.\\n\\n\"i don\\'t see where women get off on telling us how to dress. i don\\'t care what other people do as long as you\\'re not harming me,\" she says.\\n\\nother grid girls have also hit out at the decision to axe their profession.\\n\\nthe decision to scrap promo girls hasn\\'t only affected formula 1.\\n\\nearlier this year, it was announced walk-on girls would no longer be used by the professional darts corporation.\\n\\nsupporters of the decision say sports promo girls invite objectification and reduce women\\'s visibility in sports to sideline eye candy.\\n\\nbut the rebrand by the professional darts corporation and formula 1\\'s new owner liberty media has not been popular with everyone.\\n\\ngrid girl lucy stokes, 22, questioned where the boundary was between her job and high street modelling.\\n\\n\"even marks & spencer underwear models - is that going to be the same? is that considered demeaning?\"\\n\\njamie chadwick, who at 17 became the youngest driver (and first female) to win the british gt championship, thinks people focusing on grid girls are missing the point.\\n\\n\"i think the focus should be on the machines. i think, basically, if you\\'re coming to look at the grid girls then you\\'re at the wrong sport,\" said the 19-year-old f3 racing driver.\\n\\n\"there are stereotypes of the grid girls but a lot of them are at university, they have other jobs. they are beautiful girls that are at work and a lot of them just really love motorsports.\"\\n\\nthe ban of grid girls and darts walk-on girls has put another group of women - boxing ring girls - on high alert.\\n\\nformer ring girl lauren frain employs nearly 150 women - from full-time models, to mothers and students - in manchester and london for promotional and modelling work.\\n\\nshe fears the recent bans will kill the industry she\\'s spent her life in.\\n\\n\"i don\\'t comprehend the difference between modelling and promotional modelling,\" she said.\\n\\n\"in all my years i have been doing this, i\\'ve had more grief and harassment in tesco or a man driving down the road in a white van that pulls up.\"\\n\\nlisten to newsbeat live at 12:45 and 17:45 every weekday on bbc radio 1 and 1xtra - if you miss us you can listen back here.']\n"
     ]
    }
   ],
   "source": [
    "#pre-check:\n",
    "print(\"Sample text before lowercasing:\")\n",
    "print(articles[:1])\n",
    "\n",
    "#lowercase all the articles:\n",
    "articles_lower_cased = [art.lower() for art in articles]\n",
    "\n",
    "#post-check:\n",
    "print(\"Sample text after lowercasing:\")\n",
    "print(articles_lower_cased[:1])"
   ]
  },
  {
   "cell_type": "markdown",
   "metadata": {},
   "source": [
    "#### Tokenization:"
   ]
  },
  {
   "cell_type": "code",
   "execution_count": 25,
   "metadata": {},
   "outputs": [
    {
     "name": "stdout",
     "output_type": "stream",
     "text": [
      "Sample text before tokenization:\n",
      "['Formula 1 has returned this weekend with one big difference - there are no grid girls.\\n\\nIn the past, you would have seen the likes of professional glamour model Nikki Lee on the tracks ahead of the races.\\n\\nBut following a backlash in the off-season, this will be the first F1 season in decades that won\\'t feature grid girls.\\n\\n\"Looks like I\\'ll be going to the job centre now,\" Nikki told Newsbeat when the ban was announced.\\n\\nShe said F1\\'s decision to axe grid girls has put her livelihood on the line and that the work she does is dying out.\\n\\nNikki says most of the criticism comes from other women.\\n\\n\"When I went to Le Mans [car race], I had beer bottles pelted at me by the wives and girlfriends.\\n\\n\"I don\\'t see where women get off on telling us how to dress. I don\\'t care what other people do as long as you\\'re not harming me,\" she says.\\n\\nOther grid girls have also hit out at the decision to axe their profession.\\n\\nThe decision to scrap promo girls hasn\\'t only affected Formula 1.\\n\\nEarlier this year, it was announced walk-on girls would no longer be used by the Professional Darts Corporation.\\n\\nSupporters of the decision say sports promo girls invite objectification and reduce women\\'s visibility in sports to sideline eye candy.\\n\\nBut the rebrand by the Professional Darts Corporation and Formula 1\\'s new owner Liberty Media has not been popular with everyone.\\n\\nGrid girl Lucy Stokes, 22, questioned where the boundary was between her job and high street modelling.\\n\\n\"Even Marks & Spencer underwear models - is that going to be the same? Is that considered demeaning?\"\\n\\nJamie Chadwick, who at 17 became the youngest driver (and first female) to win the British GT Championship, thinks people focusing on grid girls are missing the point.\\n\\n\"I think the focus should be on the machines. I think, basically, if you\\'re coming to look at the grid girls then you\\'re at the wrong sport,\" said the 19-year-old F3 racing driver.\\n\\n\"There are stereotypes of the grid girls but a lot of them are at university, they have other jobs. They are beautiful girls that are at work and a lot of them just really love motorsports.\"\\n\\nThe ban of grid girls and darts walk-on girls has put another group of women - boxing ring girls - on high alert.\\n\\nFormer ring girl Lauren Frain employs nearly 150 women - from full-time models, to mothers and students - in Manchester and London for promotional and modelling work.\\n\\nShe fears the recent bans will kill the industry she\\'s spent her life in.\\n\\n\"I don\\'t comprehend the difference between modelling and promotional modelling,\" she said.\\n\\n\"In all my years I have been doing this, I\\'ve had more grief and harassment in Tesco or a man driving down the road in a white van that pulls up.\"\\n\\nListen to Newsbeat live at 12:45 and 17:45 every weekday on BBC Radio 1 and 1Xtra - if you miss us you can listen back here.']\n",
      "Sample text after tokenization:\n",
      "[['Formula', '1', 'has', 'returned', 'this', 'weekend', 'with', 'one', 'big', 'difference', '-', 'there', 'are', 'no', 'grid', 'girls.', 'In', 'the', 'past,', 'you', 'would', 'have', 'seen', 'the', 'likes', 'of', 'professional', 'glamour', 'model', 'Nikki', 'Lee', 'on', 'the', 'tracks', 'ahead', 'of', 'the', 'races.', 'But', 'following', 'a', 'backlash', 'in', 'the', 'off-season,', 'this', 'will', 'be', 'the', 'first', 'F1', 'season', 'in', 'decades', 'that', \"won't\", 'feature', 'grid', 'girls.', '\"Looks', 'like', \"I'll\", 'be', 'going', 'to', 'the', 'job', 'centre', 'now,\"', 'Nikki', 'told', 'Newsbeat', 'when', 'the', 'ban', 'was', 'announced.', 'She', 'said', \"F1's\", 'decision', 'to', 'axe', 'grid', 'girls', 'has', 'put', 'her', 'livelihood', 'on', 'the', 'line', 'and', 'that', 'the', 'work', 'she', 'does', 'is', 'dying', 'out.', 'Nikki', 'says', 'most', 'of', 'the', 'criticism', 'comes', 'from', 'other', 'women.', '\"When', 'I', 'went', 'to', 'Le', 'Mans', '[car', 'race],', 'I', 'had', 'beer', 'bottles', 'pelted', 'at', 'me', 'by', 'the', 'wives', 'and', 'girlfriends.', '\"I', \"don't\", 'see', 'where', 'women', 'get', 'off', 'on', 'telling', 'us', 'how', 'to', 'dress.', 'I', \"don't\", 'care', 'what', 'other', 'people', 'do', 'as', 'long', 'as', \"you're\", 'not', 'harming', 'me,\"', 'she', 'says.', 'Other', 'grid', 'girls', 'have', 'also', 'hit', 'out', 'at', 'the', 'decision', 'to', 'axe', 'their', 'profession.', 'The', 'decision', 'to', 'scrap', 'promo', 'girls', \"hasn't\", 'only', 'affected', 'Formula', '1.', 'Earlier', 'this', 'year,', 'it', 'was', 'announced', 'walk-on', 'girls', 'would', 'no', 'longer', 'be', 'used', 'by', 'the', 'Professional', 'Darts', 'Corporation.', 'Supporters', 'of', 'the', 'decision', 'say', 'sports', 'promo', 'girls', 'invite', 'objectification', 'and', 'reduce', \"women's\", 'visibility', 'in', 'sports', 'to', 'sideline', 'eye', 'candy.', 'But', 'the', 'rebrand', 'by', 'the', 'Professional', 'Darts', 'Corporation', 'and', 'Formula', \"1's\", 'new', 'owner', 'Liberty', 'Media', 'has', 'not', 'been', 'popular', 'with', 'everyone.', 'Grid', 'girl', 'Lucy', 'Stokes,', '22,', 'questioned', 'where', 'the', 'boundary', 'was', 'between', 'her', 'job', 'and', 'high', 'street', 'modelling.', '\"Even', 'Marks', '&', 'Spencer', 'underwear', 'models', '-', 'is', 'that', 'going', 'to', 'be', 'the', 'same?', 'Is', 'that', 'considered', 'demeaning?\"', 'Jamie', 'Chadwick,', 'who', 'at', '17', 'became', 'the', 'youngest', 'driver', '(and', 'first', 'female)', 'to', 'win', 'the', 'British', 'GT', 'Championship,', 'thinks', 'people', 'focusing', 'on', 'grid', 'girls', 'are', 'missing', 'the', 'point.', '\"I', 'think', 'the', 'focus', 'should', 'be', 'on', 'the', 'machines.', 'I', 'think,', 'basically,', 'if', \"you're\", 'coming', 'to', 'look', 'at', 'the', 'grid', 'girls', 'then', \"you're\", 'at', 'the', 'wrong', 'sport,\"', 'said', 'the', '19-year-old', 'F3', 'racing', 'driver.', '\"There', 'are', 'stereotypes', 'of', 'the', 'grid', 'girls', 'but', 'a', 'lot', 'of', 'them', 'are', 'at', 'university,', 'they', 'have', 'other', 'jobs.', 'They', 'are', 'beautiful', 'girls', 'that', 'are', 'at', 'work', 'and', 'a', 'lot', 'of', 'them', 'just', 'really', 'love', 'motorsports.\"', 'The', 'ban', 'of', 'grid', 'girls', 'and', 'darts', 'walk-on', 'girls', 'has', 'put', 'another', 'group', 'of', 'women', '-', 'boxing', 'ring', 'girls', '-', 'on', 'high', 'alert.', 'Former', 'ring', 'girl', 'Lauren', 'Frain', 'employs', 'nearly', '150', 'women', '-', 'from', 'full-time', 'models,', 'to', 'mothers', 'and', 'students', '-', 'in', 'Manchester', 'and', 'London', 'for', 'promotional', 'and', 'modelling', 'work.', 'She', 'fears', 'the', 'recent', 'bans', 'will', 'kill', 'the', 'industry', \"she's\", 'spent', 'her', 'life', 'in.', '\"I', \"don't\", 'comprehend', 'the', 'difference', 'between', 'modelling', 'and', 'promotional', 'modelling,\"', 'she', 'said.', '\"In', 'all', 'my', 'years', 'I', 'have', 'been', 'doing', 'this,', \"I've\", 'had', 'more', 'grief', 'and', 'harassment', 'in', 'Tesco', 'or', 'a', 'man', 'driving', 'down', 'the', 'road', 'in', 'a', 'white', 'van', 'that', 'pulls', 'up.\"', 'Listen', 'to', 'Newsbeat', 'live', 'at', '12:45', 'and', '17:45', 'every', 'weekday', 'on', 'BBC', 'Radio', '1', 'and', '1Xtra', '-', 'if', 'you', 'miss', 'us', 'you', 'can', 'listen', 'back', 'here.']]\n"
     ]
    }
   ],
   "source": [
    "#TOKENIZATION, SIMPLE - \n",
    "\n",
    "#pre-check:\n",
    "print(\"Sample text before tokenization:\")\n",
    "print(articles[:1])\n",
    "\n",
    "#basic solution, using the string method `.split()`. \n",
    "articles_tokenized = [art.split() for art in articles]\n",
    "\n",
    "#post-check:\n",
    "print(\"Sample text after tokenization:\")\n",
    "print(articles_tokenized[:1])"
   ]
  },
  {
   "cell_type": "code",
   "execution_count": 26,
   "metadata": {},
   "outputs": [
    {
     "name": "stdout",
     "output_type": "stream",
     "text": [
      "Sample text before advanced tokenization:\n",
      "['Formula 1 has returned this weekend with one big difference - there are no grid girls.\\n\\nIn the past, you would have seen the likes of professional glamour model Nikki Lee on the tracks ahead of the races.\\n\\nBut following a backlash in the off-season, this will be the first F1 season in decades that won\\'t feature grid girls.\\n\\n\"Looks like I\\'ll be going to the job centre now,\" Nikki told Newsbeat when the ban was announced.\\n\\nShe said F1\\'s decision to axe grid girls has put her livelihood on the line and that the work she does is dying out.\\n\\nNikki says most of the criticism comes from other women.\\n\\n\"When I went to Le Mans [car race], I had beer bottles pelted at me by the wives and girlfriends.\\n\\n\"I don\\'t see where women get off on telling us how to dress. I don\\'t care what other people do as long as you\\'re not harming me,\" she says.\\n\\nOther grid girls have also hit out at the decision to axe their profession.\\n\\nThe decision to scrap promo girls hasn\\'t only affected Formula 1.\\n\\nEarlier this year, it was announced walk-on girls would no longer be used by the Professional Darts Corporation.\\n\\nSupporters of the decision say sports promo girls invite objectification and reduce women\\'s visibility in sports to sideline eye candy.\\n\\nBut the rebrand by the Professional Darts Corporation and Formula 1\\'s new owner Liberty Media has not been popular with everyone.\\n\\nGrid girl Lucy Stokes, 22, questioned where the boundary was between her job and high street modelling.\\n\\n\"Even Marks & Spencer underwear models - is that going to be the same? Is that considered demeaning?\"\\n\\nJamie Chadwick, who at 17 became the youngest driver (and first female) to win the British GT Championship, thinks people focusing on grid girls are missing the point.\\n\\n\"I think the focus should be on the machines. I think, basically, if you\\'re coming to look at the grid girls then you\\'re at the wrong sport,\" said the 19-year-old F3 racing driver.\\n\\n\"There are stereotypes of the grid girls but a lot of them are at university, they have other jobs. They are beautiful girls that are at work and a lot of them just really love motorsports.\"\\n\\nThe ban of grid girls and darts walk-on girls has put another group of women - boxing ring girls - on high alert.\\n\\nFormer ring girl Lauren Frain employs nearly 150 women - from full-time models, to mothers and students - in Manchester and London for promotional and modelling work.\\n\\nShe fears the recent bans will kill the industry she\\'s spent her life in.\\n\\n\"I don\\'t comprehend the difference between modelling and promotional modelling,\" she said.\\n\\n\"In all my years I have been doing this, I\\'ve had more grief and harassment in Tesco or a man driving down the road in a white van that pulls up.\"\\n\\nListen to Newsbeat live at 12:45 and 17:45 every weekday on BBC Radio 1 and 1Xtra - if you miss us you can listen back here.']\n",
      "Sample text after advanced tokenization:\n",
      "[['Formula', '1', 'has', 'returned', 'this', 'weekend', 'with', 'one', 'big', 'difference', '-', 'there', 'are', 'no', 'grid', 'girls.', 'In', 'the', 'past', ',', 'you', 'would', 'have', 'seen', 'the', 'likes', 'of', 'professional', 'glamour', 'model', 'Nikki', 'Lee', 'on', 'the', 'tracks', 'ahead', 'of', 'the', 'races.', 'But', 'following', 'a', 'backlash', 'in', 'the', 'off-season', ',', 'this', 'will', 'be', 'the', 'first', 'F1', 'season', 'in', 'decades', 'that', 'wo', \"n't\", 'feature', 'grid', 'girls.', \"''\", 'Looks', 'like', 'I', \"'ll\", 'be', 'going', 'to', 'the', 'job', 'centre', 'now', ',', \"''\", 'Nikki', 'told', 'Newsbeat', 'when', 'the', 'ban', 'was', 'announced.', 'She', 'said', 'F1', \"'s\", 'decision', 'to', 'axe', 'grid', 'girls', 'has', 'put', 'her', 'livelihood', 'on', 'the', 'line', 'and', 'that', 'the', 'work', 'she', 'does', 'is', 'dying', 'out.', 'Nikki', 'says', 'most', 'of', 'the', 'criticism', 'comes', 'from', 'other', 'women.', \"''\", 'When', 'I', 'went', 'to', 'Le', 'Mans', '[', 'car', 'race', ']', ',', 'I', 'had', 'beer', 'bottles', 'pelted', 'at', 'me', 'by', 'the', 'wives', 'and', 'girlfriends.', \"''\", 'I', 'do', \"n't\", 'see', 'where', 'women', 'get', 'off', 'on', 'telling', 'us', 'how', 'to', 'dress.', 'I', 'do', \"n't\", 'care', 'what', 'other', 'people', 'do', 'as', 'long', 'as', 'you', \"'re\", 'not', 'harming', 'me', ',', \"''\", 'she', 'says.', 'Other', 'grid', 'girls', 'have', 'also', 'hit', 'out', 'at', 'the', 'decision', 'to', 'axe', 'their', 'profession.', 'The', 'decision', 'to', 'scrap', 'promo', 'girls', 'has', \"n't\", 'only', 'affected', 'Formula', '1.', 'Earlier', 'this', 'year', ',', 'it', 'was', 'announced', 'walk-on', 'girls', 'would', 'no', 'longer', 'be', 'used', 'by', 'the', 'Professional', 'Darts', 'Corporation.', 'Supporters', 'of', 'the', 'decision', 'say', 'sports', 'promo', 'girls', 'invite', 'objectification', 'and', 'reduce', 'women', \"'s\", 'visibility', 'in', 'sports', 'to', 'sideline', 'eye', 'candy.', 'But', 'the', 'rebrand', 'by', 'the', 'Professional', 'Darts', 'Corporation', 'and', 'Formula', '1', \"'s\", 'new', 'owner', 'Liberty', 'Media', 'has', 'not', 'been', 'popular', 'with', 'everyone.', 'Grid', 'girl', 'Lucy', 'Stokes', ',', '22', ',', 'questioned', 'where', 'the', 'boundary', 'was', 'between', 'her', 'job', 'and', 'high', 'street', 'modelling.', \"''\", 'Even', 'Marks', '&', 'Spencer', 'underwear', 'models', '-', 'is', 'that', 'going', 'to', 'be', 'the', 'same', '?', 'Is', 'that', 'considered', 'demeaning', '?', \"''\", 'Jamie', 'Chadwick', ',', 'who', 'at', '17', 'became', 'the', 'youngest', 'driver', '(', 'and', 'first', 'female', ')', 'to', 'win', 'the', 'British', 'GT', 'Championship', ',', 'thinks', 'people', 'focusing', 'on', 'grid', 'girls', 'are', 'missing', 'the', 'point.', \"''\", 'I', 'think', 'the', 'focus', 'should', 'be', 'on', 'the', 'machines.', 'I', 'think', ',', 'basically', ',', 'if', 'you', \"'re\", 'coming', 'to', 'look', 'at', 'the', 'grid', 'girls', 'then', 'you', \"'re\", 'at', 'the', 'wrong', 'sport', ',', \"''\", 'said', 'the', '19-year-old', 'F3', 'racing', 'driver.', \"''\", 'There', 'are', 'stereotypes', 'of', 'the', 'grid', 'girls', 'but', 'a', 'lot', 'of', 'them', 'are', 'at', 'university', ',', 'they', 'have', 'other', 'jobs.', 'They', 'are', 'beautiful', 'girls', 'that', 'are', 'at', 'work', 'and', 'a', 'lot', 'of', 'them', 'just', 'really', 'love', 'motorsports.', \"''\", 'The', 'ban', 'of', 'grid', 'girls', 'and', 'darts', 'walk-on', 'girls', 'has', 'put', 'another', 'group', 'of', 'women', '-', 'boxing', 'ring', 'girls', '-', 'on', 'high', 'alert.', 'Former', 'ring', 'girl', 'Lauren', 'Frain', 'employs', 'nearly', '150', 'women', '-', 'from', 'full-time', 'models', ',', 'to', 'mothers', 'and', 'students', '-', 'in', 'Manchester', 'and', 'London', 'for', 'promotional', 'and', 'modelling', 'work.', 'She', 'fears', 'the', 'recent', 'bans', 'will', 'kill', 'the', 'industry', 'she', \"'s\", 'spent', 'her', 'life', 'in.', \"''\", 'I', 'do', \"n't\", 'comprehend', 'the', 'difference', 'between', 'modelling', 'and', 'promotional', 'modelling', ',', \"''\", 'she', 'said.', \"''\", 'In', 'all', 'my', 'years', 'I', 'have', 'been', 'doing', 'this', ',', 'I', \"'ve\", 'had', 'more', 'grief', 'and', 'harassment', 'in', 'Tesco', 'or', 'a', 'man', 'driving', 'down', 'the', 'road', 'in', 'a', 'white', 'van', 'that', 'pulls', 'up.', \"''\", 'Listen', 'to', 'Newsbeat', 'live', 'at', '12:45', 'and', '17:45', 'every', 'weekday', 'on', 'BBC', 'Radio', '1', 'and', '1Xtra', '-', 'if', 'you', 'miss', 'us', 'you', 'can', 'listen', 'back', 'here', '.']]\n"
     ]
    }
   ],
   "source": [
    "#TOKENIZATION, ADVANCED -\n",
    "\n",
    "#more sophisticated solution, using the NLTK library.\n",
    "#NOTE: TbWT separtes punctuation (world!), handles contractions (can't), and splits critics (it's).\n",
    "from nltk.tokenize import TreebankWordTokenizer #for tokenization\n",
    "\n",
    "#pre-check:\n",
    "print(\"Sample text before advanced tokenization:\")\n",
    "print(articles[:1])\n",
    "\n",
    "#tokenize the articles:\n",
    "articles_tokenized = [TreebankWordTokenizer().tokenize(art) for art in articles]\n",
    "\n",
    "#post-check:\n",
    "print(\"Sample text after advanced tokenization:\")\n",
    "print(articles_tokenized[:1])"
   ]
  },
  {
   "cell_type": "code",
   "execution_count": 27,
   "metadata": {},
   "outputs": [
    {
     "name": "stdout",
     "output_type": "stream",
     "text": [
      "Sample text before our custom tokenization:\n",
      "['Formula 1 has returned this weekend with one big difference - there are no grid girls.\\n\\nIn the past, you would have seen the likes of professional glamour model Nikki Lee on the tracks ahead of the races.\\n\\nBut following a backlash in the off-season, this will be the first F1 season in decades that won\\'t feature grid girls.\\n\\n\"Looks like I\\'ll be going to the job centre now,\" Nikki told Newsbeat when the ban was announced.\\n\\nShe said F1\\'s decision to axe grid girls has put her livelihood on the line and that the work she does is dying out.\\n\\nNikki says most of the criticism comes from other women.\\n\\n\"When I went to Le Mans [car race], I had beer bottles pelted at me by the wives and girlfriends.\\n\\n\"I don\\'t see where women get off on telling us how to dress. I don\\'t care what other people do as long as you\\'re not harming me,\" she says.\\n\\nOther grid girls have also hit out at the decision to axe their profession.\\n\\nThe decision to scrap promo girls hasn\\'t only affected Formula 1.\\n\\nEarlier this year, it was announced walk-on girls would no longer be used by the Professional Darts Corporation.\\n\\nSupporters of the decision say sports promo girls invite objectification and reduce women\\'s visibility in sports to sideline eye candy.\\n\\nBut the rebrand by the Professional Darts Corporation and Formula 1\\'s new owner Liberty Media has not been popular with everyone.\\n\\nGrid girl Lucy Stokes, 22, questioned where the boundary was between her job and high street modelling.\\n\\n\"Even Marks & Spencer underwear models - is that going to be the same? Is that considered demeaning?\"\\n\\nJamie Chadwick, who at 17 became the youngest driver (and first female) to win the British GT Championship, thinks people focusing on grid girls are missing the point.\\n\\n\"I think the focus should be on the machines. I think, basically, if you\\'re coming to look at the grid girls then you\\'re at the wrong sport,\" said the 19-year-old F3 racing driver.\\n\\n\"There are stereotypes of the grid girls but a lot of them are at university, they have other jobs. They are beautiful girls that are at work and a lot of them just really love motorsports.\"\\n\\nThe ban of grid girls and darts walk-on girls has put another group of women - boxing ring girls - on high alert.\\n\\nFormer ring girl Lauren Frain employs nearly 150 women - from full-time models, to mothers and students - in Manchester and London for promotional and modelling work.\\n\\nShe fears the recent bans will kill the industry she\\'s spent her life in.\\n\\n\"I don\\'t comprehend the difference between modelling and promotional modelling,\" she said.\\n\\n\"In all my years I have been doing this, I\\'ve had more grief and harassment in Tesco or a man driving down the road in a white van that pulls up.\"\\n\\nListen to Newsbeat live at 12:45 and 17:45 every weekday on BBC Radio 1 and 1Xtra - if you miss us you can listen back here.']\n",
      "Sample text after our custom tokenization:\n",
      "[['Formula', 'has', 'returned', 'this', 'weekend', 'with', 'one', 'big', 'difference', 'there', 'are', 'no', 'grid', 'girls', 'In', 'the', 'past', 'you', 'would', 'have', 'seen', 'the', 'likes', 'of', 'professional', 'glamour', 'model', 'Nikki', 'Lee', 'on', 'the', 'tracks', 'ahead', 'of', 'the', 'races', 'But', 'following', 'a', 'backlash', 'in', 'the', 'off-season', 'this', 'will', 'be', 'the', 'first', 'F1', 'season', 'in', 'decades', 'that', 'wo', \"n't\", 'feature', 'grid', 'girls', 'Looks', 'like', 'I', \"'ll\", 'be', 'going', 'to', 'the', 'job', 'centre', 'now', 'Nikki', 'told', 'Newsbeat', 'when', 'the', 'ban', 'was', 'announced', 'She', 'said', 'F1', \"'s\", 'decision', 'to', 'axe', 'grid', 'girls', 'has', 'put', 'her', 'livelihood', 'on', 'the', 'line', 'and', 'that', 'the', 'work', 'she', 'does', 'is', 'dying', 'out', 'Nikki', 'says', 'most', 'of', 'the', 'criticism', 'comes', 'from', 'other', 'women', 'When', 'I', 'went', 'to', 'Le', 'Mans', 'car', 'race', 'I', 'had', 'beer', 'bottles', 'pelted', 'at', 'me', 'by', 'the', 'wives', 'and', 'girlfriends', 'I', 'do', \"n't\", 'see', 'where', 'women', 'get', 'off', 'on', 'telling', 'us', 'how', 'to', 'dress', 'I', 'do', \"n't\", 'care', 'what', 'other', 'people', 'do', 'as', 'long', 'as', 'you', \"'re\", 'not', 'harming', 'me', 'she', 'says', 'Other', 'grid', 'girls', 'have', 'also', 'hit', 'out', 'at', 'the', 'decision', 'to', 'axe', 'their', 'profession', 'The', 'decision', 'to', 'scrap', 'promo', 'girls', 'has', \"n't\", 'only', 'affected', 'Formula', 'Earlier', 'this', 'year', 'it', 'was', 'announced', 'walk-on', 'girls', 'would', 'no', 'longer', 'be', 'used', 'by', 'the', 'Professional', 'Darts', 'Corporation', 'Supporters', 'of', 'the', 'decision', 'say', 'sports', 'promo', 'girls', 'invite', 'objectification', 'and', 'reduce', 'women', \"'s\", 'visibility', 'in', 'sports', 'to', 'sideline', 'eye', 'candy', 'But', 'the', 'rebrand', 'by', 'the', 'Professional', 'Darts', 'Corporation', 'and', 'Formula', \"'s\", 'new', 'owner', 'Liberty', 'Media', 'has', 'not', 'been', 'popular', 'with', 'everyone', 'Grid', 'girl', 'Lucy', 'Stokes', 'questioned', 'where', 'the', 'boundary', 'was', 'between', 'her', 'job', 'and', 'high', 'street', 'modelling', 'Even', 'Marks', 'Spencer', 'underwear', 'models', 'is', 'that', 'going', 'to', 'be', 'the', 'same', 'Is', 'that', 'considered', 'demeaning', 'Jamie', 'Chadwick', 'who', 'at', 'became', 'the', 'youngest', 'driver', 'and', 'first', 'female', 'to', 'win', 'the', 'British', 'GT', 'Championship', 'thinks', 'people', 'focusing', 'on', 'grid', 'girls', 'are', 'missing', 'the', 'point', 'I', 'think', 'the', 'focus', 'should', 'be', 'on', 'the', 'machines', 'I', 'think', 'basically', 'if', 'you', \"'re\", 'coming', 'to', 'look', 'at', 'the', 'grid', 'girls', 'then', 'you', \"'re\", 'at', 'the', 'wrong', 'sport', 'said', 'the', '19-year-old', 'F3', 'racing', 'driver', 'There', 'are', 'stereotypes', 'of', 'the', 'grid', 'girls', 'but', 'a', 'lot', 'of', 'them', 'are', 'at', 'university', 'they', 'have', 'other', 'jobs', 'They', 'are', 'beautiful', 'girls', 'that', 'are', 'at', 'work', 'and', 'a', 'lot', 'of', 'them', 'just', 'really', 'love', 'motorsports', 'The', 'ban', 'of', 'grid', 'girls', 'and', 'darts', 'walk-on', 'girls', 'has', 'put', 'another', 'group', 'of', 'women', 'boxing', 'ring', 'girls', 'on', 'high', 'alert', 'Former', 'ring', 'girl', 'Lauren', 'Frain', 'employs', 'nearly', 'women', 'from', 'full-time', 'models', 'to', 'mothers', 'and', 'students', 'in', 'Manchester', 'and', 'London', 'for', 'promotional', 'and', 'modelling', 'work', 'She', 'fears', 'the', 'recent', 'bans', 'will', 'kill', 'the', 'industry', 'she', \"'s\", 'spent', 'her', 'life', 'in', 'I', 'do', \"n't\", 'comprehend', 'the', 'difference', 'between', 'modelling', 'and', 'promotional', 'modelling', 'she', 'said', 'In', 'all', 'my', 'years', 'I', 'have', 'been', 'doing', 'this', 'I', \"'ve\", 'had', 'more', 'grief', 'and', 'harassment', 'in', 'Tesco', 'or', 'a', 'man', 'driving', 'down', 'the', 'road', 'in', 'a', 'white', 'van', 'that', 'pulls', 'up', 'Listen', 'to', 'Newsbeat', 'live', 'at', 'and', 'every', 'weekday', 'on', 'BBC', 'Radio', 'and', '1Xtra', 'if', 'you', 'miss', 'us', 'you', 'can', 'listen', 'back', 'here']]\n"
     ]
    }
   ],
   "source": [
    "#TOKENIZATION, MORE ADVANCED -\n",
    "import regex #for regular expressions\n",
    "import nltk #for natural language processing \n",
    "\n",
    "#create your own tokenizer that first split into sentences. In this way,`TreebankWordTokenizer` works better - \n",
    "\n",
    "#nltk.download(\"punkt_tab\") #uncomment this if needed.\n",
    "\n",
    "#let's define a class for our (custom) tokenizer:\n",
    "#NOTE: what does 'self' mean in this context? \n",
    "class MyTokenizer:\n",
    "    def tokenize(self, text): #it takes a string as input.\n",
    "        tokenizer = TreebankWordTokenizer() #initialize the tokenizer\n",
    "        result = [] #initialize the result list\n",
    "        word = r\"\\p{letter}\" #this is a regex pattern for letters\n",
    "        for sent in nltk.sent_tokenize(text): #split the text into sentences\n",
    "            tokens = tokenizer.tokenize(sent)   #tokenize the sentence (with TbWT) \n",
    "            tokens = [t for t in tokens if regex.search(word, t)] #NOTE: what is this doing?\n",
    "            result += tokens #add the (valid) tokens to the result list\n",
    "        return result #return the result list\n",
    "\n",
    "#instantiate the tokenizer:\n",
    "mytokenizer = MyTokenizer()\n",
    "\n",
    "#pre-check:\n",
    "print(\"Sample text before our custom tokenization:\")\n",
    "print(articles[:1])\n",
    "\n",
    "#run the tokenizer on our articles: \n",
    "articles_tokenized = [mytokenizer.tokenize(art) for art in articles]\n",
    "\n",
    "#post-check:\n",
    "print(\"Sample text after our custom tokenization:\")\n",
    "print(articles_tokenized[:1])"
   ]
  },
  {
   "cell_type": "markdown",
   "metadata": {},
   "source": [
    "#### Stopwords:"
   ]
  },
  {
   "cell_type": "code",
   "execution_count": 28,
   "metadata": {},
   "outputs": [
    {
     "name": "stdout",
     "output_type": "stream",
     "text": [
      "['i', 'me', 'my', 'myself', 'we', 'our', 'ours', 'ourselves', 'you', \"you're\", \"you've\", \"you'll\", \"you'd\", 'your', 'yours', 'yourself', 'yourselves', 'he', 'him', 'his', 'himself', 'she', \"she's\", 'her', 'hers', 'herself', 'it', \"it's\", 'its', 'itself', 'they', 'them', 'their', 'theirs', 'themselves', 'what', 'which', 'who', 'whom', 'this', 'that', \"that'll\", 'these', 'those', 'am', 'is', 'are', 'was', 'were', 'be', 'been', 'being', 'have', 'has', 'had', 'having', 'do', 'does', 'did', 'doing', 'a', 'an', 'the', 'and', 'but', 'if', 'or', 'because', 'as', 'until', 'while', 'of', 'at', 'by', 'for', 'with', 'about', 'against', 'between', 'into', 'through', 'during', 'before', 'after', 'above', 'below', 'to', 'from', 'up', 'down', 'in', 'out', 'on', 'off', 'over', 'under', 'again', 'further', 'then', 'once', 'here', 'there', 'when', 'where', 'why', 'how', 'all', 'any', 'both', 'each', 'few', 'more', 'most', 'other', 'some', 'such', 'no', 'nor', 'not', 'only', 'own', 'same', 'so', 'than', 'too', 'very', 's', 't', 'can', 'will', 'just', 'don', \"don't\", 'should', \"should've\", 'now', 'd', 'll', 'm', 'o', 're', 've', 'y', 'ain', 'aren', \"aren't\", 'couldn', \"couldn't\", 'didn', \"didn't\", 'doesn', \"doesn't\", 'hadn', \"hadn't\", 'hasn', \"hasn't\", 'haven', \"haven't\", 'isn', \"isn't\", 'ma', 'mightn', \"mightn't\", 'mustn', \"mustn't\", 'needn', \"needn't\", 'shan', \"shan't\", 'shouldn', \"shouldn't\", 'wasn', \"wasn't\", 'weren', \"weren't\", 'won', \"won't\", 'wouldn', \"wouldn't\", 'add', 'more', 'words']\n"
     ]
    }
   ],
   "source": [
    "#STOPWORDS, SIMPLE - \n",
    "\n",
    "#let's use NLTK to get a list of stopwords:\n",
    "from nltk.corpus import stopwords\n",
    "#nltk.download(\"stopwords\") #NOTE: uncomment this if needed. \n",
    "\n",
    "#let's create a list of stopwords:\n",
    "mystopwords = stopwords.words(\"english\")\n",
    "mystopwords.extend([\"add\", \"more\", \"words\"]) # it's just a list, so we can add more words if we want to.\n",
    "\n",
    "print(mystopwords) #just to demonstrate the point..."
   ]
  },
  {
   "cell_type": "code",
   "execution_count": 29,
   "metadata": {},
   "outputs": [
    {
     "name": "stdout",
     "output_type": "stream",
     "text": [
      "Sample text before removing stopwords:\n",
      "['Formula 1 has returned this weekend with one big difference - there are no grid girls.\\n\\nIn the past, you would have seen the likes of professional glamour model Nikki Lee on the tracks ahead of the races.\\n\\nBut following a backlash in the off-season, this will be the first F1 season in decades that won\\'t feature grid girls.\\n\\n\"Looks like I\\'ll be going to the job centre now,\" Nikki told Newsbeat when the ban was announced.\\n\\nShe said F1\\'s decision to axe grid girls has put her livelihood on the line and that the work she does is dying out.\\n\\nNikki says most of the criticism comes from other women.\\n\\n\"When I went to Le Mans [car race], I had beer bottles pelted at me by the wives and girlfriends.\\n\\n\"I don\\'t see where women get off on telling us how to dress. I don\\'t care what other people do as long as you\\'re not harming me,\" she says.\\n\\nOther grid girls have also hit out at the decision to axe their profession.\\n\\nThe decision to scrap promo girls hasn\\'t only affected Formula 1.\\n\\nEarlier this year, it was announced walk-on girls would no longer be used by the Professional Darts Corporation.\\n\\nSupporters of the decision say sports promo girls invite objectification and reduce women\\'s visibility in sports to sideline eye candy.\\n\\nBut the rebrand by the Professional Darts Corporation and Formula 1\\'s new owner Liberty Media has not been popular with everyone.\\n\\nGrid girl Lucy Stokes, 22, questioned where the boundary was between her job and high street modelling.\\n\\n\"Even Marks & Spencer underwear models - is that going to be the same? Is that considered demeaning?\"\\n\\nJamie Chadwick, who at 17 became the youngest driver (and first female) to win the British GT Championship, thinks people focusing on grid girls are missing the point.\\n\\n\"I think the focus should be on the machines. I think, basically, if you\\'re coming to look at the grid girls then you\\'re at the wrong sport,\" said the 19-year-old F3 racing driver.\\n\\n\"There are stereotypes of the grid girls but a lot of them are at university, they have other jobs. They are beautiful girls that are at work and a lot of them just really love motorsports.\"\\n\\nThe ban of grid girls and darts walk-on girls has put another group of women - boxing ring girls - on high alert.\\n\\nFormer ring girl Lauren Frain employs nearly 150 women - from full-time models, to mothers and students - in Manchester and London for promotional and modelling work.\\n\\nShe fears the recent bans will kill the industry she\\'s spent her life in.\\n\\n\"I don\\'t comprehend the difference between modelling and promotional modelling,\" she said.\\n\\n\"In all my years I have been doing this, I\\'ve had more grief and harassment in Tesco or a man driving down the road in a white van that pulls up.\"\\n\\nListen to Newsbeat live at 12:45 and 17:45 every weekday on BBC Radio 1 and 1Xtra - if you miss us you can listen back here.']\n",
      "Sample text after removing stopwords:\n",
      "[' formula 1 returned weekend one big difference - grid girls. past, would seen likes professional glamour model nikki lee tracks ahead races. following backlash off-season, first f1 season decades feature grid girls. \"looks like i\\'ll going job centre now,\" nikki told newsbeat ban announced. said f1\\'s decision axe grid girls put livelihood line work dying out. nikki says criticism comes women. \"when went le mans [car race], beer bottles pelted wives girlfriends. \"i see women get telling us dress. care people long harming me,\" says. grid girls also hit decision axe profession. decision scrap promo girls affected formula 1. earlier year, announced walk-on girls would longer used professional darts corporation. supporters decision say sports promo girls invite objectification reduce women\\'s visibility sports sideline eye candy. rebrand professional darts corporation formula 1\\'s new owner liberty media popular everyone. grid girl lucy stokes, 22, questioned boundary job high street modelling. \"even marks & spencer underwear models - going same? considered demeaning?\" jamie chadwick, 17 became youngest driver (and first female) win british gt championship, thinks people focusing grid girls missing point. \"i think focus machines. think, basically, coming look grid girls wrong sport,\" said 19-year-old f3 racing driver. \"there stereotypes grid girls lot university, jobs. beautiful girls work lot really love motorsports.\" ban grid girls darts walk-on girls put another group women - boxing ring girls - high alert. former ring girl lauren frain employs nearly 150 women - full-time models, mothers students - manchester london promotional modelling work. fears recent bans kill industry spent life in. \"i comprehend difference modelling promotional modelling,\" said. \"in years this, i\\'ve grief harassment tesco man driving road white van pulls up.\" listen newsbeat live 12:45 17:45 every weekday bbc radio 1 1xtra - miss us listen back here.']\n"
     ]
    }
   ],
   "source": [
    "# now, remove stopwords from the corpus:\n",
    "\n",
    "#pre-check:\n",
    "print(\"Sample text before removing stopwords:\")\n",
    "print(articles[:1])\n",
    "\n",
    "#stopword removal:\n",
    "articles_without_stopwords = [] #initialize an empty list\n",
    "for article in articles: #for each article\n",
    "    articles_no_stop = \"\" #initialize an empty string\n",
    "    for word in article.lower().split(): #for each word in the list of lowered words from the article\n",
    "        if word not in mystopwords: #if the word is not a stopword\n",
    "            articles_no_stop = articles_no_stop + \" \" + word #add the word to the empty string\n",
    "    articles_without_stopwords.append(articles_no_stop) #add the article sans stopwords to the list\n",
    "\n",
    "#post-check:\n",
    "print(\"Sample text after removing stopwords:\")\n",
    "print(articles_without_stopwords[:1])"
   ]
  },
  {
   "cell_type": "code",
   "execution_count": 30,
   "metadata": {},
   "outputs": [],
   "source": [
    "# same solution, but with list comprehension:\n",
    "# NOTE: can you explain how this works? \n",
    "articles_without_stopwords = [\" \".join([w for w in article.lower().split() if w not in mystopwords]) for article in articles]"
   ]
  },
  {
   "cell_type": "code",
   "execution_count": 31,
   "metadata": {},
   "outputs": [
    {
     "name": "stdout",
     "output_type": "stream",
     "text": [
      "Sample text before removing stopwords:\n",
      "[['Formula', 'has', 'returned', 'this', 'weekend', 'with', 'one', 'big', 'difference', 'there', 'are', 'no', 'grid', 'girls', 'In', 'the', 'past', 'you', 'would', 'have', 'seen', 'the', 'likes', 'of', 'professional', 'glamour', 'model', 'Nikki', 'Lee', 'on', 'the', 'tracks', 'ahead', 'of', 'the', 'races', 'But', 'following', 'a', 'backlash', 'in', 'the', 'off-season', 'this', 'will', 'be', 'the', 'first', 'F1', 'season', 'in', 'decades', 'that', 'wo', \"n't\", 'feature', 'grid', 'girls', 'Looks', 'like', 'I', \"'ll\", 'be', 'going', 'to', 'the', 'job', 'centre', 'now', 'Nikki', 'told', 'Newsbeat', 'when', 'the', 'ban', 'was', 'announced', 'She', 'said', 'F1', \"'s\", 'decision', 'to', 'axe', 'grid', 'girls', 'has', 'put', 'her', 'livelihood', 'on', 'the', 'line', 'and', 'that', 'the', 'work', 'she', 'does', 'is', 'dying', 'out', 'Nikki', 'says', 'most', 'of', 'the', 'criticism', 'comes', 'from', 'other', 'women', 'When', 'I', 'went', 'to', 'Le', 'Mans', 'car', 'race', 'I', 'had', 'beer', 'bottles', 'pelted', 'at', 'me', 'by', 'the', 'wives', 'and', 'girlfriends', 'I', 'do', \"n't\", 'see', 'where', 'women', 'get', 'off', 'on', 'telling', 'us', 'how', 'to', 'dress', 'I', 'do', \"n't\", 'care', 'what', 'other', 'people', 'do', 'as', 'long', 'as', 'you', \"'re\", 'not', 'harming', 'me', 'she', 'says', 'Other', 'grid', 'girls', 'have', 'also', 'hit', 'out', 'at', 'the', 'decision', 'to', 'axe', 'their', 'profession', 'The', 'decision', 'to', 'scrap', 'promo', 'girls', 'has', \"n't\", 'only', 'affected', 'Formula', 'Earlier', 'this', 'year', 'it', 'was', 'announced', 'walk-on', 'girls', 'would', 'no', 'longer', 'be', 'used', 'by', 'the', 'Professional', 'Darts', 'Corporation', 'Supporters', 'of', 'the', 'decision', 'say', 'sports', 'promo', 'girls', 'invite', 'objectification', 'and', 'reduce', 'women', \"'s\", 'visibility', 'in', 'sports', 'to', 'sideline', 'eye', 'candy', 'But', 'the', 'rebrand', 'by', 'the', 'Professional', 'Darts', 'Corporation', 'and', 'Formula', \"'s\", 'new', 'owner', 'Liberty', 'Media', 'has', 'not', 'been', 'popular', 'with', 'everyone', 'Grid', 'girl', 'Lucy', 'Stokes', 'questioned', 'where', 'the', 'boundary', 'was', 'between', 'her', 'job', 'and', 'high', 'street', 'modelling', 'Even', 'Marks', 'Spencer', 'underwear', 'models', 'is', 'that', 'going', 'to', 'be', 'the', 'same', 'Is', 'that', 'considered', 'demeaning', 'Jamie', 'Chadwick', 'who', 'at', 'became', 'the', 'youngest', 'driver', 'and', 'first', 'female', 'to', 'win', 'the', 'British', 'GT', 'Championship', 'thinks', 'people', 'focusing', 'on', 'grid', 'girls', 'are', 'missing', 'the', 'point', 'I', 'think', 'the', 'focus', 'should', 'be', 'on', 'the', 'machines', 'I', 'think', 'basically', 'if', 'you', \"'re\", 'coming', 'to', 'look', 'at', 'the', 'grid', 'girls', 'then', 'you', \"'re\", 'at', 'the', 'wrong', 'sport', 'said', 'the', '19-year-old', 'F3', 'racing', 'driver', 'There', 'are', 'stereotypes', 'of', 'the', 'grid', 'girls', 'but', 'a', 'lot', 'of', 'them', 'are', 'at', 'university', 'they', 'have', 'other', 'jobs', 'They', 'are', 'beautiful', 'girls', 'that', 'are', 'at', 'work', 'and', 'a', 'lot', 'of', 'them', 'just', 'really', 'love', 'motorsports', 'The', 'ban', 'of', 'grid', 'girls', 'and', 'darts', 'walk-on', 'girls', 'has', 'put', 'another', 'group', 'of', 'women', 'boxing', 'ring', 'girls', 'on', 'high', 'alert', 'Former', 'ring', 'girl', 'Lauren', 'Frain', 'employs', 'nearly', 'women', 'from', 'full-time', 'models', 'to', 'mothers', 'and', 'students', 'in', 'Manchester', 'and', 'London', 'for', 'promotional', 'and', 'modelling', 'work', 'She', 'fears', 'the', 'recent', 'bans', 'will', 'kill', 'the', 'industry', 'she', \"'s\", 'spent', 'her', 'life', 'in', 'I', 'do', \"n't\", 'comprehend', 'the', 'difference', 'between', 'modelling', 'and', 'promotional', 'modelling', 'she', 'said', 'In', 'all', 'my', 'years', 'I', 'have', 'been', 'doing', 'this', 'I', \"'ve\", 'had', 'more', 'grief', 'and', 'harassment', 'in', 'Tesco', 'or', 'a', 'man', 'driving', 'down', 'the', 'road', 'in', 'a', 'white', 'van', 'that', 'pulls', 'up', 'Listen', 'to', 'Newsbeat', 'live', 'at', 'and', 'every', 'weekday', 'on', 'BBC', 'Radio', 'and', '1Xtra', 'if', 'you', 'miss', 'us', 'you', 'can', 'listen', 'back', 'here']]\n",
      "Sample text after removing stopwords:\n",
      "[['Formula', 'returned', 'weekend', 'one', 'big', 'difference', 'grid', 'girls', 'past', 'would', 'seen', 'likes', 'professional', 'glamour', 'model', 'Nikki', 'Lee', 'tracks', 'ahead', 'races', 'following', 'backlash', 'off-season', 'first', 'F1', 'season', 'decades', 'wo', \"n't\", 'feature', 'grid', 'girls', 'Looks', 'like', \"'ll\", 'going', 'job', 'centre', 'Nikki', 'told', 'Newsbeat', 'ban', 'announced', 'said', 'F1', \"'s\", 'decision', 'axe', 'grid', 'girls', 'put', 'livelihood', 'line', 'work', 'dying', 'Nikki', 'says', 'criticism', 'comes', 'women', 'went', 'Le', 'Mans', 'car', 'race', 'beer', 'bottles', 'pelted', 'wives', 'girlfriends', \"n't\", 'see', 'women', 'get', 'telling', 'us', 'dress', \"n't\", 'care', 'people', 'long', \"'re\", 'harming', 'says', 'grid', 'girls', 'also', 'hit', 'decision', 'axe', 'profession', 'decision', 'scrap', 'promo', 'girls', \"n't\", 'affected', 'Formula', 'Earlier', 'year', 'announced', 'walk-on', 'girls', 'would', 'longer', 'used', 'Professional', 'Darts', 'Corporation', 'Supporters', 'decision', 'say', 'sports', 'promo', 'girls', 'invite', 'objectification', 'reduce', 'women', \"'s\", 'visibility', 'sports', 'sideline', 'eye', 'candy', 'rebrand', 'Professional', 'Darts', 'Corporation', 'Formula', \"'s\", 'new', 'owner', 'Liberty', 'Media', 'popular', 'everyone', 'Grid', 'girl', 'Lucy', 'Stokes', 'questioned', 'boundary', 'job', 'high', 'street', 'modelling', 'Even', 'Marks', 'Spencer', 'underwear', 'models', 'going', 'considered', 'demeaning', 'Jamie', 'Chadwick', 'became', 'youngest', 'driver', 'first', 'female', 'win', 'British', 'GT', 'Championship', 'thinks', 'people', 'focusing', 'grid', 'girls', 'missing', 'point', 'think', 'focus', 'machines', 'think', 'basically', \"'re\", 'coming', 'look', 'grid', 'girls', \"'re\", 'wrong', 'sport', 'said', '19-year-old', 'F3', 'racing', 'driver', 'stereotypes', 'grid', 'girls', 'lot', 'university', 'jobs', 'beautiful', 'girls', 'work', 'lot', 'really', 'love', 'motorsports', 'ban', 'grid', 'girls', 'darts', 'walk-on', 'girls', 'put', 'another', 'group', 'women', 'boxing', 'ring', 'girls', 'high', 'alert', 'Former', 'ring', 'girl', 'Lauren', 'Frain', 'employs', 'nearly', 'women', 'full-time', 'models', 'mothers', 'students', 'Manchester', 'London', 'promotional', 'modelling', 'work', 'fears', 'recent', 'bans', 'kill', 'industry', \"'s\", 'spent', 'life', \"n't\", 'comprehend', 'difference', 'modelling', 'promotional', 'modelling', 'said', 'years', \"'ve\", 'grief', 'harassment', 'Tesco', 'man', 'driving', 'road', 'white', 'van', 'pulls', 'Listen', 'Newsbeat', 'live', 'every', 'weekday', 'BBC', 'Radio', '1Xtra', 'miss', 'us', 'listen', 'back']]\n"
     ]
    }
   ],
   "source": [
    "#STOPWORDS, ADVANCED -\n",
    "\n",
    "# more elegant -solution, by writing a function and calling it in a list comprehension:\n",
    "def remove_stopwords(article, stopwordlist):\n",
    "    cleantokens = []\n",
    "    for word in article:\n",
    "        if word.lower() not in stopwordlist:\n",
    "            cleantokens.append(word)\n",
    "    return cleantokens\n",
    "\n",
    "#pre-check:\n",
    "print(\"Sample text before removing stopwords:\")\n",
    "print(articles_tokenized[:1])\n",
    "\n",
    "articles_without_stopwords = [remove_stopwords(art, mystopwords) for art in articles_tokenized]\n",
    "\n",
    "#post-check:\n",
    "print(\"Sample text after removing stopwords:\")\n",
    "print(articles_without_stopwords[:1])"
   ]
  },
  {
   "cell_type": "markdown",
   "metadata": {},
   "source": [
    "#### Stemming and lemmatization:"
   ]
  },
  {
   "cell_type": "code",
   "execution_count": 32,
   "metadata": {},
   "outputs": [
    {
     "name": "stdout",
     "output_type": "stream",
     "text": [
      "Sample text before stemming:\n",
      "['Formula 1 has returned this weekend with one big difference - there are no grid girls.\\n\\nIn the past, you would have seen the likes of professional glamour model Nikki Lee on the tracks ahead of the races.\\n\\nBut following a backlash in the off-season, this will be the first F1 season in decades that won\\'t feature grid girls.\\n\\n\"Looks like I\\'ll be going to the job centre now,\" Nikki told Newsbeat when the ban was announced.\\n\\nShe said F1\\'s decision to axe grid girls has put her livelihood on the line and that the work she does is dying out.\\n\\nNikki says most of the criticism comes from other women.\\n\\n\"When I went to Le Mans [car race], I had beer bottles pelted at me by the wives and girlfriends.\\n\\n\"I don\\'t see where women get off on telling us how to dress. I don\\'t care what other people do as long as you\\'re not harming me,\" she says.\\n\\nOther grid girls have also hit out at the decision to axe their profession.\\n\\nThe decision to scrap promo girls hasn\\'t only affected Formula 1.\\n\\nEarlier this year, it was announced walk-on girls would no longer be used by the Professional Darts Corporation.\\n\\nSupporters of the decision say sports promo girls invite objectification and reduce women\\'s visibility in sports to sideline eye candy.\\n\\nBut the rebrand by the Professional Darts Corporation and Formula 1\\'s new owner Liberty Media has not been popular with everyone.\\n\\nGrid girl Lucy Stokes, 22, questioned where the boundary was between her job and high street modelling.\\n\\n\"Even Marks & Spencer underwear models - is that going to be the same? Is that considered demeaning?\"\\n\\nJamie Chadwick, who at 17 became the youngest driver (and first female) to win the British GT Championship, thinks people focusing on grid girls are missing the point.\\n\\n\"I think the focus should be on the machines. I think, basically, if you\\'re coming to look at the grid girls then you\\'re at the wrong sport,\" said the 19-year-old F3 racing driver.\\n\\n\"There are stereotypes of the grid girls but a lot of them are at university, they have other jobs. They are beautiful girls that are at work and a lot of them just really love motorsports.\"\\n\\nThe ban of grid girls and darts walk-on girls has put another group of women - boxing ring girls - on high alert.\\n\\nFormer ring girl Lauren Frain employs nearly 150 women - from full-time models, to mothers and students - in Manchester and London for promotional and modelling work.\\n\\nShe fears the recent bans will kill the industry she\\'s spent her life in.\\n\\n\"I don\\'t comprehend the difference between modelling and promotional modelling,\" she said.\\n\\n\"In all my years I have been doing this, I\\'ve had more grief and harassment in Tesco or a man driving down the road in a white van that pulls up.\"\\n\\nListen to Newsbeat live at 12:45 and 17:45 every weekday on BBC Radio 1 and 1Xtra - if you miss us you can listen back here.']\n",
      "Sample text after stemming:\n",
      "['formula 1 has return this weekend with one big differ - there are no grid girls. in the past, you would have seen the like of profession glamour model nikki lee on the track ahead of the races. but follow a backlash in the off-season, this will be the first f1 season in decad that won\\'t featur grid girls. \"look like i\\'ll be go to the job centr now,\" nikki told newsbeat when the ban was announced. she said f1 decis to axe grid girl has put her livelihood on the line and that the work she doe is die out. nikki say most of the critic come from other women. \"when i went to le man [car race], i had beer bottl pelt at me by the wive and girlfriends. \"i don\\'t see where women get off on tell us how to dress. i don\\'t care what other peopl do as long as you\\'r not harm me,\" she says. other grid girl have also hit out at the decis to axe their profession. the decis to scrap promo girl hasn\\'t onli affect formula 1. earlier this year, it was announc walk-on girl would no longer be use by the profession dart corporation. support of the decis say sport promo girl invit objectif and reduc women visibl in sport to sidelin eye candy. but the rebrand by the profession dart corpor and formula 1 new owner liberti media has not been popular with everyone. grid girl luci stokes, 22, question where the boundari was between her job and high street modelling. \"even mark & spencer underwear model - is that go to be the same? is that consid demeaning?\" jami chadwick, who at 17 becam the youngest driver (and first female) to win the british gt championship, think peopl focus on grid girl are miss the point. \"i think the focus should be on the machines. i think, basically, if you\\'r come to look at the grid girl then you\\'r at the wrong sport,\" said the 19-year-old f3 race driver. \"there are stereotyp of the grid girl but a lot of them are at university, they have other jobs. they are beauti girl that are at work and a lot of them just realli love motorsports.\" the ban of grid girl and dart walk-on girl has put anoth group of women - box ring girl - on high alert. former ring girl lauren frain employ near 150 women - from full-tim models, to mother and student - in manchest and london for promot and model work. she fear the recent ban will kill the industri she spent her life in. \"i don\\'t comprehend the differ between model and promot modelling,\" she said. \"in all my year i have been do this, i\\'v had more grief and harass in tesco or a man drive down the road in a white van that pull up.\" listen to newsbeat live at 12:45 and 17:45 everi weekday on bbc radio 1 and 1xtra - if you miss us you can listen back here.']\n"
     ]
    }
   ],
   "source": [
    "#STEMMING AND LEMMATIZATION -\n",
    "\n",
    "from nltk.stem.snowball import SnowballStemmer #this stems by removing suffixes (e.g. -ing, -ed)\n",
    "\n",
    "stemmer = SnowballStemmer(\"english\") #initialize the stemmer\n",
    "\n",
    "#pre-check:\n",
    "print(\"Sample text before stemming:\")\n",
    "print(articles[:1])\n",
    "\n",
    "stemmed_text = [] #initialize an empty list\n",
    "for article in articles: #for each article\n",
    "    stemmed_words = \"\" #initialize an empty string\n",
    "    for word in article.lower().split(): #for each word in the list of lowered words from the article\n",
    "        stemmed_words = stemmed_words + \" \" + stemmer.stem(word) #stem the word and add it to the empty string\n",
    "    stemmed_text.append(stemmed_words.strip()) #add the stemmed article to the list\n",
    "\n",
    "#post-check:\n",
    "print(\"Sample text after stemming:\")\n",
    "print(stemmed_text[:1])"
   ]
  },
  {
   "cell_type": "code",
   "execution_count": 33,
   "metadata": {},
   "outputs": [],
   "source": [
    "# same solution, but with list comprehension:\n",
    "# NOTE: why should we use list comprehension here?\n",
    "stemmed_text  = [\" \".join([stemmer.stem(w) for w in article.lower().split()]) for article in articles]"
   ]
  },
  {
   "cell_type": "code",
   "execution_count": 35,
   "metadata": {},
   "outputs": [
    {
     "name": "stdout",
     "output_type": "stream",
     "text": [
      "Sample text before lemmatization:\n",
      "['Formula 1 has returned this weekend with one big difference - there are no grid girls.\\n\\nIn the past, you would have seen the likes of professional glamour model Nikki Lee on the tracks ahead of the races.\\n\\nBut following a backlash in the off-season, this will be the first F1 season in decades that won\\'t feature grid girls.\\n\\n\"Looks like I\\'ll be going to the job centre now,\" Nikki told Newsbeat when the ban was announced.\\n\\nShe said F1\\'s decision to axe grid girls has put her livelihood on the line and that the work she does is dying out.\\n\\nNikki says most of the criticism comes from other women.\\n\\n\"When I went to Le Mans [car race], I had beer bottles pelted at me by the wives and girlfriends.\\n\\n\"I don\\'t see where women get off on telling us how to dress. I don\\'t care what other people do as long as you\\'re not harming me,\" she says.\\n\\nOther grid girls have also hit out at the decision to axe their profession.\\n\\nThe decision to scrap promo girls hasn\\'t only affected Formula 1.\\n\\nEarlier this year, it was announced walk-on girls would no longer be used by the Professional Darts Corporation.\\n\\nSupporters of the decision say sports promo girls invite objectification and reduce women\\'s visibility in sports to sideline eye candy.\\n\\nBut the rebrand by the Professional Darts Corporation and Formula 1\\'s new owner Liberty Media has not been popular with everyone.\\n\\nGrid girl Lucy Stokes, 22, questioned where the boundary was between her job and high street modelling.\\n\\n\"Even Marks & Spencer underwear models - is that going to be the same? Is that considered demeaning?\"\\n\\nJamie Chadwick, who at 17 became the youngest driver (and first female) to win the British GT Championship, thinks people focusing on grid girls are missing the point.\\n\\n\"I think the focus should be on the machines. I think, basically, if you\\'re coming to look at the grid girls then you\\'re at the wrong sport,\" said the 19-year-old F3 racing driver.\\n\\n\"There are stereotypes of the grid girls but a lot of them are at university, they have other jobs. They are beautiful girls that are at work and a lot of them just really love motorsports.\"\\n\\nThe ban of grid girls and darts walk-on girls has put another group of women - boxing ring girls - on high alert.\\n\\nFormer ring girl Lauren Frain employs nearly 150 women - from full-time models, to mothers and students - in Manchester and London for promotional and modelling work.\\n\\nShe fears the recent bans will kill the industry she\\'s spent her life in.\\n\\n\"I don\\'t comprehend the difference between modelling and promotional modelling,\" she said.\\n\\n\"In all my years I have been doing this, I\\'ve had more grief and harassment in Tesco or a man driving down the road in a white van that pulls up.\"\\n\\nListen to Newsbeat live at 12:45 and 17:45 every weekday on BBC Radio 1 and 1Xtra - if you miss us you can listen back here.']\n",
      "Sample text after lemmatization:\n",
      "[['formula', '1', 'have', 'return', 'this', 'weekend', 'with', 'one', 'big', 'difference', '-', 'there', 'be', 'no', 'grid', 'girl', '.', '\\n\\n', 'in', 'the', 'past', ',', 'you', 'would', 'have', 'see', 'the', 'like', 'of', 'professional', 'glamour', 'model', 'Nikki', 'Lee', 'on', 'the', 'track', 'ahead', 'of', 'the', 'race', '.', '\\n\\n', 'but', 'follow', 'a', 'backlash', 'in', 'the', 'off', '-', 'season', ',', 'this', 'will', 'be', 'the', 'first', 'F1', 'season', 'in', 'decade', 'that', 'will', 'not', 'feature', 'grid', 'girl', '.', '\\n\\n', '\"', 'look', 'like', 'I', 'will', 'be', 'go', 'to', 'the', 'job', 'centre', 'now', ',', '\"', 'Nikki', 'tell', 'Newsbeat', 'when', 'the', 'ban', 'be', 'announce', '.', '\\n\\n', 'she', 'say', 'F1', \"'s\", 'decision', 'to', 'axe', 'grid', 'girl', 'have', 'put', 'her', 'livelihood', 'on', 'the', 'line', 'and', 'that', 'the', 'work', 'she', 'do', 'be', 'die', 'out', '.', '\\n\\n', 'Nikki', 'say', 'most', 'of', 'the', 'criticism', 'come', 'from', 'other', 'woman', '.', '\\n\\n', '\"', 'when', 'I', 'go', 'to', 'Le', 'Mans', '[', 'car', 'race', ']', ',', 'I', 'have', 'beer', 'bottle', 'pelt', 'at', 'I', 'by', 'the', 'wife', 'and', 'girlfriend', '.', '\\n\\n', '\"', 'I', 'do', 'not', 'see', 'where', 'woman', 'get', 'off', 'on', 'tell', 'we', 'how', 'to', 'dress', '.', 'I', 'do', 'not', 'care', 'what', 'other', 'people', 'do', 'as', 'long', 'as', 'you', 'be', 'not', 'harm', 'I', ',', '\"', 'she', 'say', '.', '\\n\\n', 'other', 'grid', 'girl', 'have', 'also', 'hit', 'out', 'at', 'the', 'decision', 'to', 'axe', 'their', 'profession', '.', '\\n\\n', 'the', 'decision', 'to', 'scrap', 'promo', 'girl', 'have', 'not', 'only', 'affect', 'Formula', '1', '.', '\\n\\n', 'early', 'this', 'year', ',', 'it', 'be', 'announce', 'walk', '-', 'on', 'girl', 'would', 'no', 'long', 'be', 'use', 'by', 'the', 'Professional', 'Darts', 'Corporation', '.', '\\n\\n', 'supporter', 'of', 'the', 'decision', 'say', 'sport', 'promo', 'girl', 'invite', 'objectification', 'and', 'reduce', 'woman', \"'s\", 'visibility', 'in', 'sport', 'to', 'sideline', 'eye', 'candy', '.', '\\n\\n', 'but', 'the', 'rebrand', 'by', 'the', 'Professional', 'Darts', 'Corporation', 'and', 'Formula', '1', \"'s\", 'new', 'owner', 'Liberty', 'Media', 'have', 'not', 'be', 'popular', 'with', 'everyone', '.', '\\n\\n', 'Grid', 'girl', 'Lucy', 'Stokes', ',', '22', ',', 'question', 'where', 'the', 'boundary', 'be', 'between', 'her', 'job', 'and', 'high', 'street', 'modelling', '.', '\\n\\n', '\"', 'even', 'Marks', '&', 'Spencer', 'underwear', 'model', '-', 'be', 'that', 'go', 'to', 'be', 'the', 'same', '?', 'be', 'that', 'consider', 'demeaning', '?', '\"', '\\n\\n', 'Jamie', 'Chadwick', ',', 'who', 'at', '17', 'become', 'the', 'young', 'driver', '(', 'and', 'first', 'female', ')', 'to', 'win', 'the', 'British', 'GT', 'Championship', ',', 'think', 'people', 'focus', 'on', 'grid', 'girl', 'be', 'miss', 'the', 'point', '.', '\\n\\n', '\"', 'I', 'think', 'the', 'focus', 'should', 'be', 'on', 'the', 'machine', '.', 'I', 'think', ',', 'basically', ',', 'if', 'you', 'be', 'come', 'to', 'look', 'at', 'the', 'grid', 'girl', 'then', 'you', 'be', 'at', 'the', 'wrong', 'sport', ',', '\"', 'say', 'the', '19', '-', 'year', '-', 'old', 'f3', 'racing', 'driver', '.', '\\n\\n', '\"', 'there', 'be', 'stereotype', 'of', 'the', 'grid', 'girl', 'but', 'a', 'lot', 'of', 'they', 'be', 'at', 'university', ',', 'they', 'have', 'other', 'job', '.', 'they', 'be', 'beautiful', 'girl', 'that', 'be', 'at', 'work', 'and', 'a', 'lot', 'of', 'they', 'just', 'really', 'love', 'motorsport', '.', '\"', '\\n\\n', 'the', 'ban', 'of', 'grid', 'girl', 'and', 'dart', 'walk', '-', 'on', 'girl', 'have', 'put', 'another', 'group', 'of', 'woman', '-', 'box', 'ring', 'girl', '-', 'on', 'high', 'alert', '.', '\\n\\n', 'former', 'ring', 'girl', 'Lauren', 'Frain', 'employ', 'nearly', '150', 'woman', '-', 'from', 'full', '-', 'time', 'model', ',', 'to', 'mother', 'and', 'student', '-', 'in', 'Manchester', 'and', 'London', 'for', 'promotional', 'and', 'modelling', 'work', '.', '\\n\\n', 'she', 'fear', 'the', 'recent', 'ban', 'will', 'kill', 'the', 'industry', 'she', 'be', 'spend', 'her', 'life', 'in', '.', '\\n\\n', '\"', 'I', 'do', 'not', 'comprehend', 'the', 'difference', 'between', 'modelling', 'and', 'promotional', 'modelling', ',', '\"', 'she', 'say', '.', '\\n\\n', '\"', 'in', 'all', 'my', 'year', 'I', 'have', 'be', 'do', 'this', ',', 'I', 'have', 'have', 'more', 'grief', 'and', 'harassment', 'in', 'Tesco', 'or', 'a', 'man', 'drive', 'down', 'the', 'road', 'in', 'a', 'white', 'van', 'that', 'pull', 'up', '.', '\"', '\\n\\n', 'listen', 'to', 'Newsbeat', 'live', 'at', '12:45', 'and', '17:45', 'every', 'weekday', 'on', 'BBC', 'Radio', '1', 'and', '1xtra', '-', 'if', 'you', 'miss', 'we', 'you', 'can', 'listen', 'back', 'here', '.']]\n"
     ]
    }
   ],
   "source": [
    "# compare tokeninzation and lemmatization using `Spacy`:\n",
    "\n",
    "import spacy \n",
    "#spacy.cli.download(\"en_core_web_sm\") #uncomment this if needed.\n",
    "nlp = spacy.load(\"en_core_web_sm\") #load the small english model.\n",
    "\n",
    "#pre-check:\n",
    "print(\"Sample text before lemmatization:\")\n",
    "print(articles[:1])\n",
    "\n",
    "#let's lemmatize the articles:\n",
    "lemmatized_articles = [[token.lemma_ for token in nlp(art)] for art in articles]\n",
    "\n",
    "#post-check:\n",
    "print(\"Sample text after lemmatization:\")\n",
    "print(lemmatized_articles[:1])"
   ]
  },
  {
   "cell_type": "markdown",
   "metadata": {},
   "source": [
    "#### Cleaning: "
   ]
  },
  {
   "cell_type": "code",
   "execution_count": 37,
   "metadata": {},
   "outputs": [
    {
     "data": {
      "text/plain": [
       "'For the past two election cycles thriceelected New York city mayor Michael Bloomberg has toyed with a bid for the US presidency With 2020 approaching the financial news data billionaire is again looking at his chances but with one crucial differenceIn 2012 and 2016 Bloomberg considered running as an independent each time he concluded that he could not win and ran the risk of splitting the Democratic vote and helping the Republican candidate to win officeBut in 2020 sources close to the finance mogul have told the Guardian if the now 76yearold candidate does eventually jump into the race he plans to run as a Democrat But after two and now three election cycles in which Bloomberg has teased his interest and poured over polling data there are still questions about his ultimate commitment to a runIn previous flirtations Bloomberg has explained that he dropped the effort to avoid splitting the Democratic vote and risking a Republican presidencyWhen he pulled out from formally entering the 2016 race he wrote on his companys opinion pages that Trump has run the most divisive and demagogic presidential campaign I can remember preying on peoples prejudices and fears Trump he wrote appeals to our worst impulsesNor was he impressed by the other candidates whom he accused of doubling down on dysfunctionAccording to veteran Democratic campaign manager Hank Sheinkopf Bloombergs relevant rivals are not Democratic party political picks likely among them former vice president Joe Biden New York Governor Andrew Cuomo senators Elizabeth Warren of Massachussetts Bernie Sanders of Vermont Cory Booker of New Jersey and Kamala Harris of California But instead Sheinkopf sees the main threat coming from other wealthy business people believed to be toying with presidential runs like businessman and Mark Cuban former Starbucks chairman Howard Schultz and investor and billionaire liberal activist Tom SteyerThere are lots of business people talking about this but Mike Bloomberg is the only one of them who has had success as a candidate and who has extensive experience running campaigns across the United States on issues that matter to him Sheinkopf saidThat alone makes him a much better candidate than any of the business types and hes already shown he can win over the political typesThe cemetery of American political candidates is filled with people who had lots of money but didnt know what they were doing he added In previous cycles Sheinkopf says there were lots of arguments about whether Bloomberg could win as an independent Now the question is can he win as a DemocratOne signal of Bloombergs commitment to 2020 is his engagement with helping Democratic congressional races in Novembers midterm elections an effort that includes spending 80m toward the goal of flipping control of the Republicancontrolled House to DemocratsBloomberg whose fortune is estimated at 51bn has said he is prepared to support candidates in both parties where they align with his positions on bipartisan gun safety environmental and immigration reform measuresThe candidates Bloomberg has backed include Pat Toomey a Pennsylvania Republican who cowrote a bipartisan bill that supported closing a loophole in gun background checks But after almost two years in control of both chambers of Congress he wrote in June on Bloombergcom Republicans had failed to prove they could govern responsiblyAs we approach the 2018 midterms its critical that we elect people who will lead in ways that this Congress wont by upholding the checks and balances that the Founding Fathers set up to safeguard ethics prevent the abuse of power and preserve the rule of lawBut does a centrist like Bloomberg have a chance of uniting a Democratic party that is engaged in a fierce battle between its moderate upper echelons and an activist base that is pushing for a leftward shiftAlexandria OcasioCortez who defines herself as a democratic socialist sent shockwaves through the Democratic party system in June when she defeated incumbent Joseph Crowley a 10term House Democrat in the Bronxs district primaryThe gulf between 28yearold OcasioCortez as a representative of the partys passionate radical wing and Mike Bloomberg a financier billionaire may prove too wideThe question to be asked is can someone run up the centre picking up support from both the left and the right to win the nomination and the general election Thats the question Mike Bloomberg is facing said Sheinkopf'"
      ]
     },
     "execution_count": 37,
     "metadata": {},
     "output_type": "execute_result"
    }
   ],
   "source": [
    "#### CLEANING: removing punctuation, line breaks, double spaces\n",
    "\n",
    "n = random.randint(0, 9)\n",
    "articles[n] # print a random article to inspect.\n",
    "\n",
    "## Typical cleaning up steps:\n",
    "from string import punctuation\n",
    "articles = [art.replace('\\n\\n', '') for art in articles] # remove line breaks\n",
    "articles = [\"\".join([w for w in art if w not in punctuation]) for art in articles] # remove punctuation\n",
    "articles = [\" \".join(art.split()) for art in articles] # remove double spaces by splitting the strings into words and joining these words again\n",
    "articles[n] # print the same article to see whether the changes are in line with what you want\n"
   ]
  },
  {
   "cell_type": "markdown",
   "metadata": {},
   "source": [
    "#### N-grams:\n",
    "\n",
    "- Think about what type of n-grams you want to add to your feature set. Extract and inspect n-grams and/or collocations, and add them to your feature set if you think this is relevant."
   ]
  },
  {
   "cell_type": "code",
   "execution_count": 38,
   "metadata": {},
   "outputs": [
    {
     "name": "stdout",
     "output_type": "stream",
     "text": [
      "San Francisco; StarSpangled Banner; Francisco 49ers\n"
     ]
    }
   ],
   "source": [
    "articles_bigrams = [[\"_\".join(tup) for tup in nltk.ngrams(art.split(),2)] for art in articles] # creates bigrams\n",
    "articles_bigrams[7][:5] # inspect the results...\n",
    "\n",
    "# maybe we want both unigrams and bigrams in the feature set?\n",
    "assert len(articles)==len(articles_bigrams)\n",
    "\n",
    "articles_uniandbigrams = []\n",
    "for a,b in zip([art.split() for art in articles],articles_bigrams):\n",
    "    articles_uniandbigrams.append(a + b)\n",
    "\n",
    "#and let's inspect the outcomes again.\n",
    "articles_uniandbigrams[7]\n",
    "len(articles_uniandbigrams[7]),len(articles_bigrams[7]),len(articles[7].split())\n",
    "\n",
    "\n",
    "#Or, if you want to inspect collocations:\n",
    "text = [nltk.Text(tkn for tkn in art.split()) for art in articles ]\n",
    "text[7].collocations(num=10)\n"
   ]
  },
  {
   "cell_type": "markdown",
   "metadata": {},
   "source": [
    "### 3. Extract entities and other meaningful information (enrich your feature set)\n",
    "\n",
    "Depending on your interests and the nature of the data, you could:\n",
    "\n",
    "- use regular expressions to distinguish relevant from irrelevant texts, or to extract substrings\n",
    "- use NLP techniques such as Named Entity Recognition to extract entities that occur."
   ]
  },
  {
   "cell_type": "markdown",
   "metadata": {},
   "source": [
    "#### pos-tagging:"
   ]
  },
  {
   "cell_type": "code",
   "execution_count": 40,
   "metadata": {},
   "outputs": [
    {
     "name": "stdout",
     "output_type": "stream",
     "text": [
      "[('Formula', 'NN'), ('1', 'CD'), ('has', 'VBZ'), ('returned', 'VBN'), ('this', 'DT'), ('weekend', 'NN'), ('with', 'IN'), ('one', 'CD'), ('big', 'JJ'), ('difference', 'NN'), ('there', 'EX'), ('are', 'VBP'), ('no', 'DT'), ('grid', 'JJ'), ('girlsIn', 'VBZ'), ('the', 'DT'), ('past', 'NN'), ('you', 'PRP'), ('would', 'MD'), ('have', 'VB'), ('seen', 'VBN'), ('the', 'DT'), ('likes', 'NNS'), ('of', 'IN'), ('professional', 'JJ'), ('glamour', 'NN'), ('model', 'NN'), ('Nikki', 'NNP'), ('Lee', 'NNP'), ('on', 'IN'), ('the', 'DT'), ('tracks', 'NNS'), ('ahead', 'RB'), ('of', 'IN'), ('the', 'DT'), ('racesBut', 'NN'), ('following', 'VBG'), ('a', 'DT'), ('backlash', 'NN'), ('in', 'IN'), ('the', 'DT'), ('offseason', 'NN'), ('this', 'DT'), ('will', 'MD'), ('be', 'VB'), ('the', 'DT'), ('first', 'JJ'), ('F1', 'NNP'), ('season', 'NN'), ('in', 'IN'), ('decades', 'NNS'), ('that', 'IN'), ('wont', 'JJ'), ('feature', 'NN'), ('grid', 'JJ'), ('girlsLooks', 'NNS'), ('like', 'IN'), ('Ill', 'NNP'), ('be', 'VB'), ('going', 'VBG'), ('to', 'TO'), ('the', 'DT'), ('job', 'NN'), ('centre', 'NN'), ('now', 'RB'), ('Nikki', 'NNP'), ('told', 'VBD'), ('Newsbeat', 'NNP'), ('when', 'WRB'), ('the', 'DT'), ('ban', 'NN'), ('was', 'VBD'), ('announcedShe', 'VBN'), ('said', 'VBD'), ('F1s', 'NNP'), ('decision', 'NN'), ('to', 'TO'), ('axe', 'VB'), ('grid', 'JJ'), ('girls', 'NNS'), ('has', 'VBZ'), ('put', 'VBN'), ('her', 'PRP$'), ('livelihood', 'NN'), ('on', 'IN'), ('the', 'DT'), ('line', 'NN'), ('and', 'CC'), ('that', 'IN'), ('the', 'DT'), ('work', 'NN'), ('she', 'PRP'), ('does', 'VBZ'), ('is', 'VBZ'), ('dying', 'VBG'), ('outNikki', 'RP'), ('says', 'VBZ'), ('most', 'JJS'), ('of', 'IN'), ('the', 'DT'), ('criticism', 'NN'), ('comes', 'VBZ'), ('from', 'IN'), ('other', 'JJ'), ('womenWhen', 'NN'), ('I', 'PRP'), ('went', 'VBD'), ('to', 'TO'), ('Le', 'NNP'), ('Mans', 'NNPS'), ('car', 'NN'), ('race', 'NN'), ('I', 'PRP'), ('had', 'VBD'), ('beer', 'NN'), ('bottles', 'NNS'), ('pelted', 'VBN'), ('at', 'IN'), ('me', 'PRP'), ('by', 'IN'), ('the', 'DT'), ('wives', 'NNS'), ('and', 'CC'), ('girlfriendsI', 'JJ'), ('dont', 'NN'), ('see', 'VB'), ('where', 'WRB'), ('women', 'NNS'), ('get', 'VBP'), ('off', 'IN'), ('on', 'IN'), ('telling', 'VBG'), ('us', 'PRP'), ('how', 'WRB'), ('to', 'TO'), ('dress', 'VB'), ('I', 'PRP'), ('dont', 'RB'), ('care', 'VBP'), ('what', 'WP'), ('other', 'JJ'), ('people', 'NNS'), ('do', 'VBP'), ('as', 'RB'), ('long', 'RB'), ('as', 'IN'), ('youre', 'NN'), ('not', 'RB'), ('harming', 'VBG'), ('me', 'PRP'), ('she', 'PRP'), ('saysOther', 'VBD'), ('grid', 'JJ'), ('girls', 'NNS'), ('have', 'VBP'), ('also', 'RB'), ('hit', 'VBN'), ('out', 'RP'), ('at', 'IN'), ('the', 'DT'), ('decision', 'NN'), ('to', 'TO'), ('axe', 'VB'), ('their', 'PRP$'), ('professionThe', 'NN'), ('decision', 'NN'), ('to', 'TO'), ('scrap', 'VB'), ('promo', 'JJ'), ('girls', 'NNS'), ('hasnt', 'VBZ'), ('only', 'RB'), ('affected', 'JJ'), ('Formula', 'NNP'), ('1Earlier', 'CD'), ('this', 'DT'), ('year', 'NN'), ('it', 'PRP'), ('was', 'VBD'), ('announced', 'VBN'), ('walkon', 'JJ'), ('girls', 'NNS'), ('would', 'MD'), ('no', 'RB'), ('longer', 'RB'), ('be', 'VB'), ('used', 'VBN'), ('by', 'IN'), ('the', 'DT'), ('Professional', 'NNP'), ('Darts', 'NNP'), ('CorporationSupporters', 'NNP'), ('of', 'IN'), ('the', 'DT'), ('decision', 'NN'), ('say', 'VBP'), ('sports', 'NNS'), ('promo', 'JJ'), ('girls', 'NNS'), ('invite', 'JJ'), ('objectification', 'NN'), ('and', 'CC'), ('reduce', 'VB'), ('womens', 'NNS'), ('visibility', 'NN'), ('in', 'IN'), ('sports', 'NNS'), ('to', 'TO'), ('sideline', 'VB'), ('eye', 'NN'), ('candyBut', 'VBZ'), ('the', 'DT'), ('rebrand', 'NN'), ('by', 'IN'), ('the', 'DT'), ('Professional', 'NNP'), ('Darts', 'NNP'), ('Corporation', 'NNP'), ('and', 'CC'), ('Formula', 'NNP'), ('1s', 'CD'), ('new', 'JJ'), ('owner', 'NN'), ('Liberty', 'NNP'), ('Media', 'NNP'), ('has', 'VBZ'), ('not', 'RB'), ('been', 'VBN'), ('popular', 'JJ'), ('with', 'IN'), ('everyoneGrid', 'JJ'), ('girl', 'NNS'), ('Lucy', 'NNP'), ('Stokes', 'NNP'), ('22', 'CD'), ('questioned', 'VBD'), ('where', 'WRB'), ('the', 'DT'), ('boundary', 'NN'), ('was', 'VBD'), ('between', 'IN'), ('her', 'PRP$'), ('job', 'NN'), ('and', 'CC'), ('high', 'JJ'), ('street', 'NN'), ('modellingEven', 'RB'), ('Marks', 'NNP'), ('Spencer', 'NNP'), ('underwear', 'JJ'), ('models', 'NNS'), ('is', 'VBZ'), ('that', 'IN'), ('going', 'VBG'), ('to', 'TO'), ('be', 'VB'), ('the', 'DT'), ('same', 'JJ'), ('Is', 'VBZ'), ('that', 'IN'), ('considered', 'VBN'), ('demeaningJamie', 'NN'), ('Chadwick', 'NNP'), ('who', 'WP'), ('at', 'IN'), ('17', 'CD'), ('became', 'VBD'), ('the', 'DT'), ('youngest', 'JJS'), ('driver', 'NN'), ('and', 'CC'), ('first', 'JJ'), ('female', 'NN'), ('to', 'TO'), ('win', 'VB'), ('the', 'DT'), ('British', 'JJ'), ('GT', 'NNP'), ('Championship', 'NNP'), ('thinks', 'VBZ'), ('people', 'NNS'), ('focusing', 'VBG'), ('on', 'IN'), ('grid', 'JJ'), ('girls', 'NNS'), ('are', 'VBP'), ('missing', 'VBG'), ('the', 'DT'), ('pointI', 'NN'), ('think', 'VBP'), ('the', 'DT'), ('focus', 'NN'), ('should', 'MD'), ('be', 'VB'), ('on', 'IN'), ('the', 'DT'), ('machines', 'NNS'), ('I', 'PRP'), ('think', 'VBP'), ('basically', 'RB'), ('if', 'IN'), ('youre', 'NN'), ('coming', 'VBG'), ('to', 'TO'), ('look', 'VB'), ('at', 'IN'), ('the', 'DT'), ('grid', 'JJ'), ('girls', 'NNS'), ('then', 'RB'), ('youre', 'NN'), ('at', 'IN'), ('the', 'DT'), ('wrong', 'JJ'), ('sport', 'NN'), ('said', 'VBD'), ('the', 'DT'), ('19yearold', 'CD'), ('F3', 'NNP'), ('racing', 'NN'), ('driverThere', 'EX'), ('are', 'VBP'), ('stereotypes', 'NNS'), ('of', 'IN'), ('the', 'DT'), ('grid', 'JJ'), ('girls', 'NNS'), ('but', 'CC'), ('a', 'DT'), ('lot', 'NN'), ('of', 'IN'), ('them', 'PRP'), ('are', 'VBP'), ('at', 'IN'), ('university', 'NN'), ('they', 'PRP'), ('have', 'VBP'), ('other', 'JJ'), ('jobs', 'NNS'), ('They', 'PRP'), ('are', 'VBP'), ('beautiful', 'JJ'), ('girls', 'NNS'), ('that', 'WDT'), ('are', 'VBP'), ('at', 'IN'), ('work', 'NN'), ('and', 'CC'), ('a', 'DT'), ('lot', 'NN'), ('of', 'IN'), ('them', 'PRP'), ('just', 'RB'), ('really', 'RB'), ('love', 'VB'), ('motorsportsThe', 'NN'), ('ban', 'NN'), ('of', 'IN'), ('grid', 'JJ'), ('girls', 'NNS'), ('and', 'CC'), ('darts', 'NNS'), ('walkon', 'VBP'), ('girls', 'NNS'), ('has', 'VBZ'), ('put', 'VBN'), ('another', 'DT'), ('group', 'NN'), ('of', 'IN'), ('women', 'NNS'), ('boxing', 'VBG'), ('ring', 'VBG'), ('girls', 'NNS'), ('on', 'IN'), ('high', 'JJ'), ('alertFormer', 'NN'), ('ring', 'VBG'), ('girl', 'JJ'), ('Lauren', 'NNP'), ('Frain', 'NNP'), ('employs', 'VBZ'), ('nearly', 'RB'), ('150', 'CD'), ('women', 'NNS'), ('from', 'IN'), ('fulltime', 'JJ'), ('models', 'NNS'), ('to', 'TO'), ('mothers', 'NNS'), ('and', 'CC'), ('students', 'NNS'), ('in', 'IN'), ('Manchester', 'NNP'), ('and', 'CC'), ('London', 'NNP'), ('for', 'IN'), ('promotional', 'JJ'), ('and', 'CC'), ('modelling', 'VBG'), ('workShe', 'JJ'), ('fears', 'NNS'), ('the', 'DT'), ('recent', 'JJ'), ('bans', 'NNS'), ('will', 'MD'), ('kill', 'VB'), ('the', 'DT'), ('industry', 'NN'), ('shes', 'VBZ'), ('spent', 'VBN'), ('her', 'PRP$'), ('life', 'NN'), ('inI', 'NN'), ('dont', 'NN'), ('comprehend', 'VBP'), ('the', 'DT'), ('difference', 'NN'), ('between', 'IN'), ('modelling', 'VBG'), ('and', 'CC'), ('promotional', 'JJ'), ('modelling', 'NN'), ('she', 'PRP'), ('saidIn', 'VBD'), ('all', 'DT'), ('my', 'PRP$'), ('years', 'NNS'), ('I', 'PRP'), ('have', 'VBP'), ('been', 'VBN'), ('doing', 'VBG'), ('this', 'DT'), ('Ive', 'NNP'), ('had', 'VBD'), ('more', 'RBR'), ('grief', 'JJ'), ('and', 'CC'), ('harassment', 'NN'), ('in', 'IN'), ('Tesco', 'NNP'), ('or', 'CC'), ('a', 'DT'), ('man', 'NN'), ('driving', 'VBG'), ('down', 'RP'), ('the', 'DT'), ('road', 'NN'), ('in', 'IN'), ('a', 'DT'), ('white', 'JJ'), ('van', 'NN'), ('that', 'WDT'), ('pulls', 'VBZ'), ('upListen', 'JJ'), ('to', 'TO'), ('Newsbeat', 'NNP'), ('live', 'NN'), ('at', 'IN'), ('1245', 'CD'), ('and', 'CC'), ('1745', 'CD'), ('every', 'DT'), ('weekday', 'NN'), ('on', 'IN'), ('BBC', 'NNP'), ('Radio', 'NNP'), ('1', 'CD'), ('and', 'CC'), ('1Xtra', 'CD'), ('if', 'IN'), ('you', 'PRP'), ('miss', 'VBP'), ('us', 'PRP'), ('you', 'PRP'), ('can', 'MD'), ('listen', 'VB'), ('back', 'RB'), ('here', 'RB')]\n"
     ]
    }
   ],
   "source": [
    "#tokenize and POS-tag with NLTK:\n",
    "tokens = [nltk.word_tokenize(sentence) for sentence in articles]\n",
    "tagged = [nltk.pos_tag(sentence) for sentence in tokens]\n",
    "print(tagged[0]) # inspect the first article's POS tags"
   ]
  },
  {
   "cell_type": "markdown",
   "metadata": {},
   "source": [
    "#### entity detection:"
   ]
  },
  {
   "cell_type": "code",
   "execution_count": null,
   "metadata": {},
   "outputs": [],
   "source": [
    "#detect named entities with Spacy:\n",
    "nlp = spacy.load('en_core_web_sm')\n",
    "\n",
    "#let's get the named entities:\n",
    "doc = [nlp(sentence) for sentence in articles]\n",
    "for i in doc:\n",
    "    for ent in i.ents:\n",
    "        if ent.label_ == 'PERSON':\n",
    "            print(ent.text, ent.label_ )"
   ]
  },
  {
   "cell_type": "markdown",
   "metadata": {},
   "source": [
    "### 4. Create your own pre-processing and feature extraction pipeline:\n",
    "\n",
    "Combine the methods above to produce a list of preprocessed texts (features) for your classification model."
   ]
  },
  {
   "cell_type": "code",
   "execution_count": 3,
   "metadata": {},
   "outputs": [],
   "source": [
    "import re #for regular expressions\n",
    "import nltk #for nlp (here: tokenization)\n",
    "from nltk.corpus import stopwords #for stopwords\n",
    "from nltk.stem import WordNetLemmatizer #for lemmatization\n",
    "\n",
    "def preprocess_text(texts, custom_stopwords=None):\n",
    "    #NOTE: better lemmatizer that uses the WordNet lexical database.\n",
    "    #NOTE: you can even pass it POS tags to improve the lemmatization (not done here).\n",
    "    lemmatizer = WordNetLemmatizer() \n",
    "    #get the default stopwords from NLTK (en).\n",
    "    stop_words = set(stopwords.words('english'))\n",
    "    \n",
    "    #add custom stopwords if provided\n",
    "    if custom_stopwords:\n",
    "        stop_words.update(custom_stopwords)\n",
    "    \n",
    "    #instantiate an empty list for processed texts\n",
    "    processed_texts = []\n",
    "\n",
    "    #interate over the texts\n",
    "    for text in texts:\n",
    "        try:\n",
    "            #lowercase\n",
    "            text = text.lower()\n",
    "\n",
    "            #tokenize with NLTK tokenizer\n",
    "            tokens = nltk.word_tokenize(text)\n",
    "            \n",
    "            #remove non-alphabetic characters from tokens\n",
    "            tokens = [re.sub(r'[^a-z\\s]', '', token) for token in tokens]\n",
    "            \n",
    "            #combined stopwords removal and lemmatization\n",
    "            tokens = [lemmatizer.lemmatize(word) for word in tokens if word not in stop_words]\n",
    "            \n",
    "            #join tokens back to string=\n",
    "            processed_text = ' '.join(tokens)\n",
    "\n",
    "            #remove any double spaces that remain:\n",
    "            processed_text = re.sub(r'\\s+', ' ', processed_text).strip()\n",
    "            \n",
    "            #append processed text to output list:\n",
    "            processed_texts.append(processed_text)\n",
    "        \n",
    "        except Exception as e: #raise error if smth goes wrong: \n",
    "            print(f\"Error processing text: {text}. Error: {e}\")\n",
    "            processed_texts.append(\"\")\n",
    "    \n",
    "    return processed_texts"
   ]
  },
  {
   "cell_type": "code",
   "execution_count": 6,
   "metadata": {},
   "outputs": [],
   "source": [
    "#execute the function:\n",
    "processed_articles = preprocess_text(articles)"
   ]
  },
  {
   "cell_type": "markdown",
   "metadata": {},
   "source": [
    "### 5. Train a supervised classifier\n",
    "\n",
    "Use your code from yesterday's assignment to train a classifier. \n",
    "\n",
    "Perform the same classification task, but this time carefully consider which feature set you want to use.\n",
    "\n",
    "Reflect on the options listed above, and extract features that you think are relevant to include. \n",
    "\n",
    "Carefully consider **pre-processing steps**: what type of features will you feed your algorithm? Do you, for example, want to manually remove stopwords, or include ngrams? \n",
    "\n",
    "Use these features as input for your classifier, and investigate the effects hereof on performance of the classifier. \n",
    "\n",
    "Not that the purpose is not to build the perfect classifier, but to inspect the effects of different feature engineering decisions on the outcomes of your classification algorithm."
   ]
  },
  {
   "cell_type": "code",
   "execution_count": 7,
   "metadata": {},
   "outputs": [
    {
     "name": "stdout",
     "output_type": "stream",
     "text": [
      "Accuracy : 0.8258333333333333\n",
      "              precision    recall  f1-score   support\n",
      "\n",
      "         BBC       0.92      0.87      0.90       410\n",
      "    Infowars       0.93      0.65      0.76       381\n",
      "The Guardian       0.71      0.94      0.81       409\n",
      "\n",
      "    accuracy                           0.83      1200\n",
      "   macro avg       0.85      0.82      0.82      1200\n",
      "weighted avg       0.85      0.83      0.82      1200\n",
      "\n"
     ]
    }
   ],
   "source": [
    "# let's split the data:\n",
    "from sklearn.model_selection import train_test_split\n",
    "X_train,X_test,y_train,y_test=train_test_split(processed_articles, labels, test_size=0.2)    # 80% training and 20% testing\n",
    "\n",
    "#let's vectorize the data:\n",
    "from sklearn.feature_extraction.text import CountVectorizer, TfidfVectorizer\n",
    "myvectorizer= CountVectorizer(stop_words=None) # you can further modify this yourself.\n",
    "#myvectorizer= TfidfVectorizer(stop_words=None) # you can further modify this yourself.\n",
    "\n",
    "#Fit the vectorizer, and transform.\n",
    "X_features_train = myvectorizer.fit_transform(X_train)\n",
    "X_features_test = myvectorizer.transform(X_test)\n",
    "\n",
    "#let's train a model:\n",
    "from sklearn.naive_bayes import MultinomialNB\n",
    "from sklearn.metrics import accuracy_score\n",
    "from sklearn.metrics import classification_report\n",
    "\n",
    "model = MultinomialNB()\n",
    "model.fit(X_features_train, y_train)\n",
    "y_pred = model.predict(X_features_test)\n",
    "\n",
    "print(f\"Accuracy : {accuracy_score(y_test, y_pred)}\")\n",
    "print(classification_report(y_test, y_pred))"
   ]
  }
 ],
 "metadata": {
  "kernelspec": {
   "display_name": "gesis_iml",
   "language": "python",
   "name": "python3"
  },
  "language_info": {
   "codemirror_mode": {
    "name": "ipython",
    "version": 3
   },
   "file_extension": ".py",
   "mimetype": "text/x-python",
   "name": "python",
   "nbconvert_exporter": "python",
   "pygments_lexer": "ipython3",
   "version": "3.10.14"
  }
 },
 "nbformat": 4,
 "nbformat_minor": 2
}
