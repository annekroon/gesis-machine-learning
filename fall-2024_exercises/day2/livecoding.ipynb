{
 "cells": [
  {
   "cell_type": "code",
   "execution_count": 2,
   "metadata": {},
   "outputs": [
    {
     "name": "stdout",
     "output_type": "stream",
     "text": [
      "hjrkhjkrhj\n"
     ]
    }
   ],
   "source": [
    "l = ['This is a test ejykrehjr4 ', 'rhjrkhjkrhj']\n",
    "print(l[1][-10:])"
   ]
  },
  {
   "cell_type": "code",
   "execution_count": 3,
   "metadata": {},
   "outputs": [
    {
     "name": "stdout",
     "output_type": "stream",
     "text": [
      "he said 'hi' to her\n"
     ]
    }
   ],
   "source": [
    "print(\"he said 'hi' to her\")"
   ]
  },
  {
   "cell_type": "code",
   "execution_count": 4,
   "metadata": {},
   "outputs": [
    {
     "name": "stdout",
     "output_type": "stream",
     "text": [
      "he said \"hi\" to her\n"
     ]
    }
   ],
   "source": [
    "print('he said \"hi\" to her')"
   ]
  },
  {
   "cell_type": "code",
   "execution_count": 5,
   "metadata": {},
   "outputs": [
    {
     "name": "stdout",
     "output_type": "stream",
     "text": [
      "he said \"hi\" to her\n"
     ]
    }
   ],
   "source": [
    "print(\"he said \\\"hi\\\" to her\")"
   ]
  },
  {
   "cell_type": "code",
   "execution_count": 7,
   "metadata": {},
   "outputs": [
    {
     "name": "stdout",
     "output_type": "stream",
     "text": [
      "he likes backslashes\\\n"
     ]
    }
   ],
   "source": [
    "print(\"he likes backslashes\\\\\")"
   ]
  },
  {
   "cell_type": "code",
   "execution_count": 9,
   "metadata": {},
   "outputs": [
    {
     "name": "stdout",
     "output_type": "stream",
     "text": [
      "he likes backslashes\\n\\n\n"
     ]
    }
   ],
   "source": [
    "print(\"he likes backslashes\\\\n\\\\n\")"
   ]
  },
  {
   "cell_type": "code",
   "execution_count": 10,
   "metadata": {},
   "outputs": [],
   "source": [
    "import re\n"
   ]
  },
  {
   "cell_type": "code",
   "execution_count": 15,
   "metadata": {},
   "outputs": [
    {
     "ename": "error",
     "evalue": "bad escape (end of pattern) at position 0",
     "output_type": "error",
     "traceback": [
      "\u001b[0;31m---------------------------------------------------------------------------\u001b[0m",
      "\u001b[0;31merror\u001b[0m                                     Traceback (most recent call last)",
      "\u001b[0;32m<ipython-input-15-a167630c6957>\u001b[0m in \u001b[0;36m<module>\u001b[0;34m\u001b[0m\n\u001b[1;32m      1\u001b[0m \u001b[0mtest\u001b[0m \u001b[0;34m=\u001b[0m \u001b[0;34m\"Hi this is a dot\\\\ a dot.\"\u001b[0m\u001b[0;34m\u001b[0m\u001b[0;34m\u001b[0m\u001b[0m\n\u001b[0;32m----> 2\u001b[0;31m \u001b[0mre\u001b[0m\u001b[0;34m.\u001b[0m\u001b[0mfindall\u001b[0m\u001b[0;34m(\u001b[0m\u001b[0;34m\"\\\\\"\u001b[0m\u001b[0;34m,\u001b[0m \u001b[0mtest\u001b[0m\u001b[0;34m)\u001b[0m\u001b[0;34m\u001b[0m\u001b[0;34m\u001b[0m\u001b[0m\n\u001b[0m",
      "\u001b[0;32m/usr/lib/python3.8/re.py\u001b[0m in \u001b[0;36mfindall\u001b[0;34m(pattern, string, flags)\u001b[0m\n\u001b[1;32m    239\u001b[0m \u001b[0;34m\u001b[0m\u001b[0m\n\u001b[1;32m    240\u001b[0m     Empty matches are included in the result.\"\"\"\n\u001b[0;32m--> 241\u001b[0;31m     \u001b[0;32mreturn\u001b[0m \u001b[0m_compile\u001b[0m\u001b[0;34m(\u001b[0m\u001b[0mpattern\u001b[0m\u001b[0;34m,\u001b[0m \u001b[0mflags\u001b[0m\u001b[0;34m)\u001b[0m\u001b[0;34m.\u001b[0m\u001b[0mfindall\u001b[0m\u001b[0;34m(\u001b[0m\u001b[0mstring\u001b[0m\u001b[0;34m)\u001b[0m\u001b[0;34m\u001b[0m\u001b[0;34m\u001b[0m\u001b[0m\n\u001b[0m\u001b[1;32m    242\u001b[0m \u001b[0;34m\u001b[0m\u001b[0m\n\u001b[1;32m    243\u001b[0m \u001b[0;32mdef\u001b[0m \u001b[0mfinditer\u001b[0m\u001b[0;34m(\u001b[0m\u001b[0mpattern\u001b[0m\u001b[0;34m,\u001b[0m \u001b[0mstring\u001b[0m\u001b[0;34m,\u001b[0m \u001b[0mflags\u001b[0m\u001b[0;34m=\u001b[0m\u001b[0;36m0\u001b[0m\u001b[0;34m)\u001b[0m\u001b[0;34m:\u001b[0m\u001b[0;34m\u001b[0m\u001b[0;34m\u001b[0m\u001b[0m\n",
      "\u001b[0;32m/usr/lib/python3.8/re.py\u001b[0m in \u001b[0;36m_compile\u001b[0;34m(pattern, flags)\u001b[0m\n\u001b[1;32m    302\u001b[0m     \u001b[0;32mif\u001b[0m \u001b[0;32mnot\u001b[0m \u001b[0msre_compile\u001b[0m\u001b[0;34m.\u001b[0m\u001b[0misstring\u001b[0m\u001b[0;34m(\u001b[0m\u001b[0mpattern\u001b[0m\u001b[0;34m)\u001b[0m\u001b[0;34m:\u001b[0m\u001b[0;34m\u001b[0m\u001b[0;34m\u001b[0m\u001b[0m\n\u001b[1;32m    303\u001b[0m         \u001b[0;32mraise\u001b[0m \u001b[0mTypeError\u001b[0m\u001b[0;34m(\u001b[0m\u001b[0;34m\"first argument must be string or compiled pattern\"\u001b[0m\u001b[0;34m)\u001b[0m\u001b[0;34m\u001b[0m\u001b[0;34m\u001b[0m\u001b[0m\n\u001b[0;32m--> 304\u001b[0;31m     \u001b[0mp\u001b[0m \u001b[0;34m=\u001b[0m \u001b[0msre_compile\u001b[0m\u001b[0;34m.\u001b[0m\u001b[0mcompile\u001b[0m\u001b[0;34m(\u001b[0m\u001b[0mpattern\u001b[0m\u001b[0;34m,\u001b[0m \u001b[0mflags\u001b[0m\u001b[0;34m)\u001b[0m\u001b[0;34m\u001b[0m\u001b[0;34m\u001b[0m\u001b[0m\n\u001b[0m\u001b[1;32m    305\u001b[0m     \u001b[0;32mif\u001b[0m \u001b[0;32mnot\u001b[0m \u001b[0;34m(\u001b[0m\u001b[0mflags\u001b[0m \u001b[0;34m&\u001b[0m \u001b[0mDEBUG\u001b[0m\u001b[0;34m)\u001b[0m\u001b[0;34m:\u001b[0m\u001b[0;34m\u001b[0m\u001b[0;34m\u001b[0m\u001b[0m\n\u001b[1;32m    306\u001b[0m         \u001b[0;32mif\u001b[0m \u001b[0mlen\u001b[0m\u001b[0;34m(\u001b[0m\u001b[0m_cache\u001b[0m\u001b[0;34m)\u001b[0m \u001b[0;34m>=\u001b[0m \u001b[0m_MAXCACHE\u001b[0m\u001b[0;34m:\u001b[0m\u001b[0;34m\u001b[0m\u001b[0;34m\u001b[0m\u001b[0m\n",
      "\u001b[0;32m/usr/lib/python3.8/sre_compile.py\u001b[0m in \u001b[0;36mcompile\u001b[0;34m(p, flags)\u001b[0m\n\u001b[1;32m    762\u001b[0m     \u001b[0;32mif\u001b[0m \u001b[0misstring\u001b[0m\u001b[0;34m(\u001b[0m\u001b[0mp\u001b[0m\u001b[0;34m)\u001b[0m\u001b[0;34m:\u001b[0m\u001b[0;34m\u001b[0m\u001b[0;34m\u001b[0m\u001b[0m\n\u001b[1;32m    763\u001b[0m         \u001b[0mpattern\u001b[0m \u001b[0;34m=\u001b[0m \u001b[0mp\u001b[0m\u001b[0;34m\u001b[0m\u001b[0;34m\u001b[0m\u001b[0m\n\u001b[0;32m--> 764\u001b[0;31m         \u001b[0mp\u001b[0m \u001b[0;34m=\u001b[0m \u001b[0msre_parse\u001b[0m\u001b[0;34m.\u001b[0m\u001b[0mparse\u001b[0m\u001b[0;34m(\u001b[0m\u001b[0mp\u001b[0m\u001b[0;34m,\u001b[0m \u001b[0mflags\u001b[0m\u001b[0;34m)\u001b[0m\u001b[0;34m\u001b[0m\u001b[0;34m\u001b[0m\u001b[0m\n\u001b[0m\u001b[1;32m    765\u001b[0m     \u001b[0;32melse\u001b[0m\u001b[0;34m:\u001b[0m\u001b[0;34m\u001b[0m\u001b[0;34m\u001b[0m\u001b[0m\n\u001b[1;32m    766\u001b[0m         \u001b[0mpattern\u001b[0m \u001b[0;34m=\u001b[0m \u001b[0;32mNone\u001b[0m\u001b[0;34m\u001b[0m\u001b[0;34m\u001b[0m\u001b[0m\n",
      "\u001b[0;32m/usr/lib/python3.8/sre_parse.py\u001b[0m in \u001b[0;36mparse\u001b[0;34m(str, flags, state)\u001b[0m\n\u001b[1;32m    938\u001b[0m     \u001b[0;31m# parse 're' pattern into list of (opcode, argument) tuples\u001b[0m\u001b[0;34m\u001b[0m\u001b[0;34m\u001b[0m\u001b[0;34m\u001b[0m\u001b[0m\n\u001b[1;32m    939\u001b[0m \u001b[0;34m\u001b[0m\u001b[0m\n\u001b[0;32m--> 940\u001b[0;31m     \u001b[0msource\u001b[0m \u001b[0;34m=\u001b[0m \u001b[0mTokenizer\u001b[0m\u001b[0;34m(\u001b[0m\u001b[0mstr\u001b[0m\u001b[0;34m)\u001b[0m\u001b[0;34m\u001b[0m\u001b[0;34m\u001b[0m\u001b[0m\n\u001b[0m\u001b[1;32m    941\u001b[0m \u001b[0;34m\u001b[0m\u001b[0m\n\u001b[1;32m    942\u001b[0m     \u001b[0;32mif\u001b[0m \u001b[0mstate\u001b[0m \u001b[0;32mis\u001b[0m \u001b[0;32mNone\u001b[0m\u001b[0;34m:\u001b[0m\u001b[0;34m\u001b[0m\u001b[0;34m\u001b[0m\u001b[0m\n",
      "\u001b[0;32m/usr/lib/python3.8/sre_parse.py\u001b[0m in \u001b[0;36m__init__\u001b[0;34m(self, string)\u001b[0m\n\u001b[1;32m    230\u001b[0m         \u001b[0mself\u001b[0m\u001b[0;34m.\u001b[0m\u001b[0mindex\u001b[0m \u001b[0;34m=\u001b[0m \u001b[0;36m0\u001b[0m\u001b[0;34m\u001b[0m\u001b[0;34m\u001b[0m\u001b[0m\n\u001b[1;32m    231\u001b[0m         \u001b[0mself\u001b[0m\u001b[0;34m.\u001b[0m\u001b[0mnext\u001b[0m \u001b[0;34m=\u001b[0m \u001b[0;32mNone\u001b[0m\u001b[0;34m\u001b[0m\u001b[0;34m\u001b[0m\u001b[0m\n\u001b[0;32m--> 232\u001b[0;31m         \u001b[0mself\u001b[0m\u001b[0;34m.\u001b[0m\u001b[0m__next\u001b[0m\u001b[0;34m(\u001b[0m\u001b[0;34m)\u001b[0m\u001b[0;34m\u001b[0m\u001b[0;34m\u001b[0m\u001b[0m\n\u001b[0m\u001b[1;32m    233\u001b[0m     \u001b[0;32mdef\u001b[0m \u001b[0m__next\u001b[0m\u001b[0;34m(\u001b[0m\u001b[0mself\u001b[0m\u001b[0;34m)\u001b[0m\u001b[0;34m:\u001b[0m\u001b[0;34m\u001b[0m\u001b[0;34m\u001b[0m\u001b[0m\n\u001b[1;32m    234\u001b[0m         \u001b[0mindex\u001b[0m \u001b[0;34m=\u001b[0m \u001b[0mself\u001b[0m\u001b[0;34m.\u001b[0m\u001b[0mindex\u001b[0m\u001b[0;34m\u001b[0m\u001b[0;34m\u001b[0m\u001b[0m\n",
      "\u001b[0;32m/usr/lib/python3.8/sre_parse.py\u001b[0m in \u001b[0;36m__next\u001b[0;34m(self)\u001b[0m\n\u001b[1;32m    243\u001b[0m                 \u001b[0mchar\u001b[0m \u001b[0;34m+=\u001b[0m \u001b[0mself\u001b[0m\u001b[0;34m.\u001b[0m\u001b[0mdecoded_string\u001b[0m\u001b[0;34m[\u001b[0m\u001b[0mindex\u001b[0m\u001b[0;34m]\u001b[0m\u001b[0;34m\u001b[0m\u001b[0;34m\u001b[0m\u001b[0m\n\u001b[1;32m    244\u001b[0m             \u001b[0;32mexcept\u001b[0m \u001b[0mIndexError\u001b[0m\u001b[0;34m:\u001b[0m\u001b[0;34m\u001b[0m\u001b[0;34m\u001b[0m\u001b[0m\n\u001b[0;32m--> 245\u001b[0;31m                 raise error(\"bad escape (end of pattern)\",\n\u001b[0m\u001b[1;32m    246\u001b[0m                             self.string, len(self.string) - 1) from None\n\u001b[1;32m    247\u001b[0m         \u001b[0mself\u001b[0m\u001b[0;34m.\u001b[0m\u001b[0mindex\u001b[0m \u001b[0;34m=\u001b[0m \u001b[0mindex\u001b[0m \u001b[0;34m+\u001b[0m \u001b[0;36m1\u001b[0m\u001b[0;34m\u001b[0m\u001b[0;34m\u001b[0m\u001b[0m\n",
      "\u001b[0;31merror\u001b[0m: bad escape (end of pattern) at position 0"
     ]
    }
   ],
   "source": [
    "test = \"Hi this is a dot\\\\ a dot.\"\n",
    "re.findall(r\"\\w\", test)\n",
    "re.findall(r\"\\p{PUNCTUATION}\", test)"
   ]
  },
  {
   "cell_type": "code",
   "execution_count": null,
   "metadata": {},
   "outputs": [],
   "source": [
    "re.findall(\"\\.\", test)"
   ]
  },
  {
   "cell_type": "code",
   "execution_count": 19,
   "metadata": {},
   "outputs": [],
   "source": [
    "from tqdm import tqdm\n",
    "from time import sleep\n",
    "from random import randint"
   ]
  },
  {
   "cell_type": "code",
   "execution_count": 21,
   "metadata": {},
   "outputs": [],
   "source": [
    "def slow_function(x):\n",
    "    sleep(randint(1,3))\n",
    "    return x"
   ]
  },
  {
   "cell_type": "code",
   "execution_count": 27,
   "metadata": {},
   "outputs": [
    {
     "name": "stderr",
     "output_type": "stream",
     "text": [
      "\n",
      "\n",
      "  0%|          | 0/100 [00:00<?, ?it/s]\u001b[A\u001b[A\n",
      "\n",
      "  1%|          | 1/100 [00:03<04:57,  3.00s/it]\u001b[A\u001b[A\n",
      "\n",
      "  2%|▏         | 2/100 [00:04<03:55,  2.40s/it]\u001b[A\u001b[A\n",
      "\n",
      "  3%|▎         | 3/100 [00:07<04:10,  2.58s/it]\u001b[A\u001b[A\n",
      "\n",
      "  4%|▍         | 4/100 [00:10<04:20,  2.71s/it]\u001b[A\u001b[A\n",
      "\n",
      "  5%|▌         | 5/100 [00:12<03:57,  2.50s/it]\u001b[A\u001b[A\n",
      "\n",
      "  6%|▌         | 6/100 [00:15<04:09,  2.65s/it]\u001b[A\u001b[A\n",
      "\n",
      "  7%|▋         | 7/100 [00:17<03:48,  2.46s/it]\u001b[A\u001b[A\n",
      "\n",
      "  8%|▊         | 8/100 [00:19<03:33,  2.32s/it]\u001b[A\u001b[A\n",
      "\n",
      "  9%|▉         | 9/100 [00:22<03:49,  2.53s/it]\u001b[A\u001b[A\n",
      "\n",
      " 10%|█         | 10/100 [00:24<03:33,  2.37s/it]\u001b[A\u001b[A\n",
      "\n",
      " 11%|█         | 11/100 [00:25<02:54,  1.96s/it]\u001b[A\u001b[A\n",
      "\n",
      " 12%|█▏        | 12/100 [00:27<02:53,  1.97s/it]\u001b[A\u001b[A\n",
      "\n",
      " 13%|█▎        | 13/100 [00:29<02:52,  1.98s/it]\u001b[A\u001b[A\n",
      "\n",
      " 14%|█▍        | 14/100 [00:31<02:51,  1.99s/it]\u001b[A\u001b[A\n",
      "\n",
      " 15%|█▌        | 15/100 [00:33<02:49,  2.00s/it]\u001b[A\u001b[A\n",
      "\n",
      " 16%|█▌        | 16/100 [00:34<02:22,  1.70s/it]\u001b[A\u001b[A\n",
      "\n",
      " 17%|█▋        | 17/100 [00:35<02:03,  1.49s/it]\u001b[A\u001b[A\n",
      "\n",
      " 18%|█▊        | 18/100 [00:36<01:50,  1.34s/it]\u001b[A\u001b[A\n",
      "\n",
      " 19%|█▉        | 19/100 [00:39<02:29,  1.84s/it]\u001b[A\u001b[A\n",
      "\n",
      " 20%|██        | 20/100 [00:41<02:31,  1.89s/it]\u001b[A\u001b[A\n",
      "\n",
      " 21%|██        | 21/100 [00:42<02:08,  1.63s/it]\u001b[A\u001b[A\n",
      "\n",
      " 22%|██▏       | 22/100 [00:45<02:39,  2.04s/it]\u001b[A\u001b[A\n",
      "\n",
      " 23%|██▎       | 23/100 [00:46<02:13,  1.73s/it]\u001b[A\u001b[A\n",
      "\n",
      " 24%|██▍       | 24/100 [00:49<02:40,  2.11s/it]\u001b[A\u001b[A\n",
      "\n",
      " 25%|██▌       | 25/100 [00:51<02:35,  2.08s/it]\u001b[A\u001b[A\n",
      "\n",
      " 26%|██▌       | 26/100 [00:53<02:32,  2.06s/it]\u001b[A\u001b[A\n",
      "\n",
      " 27%|██▋       | 27/100 [00:54<02:07,  1.74s/it]\u001b[A\u001b[A\n",
      "\n",
      " 28%|██▊       | 28/100 [00:57<02:32,  2.12s/it]\u001b[A\u001b[A\n",
      "\n",
      " 29%|██▉       | 29/100 [00:59<02:28,  2.09s/it]\u001b[A\u001b[A\n",
      "\n",
      " 30%|███       | 30/100 [01:02<02:45,  2.36s/it]\u001b[A\u001b[A\n",
      "\n",
      " 31%|███       | 31/100 [01:04<02:35,  2.25s/it]\u001b[A\u001b[A\n",
      "\n",
      " 32%|███▏      | 32/100 [01:05<02:07,  1.88s/it]\u001b[A\u001b[A\n",
      "\n",
      " 33%|███▎      | 33/100 [01:07<02:08,  1.92s/it]\u001b[A\u001b[A\n",
      "\n",
      " 34%|███▍      | 34/100 [01:09<02:08,  1.94s/it]\u001b[A\u001b[A\n",
      "\n",
      " 35%|███▌      | 35/100 [01:12<02:27,  2.26s/it]\u001b[A\u001b[A\n",
      "\n",
      " 36%|███▌      | 36/100 [01:15<02:39,  2.48s/it]\u001b[A\u001b[A\n",
      "\n",
      " 37%|███▋      | 37/100 [01:18<02:46,  2.64s/it]\u001b[A\u001b[A\n",
      "\n",
      " 38%|███▊      | 38/100 [01:21<02:50,  2.75s/it]\u001b[A\u001b[A\n",
      "\n",
      " 39%|███▉      | 39/100 [01:22<02:15,  2.23s/it]\u001b[A\u001b[A\n",
      "\n",
      " 40%|████      | 40/100 [01:24<02:09,  2.16s/it]\u001b[A\u001b[A\n",
      "\n",
      " 41%|████      | 41/100 [01:25<01:46,  1.81s/it]\u001b[A\u001b[A\n",
      "\n",
      " 42%|████▏     | 42/100 [01:26<01:31,  1.57s/it]\u001b[A\u001b[A\n",
      "\n",
      " 43%|████▎     | 43/100 [01:29<01:54,  2.00s/it]\u001b[A\u001b[A\n",
      "\n",
      " 44%|████▍     | 44/100 [01:30<01:35,  1.70s/it]\u001b[A\u001b[A\n",
      "\n",
      " 45%|████▌     | 45/100 [01:31<01:22,  1.49s/it]\u001b[A\u001b[A\n",
      "\n",
      " 46%|████▌     | 46/100 [01:34<01:45,  1.95s/it]\u001b[A\u001b[A\n",
      "\n",
      " 47%|████▋     | 47/100 [01:35<01:28,  1.66s/it]\u001b[A\u001b[A\n",
      "\n",
      " 48%|████▊     | 48/100 [01:37<01:31,  1.77s/it]\u001b[A\u001b[A\n",
      "\n",
      " 49%|████▉     | 49/100 [01:40<01:48,  2.14s/it]\u001b[A\u001b[A\n",
      "\n",
      " 50%|█████     | 50/100 [01:42<01:44,  2.10s/it]\u001b[A\u001b[A\n",
      "\n",
      " 51%|█████     | 51/100 [01:43<01:26,  1.77s/it]\u001b[A\u001b[A\n",
      "\n",
      " 52%|█████▏    | 52/100 [01:46<01:42,  2.14s/it]\u001b[A\u001b[A\n",
      "\n",
      " 53%|█████▎    | 53/100 [01:49<01:52,  2.40s/it]\u001b[A\u001b[A\n",
      "\n",
      " 54%|█████▍    | 54/100 [01:51<01:44,  2.28s/it]\u001b[A\u001b[A\n",
      "\n",
      " 55%|█████▌    | 55/100 [01:54<01:52,  2.50s/it]\u001b[A\u001b[A\n",
      "\n",
      " 56%|█████▌    | 56/100 [01:57<01:56,  2.65s/it]\u001b[A\u001b[A\n",
      "\n",
      " 57%|█████▋    | 57/100 [01:59<01:45,  2.46s/it]\u001b[A\u001b[A\n",
      "\n",
      " 58%|█████▊    | 58/100 [02:01<01:37,  2.32s/it]\u001b[A\u001b[A\n",
      "\n",
      " 59%|█████▉    | 59/100 [02:03<01:31,  2.23s/it]\u001b[A\u001b[A\n",
      "\n",
      " 60%|██████    | 60/100 [02:05<01:26,  2.16s/it]\u001b[A\u001b[A\n",
      "\n",
      " 61%|██████    | 61/100 [02:06<01:10,  1.81s/it]\u001b[A\u001b[A\n",
      "\n",
      " 62%|██████▏   | 62/100 [02:07<00:59,  1.57s/it]\u001b[A\u001b[A\n",
      "\n",
      " 63%|██████▎   | 63/100 [02:09<01:02,  1.70s/it]\u001b[A\u001b[A\n",
      "\n",
      " 64%|██████▍   | 64/100 [02:11<01:04,  1.79s/it]\u001b[A\u001b[A\n",
      "\n",
      " 65%|██████▌   | 65/100 [02:13<01:04,  1.86s/it]\u001b[A\u001b[A\n",
      "\n",
      " 66%|██████▌   | 66/100 [02:16<01:14,  2.20s/it]\u001b[A\u001b[A\n",
      "\n",
      " 67%|██████▋   | 67/100 [02:18<01:10,  2.14s/it]\u001b[A\u001b[A\n",
      "\n",
      " 68%|██████▊   | 68/100 [02:21<01:16,  2.40s/it]\u001b[A\u001b[A\n",
      "\n",
      " 69%|██████▉   | 69/100 [02:23<01:10,  2.28s/it]\u001b[A\u001b[A\n",
      "\n",
      " 70%|███████   | 70/100 [02:25<01:05,  2.20s/it]\u001b[A\u001b[A\n",
      "\n",
      " 71%|███████   | 71/100 [02:27<01:02,  2.14s/it]\u001b[A\u001b[A\n",
      "\n",
      " 72%|███████▏  | 72/100 [02:30<01:07,  2.40s/it]\u001b[A\u001b[A\n",
      "\n",
      " 73%|███████▎  | 73/100 [02:32<01:01,  2.28s/it]\u001b[A\u001b[A\n",
      "\n",
      " 74%|███████▍  | 74/100 [02:34<00:57,  2.20s/it]\u001b[A\u001b[A\n",
      "\n",
      " 75%|███████▌  | 75/100 [02:36<00:53,  2.14s/it]\u001b[A\u001b[A\n",
      "\n",
      " 76%|███████▌  | 76/100 [02:39<00:57,  2.40s/it]\u001b[A\u001b[A\n",
      "\n",
      " 77%|███████▋  | 77/100 [02:40<00:45,  1.98s/it]\u001b[A\u001b[A\n",
      "\n",
      " 78%|███████▊  | 78/100 [02:41<00:37,  1.69s/it]\u001b[A\u001b[A\n",
      "\n",
      " 79%|███████▉  | 79/100 [02:42<00:31,  1.48s/it]\u001b[A\u001b[A\n",
      "\n",
      " 80%|████████  | 80/100 [02:43<00:26,  1.34s/it]\u001b[A\u001b[A\n",
      "\n",
      " 81%|████████  | 81/100 [02:46<00:34,  1.84s/it]\u001b[A\u001b[A\n",
      "\n",
      " 82%|████████▏ | 82/100 [02:48<00:33,  1.89s/it]\u001b[A\u001b[A\n",
      "\n",
      " 83%|████████▎ | 83/100 [02:51<00:37,  2.22s/it]\u001b[A\u001b[A\n",
      "\n",
      " 84%|████████▍ | 84/100 [02:53<00:34,  2.16s/it]\u001b[A\u001b[A\n",
      "\n",
      " 85%|████████▌ | 85/100 [02:54<00:27,  1.81s/it]\u001b[A\u001b[A\n",
      "\n",
      " 86%|████████▌ | 86/100 [02:55<00:21,  1.57s/it]\u001b[A\u001b[A\n",
      "\n",
      " 87%|████████▋ | 87/100 [02:56<00:18,  1.40s/it]\u001b[A\u001b[A\n",
      "\n",
      " 88%|████████▊ | 88/100 [02:59<00:22,  1.88s/it]\u001b[A\u001b[A\n",
      "\n",
      " 89%|████████▉ | 89/100 [03:01<00:21,  1.92s/it]\u001b[A\u001b[A\n",
      "\n",
      " 90%|█████████ | 90/100 [03:04<00:22,  2.24s/it]\u001b[A\u001b[A\n",
      "\n",
      " 91%|█████████ | 91/100 [03:07<00:22,  2.47s/it]\u001b[A\u001b[A\n",
      "\n",
      " 92%|█████████▏| 92/100 [03:08<00:16,  2.03s/it]\u001b[A\u001b[A\n",
      "\n",
      " 93%|█████████▎| 93/100 [03:10<00:14,  2.02s/it]\u001b[A\u001b[A\n",
      "\n",
      " 94%|█████████▍| 94/100 [03:12<00:12,  2.02s/it]\u001b[A\u001b[A\n",
      "\n",
      " 95%|█████████▌| 95/100 [03:13<00:08,  1.71s/it]\u001b[A\u001b[A\n",
      "\n",
      " 96%|█████████▌| 96/100 [03:15<00:07,  1.80s/it]\u001b[A\u001b[A\n",
      "\n",
      " 97%|█████████▋| 97/100 [03:17<00:05,  1.86s/it]\u001b[A\u001b[A\n",
      "\n",
      " 98%|█████████▊| 98/100 [03:19<00:03,  1.90s/it]\u001b[A\u001b[A\n",
      "\n",
      " 99%|█████████▉| 99/100 [03:20<00:01,  1.63s/it]\u001b[A\u001b[A\n",
      "\n",
      "100%|██████████| 100/100 [03:22<00:00,  2.02s/it]\u001b[A\u001b[A\n"
     ]
    }
   ],
   "source": [
    "mydata = range(100)\n",
    "\n",
    "myresults = [slow_function(e) for e in tqdm(mydata)]    "
   ]
  },
  {
   "cell_type": "code",
   "execution_count": 25,
   "metadata": {},
   "outputs": [
    {
     "name": "stderr",
     "output_type": "stream",
     "text": [
      "\n",
      "\n",
      "100%|██████████| 3/3 [00:00<00:00, 22075.28it/s]\n"
     ]
    }
   ],
   "source": [
    "for i in tqdm(['1','2','3']):\n",
    "    pass"
   ]
  },
  {
   "cell_type": "code",
   "execution_count": 26,
   "metadata": {},
   "outputs": [],
   "source": [
    "tqdm?"
   ]
  },
  {
   "cell_type": "code",
   "execution_count": null,
   "metadata": {},
   "outputs": [],
   "source": []
  },
  {
   "cell_type": "code",
   "execution_count": 28,
   "metadata": {},
   "outputs": [],
   "source": [
    "import re"
   ]
  },
  {
   "cell_type": "code",
   "execution_count": 51,
   "metadata": {},
   "outputs": [
    {
     "data": {
      "text/plain": [
       "[[], ['1']]"
      ]
     },
     "execution_count": 51,
     "metadata": {},
     "output_type": "execute_result"
    }
   ],
   "source": [
    "test = ['herenomatch', 'jeghje w 1 ekjykehj 2 w kejkr']\n",
    "alwaysfirstgroupifany = [[e.group(1) for e in re.finditer(\"w (1).*(2)\",s)] for s in test]\n",
    "alwaysfirstgroupifany"
   ]
  },
  {
   "cell_type": "code",
   "execution_count": 38,
   "metadata": {},
   "outputs": [],
   "source": [
    "t = re.finditer(\"w (1).*(2)\",test)\n",
    "matches = next(t)"
   ]
  },
  {
   "cell_type": "code",
   "execution_count": 40,
   "metadata": {},
   "outputs": [
    {
     "data": {
      "text/plain": [
       "'1'"
      ]
     },
     "execution_count": 40,
     "metadata": {},
     "output_type": "execute_result"
    }
   ],
   "source": [
    "matches.group(1)"
   ]
  },
  {
   "cell_type": "code",
   "execution_count": 55,
   "metadata": {},
   "outputs": [],
   "source": [
    "import regex\n"
   ]
  },
  {
   "cell_type": "code",
   "execution_count": 65,
   "metadata": {},
   "outputs": [],
   "source": [
    "list_w_urls = ['test https://www.google.com', 'some shit ftp://test.de']"
   ]
  },
  {
   "cell_type": "code",
   "execution_count": 74,
   "metadata": {},
   "outputs": [
    {
     "name": "stdout",
     "output_type": "stream",
     "text": [
      "['https://www.google.com']\n",
      "['ftp://test.de']\n"
     ]
    }
   ],
   "source": [
    "# from solution\n",
    "\n",
    "for l in list_w_urls:\n",
    "    m = re.findall('(?:(?:https?|ftp):\\/\\/)?[\\w.]+\\.[\\w]+.', l)\n",
    "    print(m)"
   ]
  },
  {
   "cell_type": "code",
   "execution_count": 78,
   "metadata": {},
   "outputs": [
    {
     "name": "stdout",
     "output_type": "stream",
     "text": [
      "['https://www.google.com']\n",
      "['ftp://test.de']\n"
     ]
    }
   ],
   "source": [
    "# also works\n",
    "\n",
    "for l in list_w_urls:\n",
    "    m = re.findall('(?:https?|ftp):\\/\\/?[\\w.]+\\.[\\w]+.', l)\n",
    "    print(m)"
   ]
  },
  {
   "cell_type": "code",
   "execution_count": 77,
   "metadata": {},
   "outputs": [
    {
     "name": "stdout",
     "output_type": "stream",
     "text": [
      "['https']\n",
      "['ftp']\n"
     ]
    }
   ],
   "source": [
    "# does not work\n",
    "\n",
    "for l in list_w_urls:\n",
    "    m = re.findall('(https?|ftp):\\/\\/?[\\w.]+\\.[\\w]+.', l)\n",
    "    print(m)"
   ]
  },
  {
   "cell_type": "code",
   "execution_count": null,
   "metadata": {},
   "outputs": [],
   "source": []
  }
 ],
 "metadata": {
  "kernelspec": {
   "display_name": "Python 3 (ipykernel)",
   "language": "python",
   "name": "python3"
  },
  "language_info": {
   "codemirror_mode": {
    "name": "ipython",
    "version": 3
   },
   "file_extension": ".py",
   "mimetype": "text/x-python",
   "name": "python",
   "nbconvert_exporter": "python",
   "pygments_lexer": "ipython3",
   "version": "3.8.10"
  }
 },
 "nbformat": 4,
 "nbformat_minor": 4
}
