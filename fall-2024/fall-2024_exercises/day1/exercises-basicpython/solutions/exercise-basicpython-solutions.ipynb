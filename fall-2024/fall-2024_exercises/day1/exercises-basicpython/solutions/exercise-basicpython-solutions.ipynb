{
 "cells": [
  {
   "cell_type": "markdown",
   "metadata": {},
   "source": [
    "# Exercise 1: Working with lists\n",
    "\n",
    "## 1. Warming up\n",
    "\n",
    "- Create a list, loop over the list, and do something with each value (you're free to choose). "
   ]
  },
  {
   "cell_type": "markdown",
   "metadata": {},
   "source": [
    "## 2. Did you pass?\n",
    "\n",
    "- Think of a way to determine for a list of  grades whether they are a pass (>5.5) or fail.\n",
    "- Can you make that program robust enough to handle invalid input (e.g., a grade as 'ewghjieh')?\n",
    "- How does your program deal with impossible grades (e.g., 12 or -3)?\n",
    "- Any other improvements?"
   ]
  },
  {
   "cell_type": "code",
   "execution_count": 1,
   "metadata": {},
   "outputs": [
    {
     "name": "stdout",
     "output_type": "stream",
     "text": [
      "4 is a FAIL\n",
      "7.8 is a PASS\n",
      "3.6 is a FAIL\n",
      "9.1 is a PASS\n",
      "4.2 is a FAIL\n",
      "7 is a PASS\n",
      "5.5 is a PASS\n"
     ]
    }
   ],
   "source": [
    "#SIMPLE - \n",
    "\n",
    "grades = [4, 7.8, 3.6, 9.1, 4.2, 7, 5.5]\n",
    "\n",
    "for grade in grades:\n",
    "    if grade >= 5.5:\n",
    "        print(f\"{grade} is a PASS\")\n",
    "    else:\n",
    "        print(f\"{grade} is a FAIL\")"
   ]
  },
  {
   "cell_type": "code",
   "execution_count": 2,
   "metadata": {},
   "outputs": [
    {
     "name": "stdout",
     "output_type": "stream",
     "text": [
      "4 is a FAIL\n",
      "7.8 is a PASS\n",
      "-3.0 is an invalid grade\n",
      "3.6 is a FAIL\n",
      "12.0 is an invalid grade\n",
      "9.1 is a PASS\n",
      "4.4 is a FAIL\n",
      "I do not understand what KEGJKEG means\n",
      "4.2 is a FAIL\n",
      "7 is a PASS\n",
      "5.5 is a PASS\n"
     ]
    }
   ],
   "source": [
    "#ROBUST - (i.e., dealing with non numeric values).\n",
    "\n",
    "grades = [4, 7.8, -3, 3.6, 12, 9.1, \"4.4\", \"KEGJKEG\", 4.2, 7, 5.5]\n",
    "\n",
    "for grade in grades:\n",
    "    try:\n",
    "        grade_float = float(grade)\n",
    "        if grade_float >10:\n",
    "            print(f\"{grade_float} is an invalid grade\")\n",
    "        elif grade_float <1:\n",
    "            print(f\"{grade_float} is an invalid grade\")\n",
    "        elif grade_float >= 5.5:\n",
    "            print(f\"{grade} is a PASS\")\n",
    "        else:\n",
    "            print(f\"{grade} is a FAIL\")\n",
    "\n",
    "    except:\n",
    "        print(f\"I do not understand what {grade} means\")"
   ]
  },
  {
   "cell_type": "code",
   "execution_count": 3,
   "metadata": {},
   "outputs": [
    {
     "name": "stdout",
     "output_type": "stream",
     "text": [
      "4 is FAIL\n",
      "7.8 is PASS\n",
      "-3 is INVALID\n",
      "3.6 is FAIL\n",
      "12 is INVALID\n",
      "9.1 is PASS\n",
      "4.4 is FAIL\n",
      "KEGJKEG is INVALID\n",
      "4.2 is FAIL\n",
      "7 is PASS\n",
      "5.5 is PASS\n"
     ]
    }
   ],
   "source": [
    "#FUNCTION (with try/except error handling).\n",
    "\n",
    "grades = [4, 7.8, -3, 3.6, 12, 9.1, \"4.4\", \"KEGJKEG\", 4.2, 7, 5.5]\n",
    "\n",
    "\n",
    "def check_grade(grade):\n",
    "    try:\n",
    "        grade_float = float(grade)\n",
    "    except:\n",
    "        return('INVALID')\n",
    "    if grade_float >10 or grade_float <1:\n",
    "        return('INVALID')\n",
    "    elif grade_float >= 5.5:\n",
    "        return('PASS')\n",
    "    else:\n",
    "        return('FAIL')\n",
    "\n",
    "\n",
    "for grade in grades:\n",
    "    print(f\"{grade} is {check_grade(grade)}\")"
   ]
  },
  {
   "cell_type": "markdown",
   "metadata": {},
   "source": [
    "# Exercise 2: Working with dictionaries\n",
    "\n",
    "\n",
    "- Create a program that takes lists of corresponding data (a list of first names, a list of last names, a list of phone numbers) and converts them into a dictionary. You may assume that the lists are ordered correspondingly. To loop over two lists at the same time, you can do sth like this: (of course, you later on do not want to print put to put in a dictionary):\n",
    "```\n",
    "for i, j in zip(list1, list):\n",
    "   print(i,j)\n",
    "```\n",
    "- Improve the program to control what should happen if the lists are (unexpectedly) of unequal length.\n",
    "- Create another program to handle a phone dictionary. The keys are names, and the value can either be a single phone number, a list of phone numbers, or another dict of the form {\"office\": \"020123456\", \"mobile\": \"0699999999\", ... ... ... }. Write a function that shows how many different phone numbers a given person has.\n",
    "- Write another function that prints only mobile numbers (and their owners) and omits the rest (If you want to take it easy, you may assume that they are stored in a dict and use the key \"mobile\". If you like challenges, you can also support strings and lists of strings by parsing the numbers themselves and check whether they start with 06. You can check whether a string starts with 06 by checking mystring[:2]==\"06\" (the double equal sign indicates a comparison that will return True or False). If you like even more challenges, you could support country codes).\n"
   ]
  },
  {
   "cell_type": "code",
   "execution_count": 4,
   "metadata": {},
   "outputs": [
    {
     "name": "stdout",
     "output_type": "stream",
     "text": [
      "{'Alice': {'office': '020222', 'mobile': '0666666'}, 'Bob': {'office': '030111', 'mobile': '0622222'}, 'Carol': {'office': '040444', 'mobile': '0644444'}}\n"
     ]
    }
   ],
   "source": [
    "#2.1 BASIC DICT -\n",
    "\n",
    "names = [\"Alice\", \"Bob\", \"Carol\"]\n",
    "office = [\"020222\", \"030111\", \"040444\"]\n",
    "mobile = [\"0666666\", \"0622222\", \"0644444\"]\n",
    "\n",
    "mydict ={}\n",
    "for n, o, m in zip(names, office, mobile):\n",
    "    mydict[n] = {\"office\":o, \"mobile\":m}\n",
    "\n",
    "print(mydict)"
   ]
  },
  {
   "cell_type": "code",
   "execution_count": 5,
   "metadata": {},
   "outputs": [
    {
     "name": "stdout",
     "output_type": "stream",
     "text": [
      "Your data seems to be messed up - the lists do not have the same length\n"
     ]
    }
   ],
   "source": [
    "#VERSION THAT CHECKS LENGTHS OF INPUT LISTS -\n",
    "\n",
    "names = [\"Alice\", \"Bob\", \"Carol\", \"Damian\"]\n",
    "office = [\"020222\", \"030111\", \"040444\"]\n",
    "mobile = [\"0666666\", \"0622222\", \"0644444\"]\n",
    "\n",
    "if len(names) == len(office) == len(mobile):\n",
    "    mydict ={}\n",
    "    for n, o, m in zip(names, office, mobile):\n",
    "        mydict[n] = {\"office\":o, \"mobile\":m}\n",
    "    print(mydict)\n",
    "else:\n",
    "    print(\"Your data seems to be messed up - the lists do not have the same length\")"
   ]
  },
  {
   "cell_type": "code",
   "execution_count": 6,
   "metadata": {},
   "outputs": [
    {
     "name": "stdout",
     "output_type": "stream",
     "text": [
      "Alice has 2 phone subscriptions\n",
      "Bob has 1 phone subscriptions\n",
      "Carol has 2 phone subscriptions\n",
      "Daan has 1 phone subscriptions\n",
      "Els has 2 phone subscriptions\n"
     ]
    }
   ],
   "source": [
    "#2.3 CHECK NUMBER OF PHONE SUBSCRIPTIONS -\n",
    "\n",
    "data = {'Alice': {'office': '020222', 'mobile': '0666666'},\n",
    "        'Bob': {'office': '030111'},\n",
    "        'Carol': {'office': '040444', 'mobile': '0644444'},\n",
    "        \"Daan\": \"020222222\",\n",
    "        \"Els\": [\"010111\", \"06222\"]}\n",
    "\n",
    "def get_number_of_subscriptions(x):\n",
    "    if type(x) is str:\n",
    "        return 1\n",
    "    else:\n",
    "        return len(x)\n",
    "\n",
    "for k, v in data.items():\n",
    "    print(f\"{k} has {get_number_of_subscriptions(v)} phone subscriptions\")"
   ]
  },
  {
   "cell_type": "code",
   "execution_count": 7,
   "metadata": {},
   "outputs": [
    {
     "name": "stdout",
     "output_type": "stream",
     "text": [
      "Alice has 2 phone subscriptions. The mobile ones are ['0666666']\n",
      "Bob has 1 phone subscriptions. The mobile ones are []\n",
      "Carol has 2 phone subscriptions. The mobile ones are ['0644444']\n",
      "Daan has 1 phone subscriptions. The mobile ones are None\n",
      "Els has 2 phone subscriptions. The mobile ones are ['06222']\n"
     ]
    }
   ],
   "source": [
    "#2.4 PRINT ONLY MOBILE NUMBERS -\n",
    "\n",
    "data = {'Alice': {'office': '020222', 'mobile': '0666666'},\n",
    "        'Bob': {'office': '030111'},\n",
    "        'Carol': {'office': '040444', 'mobile': '0644444'},\n",
    "        \"Daan\": \"020222222\",\n",
    "        \"Els\": [\"010111\", \"06222\"]}\n",
    "\n",
    "def get_number_of_subscriptions(x):\n",
    "    if type(x) is str:\n",
    "        return 1\n",
    "    else:\n",
    "        return len(x)\n",
    "\n",
    "def get_mobile(x):\n",
    "    if type(x) is str and x[:2]==\"06\":\n",
    "        return x\n",
    "    if type(x) is list:\n",
    "        return [e for e in x if e[:2]==\"06\"]\n",
    "    if type(x) is dict:\n",
    "        return [v for k, v in x.items() if k==\"mobile\"]\n",
    "for k, v in data.items():\n",
    "    print(f\"{k} has {get_number_of_subscriptions(v)} phone subscriptions. The mobile ones are {get_mobile(v)}\")"
   ]
  },
  {
   "cell_type": "markdown",
   "metadata": {},
   "source": [
    "# Exercise 3: Working with defaultdicts\n",
    "\n",
    "- Take the data from Excercise 2. Write a program that collects all office numbers, all mobile numers, etc. Assume that there are potentially also other categories like \"home\", \"second\", maybe even \"fax\", and that they are unknown byforehand.\n",
    "- To do so, you can use the following approach:\n",
    "```python\n",
    "from collections import defaultdict\n",
    "myresults = defaultdict(list)\n",
    "```\n",
    "Loop over the appropriate data. For all the key-value pairs (like \"office\": \"020111111\"), do ` myresults[key].append(value)`: This will append the current phone numner (02011111) to the list of \"office\" numbers. \n",
    "- Do you see why this works only with a defaultdict but not with a \"normal\" dict? What would happen with a normal dict?\n",
    "- Take the function from Exercise 2 that prints how many phone numbers a given person has. Use a defaultdict instead to achieve the same result. What are the pros and cons?"
   ]
  },
  {
   "cell_type": "code",
   "execution_count": 8,
   "metadata": {},
   "outputs": [
    {
     "name": "stdout",
     "output_type": "stream",
     "text": [
      "Daan's numbers aren't stored in a dict, so I don't know what they are and will skip them\n",
      "Els's numbers aren't stored in a dict, so I don't know what they are and will skip them\n",
      "defaultdict(<class 'list'>, {'office': ['020222', '030111', '040444'], 'mobile': ['0666666', '0644444'], 'fax': ['02012354']})\n"
     ]
    }
   ],
   "source": [
    "from collections import defaultdict\n",
    "\n",
    "data = {'Alice': {'office': '020222', 'mobile': '0666666'},\n",
    "        'Bob': {'office': '030111'},\n",
    "        'Carol': {'office': '040444', 'mobile': '0644444', 'fax': \"02012354\"},\n",
    "        \"Daan\": \"020222222\",\n",
    "        \"Els\": [\"010111\", \"06222\"]}\n",
    "\n",
    "myresults = defaultdict(list)\n",
    "\n",
    "for name, entry in data.items():\n",
    "    try:\n",
    "        for k, v in entry.items():\n",
    "            myresults[k].append(v)\n",
    "    except:\n",
    "        print(f\"{name}'s numbers aren't stored in a dict, so I don't know what they are and will skip them\")\n",
    "\n",
    "print(myresults)"
   ]
  },
  {
   "cell_type": "code",
   "execution_count": 9,
   "metadata": {},
   "outputs": [
    {
     "name": "stdout",
     "output_type": "stream",
     "text": [
      "defaultdict(<class 'int'>, {'Alice': 2, 'Bob': 1, 'Carol': 2, 'Daan': 1, 'Els': 2})\n"
     ]
    }
   ],
   "source": [
    "from collections import defaultdict\n",
    "\n",
    "data = {'Alice': {'office': '020222', 'mobile': '0666666'},\n",
    "        'Bob': {'office': '030111'},\n",
    "        'Carol': {'office': '040444', 'mobile': '0644444'},\n",
    "        \"Daan\": \"020222222\",\n",
    "        \"Els\": [\"010111\", \"06222\"]}\n",
    "\n",
    "subscriptions = defaultdict(int)\n",
    "\n",
    "for name, entry in data.items():\n",
    "    if type(entry) is str:\n",
    "        subscriptions[name]+=1  # this is short for subscriptions[name] =  subscriptions[name]+1 \n",
    "    else:\n",
    "        subscriptions[name] += len(entry)\n",
    "\n",
    "print(subscriptions)"
   ]
  },
  {
   "cell_type": "markdown",
   "metadata": {},
   "source": [
    "# Instructional videos\n",
    "#### The linked videos further explain the answers provided to today's [exercises](https://github.com/uvacw/teachteacher-python/blob/main/day1/exercises/exercises.md).\n",
    "\n",
    "- Instructional video explaining [Exercise 2](https://github.com/uvacw/teachteacher-python/blob/main/day1/exercises/exercises.md#exercise-2-working-with-dictionaries): *Working with dictionaries*: [Video here](https://www.youtube.com/watch?v=M_bkVPfQcgs)\n",
    "\n",
    "- Instructional video explaining [Exercise 3](https://github.com/uvacw/teachteacher-python/blob/main/day1/exercises/exercises.md#exercise-3-working-with-defaultdicts): *Working with defaultdicts:* [Video here](https://www.youtube.com/watch?v=2l9aRWcKVyA)"
   ]
  }
 ],
 "metadata": {
  "kernelspec": {
   "display_name": "gesis_iml",
   "language": "python",
   "name": "python3"
  },
  "language_info": {
   "codemirror_mode": {
    "name": "ipython",
    "version": 3
   },
   "file_extension": ".py",
   "mimetype": "text/x-python",
   "name": "python",
   "nbconvert_exporter": "python",
   "pygments_lexer": "ipython3",
   "version": "3.10.14"
  }
 },
 "nbformat": 4,
 "nbformat_minor": 2
}
