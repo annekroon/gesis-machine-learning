{
 "cells": [
  {
   "cell_type": "markdown",
   "metadata": {},
   "source": [
    "# A Practical Introduction to Machine Learning in Python\n",
    "Anne Kroon and Damian Trilling\n",
    "\n",
    "\n",
    "## Exercise: \"Getting Started\" with the IMDB dataset\n",
    "\n",
    "Download and unpack the ACL IMDB dataset (https://ai.stanford.edu/~amaas/data/sentiment/aclImdb_v1.tar.gz).\n",
    "Windows users may need an additional program to unpack it, such as 7zip. \n"
   ]
  },
  {
   "cell_type": "markdown",
   "metadata": {},
   "source": [
    "1. Think of a good data structure to read this data in.\n",
    "2. Write a script to read the data in."
   ]
  },
  {
   "cell_type": "code",
   "execution_count": null,
   "metadata": {
    "vscode": {
     "languageId": "plaintext"
    }
   },
   "outputs": [],
   "source": []
  },
  {
   "cell_type": "markdown",
   "metadata": {},
   "source": [
    "3. Discuss (first in groups, then plenary) the pro's and con's of different ways of organizing the data."
   ]
  },
  {
   "cell_type": "code",
   "execution_count": null,
   "metadata": {},
   "outputs": [],
   "source": []
  },
  {
   "cell_type": "markdown",
   "metadata": {},
   "source": [
    "4. Train a first Naive Bayes classifier on the dataset. \n",
    "\n",
    "No worries, we will discuss all the details behind each of the steps in this week; you can for now just rely on the script below. \n",
    "\n",
    "You may need to change variable names such as `y_test`, `y_pred`, `X_train_fulltext` etc. based on how you read your data, though."
   ]
  },
  {
   "cell_type": "code",
   "execution_count": null,
   "metadata": {},
   "outputs": [],
   "source": [
    "from sklearn.naive_bayes import MultinomialNB\n",
    "from sklearn.feature_extraction.text import CountVectorizer\n",
    "from sklearn.metrics import confusion_matrix, classification_report\n",
    "\n",
    "vectorizer = CountVectorizer(stop_words='english')\n",
    "X_train = vectorizer.fit_transform(X_train_fulltext)\n",
    "X_test = vectorizer.transform(X_test_fulltext)\n",
    "\n",
    "nb = MultinomialNB()\n",
    "nb.fit(X_train, y_train)\n",
    "\n",
    "y_pred = nb.predict(X_test)\n",
    "\n",
    "print(confusion_matrix(y_test, y_pred))\n",
    "print(classification_report(y_test, y_pred))"
   ]
  },
  {
   "cell_type": "markdown",
   "metadata": {},
   "source": [
    "5. What is your first gut feeling about the results?"
   ]
  },
  {
   "cell_type": "code",
   "execution_count": null,
   "metadata": {},
   "outputs": [],
   "source": []
  },
  {
   "cell_type": "markdown",
   "metadata": {},
   "source": [
    "6. Can you explain what the different variables you created contain?"
   ]
  },
  {
   "cell_type": "code",
   "execution_count": null,
   "metadata": {},
   "outputs": [],
   "source": []
  }
 ],
 "metadata": {
  "language_info": {
   "name": "python"
  }
 },
 "nbformat": 4,
 "nbformat_minor": 2
}
