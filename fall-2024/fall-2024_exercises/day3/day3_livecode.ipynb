{
 "cells": [
  {
   "cell_type": "code",
   "execution_count": null,
   "metadata": {},
   "outputs": [],
   "source": []
  },
  {
   "cell_type": "markdown",
   "metadata": {},
   "source": [
    "## What is an embedding? "
   ]
  },
  {
   "cell_type": "code",
   "execution_count": 1,
   "metadata": {},
   "outputs": [
    {
     "name": "stdout",
     "output_type": "stream",
     "text": [
      "king - woman + man = king\n",
      "Similarity to king: 0.9949\n",
      "Similarity to queen: 0.9949\n",
      "Similarity to man: 0.8680\n",
      "Similarity to woman: 0.9541\n"
     ]
    }
   ],
   "source": [
    "import numpy as np\n",
    "\n",
    "# Simplified word embeddings (2D for easy visualization)\n",
    "word_vectors = {\n",
    "    \"king\": np.array([0.99, 0.99]),\n",
    "    \"queen\": np.array([0.95, 0.95]),\n",
    "    \"man\": np.array([0.6, 0.1]),\n",
    "    \"woman\": np.array([0.5, 0.2])\n",
    "}\n",
    "\n",
    "def cosine_similarity(vec1, vec2):\n",
    "    return np.dot(vec1, vec2) / (np.linalg.norm(vec1) * np.linalg.norm(vec2))\n",
    "\n",
    "# Perform the word analogy: king - woman + man\n",
    "result_vector = word_vectors[\"king\"] - word_vectors[\"woman\"] + word_vectors[\"man\"]\n",
    "\n",
    "# Find the word closest to the result vector\n",
    "closest_word = max(word_vectors.keys(), key=lambda word: cosine_similarity(word_vectors[word], result_vector))\n",
    "\n",
    "print(f\"king - woman + man = {closest_word}\")\n",
    "\n",
    "# Calculate similarities for visualization\n",
    "for word, vector in word_vectors.items():\n",
    "    similarity = cosine_similarity(vector, result_vector)\n",
    "    print(f\"Similarity to {word}: {similarity:.4f}\")"
   ]
  },
  {
   "cell_type": "code",
   "execution_count": null,
   "metadata": {},
   "outputs": [],
   "source": []
  }
 ],
 "metadata": {
  "kernelspec": {
   "display_name": "gesis_iml",
   "language": "python",
   "name": "python3"
  },
  "language_info": {
   "codemirror_mode": {
    "name": "ipython",
    "version": 3
   },
   "file_extension": ".py",
   "mimetype": "text/x-python",
   "name": "python",
   "nbconvert_exporter": "python",
   "pygments_lexer": "ipython3",
   "version": "3.10.14"
  }
 },
 "nbformat": 4,
 "nbformat_minor": 2
}
