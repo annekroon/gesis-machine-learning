{
 "cells": [
  {
   "cell_type": "code",
   "execution_count": 1,
   "id": "43c2a279",
   "metadata": {},
   "outputs": [],
   "source": [
    "# reading data\n",
    "## Example with GridSearch CV\n",
    "#https://stackoverflow.com/questions/38555650/try-multiple-estimator-in-one-grid-search/53292354\n",
    "import csv\n",
    "from collections import Counter\n",
    "import matplotlib.pyplot as plt\n",
    "from sklearn.model_selection import train_test_split\n",
    "from sklearn.svm import LinearSVC\n",
    "from sklearn.linear_model import LogisticRegression\n",
    "from sklearn.ensemble import RandomForestClassifier\n",
    "from sklearn.neural_network import MLPClassifier\n",
    "from sklearn.model_selection import GridSearchCV\n",
    "from sklearn.model_selection import train_test_split\n",
    "from sklearn.naive_bayes import MultinomialNB\n",
    "import numpy as np\n",
    "from sklearn.pipeline import Pipeline\n",
    "from sklearn.feature_extraction.text import TfidfVectorizer,CountVectorizer\n",
    "from sklearn.metrics import f1_score, make_scorer, classification_report\n",
    "import pandas as pd\n",
    "from sklearn.metrics import classification_report"
   ]
  },
  {
   "cell_type": "code",
   "execution_count": 2,
   "id": "a20d5248",
   "metadata": {},
   "outputs": [
    {
     "name": "stdout",
     "output_type": "stream",
     "text": [
      "Beats by Dr. Dre urBeats Wired In-Ear Headphones - White https://t.co/9tREpqfyW4 https://t.co/FCaWyWRbpE\tspam\t4\n",
      "RT @Papapishu: Man it would fucking rule if we had a party that was against perpetual warfare.\tabusive\t4\n",
      "It is time to draw close to Him &#128591;&#127995; Father, I draw near to you now and always ❤️ https://t.co/MVRBBX2aqJ\tnormal\t4\n",
      "if you notice me start to act different or distant.. it's bc i peeped something you did or i notice a difference in how you act &amp; ian fw it.\tnormal\t5\n",
      "Forget unfollowers, I believe in growing. 7 new followers in the last day! Stats via https://t.co/bunPHQNXhj\tnormal\t3\n",
      "RT @Vitiligoprince: Hate Being sexually Frustrated Like I wanna Fuck But ion wanna Just fuck anybody\tabusive\t4\n",
      "Topped the group in TGP Disc Jam Season 2! Onto the Semi-Finals! @HighHorseGames https://t.co/N7LE8lX7Rm\tnormal\t3\n",
      "That daily baby aspirin for your #heart just might be preventing colon #cancer too. https://t.co/2TLawmHhEe\tnormal\t5\n",
      "I liked a @YouTube video from @mattshea https://t.co/niSeJrLKHq THE BLUE ARMY IS COMING! - Ancient Warfare 2\tnormal\t2\n",
      "RT @LestuhGang_: If your fucking up &amp; your homies dont tell you that your fucking up, those ain't your homies\tabusive\t4\n"
     ]
    }
   ],
   "source": [
    "path = 'hatespeech_text_label_vote_RESTRICTED_100K.csv'\n",
    "!head hatespeech_text_label_vote_RESTRICTED_100K.csv\n",
    "#tweet, label, number of voters"
   ]
  },
  {
   "cell_type": "code",
   "execution_count": 3,
   "id": "70b12239",
   "metadata": {},
   "outputs": [],
   "source": [
    "tweets = []\n",
    "labels = []\n",
    "with open(path) as fi:\n",
    "    data = csv.reader(fi, delimiter='\\t')\n",
    "    for row in data:\n",
    "        tweets.append(row[0])\n",
    "        labels.append(row[1]) "
   ]
  },
  {
   "cell_type": "code",
   "execution_count": 4,
   "id": "688576dc",
   "metadata": {},
   "outputs": [
    {
     "name": "stdout",
     "output_type": "stream",
     "text": [
      "99996\n"
     ]
    }
   ],
   "source": [
    "## sanity checks\n",
    "len(tweets) == len(labels)\n",
    "print(len(tweets))"
   ]
  },
  {
   "cell_type": "code",
   "execution_count": 5,
   "id": "5df95e2b",
   "metadata": {},
   "outputs": [
    {
     "data": {
      "text/plain": [
       "Counter({'spam': 14030, 'abusive': 27150, 'normal': 53851, 'hateful': 4965})"
      ]
     },
     "execution_count": 5,
     "metadata": {},
     "output_type": "execute_result"
    }
   ],
   "source": [
    "Counter(labels)"
   ]
  },
  {
   "cell_type": "code",
   "execution_count": 6,
   "id": "bde935c7",
   "metadata": {},
   "outputs": [
    {
     "data": {
      "text/plain": [
       "<BarContainer object of 4 artists>"
      ]
     },
     "execution_count": 6,
     "metadata": {},
     "output_type": "execute_result"
    },
    {
     "data": {
      "image/png": "[encoded data removed]",
      "text/plain": [
       "<Figure size 432x288 with 1 Axes>"
      ]
     },
     "metadata": {
      "needs_background": "light"
     },
     "output_type": "display_data"
    }
   ],
   "source": [
    "plt.bar(Counter(labels).keys(), Counter(labels).values())"
   ]
  },
  {
   "cell_type": "code",
   "execution_count": 21,
   "id": "090db905",
   "metadata": {},
   "outputs": [],
   "source": [
    "X_train, X_test, y_train, y_test = train_test_split(tweets, labels, test_size=0.2, random_state=42)\n"
   ]
  },
  {
   "cell_type": "code",
   "execution_count": 28,
   "id": "5cc30cb9",
   "metadata": {},
   "outputs": [
    {
     "data": {
      "text/plain": [
       "'normal'"
      ]
     },
     "execution_count": 28,
     "metadata": {},
     "output_type": "execute_result"
    }
   ],
   "source": [
    "y_test[0]"
   ]
  },
  {
   "cell_type": "code",
   "execution_count": 29,
   "id": "fb37d538",
   "metadata": {},
   "outputs": [
    {
     "data": {
      "text/plain": [
       "'RT @paytons_hawtmom: I knew that girl was fucking Sierra husband &#128514;&#128514;&#128514; #LHHATL'"
      ]
     },
     "execution_count": 29,
     "metadata": {},
     "output_type": "execute_result"
    }
   ],
   "source": [
    "X_train[0]\n"
   ]
  },
  {
   "cell_type": "code",
   "execution_count": 34,
   "id": "8ec6ba91",
   "metadata": {},
   "outputs": [
    {
     "name": "stdout",
     "output_type": "stream",
     "text": [
      "Fitting 3 folds for each of 24 candidates, totalling 72 fits\n",
      "[CV 2/3; 1/24] START classifier__C=0.01, vectorizer__max_df=0.5, vectorizer__min_df=0, vectorizer__ngram_range=(1, 1)\n",
      "[CV 1/3; 2/24] START classifier__C=0.01, vectorizer__max_df=0.5, vectorizer__min_df=0, vectorizer__ngram_range=(1, 2)\n",
      "[CV 2/3; 2/24] START classifier__C=0.01, vectorizer__max_df=0.5, vectorizer__min_df=0, vectorizer__ngram_range=(1, 2)\n",
      "[CV 3/3; 2/24] START classifier__C=0.01, vectorizer__max_df=0.5, vectorizer__min_df=0, vectorizer__ngram_range=(1, 2)\n",
      "[CV 1/3; 3/24] START classifier__C=0.01, vectorizer__max_df=0.5, vectorizer__min_df=5, vectorizer__ngram_range=(1, 1)\n",
      "[CV 2/3; 3/24] START classifier__C=0.01, vectorizer__max_df=0.5, vectorizer__min_df=5, vectorizer__ngram_range=(1, 1)\n",
      "[CV 1/3; 1/24] START classifier__C=0.01, vectorizer__max_df=0.5, vectorizer__min_df=0, vectorizer__ngram_range=(1, 1)\n",
      "[CV 3/3; 1/24] START classifier__C=0.01, vectorizer__max_df=0.5, vectorizer__min_df=0, vectorizer__ngram_range=(1, 1)\n",
      "[CV 1/3; 3/24] END classifier__C=0.01, vectorizer__max_df=0.5, vectorizer__min_df=5, vectorizer__ngram_range=(1, 1);, score=0.366 total time=   4.6s\n",
      "[CV 2/3; 3/24] END classifier__C=0.01, vectorizer__max_df=0.5, vectorizer__min_df=5, vectorizer__ngram_range=(1, 1);, score=0.367 total time=   4.6s\n",
      "[CV 3/3; 3/24] START classifier__C=0.01, vectorizer__max_df=0.5, vectorizer__min_df=5, vectorizer__ngram_range=(1, 1)\n",
      "[CV 1/3; 4/24] START classifier__C=0.01, vectorizer__max_df=0.5, vectorizer__min_df=5, vectorizer__ngram_range=(1, 2)\n",
      "[CV 2/3; 1/24] END classifier__C=0.01, vectorizer__max_df=0.5, vectorizer__min_df=0, vectorizer__ngram_range=(1, 1);, score=0.358 total time=   6.0s\n",
      "[CV 2/3; 4/24] START classifier__C=0.01, vectorizer__max_df=0.5, vectorizer__min_df=5, vectorizer__ngram_range=(1, 2)\n",
      "[CV 1/3; 1/24] END classifier__C=0.01, vectorizer__max_df=0.5, vectorizer__min_df=0, vectorizer__ngram_range=(1, 1);, score=0.356 total time=   6.4s\n",
      "[CV 3/3; 4/24] START classifier__C=0.01, vectorizer__max_df=0.5, vectorizer__min_df=5, vectorizer__ngram_range=(1, 2)\n",
      "[CV 3/3; 1/24] END classifier__C=0.01, vectorizer__max_df=0.5, vectorizer__min_df=0, vectorizer__ngram_range=(1, 1);, score=0.357 total time=   6.5s\n",
      "[CV 1/3; 5/24] START classifier__C=0.01, vectorizer__max_df=1.0, vectorizer__min_df=0, vectorizer__ngram_range=(1, 1)\n",
      "[CV 3/3; 3/24] END classifier__C=0.01, vectorizer__max_df=0.5, vectorizer__min_df=5, vectorizer__ngram_range=(1, 1);, score=0.366 total time=   5.4s\n",
      "[CV 2/3; 5/24] START classifier__C=0.01, vectorizer__max_df=1.0, vectorizer__min_df=0, vectorizer__ngram_range=(1, 1)\n",
      "[CV 1/3; 5/24] END classifier__C=0.01, vectorizer__max_df=1.0, vectorizer__min_df=0, vectorizer__ngram_range=(1, 1);, score=0.358 total time=   7.7s\n",
      "[CV 3/3; 5/24] START classifier__C=0.01, vectorizer__max_df=1.0, vectorizer__min_df=0, vectorizer__ngram_range=(1, 1)\n",
      "[CV 1/3; 4/24] END classifier__C=0.01, vectorizer__max_df=0.5, vectorizer__min_df=5, vectorizer__ngram_range=(1, 2);, score=0.313 total time=  11.3s\n",
      "[CV 1/3; 6/24] START classifier__C=0.01, vectorizer__max_df=1.0, vectorizer__min_df=0, vectorizer__ngram_range=(1, 2)\n",
      "[CV 2/3; 4/24] END classifier__C=0.01, vectorizer__max_df=0.5, vectorizer__min_df=5, vectorizer__ngram_range=(1, 2);, score=0.317 total time=  10.8s\n",
      "[CV 2/3; 6/24] START classifier__C=0.01, vectorizer__max_df=1.0, vectorizer__min_df=0, vectorizer__ngram_range=(1, 2)\n",
      "[CV 1/3; 2/24] END classifier__C=0.01, vectorizer__max_df=0.5, vectorizer__min_df=0, vectorizer__ngram_range=(1, 2);, score=0.248 total time=  17.4s\n",
      "[CV 2/3; 2/24] END classifier__C=0.01, vectorizer__max_df=0.5, vectorizer__min_df=0, vectorizer__ngram_range=(1, 2);, score=0.253 total time=  17.4s\n",
      "[CV 3/3; 6/24] START classifier__C=0.01, vectorizer__max_df=1.0, vectorizer__min_df=0, vectorizer__ngram_range=(1, 2)\n",
      "[CV 3/3; 2/24] END classifier__C=0.01, vectorizer__max_df=0.5, vectorizer__min_df=0, vectorizer__ngram_range=(1, 2);, score=0.250 total time=  17.4s\n",
      "[CV 2/3; 5/24] END classifier__C=0.01, vectorizer__max_df=1.0, vectorizer__min_df=0, vectorizer__ngram_range=(1, 1);, score=0.361 total time=   6.9s\n",
      "[CV 1/3; 7/24] START classifier__C=0.01, vectorizer__max_df=1.0, vectorizer__min_df=5, vectorizer__ngram_range=(1, 1)\n",
      "[CV 2/3; 7/24] START classifier__C=0.01, vectorizer__max_df=1.0, vectorizer__min_df=5, vectorizer__ngram_range=(1, 1)\n",
      "[CV 3/3; 7/24] START classifier__C=0.01, vectorizer__max_df=1.0, vectorizer__min_df=5, vectorizer__ngram_range=(1, 1)\n",
      "[CV 3/3; 4/24] END classifier__C=0.01, vectorizer__max_df=0.5, vectorizer__min_df=5, vectorizer__ngram_range=(1, 2);, score=0.313 total time=  10.7s\n",
      "[CV 1/3; 8/24] START classifier__C=0.01, vectorizer__max_df=1.0, vectorizer__min_df=5, vectorizer__ngram_range=(1, 2)\n",
      "[CV 3/3; 5/24] END classifier__C=0.01, vectorizer__max_df=1.0, vectorizer__min_df=0, vectorizer__ngram_range=(1, 1);, score=0.358 total time=   5.4s\n",
      "[CV 2/3; 8/24] START classifier__C=0.01, vectorizer__max_df=1.0, vectorizer__min_df=5, vectorizer__ngram_range=(1, 2)\n",
      "[CV 1/3; 7/24] END classifier__C=0.01, vectorizer__max_df=1.0, vectorizer__min_df=5, vectorizer__ngram_range=(1, 1);, score=0.373 total time=   4.3s\n",
      "[CV 2/3; 7/24] END classifier__C=0.01, vectorizer__max_df=1.0, vectorizer__min_df=5, vectorizer__ngram_range=(1, 1);, score=0.375 total time=   4.3s\n",
      "[CV 3/3; 8/24] START classifier__C=0.01, vectorizer__max_df=1.0, vectorizer__min_df=5, vectorizer__ngram_range=(1, 2)\n",
      "[CV 3/3; 7/24] END classifier__C=0.01, vectorizer__max_df=1.0, vectorizer__min_df=5, vectorizer__ngram_range=(1, 1);, score=0.375 total time=   4.3s\n",
      "[CV 1/3; 9/24] START classifier__C=1, vectorizer__max_df=0.5, vectorizer__min_df=0, vectorizer__ngram_range=(1, 1)\n",
      "[CV 2/3; 9/24] START classifier__C=1, vectorizer__max_df=0.5, vectorizer__min_df=0, vectorizer__ngram_range=(1, 1)\n",
      "[CV 1/3; 8/24] END classifier__C=0.01, vectorizer__max_df=1.0, vectorizer__min_df=5, vectorizer__ngram_range=(1, 2);, score=0.323 total time=   8.3s\n",
      "[CV 3/3; 9/24] START classifier__C=1, vectorizer__max_df=0.5, vectorizer__min_df=0, vectorizer__ngram_range=(1, 1)\n",
      "[CV 2/3; 8/24] END classifier__C=0.01, vectorizer__max_df=1.0, vectorizer__min_df=5, vectorizer__ngram_range=(1, 2);, score=0.327 total time=   9.1s\n",
      "[CV 1/3; 10/24] START classifier__C=1, vectorizer__max_df=0.5, vectorizer__min_df=0, vectorizer__ngram_range=(1, 2)\n",
      "[CV 1/3; 9/24] END classifier__C=1, vectorizer__max_df=0.5, vectorizer__min_df=0, vectorizer__ngram_range=(1, 1);, score=0.612 total time=   8.7s\n",
      "[CV 2/3; 9/24] END classifier__C=1, vectorizer__max_df=0.5, vectorizer__min_df=0, vectorizer__ngram_range=(1, 1);, score=0.620 total time=   8.7s\n",
      "[CV 2/3; 10/24] START classifier__C=1, vectorizer__max_df=0.5, vectorizer__min_df=0, vectorizer__ngram_range=(1, 2)\n",
      "[CV 3/3; 10/24] START classifier__C=1, vectorizer__max_df=0.5, vectorizer__min_df=0, vectorizer__ngram_range=(1, 2)\n",
      "[CV 3/3; 8/24] END classifier__C=0.01, vectorizer__max_df=1.0, vectorizer__min_df=5, vectorizer__ngram_range=(1, 2);, score=0.324 total time=   9.1s\n",
      "[CV 1/3; 11/24] START classifier__C=1, vectorizer__max_df=0.5, vectorizer__min_df=5, vectorizer__ngram_range=(1, 1)\n",
      "[CV 1/3; 6/24] END classifier__C=0.01, vectorizer__max_df=1.0, vectorizer__min_df=0, vectorizer__ngram_range=(1, 2);, score=0.249 total time=  14.9s\n",
      "[CV 2/3; 11/24] START classifier__C=1, vectorizer__max_df=0.5, vectorizer__min_df=5, vectorizer__ngram_range=(1, 1)\n",
      "[CV 2/3; 6/24] END classifier__C=0.01, vectorizer__max_df=1.0, vectorizer__min_df=0, vectorizer__ngram_range=(1, 2);, score=0.256 total time=  14.7s\n",
      "[CV 3/3; 11/24] START classifier__C=1, vectorizer__max_df=0.5, vectorizer__min_df=5, vectorizer__ngram_range=(1, 1)\n",
      "[CV 3/3; 6/24] END classifier__C=0.01, vectorizer__max_df=1.0, vectorizer__min_df=0, vectorizer__ngram_range=(1, 2);, score=0.250 total time=  14.8s\n",
      "[CV 1/3; 12/24] START classifier__C=1, vectorizer__max_df=0.5, vectorizer__min_df=5, vectorizer__ngram_range=(1, 2)\n",
      "[CV 3/3; 9/24] END classifier__C=1, vectorizer__max_df=0.5, vectorizer__min_df=0, vectorizer__ngram_range=(1, 1);, score=0.619 total time=   7.2s\n",
      "[CV 2/3; 12/24] START classifier__C=1, vectorizer__max_df=0.5, vectorizer__min_df=5, vectorizer__ngram_range=(1, 2)\n",
      "[CV 1/3; 11/24] END classifier__C=1, vectorizer__max_df=0.5, vectorizer__min_df=5, vectorizer__ngram_range=(1, 1);, score=0.615 total time=   5.5s\n",
      "[CV 3/3; 12/24] START classifier__C=1, vectorizer__max_df=0.5, vectorizer__min_df=5, vectorizer__ngram_range=(1, 2)\n",
      "[CV 2/3; 11/24] END classifier__C=1, vectorizer__max_df=0.5, vectorizer__min_df=5, vectorizer__ngram_range=(1, 1);, score=0.621 total time=   5.4s\n",
      "[CV 1/3; 13/24] START classifier__C=1, vectorizer__max_df=1.0, vectorizer__min_df=0, vectorizer__ngram_range=(1, 1)\n",
      "[CV 3/3; 11/24] END classifier__C=1, vectorizer__max_df=0.5, vectorizer__min_df=5, vectorizer__ngram_range=(1, 1);, score=0.621 total time=   5.5s\n",
      "[CV 2/3; 13/24] START classifier__C=1, vectorizer__max_df=1.0, vectorizer__min_df=0, vectorizer__ngram_range=(1, 1)\n",
      "[CV 1/3; 12/24] END classifier__C=1, vectorizer__max_df=0.5, vectorizer__min_df=5, vectorizer__ngram_range=(1, 2);, score=0.607 total time=  10.4s\n",
      "[CV 3/3; 13/24] START classifier__C=1, vectorizer__max_df=1.0, vectorizer__min_df=0, vectorizer__ngram_range=(1, 1)\n",
      "[CV 2/3; 12/24] END classifier__C=1, vectorizer__max_df=0.5, vectorizer__min_df=5, vectorizer__ngram_range=(1, 2);, score=0.620 total time=  10.9s\n",
      "[CV 1/3; 14/24] START classifier__C=1, vectorizer__max_df=1.0, vectorizer__min_df=0, vectorizer__ngram_range=(1, 2)\n",
      "[CV 1/3; 13/24] END classifier__C=1, vectorizer__max_df=1.0, vectorizer__min_df=0, vectorizer__ngram_range=(1, 1);, score=0.629 total time=   9.8s\n",
      "[CV 2/3; 13/24] END classifier__C=1, vectorizer__max_df=1.0, vectorizer__min_df=0, vectorizer__ngram_range=(1, 1);, score=0.636 total time=   9.7s\n",
      "[CV 2/3; 14/24] START classifier__C=1, vectorizer__max_df=1.0, vectorizer__min_df=0, vectorizer__ngram_range=(1, 2)\n",
      "[CV 3/3; 14/24] START classifier__C=1, vectorizer__max_df=1.0, vectorizer__min_df=0, vectorizer__ngram_range=(1, 2)\n",
      "[CV 3/3; 12/24] END classifier__C=1, vectorizer__max_df=0.5, vectorizer__min_df=5, vectorizer__ngram_range=(1, 2);, score=0.616 total time=  11.4s\n",
      "[CV 1/3; 15/24] START classifier__C=1, vectorizer__max_df=1.0, vectorizer__min_df=5, vectorizer__ngram_range=(1, 1)\n",
      "[CV 1/3; 10/24] END classifier__C=1, vectorizer__max_df=0.5, vectorizer__min_df=0, vectorizer__ngram_range=(1, 2);, score=0.592 total time=  20.7s\n",
      "[CV 2/3; 15/24] START classifier__C=1, vectorizer__max_df=1.0, vectorizer__min_df=5, vectorizer__ngram_range=(1, 1)\n",
      "[CV 3/3; 13/24] END classifier__C=1, vectorizer__max_df=1.0, vectorizer__min_df=0, vectorizer__ngram_range=(1, 1);, score=0.636 total time=   8.5s\n",
      "[CV 3/3; 15/24] START classifier__C=1, vectorizer__max_df=1.0, vectorizer__min_df=5, vectorizer__ngram_range=(1, 1)\n",
      "[CV 3/3; 10/24] END classifier__C=1, vectorizer__max_df=0.5, vectorizer__min_df=0, vectorizer__ngram_range=(1, 2);, score=0.602 total time=  20.9s\n",
      "[CV 1/3; 16/24] START classifier__C=1, vectorizer__max_df=1.0, vectorizer__min_df=5, vectorizer__ngram_range=(1, 2)\n",
      "[CV 2/3; 10/24] END classifier__C=1, vectorizer__max_df=0.5, vectorizer__min_df=0, vectorizer__ngram_range=(1, 2);, score=0.605 total time=  21.5s\n",
      "[CV 2/3; 16/24] START classifier__C=1, vectorizer__max_df=1.0, vectorizer__min_df=5, vectorizer__ngram_range=(1, 2)\n",
      "[CV 1/3; 15/24] END classifier__C=1, vectorizer__max_df=1.0, vectorizer__min_df=5, vectorizer__ngram_range=(1, 1);, score=0.619 total time=   5.9s\n",
      "[CV 3/3; 16/24] START classifier__C=1, vectorizer__max_df=1.0, vectorizer__min_df=5, vectorizer__ngram_range=(1, 2)\n",
      "[CV 2/3; 15/24] END classifier__C=1, vectorizer__max_df=1.0, vectorizer__min_df=5, vectorizer__ngram_range=(1, 1);, score=0.626 total time=   6.5s\n",
      "[CV 1/3; 17/24] START classifier__C=100, vectorizer__max_df=0.5, vectorizer__min_df=0, vectorizer__ngram_range=(1, 1)\n",
      "[CV 3/3; 15/24] END classifier__C=1, vectorizer__max_df=1.0, vectorizer__min_df=5, vectorizer__ngram_range=(1, 1);, score=0.626 total time=   6.5s\n",
      "[CV 2/3; 17/24] START classifier__C=100, vectorizer__max_df=0.5, vectorizer__min_df=0, vectorizer__ngram_range=(1, 1)\n",
      "[CV 1/3; 16/24] END classifier__C=1, vectorizer__max_df=1.0, vectorizer__min_df=5, vectorizer__ngram_range=(1, 2);, score=0.613 total time=  12.2s\n",
      "[CV 3/3; 17/24] START classifier__C=100, vectorizer__max_df=0.5, vectorizer__min_df=0, vectorizer__ngram_range=(1, 1)\n",
      "[CV 2/3; 16/24] END classifier__C=1, vectorizer__max_df=1.0, vectorizer__min_df=5, vectorizer__ngram_range=(1, 2);, score=0.625 total time=  12.3s\n",
      "[CV 1/3; 18/24] START classifier__C=100, vectorizer__max_df=0.5, vectorizer__min_df=0, vectorizer__ngram_range=(1, 2)\n",
      "[CV 3/3; 16/24] END classifier__C=1, vectorizer__max_df=1.0, vectorizer__min_df=5, vectorizer__ngram_range=(1, 2);, score=0.621 total time=  12.8s\n",
      "[CV 2/3; 18/24] START classifier__C=100, vectorizer__max_df=0.5, vectorizer__min_df=0, vectorizer__ngram_range=(1, 2)\n",
      "[CV 1/3; 14/24] END classifier__C=1, vectorizer__max_df=1.0, vectorizer__min_df=0, vectorizer__ngram_range=(1, 2);, score=0.621 total time=  22.9s\n",
      "[CV 3/3; 18/24] START classifier__C=100, vectorizer__max_df=0.5, vectorizer__min_df=0, vectorizer__ngram_range=(1, 2)\n",
      "[CV 2/3; 14/24] END classifier__C=1, vectorizer__max_df=1.0, vectorizer__min_df=0, vectorizer__ngram_range=(1, 2);, score=0.632 total time=  23.0s\n",
      "[CV 1/3; 19/24] START classifier__C=100, vectorizer__max_df=0.5, vectorizer__min_df=5, vectorizer__ngram_range=(1, 1)\n",
      "[CV 3/3; 14/24] END classifier__C=1, vectorizer__max_df=1.0, vectorizer__min_df=0, vectorizer__ngram_range=(1, 2);, score=0.631 total time=  23.1s\n",
      "[CV 2/3; 19/24] START classifier__C=100, vectorizer__max_df=0.5, vectorizer__min_df=5, vectorizer__ngram_range=(1, 1)\n",
      "[CV 1/3; 17/24] END classifier__C=100, vectorizer__max_df=0.5, vectorizer__min_df=0, vectorizer__ngram_range=(1, 1);, score=0.633 total time=  28.6s\n",
      "[CV 3/3; 19/24] START classifier__C=100, vectorizer__max_df=0.5, vectorizer__min_df=5, vectorizer__ngram_range=(1, 1)\n",
      "[CV 1/3; 19/24] END classifier__C=100, vectorizer__max_df=0.5, vectorizer__min_df=5, vectorizer__ngram_range=(1, 1);, score=0.609 total time=  18.6s\n",
      "[CV 1/3; 20/24] START classifier__C=100, vectorizer__max_df=0.5, vectorizer__min_df=5, vectorizer__ngram_range=(1, 2)\n",
      "[CV 2/3; 19/24] END classifier__C=100, vectorizer__max_df=0.5, vectorizer__min_df=5, vectorizer__ngram_range=(1, 1);, score=0.612 total time=  19.6s\n",
      "[CV 2/3; 17/24] END classifier__C=100, vectorizer__max_df=0.5, vectorizer__min_df=0, vectorizer__ngram_range=(1, 1);, score=0.639 total time=  31.8s\n",
      "[CV 2/3; 20/24] START classifier__C=100, vectorizer__max_df=0.5, vectorizer__min_df=5, vectorizer__ngram_range=(1, 2)\n",
      "[CV 3/3; 20/24] START classifier__C=100, vectorizer__max_df=0.5, vectorizer__min_df=5, vectorizer__ngram_range=(1, 2)\n",
      "[CV 3/3; 17/24] END classifier__C=100, vectorizer__max_df=0.5, vectorizer__min_df=0, vectorizer__ngram_range=(1, 1);, score=0.642 total time=  27.2s\n",
      "[CV 1/3; 21/24] START classifier__C=100, vectorizer__max_df=1.0, vectorizer__min_df=0, vectorizer__ngram_range=(1, 1)\n",
      "[CV 3/3; 19/24] END classifier__C=100, vectorizer__max_df=0.5, vectorizer__min_df=5, vectorizer__ngram_range=(1, 1);, score=0.620 total time=  16.9s\n",
      "[CV 2/3; 21/24] START classifier__C=100, vectorizer__max_df=1.0, vectorizer__min_df=0, vectorizer__ngram_range=(1, 1)\n",
      "[CV 1/3; 20/24] END classifier__C=100, vectorizer__max_df=0.5, vectorizer__min_df=5, vectorizer__ngram_range=(1, 2);, score=0.607 total time=  36.4s\n",
      "[CV 3/3; 21/24] START classifier__C=100, vectorizer__max_df=1.0, vectorizer__min_df=0, vectorizer__ngram_range=(1, 1)\n",
      "[CV 2/3; 20/24] END classifier__C=100, vectorizer__max_df=0.5, vectorizer__min_df=5, vectorizer__ngram_range=(1, 2);, score=0.616 total time=  36.1s\n",
      "[CV 1/3; 22/24] START classifier__C=100, vectorizer__max_df=1.0, vectorizer__min_df=0, vectorizer__ngram_range=(1, 2)\n",
      "[CV 3/3; 20/24] END classifier__C=100, vectorizer__max_df=0.5, vectorizer__min_df=5, vectorizer__ngram_range=(1, 2);, score=0.616 total time=  36.4s\n",
      "[CV 2/3; 22/24] START classifier__C=100, vectorizer__max_df=1.0, vectorizer__min_df=0, vectorizer__ngram_range=(1, 2)\n",
      "[CV 1/3; 21/24] END classifier__C=100, vectorizer__max_df=1.0, vectorizer__min_df=0, vectorizer__ngram_range=(1, 1);, score=0.642 total time=  35.8s\n",
      "[CV 3/3; 22/24] START classifier__C=100, vectorizer__max_df=1.0, vectorizer__min_df=0, vectorizer__ngram_range=(1, 2)\n",
      "[CV 2/3; 18/24] END classifier__C=100, vectorizer__max_df=0.5, vectorizer__min_df=0, vectorizer__ngram_range=(1, 2);, score=0.649 total time= 1.1min\n",
      "[CV 1/3; 23/24] START classifier__C=100, vectorizer__max_df=1.0, vectorizer__min_df=5, vectorizer__ngram_range=(1, 1)\n",
      "[CV 3/3; 18/24] END classifier__C=100, vectorizer__max_df=0.5, vectorizer__min_df=0, vectorizer__ngram_range=(1, 2);, score=0.653 total time= 1.1min\n",
      "[CV 1/3; 18/24] END classifier__C=100, vectorizer__max_df=0.5, vectorizer__min_df=0, vectorizer__ngram_range=(1, 2);, score=0.641 total time= 1.2min\n",
      "[CV 2/3; 23/24] START classifier__C=100, vectorizer__max_df=1.0, vectorizer__min_df=5, vectorizer__ngram_range=(1, 1)\n",
      "[CV 3/3; 23/24] START classifier__C=100, vectorizer__max_df=1.0, vectorizer__min_df=5, vectorizer__ngram_range=(1, 1)\n",
      "[CV 2/3; 21/24] END classifier__C=100, vectorizer__max_df=1.0, vectorizer__min_df=0, vectorizer__ngram_range=(1, 1);, score=0.650 total time=  33.1s\n",
      "[CV 1/3; 24/24] START classifier__C=100, vectorizer__max_df=1.0, vectorizer__min_df=5, vectorizer__ngram_range=(1, 2)\n",
      "[CV 1/3; 23/24] END classifier__C=100, vectorizer__max_df=1.0, vectorizer__min_df=5, vectorizer__ngram_range=(1, 1);, score=0.613 total time=  20.7s\n",
      "[CV 2/3; 24/24] START classifier__C=100, vectorizer__max_df=1.0, vectorizer__min_df=5, vectorizer__ngram_range=(1, 2)\n",
      "[CV 3/3; 21/24] END classifier__C=100, vectorizer__max_df=1.0, vectorizer__min_df=0, vectorizer__ngram_range=(1, 1);, score=0.652 total time=  29.3s\n",
      "[CV 3/3; 24/24] START classifier__C=100, vectorizer__max_df=1.0, vectorizer__min_df=5, vectorizer__ngram_range=(1, 2)\n",
      "[CV 2/3; 23/24] END classifier__C=100, vectorizer__max_df=1.0, vectorizer__min_df=5, vectorizer__ngram_range=(1, 1);, score=0.616 total time=  19.6s\n",
      "[CV 3/3; 23/24] END classifier__C=100, vectorizer__max_df=1.0, vectorizer__min_df=5, vectorizer__ngram_range=(1, 1);, score=0.621 total time=  20.5s\n",
      "[CV 1/3; 24/24] END classifier__C=100, vectorizer__max_df=1.0, vectorizer__min_df=5, vectorizer__ngram_range=(1, 2);, score=0.609 total time=  36.0s\n",
      "[CV 3/3; 24/24] END classifier__C=100, vectorizer__max_df=1.0, vectorizer__min_df=5, vectorizer__ngram_range=(1, 2);, score=0.621 total time=  31.3s\n",
      "[CV 2/3; 24/24] END classifier__C=100, vectorizer__max_df=1.0, vectorizer__min_df=5, vectorizer__ngram_range=(1, 2);, score=0.620 total time=  33.2s\n",
      "[CV 1/3; 22/24] END classifier__C=100, vectorizer__max_df=1.0, vectorizer__min_df=0, vectorizer__ngram_range=(1, 2);, score=0.654 total time= 1.0min\n",
      "[CV 3/3; 22/24] END classifier__C=100, vectorizer__max_df=1.0, vectorizer__min_df=0, vectorizer__ngram_range=(1, 2);, score=0.663 total time=  59.3s\n",
      "[CV 2/3; 22/24] END classifier__C=100, vectorizer__max_df=1.0, vectorizer__min_df=0, vectorizer__ngram_range=(1, 2);, score=0.662 total time= 1.0min\n",
      "Using these hyperparameters {'classifier__C': 100, 'vectorizer__max_df': 1.0, 'vectorizer__min_df': 0, 'vectorizer__ngram_range': (1, 2)}, we get the best performance.\n"
     ]
    }
   ],
   "source": [
    "pipeline = Pipeline(steps = [('vectorizer', TfidfVectorizer()), ('classifier', LogisticRegression(solver='liblinear'))])\n",
    "\n",
    "grid = {\n",
    "    'vectorizer__ngram_range' : [(1,1), (1,2)],\n",
    "    'vectorizer__max_df': [0.5, 1.0],\n",
    "    'vectorizer__min_df': [0, 5],\n",
    "    'classifier__C': [0.01, 1, 100]\n",
    "}\n",
    "\n",
    "f1 = make_scorer(f1_score, average='macro') # macro --> emphasizes the prediction of the smaller classes (in this case: hateful/ spam)\n",
    "\n",
    "search = GridSearchCV(estimator=pipeline,\n",
    "                      param_grid=grid,\n",
    "                      #scoring='accuracy', \n",
    "                      scoring=f1,     # note that this is *not* the string 'f1', but the scorer object we constructed above\n",
    "                      cv=3,\n",
    "                      n_jobs=-1,  # use all cpus\n",
    "                      verbose=10)\n",
    "                      \n",
    "search.fit(X_train, y_train)\n",
    "print(f'Using these hyperparameters {search.best_params_}, we get the best performance.')\n"
   ]
  },
  {
   "cell_type": "code",
   "execution_count": 35,
   "id": "321fccad",
   "metadata": {},
   "outputs": [
    {
     "name": "stdout",
     "output_type": "stream",
     "text": [
      "              precision    recall  f1-score   support\n",
      "\n",
      "     abusive       0.87      0.90      0.88      5369\n",
      "     hateful       0.58      0.28      0.38       966\n",
      "      normal       0.84      0.88      0.85     10848\n",
      "        spam       0.57      0.53      0.55      2817\n",
      "\n",
      "    accuracy                           0.80     20000\n",
      "   macro avg       0.71      0.65      0.67     20000\n",
      "weighted avg       0.80      0.80      0.80     20000\n",
      "\n"
     ]
    }
   ],
   "source": [
    "print(classification_report(y_test, search.predict(X_test)))"
   ]
  },
  {
   "cell_type": "code",
   "execution_count": null,
   "id": "9a3b031e",
   "metadata": {},
   "outputs": [],
   "source": []
  }
 ],
 "metadata": {
  "kernelspec": {
   "display_name": "Python 3.8.2 64-bit",
   "language": "python",
   "name": "python3"
  },
  "language_info": {
   "codemirror_mode": {
    "name": "ipython",
    "version": 3
   },
   "file_extension": ".py",
   "mimetype": "text/x-python",
   "name": "python",
   "nbconvert_exporter": "python",
   "pygments_lexer": "ipython3",
   "version": "3.8.2"
  },
  "vscode": {
   "interpreter": {
    "hash": "31f2aee4e71d21fbe5cf8b01ff0e069b9275f58929596ceb00d14d90e3e16cd6"
   }
  }
 },
 "nbformat": 4,
 "nbformat_minor": 5
}
