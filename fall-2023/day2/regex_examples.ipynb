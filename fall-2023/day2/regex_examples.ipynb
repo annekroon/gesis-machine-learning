{
 "cells": [
  {
   "cell_type": "markdown",
   "id": "a40591da",
   "metadata": {},
   "source": [
    "`.` matches any character\n",
    "\n",
    "`*` the expression before occurs 0 or more times\n",
    "\n",
    "`+` the expression before occurs 1 or more times\n",
    " "
   ]
  },
  {
   "cell_type": "code",
   "execution_count": null,
   "id": "1bf9ceff",
   "metadata": {},
   "outputs": [],
   "source": [
    "import re"
   ]
  },
  {
   "cell_type": "code",
   "execution_count": 63,
   "id": "d425c262",
   "metadata": {},
   "outputs": [
    {
     "data": {
      "text/plain": [
       "'** ** you hello'"
      ]
     },
     "execution_count": 63,
     "metadata": {},
     "output_type": "execute_result"
    }
   ],
   "source": [
    "pattern = r\"[A-Z]+\"\n",
    "example_string = \"HOW ARE you hello\"\n",
    "subs = \"**\"\n",
    "\n",
    "re.sub(pattern, subs, example_string)"
   ]
  },
  {
   "cell_type": "code",
   "execution_count": 72,
   "id": "d2ab8e84",
   "metadata": {},
   "outputs": [
    {
     "data": {
      "text/plain": [
       "[' ', ' ', ' ', ' ', ' ', ' ', ' ', ' ', '!!']"
      ]
     },
     "execution_count": 72,
     "metadata": {},
     "output_type": "execute_result"
    }
   ],
   "source": [
    "#pattern= r\"[^a-zA-Z]+\" #other empty strings represent the sequences of characters that are not alphabetic characters but are separated by spaces\n",
    "#pattern = r\"\\d+\"\n",
    "pattern = r\"\\W+\"\n",
    "example_string = \"a sentence with stuff in 052953 and so forth!!\"\n",
    "\n",
    "re.findall(pattern, example_string)"
   ]
  },
  {
   "cell_type": "code",
   "execution_count": 13,
   "id": "7a8a3fa4",
   "metadata": {},
   "outputs": [],
   "source": [
    "## r indicates that this is a raw string: backslashes are treated as literal characters and not escape characters"
   ]
  },
  {
   "cell_type": "code",
   "execution_count": 78,
   "id": "667b53fb",
   "metadata": {},
   "outputs": [
    {
     "data": {
      "text/plain": [
       "['RT @TimSenders']"
      ]
     },
     "execution_count": 78,
     "metadata": {},
     "output_type": "execute_result"
    }
   ],
   "source": [
    "pattern = 'RT ?:? @[a-zA-Z]*'\n",
    "example_string = 'iewjogejiwojg RT @TimSenders395 iegwjo'\n",
    "\n",
    "re.findall(pattern, example_string)"
   ]
  },
  {
   "cell_type": "code",
   "execution_count": 88,
   "id": "739aff06",
   "metadata": {},
   "outputs": [
    {
     "data": {
      "text/plain": [
       "['ABN', 'amro', 'ABNAMRO', 'abn amro']"
      ]
     },
     "execution_count": 88,
     "metadata": {},
     "output_type": "execute_result"
    }
   ],
   "source": [
    "test_string = 'ABN and also amro. ABNAMRO and abn amro'\n",
    "pattern = r'\\b(ABN\\s+AMRO|ABNAMRO|ABN|AMRO)\\b'\n",
    "\n",
    "re.findall(pattern, test_string, re.IGNORECASE)"
   ]
  },
  {
   "cell_type": "code",
   "execution_count": 80,
   "id": "966086a2",
   "metadata": {},
   "outputs": [
    {
     "data": {
      "text/plain": [
       "'A DUTCH BANK and also A DUTCH BANK. A DUTCH BANK and A DUTCH BANK'"
      ]
     },
     "execution_count": 80,
     "metadata": {},
     "output_type": "execute_result"
    }
   ],
   "source": [
    "replacement_string = 'A DUTCH BANK'\n",
    "re.sub(pattern, replacement_string, test_string, flags=re.IGNORECASE)"
   ]
  },
  {
   "cell_type": "code",
   "execution_count": null,
   "id": "cd04afbd",
   "metadata": {},
   "outputs": [],
   "source": []
  },
  {
   "cell_type": "markdown",
   "id": "b0fbfa88",
   "metadata": {},
   "source": [
    "`\\b:` Word boundary anchor.\n",
    "\n",
    "ABN`\\s+`AMRO: Matches \"ABN AMRO\" with one or more spaces in between."
   ]
  }
 ],
 "metadata": {
  "kernelspec": {
   "display_name": "Python 3 (ipykernel)",
   "language": "python",
   "name": "python3"
  },
  "language_info": {
   "codemirror_mode": {
    "name": "ipython",
    "version": 3
   },
   "file_extension": ".py",
   "mimetype": "text/x-python",
   "name": "python",
   "nbconvert_exporter": "python",
   "pygments_lexer": "ipython3",
   "version": "3.9.6"
  }
 },
 "nbformat": 4,
 "nbformat_minor": 5
}
