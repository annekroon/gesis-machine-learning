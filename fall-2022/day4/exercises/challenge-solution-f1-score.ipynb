{
 "cells": [
  {
   "cell_type": "code",
   "execution_count": 1,
   "id": "43c2a279",
   "metadata": {},
   "outputs": [],
   "source": [
    "# reading data\n",
    "## Example with GridSearch CV\n",
    "#https://stackoverflow.com/questions/38555650/try-multiple-estimator-in-one-grid-search/53292354\n",
    "import csv\n",
    "from collections import Counter\n",
    "import matplotlib.pyplot as plt\n",
    "from sklearn.model_selection import train_test_split\n",
    "from sklearn.svm import LinearSVC\n",
    "from sklearn.linear_model import LogisticRegression\n",
    "from sklearn.ensemble import RandomForestClassifier\n",
    "from sklearn.neural_network import MLPClassifier\n",
    "from sklearn.model_selection import GridSearchCV\n",
    "from sklearn.model_selection import train_test_split\n",
    "from sklearn.naive_bayes import MultinomialNB\n",
    "import numpy as np\n",
    "from sklearn.pipeline import Pipeline\n",
    "from sklearn.feature_extraction.text import TfidfVectorizer,CountVectorizer\n",
    "from sklearn.metrics import f1_score, make_scorer, classification_report\n",
    "import pandas as pd\n",
    "from sklearn.metrics import classification_report"
   ]
  },
  {
   "cell_type": "code",
   "execution_count": 2,
   "id": "a20d5248",
   "metadata": {},
   "outputs": [
    {
     "name": "stdout",
     "output_type": "stream",
     "text": [
      "Beats by Dr. Dre urBeats Wired In-Ear Headphones - White https://t.co/9tREpqfyW4 https://t.co/FCaWyWRbpE\tspam\t4\n",
      "RT @Papapishu: Man it would fucking rule if we had a party that was against perpetual warfare.\tabusive\t4\n",
      "It is time to draw close to Him &#128591;&#127995; Father, I draw near to you now and always ❤️ https://t.co/MVRBBX2aqJ\tnormal\t4\n",
      "if you notice me start to act different or distant.. it's bc i peeped something you did or i notice a difference in how you act &amp; ian fw it.\tnormal\t5\n",
      "Forget unfollowers, I believe in growing. 7 new followers in the last day! Stats via https://t.co/bunPHQNXhj\tnormal\t3\n",
      "RT @Vitiligoprince: Hate Being sexually Frustrated Like I wanna Fuck But ion wanna Just fuck anybody\tabusive\t4\n",
      "Topped the group in TGP Disc Jam Season 2! Onto the Semi-Finals! @HighHorseGames https://t.co/N7LE8lX7Rm\tnormal\t3\n",
      "That daily baby aspirin for your #heart just might be preventing colon #cancer too. https://t.co/2TLawmHhEe\tnormal\t5\n",
      "I liked a @YouTube video from @mattshea https://t.co/niSeJrLKHq THE BLUE ARMY IS COMING! - Ancient Warfare 2\tnormal\t2\n",
      "RT @LestuhGang_: If your fucking up &amp; your homies dont tell you that your fucking up, those ain't your homies\tabusive\t4\n"
     ]
    }
   ],
   "source": [
    "path = 'hatespeech_text_label_vote_RESTRICTED_100K.csv'\n",
    "!head hatespeech_text_label_vote_RESTRICTED_100K.csv\n",
    "#tweet, label, number of voters"
   ]
  },
  {
   "cell_type": "code",
   "execution_count": 3,
   "id": "70b12239",
   "metadata": {},
   "outputs": [],
   "source": [
    "tweets = []\n",
    "labels = []\n",
    "with open(path) as fi:\n",
    "    data = csv.reader(fi, delimiter='\\t')\n",
    "    for row in data:\n",
    "        tweets.append(row[0])\n",
    "        labels.append(row[1]) "
   ]
  },
  {
   "cell_type": "code",
   "execution_count": 4,
   "id": "688576dc",
   "metadata": {},
   "outputs": [
    {
     "name": "stdout",
     "output_type": "stream",
     "text": [
      "99996\n"
     ]
    }
   ],
   "source": [
    "## sanity checks\n",
    "len(tweets) == len(labels)\n",
    "print(len(tweets))"
   ]
  },
  {
   "cell_type": "code",
   "execution_count": 5,
   "id": "5df95e2b",
   "metadata": {},
   "outputs": [
    {
     "data": {
      "text/plain": [
       "Counter({'spam': 14030, 'abusive': 27150, 'normal': 53851, 'hateful': 4965})"
      ]
     },
     "execution_count": 5,
     "metadata": {},
     "output_type": "execute_result"
    }
   ],
   "source": [
    "Counter(labels)"
   ]
  },
  {
   "cell_type": "code",
   "execution_count": 6,
   "id": "bde935c7",
   "metadata": {},
   "outputs": [
    {
     "data": {
      "text/plain": [
       "<BarContainer object of 4 artists>"
      ]
     },
     "execution_count": 6,
     "metadata": {},
     "output_type": "execute_result"
    },
    {
     "data": {
      "image/png": "[encoded data removed]",
      "text/plain": [
       "<Figure size 432x288 with 1 Axes>"
      ]
     },
     "metadata": {
      "needs_background": "light"
     },
     "output_type": "display_data"
    }
   ],
   "source": [
    "plt.bar(Counter(labels).keys(), Counter(labels).values())"
   ]
  },
  {
   "cell_type": "code",
   "execution_count": 21,
   "id": "090db905",
   "metadata": {},
   "outputs": [],
   "source": [
    "X_train, X_test, y_train, y_test = train_test_split(tweets, labels, test_size=0.2, random_state=42)\n"
   ]
  },
  {
   "cell_type": "code",
   "execution_count": 22,
   "id": "8ec6ba91",
   "metadata": {},
   "outputs": [
    {
     "name": "stdout",
     "output_type": "stream",
     "text": [
      "Fitting 2 folds for each of 24 candidates, totalling 48 fits\n",
      "[CV 1/2; 1/24] START classifier__C=0.01, vectorizer__max_df=0.5, vectorizer__min_df=0, vectorizer__ngram_range=(1, 1)\n",
      "[CV 2/2; 1/24] START classifier__C=0.01, vectorizer__max_df=0.5, vectorizer__min_df=0, vectorizer__ngram_range=(1, 1)\n",
      "[CV 1/2; 2/24] START classifier__C=0.01, vectorizer__max_df=0.5, vectorizer__min_df=0, vectorizer__ngram_range=(1, 2)\n",
      "[CV 2/2; 2/24] START classifier__C=0.01, vectorizer__max_df=0.5, vectorizer__min_df=0, vectorizer__ngram_range=(1, 2)\n",
      "[CV 1/2; 3/24] START classifier__C=0.01, vectorizer__max_df=0.5, vectorizer__min_df=5, vectorizer__ngram_range=(1, 1)\n",
      "[CV 2/2; 3/24] START classifier__C=0.01, vectorizer__max_df=0.5, vectorizer__min_df=5, vectorizer__ngram_range=(1, 1)\n",
      "[CV 1/2; 4/24] START classifier__C=0.01, vectorizer__max_df=0.5, vectorizer__min_df=5, vectorizer__ngram_range=(1, 2)\n",
      "[CV 2/2; 4/24] START classifier__C=0.01, vectorizer__max_df=0.5, vectorizer__min_df=5, vectorizer__ngram_range=(1, 2)\n",
      "[CV 1/2; 3/24] END classifier__C=0.01, vectorizer__max_df=0.5, vectorizer__min_df=5, vectorizer__ngram_range=(1, 1);, score=0.352 total time=   4.1s\n",
      "[CV 2/2; 3/24] END classifier__C=0.01, vectorizer__max_df=0.5, vectorizer__min_df=5, vectorizer__ngram_range=(1, 1);, score=0.350 total time=   4.1s\n",
      "[CV 1/2; 5/24] START classifier__C=0.01, vectorizer__max_df=1.0, vectorizer__min_df=0, vectorizer__ngram_range=(1, 1)\n",
      "[CV 2/2; 5/24] START classifier__C=0.01, vectorizer__max_df=1.0, vectorizer__min_df=0, vectorizer__ngram_range=(1, 1)\n",
      "[CV 1/2; 1/24] END classifier__C=0.01, vectorizer__max_df=0.5, vectorizer__min_df=0, vectorizer__ngram_range=(1, 1);, score=0.336 total time=   4.9s\n",
      "[CV 2/2; 1/24] END classifier__C=0.01, vectorizer__max_df=0.5, vectorizer__min_df=0, vectorizer__ngram_range=(1, 1);, score=0.334 total time=   5.0s\n",
      "[CV 1/2; 6/24] START classifier__C=0.01, vectorizer__max_df=1.0, vectorizer__min_df=0, vectorizer__ngram_range=(1, 2)\n",
      "[CV 2/2; 6/24] START classifier__C=0.01, vectorizer__max_df=1.0, vectorizer__min_df=0, vectorizer__ngram_range=(1, 2)\n",
      "[CV 1/2; 4/24] END classifier__C=0.01, vectorizer__max_df=0.5, vectorizer__min_df=5, vectorizer__ngram_range=(1, 2);, score=0.287 total time=   7.8s\n",
      "[CV 2/2; 4/24] END classifier__C=0.01, vectorizer__max_df=0.5, vectorizer__min_df=5, vectorizer__ngram_range=(1, 2);, score=0.289 total time=   7.8s\n",
      "[CV 1/2; 7/24] START classifier__C=0.01, vectorizer__max_df=1.0, vectorizer__min_df=5, vectorizer__ngram_range=(1, 1)\n",
      "[CV 2/2; 7/24] START classifier__C=0.01, vectorizer__max_df=1.0, vectorizer__min_df=5, vectorizer__ngram_range=(1, 1)\n",
      "[CV 1/2; 5/24] END classifier__C=0.01, vectorizer__max_df=1.0, vectorizer__min_df=0, vectorizer__ngram_range=(1, 1);, score=0.338 total time=   4.9s\n",
      "[CV 1/2; 8/24] START classifier__C=0.01, vectorizer__max_df=1.0, vectorizer__min_df=5, vectorizer__ngram_range=(1, 2)\n",
      "[CV 2/2; 5/24] END classifier__C=0.01, vectorizer__max_df=1.0, vectorizer__min_df=0, vectorizer__ngram_range=(1, 1);, score=0.337 total time=   4.9s\n",
      "[CV 2/2; 8/24] START classifier__C=0.01, vectorizer__max_df=1.0, vectorizer__min_df=5, vectorizer__ngram_range=(1, 2)\n",
      "[CV 1/2; 2/24] END classifier__C=0.01, vectorizer__max_df=0.5, vectorizer__min_df=0, vectorizer__ngram_range=(1, 2);, score=0.216 total time=  11.8s\n",
      "[CV 2/2; 2/24] END classifier__C=0.01, vectorizer__max_df=0.5, vectorizer__min_df=0, vectorizer__ngram_range=(1, 2);, score=0.215 total time=  11.9s\n",
      "[CV 1/2; 9/24] START classifier__C=1, vectorizer__max_df=0.5, vectorizer__min_df=0, vectorizer__ngram_range=(1, 1)\n",
      "[CV 2/2; 9/24] START classifier__C=1, vectorizer__max_df=0.5, vectorizer__min_df=0, vectorizer__ngram_range=(1, 1)\n",
      "[CV 1/2; 7/24] END classifier__C=0.01, vectorizer__max_df=1.0, vectorizer__min_df=5, vectorizer__ngram_range=(1, 1);, score=0.359 total time=   4.3s\n",
      "[CV 2/2; 7/24] END classifier__C=0.01, vectorizer__max_df=1.0, vectorizer__min_df=5, vectorizer__ngram_range=(1, 1);, score=0.358 total time=   4.2s\n",
      "[CV 1/2; 10/24] START classifier__C=1, vectorizer__max_df=0.5, vectorizer__min_df=0, vectorizer__ngram_range=(1, 2)\n",
      "[CV 2/2; 10/24] START classifier__C=1, vectorizer__max_df=0.5, vectorizer__min_df=0, vectorizer__ngram_range=(1, 2)\n",
      "[CV 1/2; 6/24] END classifier__C=0.01, vectorizer__max_df=1.0, vectorizer__min_df=0, vectorizer__ngram_range=(1, 2);, score=0.215 total time=  12.2s\n",
      "[CV 1/2; 11/24] START classifier__C=1, vectorizer__max_df=0.5, vectorizer__min_df=5, vectorizer__ngram_range=(1, 1)\n",
      "[CV 2/2; 6/24] END classifier__C=0.01, vectorizer__max_df=1.0, vectorizer__min_df=0, vectorizer__ngram_range=(1, 2);, score=0.213 total time=  12.2s\n",
      "[CV 2/2; 11/24] START classifier__C=1, vectorizer__max_df=0.5, vectorizer__min_df=5, vectorizer__ngram_range=(1, 1)\n",
      "[CV 1/2; 8/24] END classifier__C=0.01, vectorizer__max_df=1.0, vectorizer__min_df=5, vectorizer__ngram_range=(1, 2);, score=0.296 total time=   8.4s\n",
      "[CV 1/2; 12/24] START classifier__C=1, vectorizer__max_df=0.5, vectorizer__min_df=5, vectorizer__ngram_range=(1, 2)\n",
      "[CV 2/2; 8/24] END classifier__C=0.01, vectorizer__max_df=1.0, vectorizer__min_df=5, vectorizer__ngram_range=(1, 2);, score=0.299 total time=   8.5s\n",
      "[CV 2/2; 12/24] START classifier__C=1, vectorizer__max_df=0.5, vectorizer__min_df=5, vectorizer__ngram_range=(1, 2)\n",
      "[CV 1/2; 9/24] END classifier__C=1, vectorizer__max_df=0.5, vectorizer__min_df=0, vectorizer__ngram_range=(1, 1);, score=0.608 total time=   6.5s\n",
      "[CV 2/2; 9/24] END classifier__C=1, vectorizer__max_df=0.5, vectorizer__min_df=0, vectorizer__ngram_range=(1, 1);, score=0.608 total time=   6.3s\n",
      "[CV 1/2; 13/24] START classifier__C=1, vectorizer__max_df=1.0, vectorizer__min_df=0, vectorizer__ngram_range=(1, 1)\n",
      "[CV 2/2; 13/24] START classifier__C=1, vectorizer__max_df=1.0, vectorizer__min_df=0, vectorizer__ngram_range=(1, 1)\n",
      "[CV 1/2; 11/24] END classifier__C=1, vectorizer__max_df=0.5, vectorizer__min_df=5, vectorizer__ngram_range=(1, 1);, score=0.611 total time=   5.3s\n",
      "[CV 1/2; 14/24] START classifier__C=1, vectorizer__max_df=1.0, vectorizer__min_df=0, vectorizer__ngram_range=(1, 2)\n",
      "[CV 2/2; 11/24] END classifier__C=1, vectorizer__max_df=0.5, vectorizer__min_df=5, vectorizer__ngram_range=(1, 1);, score=0.611 total time=   5.4s\n",
      "[CV 2/2; 14/24] START classifier__C=1, vectorizer__max_df=1.0, vectorizer__min_df=0, vectorizer__ngram_range=(1, 2)\n",
      "[CV 2/2; 13/24] END classifier__C=1, vectorizer__max_df=1.0, vectorizer__min_df=0, vectorizer__ngram_range=(1, 1);, score=0.628 total time=   8.0s\n",
      "[CV 1/2; 13/24] END classifier__C=1, vectorizer__max_df=1.0, vectorizer__min_df=0, vectorizer__ngram_range=(1, 1);, score=0.626 total time=   8.1s\n",
      "[CV 1/2; 15/24] START classifier__C=1, vectorizer__max_df=1.0, vectorizer__min_df=5, vectorizer__ngram_range=(1, 1)\n",
      "[CV 2/2; 15/24] START classifier__C=1, vectorizer__max_df=1.0, vectorizer__min_df=5, vectorizer__ngram_range=(1, 1)\n",
      "[CV 1/2; 12/24] END classifier__C=1, vectorizer__max_df=0.5, vectorizer__min_df=5, vectorizer__ngram_range=(1, 2);, score=0.604 total time=  10.2s\n",
      "[CV 1/2; 16/24] START classifier__C=1, vectorizer__max_df=1.0, vectorizer__min_df=5, vectorizer__ngram_range=(1, 2)\n",
      "[CV 2/2; 12/24] END classifier__C=1, vectorizer__max_df=0.5, vectorizer__min_df=5, vectorizer__ngram_range=(1, 2);, score=0.607 total time=  10.2s\n",
      "[CV 2/2; 16/24] START classifier__C=1, vectorizer__max_df=1.0, vectorizer__min_df=5, vectorizer__ngram_range=(1, 2)\n",
      "[CV 1/2; 10/24] END classifier__C=1, vectorizer__max_df=0.5, vectorizer__min_df=0, vectorizer__ngram_range=(1, 2);, score=0.582 total time=  17.6s\n",
      "[CV 2/2; 10/24] END classifier__C=1, vectorizer__max_df=0.5, vectorizer__min_df=0, vectorizer__ngram_range=(1, 2);, score=0.587 total time=  17.5s\n",
      "[CV 1/2; 17/24] START classifier__C=100, vectorizer__max_df=0.5, vectorizer__min_df=0, vectorizer__ngram_range=(1, 1)\n",
      "[CV 2/2; 17/24] START classifier__C=100, vectorizer__max_df=0.5, vectorizer__min_df=0, vectorizer__ngram_range=(1, 1)\n",
      "[CV 2/2; 15/24] END classifier__C=1, vectorizer__max_df=1.0, vectorizer__min_df=5, vectorizer__ngram_range=(1, 1);, score=0.618 total time=   6.0s\n",
      "[CV 1/2; 15/24] END classifier__C=1, vectorizer__max_df=1.0, vectorizer__min_df=5, vectorizer__ngram_range=(1, 1);, score=0.618 total time=   6.2s\n",
      "[CV 1/2; 18/24] START classifier__C=100, vectorizer__max_df=0.5, vectorizer__min_df=0, vectorizer__ngram_range=(1, 2)\n",
      "[CV 2/2; 18/24] START classifier__C=100, vectorizer__max_df=0.5, vectorizer__min_df=0, vectorizer__ngram_range=(1, 2)\n",
      "[CV 1/2; 16/24] END classifier__C=1, vectorizer__max_df=1.0, vectorizer__min_df=5, vectorizer__ngram_range=(1, 2);, score=0.611 total time=  11.9s\n",
      "[CV 1/2; 19/24] START classifier__C=100, vectorizer__max_df=0.5, vectorizer__min_df=5, vectorizer__ngram_range=(1, 1)\n",
      "[CV 2/2; 16/24] END classifier__C=1, vectorizer__max_df=1.0, vectorizer__min_df=5, vectorizer__ngram_range=(1, 2);, score=0.613 total time=  12.1s\n",
      "[CV 2/2; 19/24] START classifier__C=100, vectorizer__max_df=0.5, vectorizer__min_df=5, vectorizer__ngram_range=(1, 1)\n",
      "[CV 1/2; 14/24] END classifier__C=1, vectorizer__max_df=1.0, vectorizer__min_df=0, vectorizer__ngram_range=(1, 2);, score=0.614 total time=  19.5s\n",
      "[CV 2/2; 14/24] END classifier__C=1, vectorizer__max_df=1.0, vectorizer__min_df=0, vectorizer__ngram_range=(1, 2);, score=0.619 total time=  19.3s\n",
      "[CV 1/2; 20/24] START classifier__C=100, vectorizer__max_df=0.5, vectorizer__min_df=5, vectorizer__ngram_range=(1, 2)\n",
      "[CV 2/2; 20/24] START classifier__C=100, vectorizer__max_df=0.5, vectorizer__min_df=5, vectorizer__ngram_range=(1, 2)\n",
      "[CV 1/2; 17/24] END classifier__C=100, vectorizer__max_df=0.5, vectorizer__min_df=0, vectorizer__ngram_range=(1, 1);, score=0.631 total time=  18.1s\n",
      "[CV 1/2; 21/24] START classifier__C=100, vectorizer__max_df=1.0, vectorizer__min_df=0, vectorizer__ngram_range=(1, 1)\n",
      "[CV 2/2; 17/24] END classifier__C=100, vectorizer__max_df=0.5, vectorizer__min_df=0, vectorizer__ngram_range=(1, 1);, score=0.638 total time=  19.6s\n",
      "[CV 2/2; 21/24] START classifier__C=100, vectorizer__max_df=1.0, vectorizer__min_df=0, vectorizer__ngram_range=(1, 1)\n",
      "[CV 1/2; 19/24] END classifier__C=100, vectorizer__max_df=0.5, vectorizer__min_df=5, vectorizer__ngram_range=(1, 1);, score=0.604 total time=  14.6s\n",
      "[CV 1/2; 22/24] START classifier__C=100, vectorizer__max_df=1.0, vectorizer__min_df=0, vectorizer__ngram_range=(1, 2)\n",
      "[CV 2/2; 19/24] END classifier__C=100, vectorizer__max_df=0.5, vectorizer__min_df=5, vectorizer__ngram_range=(1, 1);, score=0.610 total time=  15.7s\n",
      "[CV 2/2; 22/24] START classifier__C=100, vectorizer__max_df=1.0, vectorizer__min_df=0, vectorizer__ngram_range=(1, 2)\n",
      "[CV 1/2; 20/24] END classifier__C=100, vectorizer__max_df=0.5, vectorizer__min_df=5, vectorizer__ngram_range=(1, 2);, score=0.607 total time=  24.2s\n",
      "[CV 1/2; 23/24] START classifier__C=100, vectorizer__max_df=1.0, vectorizer__min_df=5, vectorizer__ngram_range=(1, 1)\n",
      "[CV 2/2; 20/24] END classifier__C=100, vectorizer__max_df=0.5, vectorizer__min_df=5, vectorizer__ngram_range=(1, 2);, score=0.611 total time=  24.6s\n",
      "[CV 2/2; 23/24] START classifier__C=100, vectorizer__max_df=1.0, vectorizer__min_df=5, vectorizer__ngram_range=(1, 1)\n",
      "[CV 1/2; 21/24] END classifier__C=100, vectorizer__max_df=1.0, vectorizer__min_df=0, vectorizer__ngram_range=(1, 1);, score=0.637 total time=  24.0s\n",
      "[CV 1/2; 24/24] START classifier__C=100, vectorizer__max_df=1.0, vectorizer__min_df=5, vectorizer__ngram_range=(1, 2)\n",
      "[CV 2/2; 21/24] END classifier__C=100, vectorizer__max_df=1.0, vectorizer__min_df=0, vectorizer__ngram_range=(1, 1);, score=0.648 total time=  23.5s\n",
      "[CV 2/2; 24/24] START classifier__C=100, vectorizer__max_df=1.0, vectorizer__min_df=5, vectorizer__ngram_range=(1, 2)\n",
      "[CV 1/2; 18/24] END classifier__C=100, vectorizer__max_df=0.5, vectorizer__min_df=0, vectorizer__ngram_range=(1, 2);, score=0.636 total time=  47.8s\n",
      "[CV 1/2; 23/24] END classifier__C=100, vectorizer__max_df=1.0, vectorizer__min_df=5, vectorizer__ngram_range=(1, 1);, score=0.608 total time=  17.1s\n",
      "[CV 2/2; 23/24] END classifier__C=100, vectorizer__max_df=1.0, vectorizer__min_df=5, vectorizer__ngram_range=(1, 1);, score=0.613 total time=  17.5s\n",
      "[CV 2/2; 18/24] END classifier__C=100, vectorizer__max_df=0.5, vectorizer__min_df=0, vectorizer__ngram_range=(1, 2);, score=0.645 total time=  52.2s\n",
      "[CV 1/2; 24/24] END classifier__C=100, vectorizer__max_df=1.0, vectorizer__min_df=5, vectorizer__ngram_range=(1, 2);, score=0.610 total time=  22.2s\n",
      "[CV 2/2; 24/24] END classifier__C=100, vectorizer__max_df=1.0, vectorizer__min_df=5, vectorizer__ngram_range=(1, 2);, score=0.615 total time=  22.4s\n",
      "[CV 1/2; 22/24] END classifier__C=100, vectorizer__max_df=1.0, vectorizer__min_df=0, vectorizer__ngram_range=(1, 2);, score=0.650 total time=  42.5s\n",
      "[CV 2/2; 22/24] END classifier__C=100, vectorizer__max_df=1.0, vectorizer__min_df=0, vectorizer__ngram_range=(1, 2);, score=0.661 total time=  41.1s\n"
     ]
    }
   ],
   "source": [
    "pipeline = Pipeline(steps = [('vectorizer', TfidfVectorizer()), ('classifier', LogisticRegression(solver='liblinear'))])\n",
    "\n",
    "grid = {\n",
    "    'vectorizer__ngram_range' : [(1,1), (1,2)],\n",
    "    'vectorizer__max_df': [0.5, 1.0],\n",
    "    'vectorizer__min_df': [0, 5],\n",
    "    'classifier__C': [0.01, 1, 100]\n",
    "}\n",
    "\n",
    "f1 = make_scorer(f1_score, average='macro') # macro --> emphasizes the prediction of the smaller classes (in this case: hateful/ spam)\n",
    "\n",
    "search = GridSearchCV(estimator=pipeline,\n",
    "                      param_grid=grid,\n",
    "                      scoring=f1, \n",
    "                      cv=3,\n",
    "                      n_jobs=-1,  # use all cpus\n",
    "                      verbose=10)\n",
    "                      \n",
    "search.fit(X_train, y_train)\n",
    "\n",
    "print(f'Using these hyperparameters {search.best_params_}, we get the best performance:')\n"
   ]
  },
  {
   "cell_type": "code",
   "execution_count": null,
   "id": "321fccad",
   "metadata": {},
   "outputs": [],
   "source": [
    "print(classification_report(X_test, search.predict(y_test)))"
   ]
  }
 ],
 "metadata": {
  "kernelspec": {
   "display_name": "Python 3.8.2 64-bit",
   "language": "python",
   "name": "python3"
  },
  "language_info": {
   "codemirror_mode": {
    "name": "ipython",
    "version": 3
   },
   "file_extension": ".py",
   "mimetype": "text/x-python",
   "name": "python",
   "nbconvert_exporter": "python",
   "pygments_lexer": "ipython3",
   "version": "3.8.2"
  },
  "vscode": {
   "interpreter": {
    "hash": "31f2aee4e71d21fbe5cf8b01ff0e069b9275f58929596ceb00d14d90e3e16cd6"
   }
  }
 },
 "nbformat": 4,
 "nbformat_minor": 5
}
