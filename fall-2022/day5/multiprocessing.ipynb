{
 "cells": [
  {
   "cell_type": "markdown",
   "metadata": {},
   "source": [
    "# Multiprocessing\n",
    "\n",
    "This is a very, very, very brief example for a very complex topic: multiprocessing and multithreading.\n",
    "The core idea is easy, though: If you loop over, say, a list of objects to process them, you don't always have to wait for the first object to be processed before you can do the second, but you could do that in parallel. That's especially useful if you have multiple cores."
   ]
  },
  {
   "cell_type": "code",
   "execution_count": 1,
   "metadata": {},
   "outputs": [],
   "source": [
    "import re  # for our tokenizer later, don't need it for multiprocessing"
   ]
  },
  {
   "cell_type": "markdown",
   "metadata": {},
   "source": [
    "Example from the Python documentation (https://docs.python.org/3/library/multiprocessing.html):"
   ]
  },
  {
   "cell_type": "code",
   "execution_count": 3,
   "metadata": {},
   "outputs": [
    {
     "name": "stdout",
     "output_type": "stream",
     "text": [
      "[1, 4, 9]\n"
     ]
    }
   ],
   "source": [
    "from multiprocessing import Pool\n",
    "\n",
    "def f(x):\n",
    "    return x*x\n",
    "p = Pool(5)\n",
    "if __name__ == '__main__':        # in our course, we didn't discuss the if __name__=='__main__' construct yet\n",
    "        print(p.map(f, [1, 2, 3]))"
   ]
  },
  {
   "cell_type": "markdown",
   "metadata": {},
   "source": [
    "## Now for us!\n",
    "Let's apply it to our context:"
   ]
  },
  {
   "cell_type": "code",
   "execution_count": 5,
   "metadata": {},
   "outputs": [
    {
     "name": "stdout",
     "output_type": "stream",
     "text": [
      "[['this', 'some', 'text'], ['this', 'some', 'other', 'text'], ['number', 'three'], ['good', 'morning', 'this', 'text'], ['bye']]\n"
     ]
    }
   ],
   "source": [
    "\n",
    "def my_preprocessing(t):\n",
    "    '''takes a string t and returns a very basic tokenized list'''\n",
    "    return [e for e in re.split(r\"\\W\", t.lower()) if len(e)>2]\n",
    "\n",
    "mydata = [\"This is some text\", \"This is some other text\", \"Number three\", \"Good morning! This is text\",\"Bye!\"]\n",
    "\n",
    "result = [my_preprocessing(text) for text in mydata]\n",
    "print(result)"
   ]
  },
  {
   "cell_type": "code",
   "execution_count": 6,
   "metadata": {},
   "outputs": [
    {
     "name": "stdout",
     "output_type": "stream",
     "text": [
      "[['this', 'some', 'text'], ['this', 'some', 'other', 'text'], ['number', 'three'], ['good', 'morning', 'this', 'text'], ['bye']]\n"
     ]
    }
   ],
   "source": [
    "# now with multiprocessing instead\n",
    "\n",
    "N_PROCESSES=3\n",
    "\n",
    "with Pool(N_PROCESSES) as p:\n",
    "    result2 = p.map(my_preprocessing,mydata)\n",
    "print(result2)"
   ]
  },
  {
   "cell_type": "code",
   "execution_count": 7,
   "metadata": {},
   "outputs": [
    {
     "data": {
      "text/plain": [
       "True"
      ]
     },
     "execution_count": 7,
     "metadata": {},
     "output_type": "execute_result"
    }
   ],
   "source": [
    "result == result2"
   ]
  },
  {
   "cell_type": "markdown",
   "metadata": {},
   "source": [
    "Of course, this does not make sense for such little data because the overhead is higher than the gain, timewise."
   ]
  },
  {
   "cell_type": "code",
   "execution_count": null,
   "metadata": {},
   "outputs": [],
   "source": []
  }
 ],
 "metadata": {
  "kernelspec": {
   "display_name": "Python 3",
   "language": "python",
   "name": "python3"
  },
  "language_info": {
   "codemirror_mode": {
    "name": "ipython",
    "version": 3
   },
   "file_extension": ".py",
   "mimetype": "text/x-python",
   "name": "python",
   "nbconvert_exporter": "python",
   "pygments_lexer": "ipython3",
   "version": "3.8.10"
  }
 },
 "nbformat": 4,
 "nbformat_minor": 4
}
