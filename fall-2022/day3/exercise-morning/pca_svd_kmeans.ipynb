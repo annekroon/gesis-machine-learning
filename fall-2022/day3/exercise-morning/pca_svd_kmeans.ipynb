{
 "cells": [
  {
   "cell_type": "markdown",
   "metadata": {},
   "source": [
    "# Examples UML"
   ]
  },
  {
   "cell_type": "code",
   "execution_count": 1,
   "metadata": {},
   "outputs": [],
   "source": [
    "from sklearn import datasets\n",
    "from sklearn.decomposition import PCA\n",
    "from sklearn.decomposition import TruncatedSVD\n",
    "from sklearn.feature_extraction.text import CountVectorizer\n",
    "from sklearn.pipeline import make_pipeline\n",
    "from sklearn.preprocessing import FunctionTransformer\n",
    "import random\n",
    "import csv\n",
    "random.seed(555)\n",
    "import matplotlib.pyplot as plt\n",
    "%matplotlib inline\n",
    "\n",
    "autotexts = datasets.fetch_20newsgroups(categories=['rec.autos'], remove=('headers', 'footers', 'quotes'), subset='train')['data']\n",
    "religiontexts = datasets.fetch_20newsgroups(categories=['soc.religion.christian'], remove=('headers', 'footers', 'quotes'), subset='train')['data']\n",
    "\n",
    "texts = autotexts[:20] + religiontexts[:20]\n",
    "random.shuffle(texts)"
   ]
  },
  {
   "cell_type": "code",
   "execution_count": 2,
   "metadata": {},
   "outputs": [
    {
     "data": {
      "text/plain": [
       "(599, 594)"
      ]
     },
     "execution_count": 2,
     "metadata": {},
     "output_type": "execute_result"
    }
   ],
   "source": [
    "len(religiontexts), len(autotexts)"
   ]
  },
  {
   "cell_type": "code",
   "execution_count": 3,
   "metadata": {},
   "outputs": [],
   "source": [
    "datasets.fetch_20newsgroups?"
   ]
  },
  {
   "cell_type": "code",
   "execution_count": 3,
   "metadata": {},
   "outputs": [
    {
     "data": {
      "text/plain": [
       "('I wrote in response to dlecoint@garnet.acns.fsu.edu (Darius_Lecointe):\\n\\n\\nWas Paul a God too? Is an interpretation of the words of Paul of higher\\npriority than the direct word of Jesus in Matt5:14-19? Paul begins\\nRomans 14 with \"If someone is weak in the faith ...\" Do you count\\nyourself as one who is weak in the faith?\\n\\n\\nYes, but what does the Bible have to say? What did Jesus say? Paul\\ncloses Romans 14 with, \"On the other hand, the person with doubts about\\nsomething who eats it anyway is guilty, because he isn\\'t acting on his\\nfaith, and any failure to act on faith is a sin.\" Gaus, ISBN:0-933999-99-2\\nHave you read the Ten Commandments which are a portion of the Law? Have\\nyou read Jesus\\' word in Matt5:14-19? Is there any doubt in your mind\\nabout what is right and what is sin (Greek hamartia = missing the mark)?\\n\\n\\nWhereas, the Ten Commandments and Jesus\\' words in Matt5:14-19 are fairly\\nclear, are they not?\\n\\n\\nMatt5:14-19 doesn\\'t answer your question?\\n\\n\\nBreaking bread - roughly synonymous with eating.\\n\\n\\nHow do you unite this concept of yours with the Ten Commandments and\\nJesus\\'s word in Matt5:14-19?\\n\\n\\nOr, they assumed that the Ten Commandments and Jesus\\' word in\\nMatt5:14-19 actually stood for something? Perhaps they were \"strong in\\nthe faith?\"\\n\\n---------------------------\\n\\n[No, I don\\'t believe that Paul can overrule God.  However Paul was\\nwriting for a largely Gentile audience.  The Law was regarded by Jews\\nat the time (and now) as binding on Jews, but not on Gentiles.  There\\nare rules that were binding on all human beings (the so-called Noachic\\nlaws), but they are quite minimal.  The issue that the Church had to\\nface after Jesus\\' death was what to do about Gentiles who wanted to\\nfollow Christ.  The decision not to impose the Law on them didn\\'t say\\nthat the Law was abolished.  It simply acknowledged that fact that it\\ndidn\\'t apply to Gentiles.  Thus there is no contradiction with Mat 5.\\nAs far as I can tell, both Paul and other Jewish Christians did\\ncontinue to participate in Jewish worship on the Sabbath.  Thus they\\ncontinued to obey the Law.  The issue was (and is) with Gentile\\nChristians, who are not covered by the Law (or at least not by the\\nceremonial aspects of it).\\n\\nJesus dealt mostly with Jews.  I think we can reasonably assume that\\nMat 5 was directed to a Jewish audience.  He did interact with\\nGentiles a few times (e.g. the centurion whose slave was healed and a\\ncouple of others).  The terms used to describe the centurion (see Luke\\n7) suggest that he was a \"God-fearer\", i.e. a Gentile who followed\\nGod, but had not adopted the whole Jewish Law.  He was commended by\\nJewish elders as a worthy person, and Jesus accepted him as such.\\nThis seems to me to indicate that Jesus accepted the prevailing view\\nthat Gentiles need not accept the Law.\\n\\nHowever there\\'s more involved if you want to compare Jesus and Paul on\\nthe Law.  In order to get a full picture of the role of the Law, we\\nhave to come to grips with Paul\\'s apparent rejection of the Law, and\\nhow that relates to Jesus\\' commendation of the Law.  At least as I\\nread Paul, he says that the Law serves a purpose that has been in a\\ncertain sense superceded.  Again, this issue isn\\'t one of the\\nabolition of the Law.  In the middle of his discussion, Paul notes\\nthat he might be understood this way, and assures us that that\\'s not\\nwhat he intends to say.  Rather, he sees the Law as primarily being\\npresent to convict people of their sinfulness.  But ultimately it\\'s an\\nimpossible standard, and one that has been superceded by Christ.\\nPaul\\'s comments are not the world\\'s clearest here, and not everyone\\nagrees with my reading.  But the interesting thing to notice is that\\neven this radical position does not entail an abolition of the Law.\\nIt still remains as an uncompromising standard, from which not an iota\\nor dot may be removed.  For its purpose of convicting of sin, it\\'s\\nimportant that it not be relaxed.  However for Christians, it\\'s not\\nthe end -- ultimately we live in faith, not Law.\\n\\nWhile the theoretical categories they use are rather different, in the\\nend I think Jesus and Paul come to a rather similar conclusion.  The\\nquoted passage from Mat 5 should be taken in the context of the rest\\nof the Sermon on the Mount, where Jesus shows us how he interprets the\\nLaw.  The \"not an iota or dot\" would suggest a rather literal reading,\\nbut in fact that\\'s not Jesus\\' approach.  Jesus\\' interpretations\\nemphasize the intent of the Law, and stay away from the ceremonial\\ndetails.  Indeed he is well known for taking a rather free attitude\\ntowards the Sabbath and kosher laws.  Some scholars claim that Mat\\n5:17-20 needs to be taken in the context of 1st Cent. Jewish\\ndiscussions.  Jesus accuses his opponents of caring about giving a\\ntenth of even the most minor herbs, but neglecting the things that\\nreally matter: justice, mercy and faith, and caring about how cups and\\nplates are cleaned, but not about the fact that inside the people who\\nuse them are full of extortion and rapacity.  (Mat 23:23-25) This, and\\nthe discussion later in Mat 5, suggest that Jesus has a very specific\\nview of the Law in mind, and that when he talks about maintaining the\\nLaw in its full strength, he is thinking of these aspects of it.\\nPaul\\'s conclusion is similar.  While he talks about the Law being\\nsuperceded, all of the specific examples he gives involve the\\n\"ceremonial law\", such as circumcision and the Sabbath.  He is quite\\nconcerned about maintaining moral standards.\\n\\nThe net result of this is that when Paul talks about the Law being\\nsuperceded, and Jesus talks about the Law being maintained, I believe\\nthey are talking about different aspects of the Law.  Paul is\\nembroiled in arguments about circumcision.  As is natural in letters\\nresponding to specific situations, he\\'s looking at the aspect of the\\nLaw that is currently causing trouble: the Law as specifically Jewish\\nceremonies.  He certainly does not intend to abolish divine standards\\nof conduct.  On the other hand, when Jesus commends the Law, he seems\\nto be talking the Law in its broadest implications for morals and\\nhuman relationships, and deemphasizing those aspects that were later\\nto give Paul so much trouble.\\n\\nIt\\'s unfortunate that people use the same terms in different ways, but\\nwe should be familiar with that from current conflicts.  Look at the\\nway terms like \"family values\" take on special meaning from the\\ncurrent context.  Imagine some poor historian of the future trying to\\nfigure out why \"family values\" should be used as a code word for\\nopposition to homosexuality in one specific period in the U.S.  I\\nthink Law had taken on a similar role in the arguments Paul was\\ninvolved in.  Paul was clearly not rejecting all of the Jewish values\\nthat go along with the term \"Law\", any more than people who concerned\\nabout the \"family values\" movement are really opposed to family\\nvalues.',\n",
       " 'From article <1993Apr5.200048.23421@ucsu.Colorado.EDU>, by lorenzo@rintintin.Colorado.EDU (Eric Lorenzo):\\n\\n--Let me put it like this.  The only similarity between the three models\\n  is the \"300\", or 3-liter engine displacement.  Actually, the SC300 (the\\n  coupe) and the GS300 (the funky-looking new sedan) share the same 3.0\\n  liter inline-six, and the ES300 (popular small sedan) uses 3.0 V6 shared\\n  with the Camry.  The SC300 is a luxury/sports coupe, the GS300 is the new\\n  luxury sedan, and the ES300 is the base executive sedan.  All three look\\n  completely different.\\n\\n--Aamir Qazi\\n-- ')"
      ]
     },
     "execution_count": 3,
     "metadata": {},
     "output_type": "execute_result"
    }
   ],
   "source": [
    "religiontexts[0], autotexts[0]"
   ]
  },
  {
   "cell_type": "code",
   "execution_count": 5,
   "metadata": {},
   "outputs": [
    {
     "data": {
      "text/plain": [
       "\"\\nPerhaps it is because witnesses who have left the compound have all\\ntestified that the BATF shot first, they they did not identify themselves\\nbefore tossing in concussion grenades (not that anyone inside could have\\n_heard_ such identification after being near a concussion grenade) and\\nthe announcement from the BATF that they have sealed the warrant under\\nwhich they were operating - which was a _search_ warrant, by the way,\\n_not_ an arrest warrant.  In short, perhaps because the BATF is wildly\\nout of control and perhaps calmer heads have realized that bombing a\\ncompound full of woman and children will not improve their position.\\nThere is a real chance that Koresh will be able to prove self-defense\\nin court.  That will leave - what? - four officers dead and no one to\\nblame but the BATF.\\n\\nFollowups directed to alt.activism, where the discussion has raged nearly\\nas long as the seige, and which shows every sign of not giving up nearly\\nas soon.\\n\\nLarry Smith (smith@ctron.com)  No, I don't speak for Cabletron.  Need you ask?\""
      ]
     },
     "execution_count": 5,
     "metadata": {},
     "output_type": "execute_result"
    }
   ],
   "source": [
    "texts[20]"
   ]
  },
  {
   "cell_type": "code",
   "execution_count": 6,
   "metadata": {},
   "outputs": [
    {
     "data": {
      "text/plain": [
       "'Heres the life of St. MAria Goretti, posted with kind permission of\\nthe editor of the Australian Catholic Magazine \"Morning Star\".\\n\\nHope you like it.\\n\\n    Put up with anything to prevent sin St. Maria Goretti\\n\\n\\n\\n    Maria was born on October 16th 1890 to Luigi and Assunta Goretti,\\n    the  eldest  daughter  in the family of seven. She was a cheerful\\n    girl, always imitating her parents.  She had but one disire,  but\\n    one wish: to receive our Lord in the Blessed Sacrament.\\n\\n    The date was finally set for little Maria to receive our Lord  on\\n    the feast of Corpus Christi. For Maria, time seemed like an eter-\\n    nity as she  slowly  neared  the  great  day.   When  it  finally\\n    arrived, Fr. Jerome( the priest who was to celebrate the Mass and\\n    give the children their First Holy Communion) delivered a  sermon\\n    on\\tthe  immense love of Jesus Christ for them and the great love\\n    we should have in return for Him. He then warmly  urged  them  to\\n    die rather than commit a mortal sin.\\n\\n    Maria humbly approached the Altar of God and  received  the  Holy\\n    Eucharist.\\tHer  only  sadness  was  the  thought of her father\\'s\\n    absence, who died some time beforehand. As for the\\trest  of  the\\n    day,  Maria remained under the spell of the divine visit; that is\\n    until\\n\\n\\t\\t\\t\\t   -4-\\n\\n\\n\\n\\n\\n\\n\\n    her thoughts changed to when she could go next to Holy Communion.\\n    Thus ended the happiest day of Maria\\'s life.\\n\\n    Over the next twelve months, Maria had changed  from  a  giggling\\n    little girl into a quiet young lady with responsibilities. As her\\n    mother went out into the fields in place of  her  husband,\\tMaria\\n    took  on the ironing, cooking, washing and other motherly duties.\\n    She was doing this not only for her own family, but also for  the\\n    Serenellis, a father and son who lived with the Goretti\\'s, owning\\n    a share in the farm. Although Maria was poorer than all the other\\n    children, she by far surpassed them in virtue. In all thi ngs she\\n    did the Holy Will of God.\\n\\n    During the month of June,  Alessandro  Serenelli(the  son)\\ttwice\\n    made advances upon Maria when he chanced to be alone with her. On\\n    both occasions Maria managed to  struggle  free  of  Alessandro\\'s\\n    strong  grip, but on the second, he threatened to kill her if she\\n    even uttered a word to her mother. From this day on, Maria\\tlived\\n    in terror, fearing lest Alessandro attack again.\\n\\n\\n    On July 5th 1902, Alessandro left work in the fields  to  \"get  a\\n    handkerchief,\"  as\\the  claimed. He went to the storeroom beneath\\n    the house where Maria, who was outside on the  landing  with  the\\n    baby,  could  hear him fumbling about in with tools. She wondered\\n    what he was doing. It was later learned that he was sharpening  a\\n    91/2\"  blade. He went to the house and called for Maria. She told\\n    him she wouldn\\'t go to him unless she knew why she was needed. He\\n    stormed out to the landing and dragged her up to her room. Mar ia\\n    instantly realized what he was up to. \"No, No, No! Do  not\\ttouch\\n    me!  It  is a sin, you will go to Hell!\" At this point Alessandro\\n    held the knife over Maria\\'s chest, who was now on the floor.\\n\\n    \"Will you or will you not?\" Maria gathered all her energy.\\t\"No I\\n    will  not,\\tAlessandro,  no!\"   She had chosen her martyrdom over\\n    sin, God over Satan.  Overcome with rage, Alessandro plunged  the\\n    knife  into   Maria\\'s  breast fourteen times.  Finally he came to\\n    his senses and thought Maria was dead.  Frantically he threw  the\\n    knife behind a closet and locked himself in his room.  The crying\\n    of the baby Teresa\\ton  the  landing  brought  the\\tattention  to\\n    Assunta  and the father of Alessandro. As the baby was unattended\\n    and was in danger of falling off, they ran to the house  to  find\\n    Maria,  who,  covered in blood, was dragging herself to the door.\\n    When asked what happened she said Alessandro  stabbed  her.   \"He\\n    wanted to make me do wrong and I would not.\"\\n\\n    The ambulance arrived, then the police who took Alessandro\\taway.\\n    As\\tthe  ambulance\\tcarried  Maria to the hospital, a large crowd\\n    followed on foot.  The doctors at the  hospital held no hope  for\\n    poor  little Maria.  The same Fr. Jerome who gave Maria her First\\n    Communion\\n\\n\\t\\t\\t\\t   -5-\\n\\n\\n\\n\\n\\n\\n\\n    came to administer the last rites and to give her Holy  Viaticum.\\n    He asked Maria if she would forgive her murderer.  \"Yes.  For the\\n    love of Jesus I forgive him.  I wish for him to one day  join  me\\n    in\\tParadise.   May  God forgive him, for I alread y have.\" Maria\\n    died at about three o\\'clock.\\n\\n    Alessandro was tried  and  found  guilty  of  Maria\\'s  death  but\\n    because  of  his  age  he  was  sentenced to only thirty years in\\n    prison.  After eight  years of being a violent prisoner and show-\\n    ing  no regret for his crime, he saw in a dream, in the  midst of\\n    a field of flowers, Maria holding out a bunch of white lilies  to\\n    him.  Soon later he wrote to the local bishop, begging God\\'s par-\\n    don for the grave sin he had committed.  He later gave  testimony\\n    in\\tMaria\\'s  beatification in 1947.  Less than three years later,\\n    on Ju ne 24th 1950, Maria was canonised.  Assunta Goretti was the\\n    first mother ever to be present at her daughter\\'s canonisation.\\n\\n    May St. Maria Goretti help\\tus  to\\tbe  pure  and  grant  us  the\\n    strength to die rather than commit a mortal sin.\\n\\n    Saint Maria Goretti, pray for us.\\n\\n\\n    by Brendan Arthur\\n'"
      ]
     },
     "execution_count": 6,
     "metadata": {},
     "output_type": "execute_result"
    }
   ],
   "source": [
    "texts[0]"
   ]
  },
  {
   "cell_type": "code",
   "execution_count": 20,
   "metadata": {},
   "outputs": [],
   "source": [
    "myvec = CountVectorizer(max_df=.5, min_df=5)"
   ]
  },
  {
   "cell_type": "code",
   "execution_count": 18,
   "metadata": {},
   "outputs": [],
   "source": [
    "mypca = PCA(n_components=2)"
   ]
  },
  {
   "cell_type": "code",
   "execution_count": 22,
   "metadata": {},
   "outputs": [],
   "source": [
    "mypipe = make_pipeline(myvec, FunctionTransformer(lambda x: x.todense(), accept_sparse=True), mypca)\n",
    "r = mypipe.fit_transform(texts)"
   ]
  },
  {
   "cell_type": "code",
   "execution_count": 23,
   "metadata": {},
   "outputs": [
    {
     "data": {
      "text/plain": [
       "(40, 2)"
      ]
     },
     "execution_count": 23,
     "metadata": {},
     "output_type": "execute_result"
    }
   ],
   "source": [
    "r.shape"
   ]
  },
  {
   "cell_type": "code",
   "execution_count": 24,
   "metadata": {},
   "outputs": [
    {
     "data": {
      "text/plain": [
       "array([ 20.88856326, -11.88221923])"
      ]
     },
     "execution_count": 24,
     "metadata": {},
     "output_type": "execute_result"
    }
   ],
   "source": [
    "r[0]"
   ]
  },
  {
   "cell_type": "code",
   "execution_count": 25,
   "metadata": {},
   "outputs": [
    {
     "data": {
      "text/plain": [
       "<matplotlib.collections.PathCollection at 0x13181ecd0>"
      ]
     },
     "execution_count": 25,
     "metadata": {},
     "output_type": "execute_result"
    },
    {
     "data": {
      "image/png": "[encoded data removed]",
      "text/plain": [
       "<Figure size 432x288 with 1 Axes>"
      ]
     },
     "metadata": {
      "needs_background": "light"
     },
     "output_type": "display_data"
    }
   ],
   "source": [
    "plt.scatter([e[0] for e in r], [e[1] for e in r], alpha=.6)"
   ]
  },
  {
   "cell_type": "code",
   "execution_count": 26,
   "metadata": {},
   "outputs": [
    {
     "name": "stdout",
     "output_type": "stream",
     "text": [
      "Heres the life of St. MAria Goretti, pos 20.888563261180973 -11.88221923274155\n",
      " A question for you - can you give me th 6.91099095293878 -3.683920182067989\n",
      " If you don't already know it, you shoul -5.190653765732617 1.2294878059475682\n",
      "  I think you are vastly oversimplifying -0.07705748710815591 -0.5813748483996386\n",
      "My brother has been alienated from my pa 9.79800341058532 -12.688910556109985\n",
      "Is there anyone out there in NetLand tha -4.804292519202746 1.879478696866425\n",
      "A \"new Christian\" wrote that he was new  1.9591114277945898 -0.7582900021479866\n",
      "Hello,   I have a 92 Toyota 4X4 and in t -3.3477354058113225 0.35367082485507795\n",
      "                            ^^^^^^^^^^^^ -2.089946478051476 2.4285794650817265\n",
      " \tAs a stong self-defense advocate, you' -3.645447207800208 0.2558613343150777\n",
      "True.  Also read 2 Peter 3:16  Peter war -5.277169649831602 2.0616111995448745\n",
      " An interesting interpretation of Revela -2.413623971396889 0.22683960197842937\n",
      "     This is the problem. This is not he -3.0883288190963905 1.8939110824299765\n",
      " I don't understand the fascination with -5.273711734724383 2.0064613784986305\n",
      "  Terms are being used in a loaded way h -4.110696091285015 0.9337053237008333\n",
      "[With Frank's permission, I have added s 50.22919654540346 22.272730390524742\n",
      "Well, there *is* a difference.  I don't  -3.4784842739872595 0.38363252633058426\n",
      "I wrote in response to dlecoint@garnet.a 25.724570707896145 -21.54079352214159\n",
      "   Must there be a \"why\" to this?  I ask -0.924374416885182 1.071103781855318\n",
      "  My whole point was not to say that the -1.4677213940148548 -2.7070337435200837\n",
      " Perhaps it is because witnesses who hav -3.0555171417788745 0.9043388284211462\n",
      "Hello World, \t     just bought a new Ste -5.239782440460179 1.865483132509168\n",
      "Is clear coat really worth it?  Yes, on  -2.6352549338509283 -1.4941678210658613\n",
      "From article <1993Apr5.200048.23421@ucsu -5.122431569344466 2.2459092482156087\n",
      " Sounds a lot more like an Opel GT to me -5.164692239201978 2.0634218583578354\n",
      "DeSoto's first year of manufacture was 1 -4.763166096043698 1.8430195599755401\n",
      " I strongly disagree that absolute truth 1.9858209320896927 -5.096714593484511\n",
      "   > [A very nice article on the DSS, wh -2.9954900379261984 1.1718556098887938\n",
      ": > \t   I'm a commited Christian that is -3.0530698502944076 -0.42526150708061466\n",
      "                        ^^^^^^^^^^^^^^^^ 1.2536309197139077 0.453374316432266\n",
      "     >[I'm sort of mystified about how a -3.6358244369530173 1.2576079901927515\n",
      "Why is it that we have this notion that  -3.2879324460261343 2.3164532655321395\n",
      " Ok, here's what I understand:  The SL/S -1.8633852297179487 0.038125473841316544\n",
      "You can be sure they wouldn't do it if i -5.421147032687404 2.031894164955545\n",
      "Stuff deleted... -5.598634279254133 2.274242665226895\n",
      "James Sledd asks:   1. What is the natur -3.852920547588105 0.8835262210835831\n",
      "  Yes, however, with the top off and the -5.226311822840972 2.113974827725344\n",
      "MK48T02 from thomsom.  It has a timekeep -4.156744286989785 1.1482288571144774\n",
      "  sure sounds like they got a ringer.  t -4.870296548649858 1.17606247581755\n",
      " Because Greyhound has apparently gotten -3.6180440030666565 0.07409410154057898\n"
     ]
    }
   ],
   "source": [
    "for i, case in enumerate(r):\n",
    "    print(texts[i][:40].replace(\"\\n\", \" \"), case[0], case[1])"
   ]
  },
  {
   "cell_type": "code",
   "execution_count": 29,
   "metadata": {},
   "outputs": [],
   "source": [
    "i = 0\n",
    "with open(\"output.csv\", mode=\"w\") as f:\n",
    "    writer = csv.writer(f)\n",
    "    for case in r:\n",
    "        writer.writerow([texts[i], case[0], case[1]])\n",
    "        i+=1"
   ]
  },
  {
   "cell_type": "markdown",
   "metadata": {},
   "source": [
    "or, using pandas to convert to a `df`"
   ]
  },
  {
   "cell_type": "code",
   "execution_count": 27,
   "metadata": {
    "scrolled": true
   },
   "outputs": [
    {
     "data": {
      "text/html": [
       "<div>\n",
       "<style scoped>\n",
       "    .dataframe tbody tr th:only-of-type {\n",
       "        vertical-align: middle;\n",
       "    }\n",
       "\n",
       "    .dataframe tbody tr th {\n",
       "        vertical-align: top;\n",
       "    }\n",
       "\n",
       "    .dataframe thead th {\n",
       "        text-align: right;\n",
       "    }\n",
       "</style>\n",
       "<table border=\"1\" class=\"dataframe\">\n",
       "  <thead>\n",
       "    <tr style=\"text-align: right;\">\n",
       "      <th></th>\n",
       "      <th>texts</th>\n",
       "      <th>comp_1</th>\n",
       "      <th>comp_2</th>\n",
       "    </tr>\n",
       "  </thead>\n",
       "  <tbody>\n",
       "    <tr>\n",
       "      <th>0</th>\n",
       "      <td>Heres the life of St. MAria Goretti, posted wi...</td>\n",
       "      <td>20.888563</td>\n",
       "      <td>-11.882219</td>\n",
       "    </tr>\n",
       "    <tr>\n",
       "      <th>1</th>\n",
       "      <td>\\nA question for you - can you give me the nam...</td>\n",
       "      <td>6.910991</td>\n",
       "      <td>-3.683920</td>\n",
       "    </tr>\n",
       "    <tr>\n",
       "      <th>2</th>\n",
       "      <td>\\nIf you don't already know it, you should cal...</td>\n",
       "      <td>-5.190654</td>\n",
       "      <td>1.229488</td>\n",
       "    </tr>\n",
       "    <tr>\n",
       "      <th>3</th>\n",
       "      <td>\\n\\nI think you are vastly oversimplifying thi...</td>\n",
       "      <td>-0.077057</td>\n",
       "      <td>-0.581375</td>\n",
       "    </tr>\n",
       "    <tr>\n",
       "      <th>4</th>\n",
       "      <td>My brother has been alienated from my parents ...</td>\n",
       "      <td>9.798003</td>\n",
       "      <td>-12.688911</td>\n",
       "    </tr>\n",
       "    <tr>\n",
       "      <th>5</th>\n",
       "      <td>Is there anyone out there in NetLand that has/...</td>\n",
       "      <td>-4.804293</td>\n",
       "      <td>1.879479</td>\n",
       "    </tr>\n",
       "    <tr>\n",
       "      <th>6</th>\n",
       "      <td>A \"new Christian\" wrote that he was new to the...</td>\n",
       "      <td>1.959111</td>\n",
       "      <td>-0.758290</td>\n",
       "    </tr>\n",
       "    <tr>\n",
       "      <th>7</th>\n",
       "      <td>Hello,\\n \\nI have a 92 Toyota 4X4 and in the l...</td>\n",
       "      <td>-3.347735</td>\n",
       "      <td>0.353671</td>\n",
       "    </tr>\n",
       "    <tr>\n",
       "      <th>8</th>\n",
       "      <td>\\n                           ^^^^^^^^^^^^^^^^^...</td>\n",
       "      <td>-2.089946</td>\n",
       "      <td>2.428579</td>\n",
       "    </tr>\n",
       "    <tr>\n",
       "      <th>9</th>\n",
       "      <td>\\n\\tAs a stong self-defense advocate, you're '...</td>\n",
       "      <td>-3.645447</td>\n",
       "      <td>0.255861</td>\n",
       "    </tr>\n",
       "    <tr>\n",
       "      <th>10</th>\n",
       "      <td>True.\\n\\nAlso read 2 Peter 3:16\\n\\nPeter warns...</td>\n",
       "      <td>-5.277170</td>\n",
       "      <td>2.061611</td>\n",
       "    </tr>\n",
       "    <tr>\n",
       "      <th>11</th>\n",
       "      <td>\\nAn interesting interpretation of Revelation ...</td>\n",
       "      <td>-2.413624</td>\n",
       "      <td>0.226840</td>\n",
       "    </tr>\n",
       "    <tr>\n",
       "      <th>12</th>\n",
       "      <td>\\n\\n\\n\\n\\nThis is the problem. This is not hel...</td>\n",
       "      <td>-3.088329</td>\n",
       "      <td>1.893911</td>\n",
       "    </tr>\n",
       "    <tr>\n",
       "      <th>13</th>\n",
       "      <td>\\nI don't understand the fascination with vent...</td>\n",
       "      <td>-5.273712</td>\n",
       "      <td>2.006461</td>\n",
       "    </tr>\n",
       "    <tr>\n",
       "      <th>14</th>\n",
       "      <td>\\n\\nTerms are being used in a loaded way here....</td>\n",
       "      <td>-4.110696</td>\n",
       "      <td>0.933705</td>\n",
       "    </tr>\n",
       "    <tr>\n",
       "      <th>15</th>\n",
       "      <td>[With Frank's permission, I have added some in...</td>\n",
       "      <td>50.229197</td>\n",
       "      <td>22.272730</td>\n",
       "    </tr>\n",
       "    <tr>\n",
       "      <th>16</th>\n",
       "      <td>Well, there *is* a difference.\\n\\nI don't happ...</td>\n",
       "      <td>-3.478484</td>\n",
       "      <td>0.383633</td>\n",
       "    </tr>\n",
       "    <tr>\n",
       "      <th>17</th>\n",
       "      <td>I wrote in response to dlecoint@garnet.acns.fs...</td>\n",
       "      <td>25.724571</td>\n",
       "      <td>-21.540794</td>\n",
       "    </tr>\n",
       "    <tr>\n",
       "      <th>18</th>\n",
       "      <td>\\n\\n\\nMust there be a \"why\" to this?  I ask be...</td>\n",
       "      <td>-0.924374</td>\n",
       "      <td>1.071104</td>\n",
       "    </tr>\n",
       "    <tr>\n",
       "      <th>19</th>\n",
       "      <td>\\n\\nMy whole point was not to say that the car...</td>\n",
       "      <td>-1.467721</td>\n",
       "      <td>-2.707034</td>\n",
       "    </tr>\n",
       "    <tr>\n",
       "      <th>20</th>\n",
       "      <td>\\nPerhaps it is because witnesses who have lef...</td>\n",
       "      <td>-3.055517</td>\n",
       "      <td>0.904339</td>\n",
       "    </tr>\n",
       "    <tr>\n",
       "      <th>21</th>\n",
       "      <td>Hello World,\\n\\t     just bought a new Stealth...</td>\n",
       "      <td>-5.239782</td>\n",
       "      <td>1.865483</td>\n",
       "    </tr>\n",
       "    <tr>\n",
       "      <th>22</th>\n",
       "      <td>Is clear coat really worth it?  Yes, on the sh...</td>\n",
       "      <td>-2.635255</td>\n",
       "      <td>-1.494168</td>\n",
       "    </tr>\n",
       "    <tr>\n",
       "      <th>23</th>\n",
       "      <td>From article &lt;1993Apr5.200048.23421@ucsu.Color...</td>\n",
       "      <td>-5.122432</td>\n",
       "      <td>2.245909</td>\n",
       "    </tr>\n",
       "    <tr>\n",
       "      <th>24</th>\n",
       "      <td>\\nSounds a lot more like an Opel GT to me. I'd...</td>\n",
       "      <td>-5.164692</td>\n",
       "      <td>2.063422</td>\n",
       "    </tr>\n",
       "    <tr>\n",
       "      <th>25</th>\n",
       "      <td>DeSoto's first year of manufacture was 1928, s...</td>\n",
       "      <td>-4.763166</td>\n",
       "      <td>1.843020</td>\n",
       "    </tr>\n",
       "    <tr>\n",
       "      <th>26</th>\n",
       "      <td>\\nI strongly disagree that absolute truth woul...</td>\n",
       "      <td>1.985821</td>\n",
       "      <td>-5.096715</td>\n",
       "    </tr>\n",
       "    <tr>\n",
       "      <th>27</th>\n",
       "      <td>&gt; [A very nice article on the DSS, which I ...</td>\n",
       "      <td>-2.995490</td>\n",
       "      <td>1.171856</td>\n",
       "    </tr>\n",
       "    <tr>\n",
       "      <th>28</th>\n",
       "      <td>: &gt; \\t   I'm a commited Christian that is batt...</td>\n",
       "      <td>-3.053070</td>\n",
       "      <td>-0.425262</td>\n",
       "    </tr>\n",
       "    <tr>\n",
       "      <th>29</th>\n",
       "      <td>^^^^^^^^^^^^^^^^^^^^^^...</td>\n",
       "      <td>1.253631</td>\n",
       "      <td>0.453374</td>\n",
       "    </tr>\n",
       "    <tr>\n",
       "      <th>30</th>\n",
       "      <td>\\n\\n\\n  &gt;[I'm sort of mystified about how a Ch...</td>\n",
       "      <td>-3.635824</td>\n",
       "      <td>1.257608</td>\n",
       "    </tr>\n",
       "    <tr>\n",
       "      <th>31</th>\n",
       "      <td>Why is it that we have this notion that God ta...</td>\n",
       "      <td>-3.287932</td>\n",
       "      <td>2.316453</td>\n",
       "    </tr>\n",
       "    <tr>\n",
       "      <th>32</th>\n",
       "      <td>\\nOk, here's what I understand:\\n\\nThe SL/SL1/...</td>\n",
       "      <td>-1.863385</td>\n",
       "      <td>0.038125</td>\n",
       "    </tr>\n",
       "    <tr>\n",
       "      <th>33</th>\n",
       "      <td>You can be sure they wouldn't do it if it wasn...</td>\n",
       "      <td>-5.421147</td>\n",
       "      <td>2.031894</td>\n",
       "    </tr>\n",
       "    <tr>\n",
       "      <th>34</th>\n",
       "      <td>Stuff deleted...</td>\n",
       "      <td>-5.598634</td>\n",
       "      <td>2.274243</td>\n",
       "    </tr>\n",
       "    <tr>\n",
       "      <th>35</th>\n",
       "      <td>James Sledd asks:\\n\\n 1. What is the nature of...</td>\n",
       "      <td>-3.852921</td>\n",
       "      <td>0.883526</td>\n",
       "    </tr>\n",
       "    <tr>\n",
       "      <th>36</th>\n",
       "      <td>\\n\\nYes, however, with the top off and the rea...</td>\n",
       "      <td>-5.226312</td>\n",
       "      <td>2.113975</td>\n",
       "    </tr>\n",
       "    <tr>\n",
       "      <th>37</th>\n",
       "      <td>MK48T02 from thomsom.  It has a timekeeper (cl...</td>\n",
       "      <td>-4.156744</td>\n",
       "      <td>1.148229</td>\n",
       "    </tr>\n",
       "    <tr>\n",
       "      <th>38</th>\n",
       "      <td>\\n\\nsure sounds like they got a ringer.  the 3...</td>\n",
       "      <td>-4.870297</td>\n",
       "      <td>1.176062</td>\n",
       "    </tr>\n",
       "    <tr>\n",
       "      <th>39</th>\n",
       "      <td>\\nBecause Greyhound has apparently gotten arou...</td>\n",
       "      <td>-3.618044</td>\n",
       "      <td>0.074094</td>\n",
       "    </tr>\n",
       "  </tbody>\n",
       "</table>\n",
       "</div>"
      ],
      "text/plain": [
       "                                                texts     comp_1     comp_2\n",
       "0   Heres the life of St. MAria Goretti, posted wi...  20.888563 -11.882219\n",
       "1   \\nA question for you - can you give me the nam...   6.910991  -3.683920\n",
       "2   \\nIf you don't already know it, you should cal...  -5.190654   1.229488\n",
       "3   \\n\\nI think you are vastly oversimplifying thi...  -0.077057  -0.581375\n",
       "4   My brother has been alienated from my parents ...   9.798003 -12.688911\n",
       "5   Is there anyone out there in NetLand that has/...  -4.804293   1.879479\n",
       "6   A \"new Christian\" wrote that he was new to the...   1.959111  -0.758290\n",
       "7   Hello,\\n \\nI have a 92 Toyota 4X4 and in the l...  -3.347735   0.353671\n",
       "8   \\n                           ^^^^^^^^^^^^^^^^^...  -2.089946   2.428579\n",
       "9   \\n\\tAs a stong self-defense advocate, you're '...  -3.645447   0.255861\n",
       "10  True.\\n\\nAlso read 2 Peter 3:16\\n\\nPeter warns...  -5.277170   2.061611\n",
       "11  \\nAn interesting interpretation of Revelation ...  -2.413624   0.226840\n",
       "12  \\n\\n\\n\\n\\nThis is the problem. This is not hel...  -3.088329   1.893911\n",
       "13  \\nI don't understand the fascination with vent...  -5.273712   2.006461\n",
       "14  \\n\\nTerms are being used in a loaded way here....  -4.110696   0.933705\n",
       "15  [With Frank's permission, I have added some in...  50.229197  22.272730\n",
       "16  Well, there *is* a difference.\\n\\nI don't happ...  -3.478484   0.383633\n",
       "17  I wrote in response to dlecoint@garnet.acns.fs...  25.724571 -21.540794\n",
       "18  \\n\\n\\nMust there be a \"why\" to this?  I ask be...  -0.924374   1.071104\n",
       "19  \\n\\nMy whole point was not to say that the car...  -1.467721  -2.707034\n",
       "20  \\nPerhaps it is because witnesses who have lef...  -3.055517   0.904339\n",
       "21  Hello World,\\n\\t     just bought a new Stealth...  -5.239782   1.865483\n",
       "22  Is clear coat really worth it?  Yes, on the sh...  -2.635255  -1.494168\n",
       "23  From article <1993Apr5.200048.23421@ucsu.Color...  -5.122432   2.245909\n",
       "24  \\nSounds a lot more like an Opel GT to me. I'd...  -5.164692   2.063422\n",
       "25  DeSoto's first year of manufacture was 1928, s...  -4.763166   1.843020\n",
       "26  \\nI strongly disagree that absolute truth woul...   1.985821  -5.096715\n",
       "27     > [A very nice article on the DSS, which I ...  -2.995490   1.171856\n",
       "28  : > \\t   I'm a commited Christian that is batt...  -3.053070  -0.425262\n",
       "29                          ^^^^^^^^^^^^^^^^^^^^^^...   1.253631   0.453374\n",
       "30  \\n\\n\\n  >[I'm sort of mystified about how a Ch...  -3.635824   1.257608\n",
       "31  Why is it that we have this notion that God ta...  -3.287932   2.316453\n",
       "32  \\nOk, here's what I understand:\\n\\nThe SL/SL1/...  -1.863385   0.038125\n",
       "33  You can be sure they wouldn't do it if it wasn...  -5.421147   2.031894\n",
       "34                                   Stuff deleted...  -5.598634   2.274243\n",
       "35  James Sledd asks:\\n\\n 1. What is the nature of...  -3.852921   0.883526\n",
       "36  \\n\\nYes, however, with the top off and the rea...  -5.226312   2.113975\n",
       "37  MK48T02 from thomsom.  It has a timekeeper (cl...  -4.156744   1.148229\n",
       "38  \\n\\nsure sounds like they got a ringer.  the 3...  -4.870297   1.176062\n",
       "39  \\nBecause Greyhound has apparently gotten arou...  -3.618044   0.074094"
      ]
     },
     "execution_count": 27,
     "metadata": {},
     "output_type": "execute_result"
    }
   ],
   "source": [
    "import pandas as pd\n",
    "\n",
    "df = pd.DataFrame(zip(texts, [e[0] for e in r], [e[1] for e in r]), columns=['texts', 'comp_1', 'comp_2']) \n",
    "df"
   ]
  },
  {
   "cell_type": "markdown",
   "metadata": {},
   "source": [
    "if you want to display more texts, you may run:  \n",
    "`df.style.set_properties(subset=['texts'], **{'width': '100px'})`"
   ]
  },
  {
   "cell_type": "code",
   "execution_count": 30,
   "metadata": {},
   "outputs": [
    {
     "data": {
      "text/html": [
       "<div>\n",
       "<style scoped>\n",
       "    .dataframe tbody tr th:only-of-type {\n",
       "        vertical-align: middle;\n",
       "    }\n",
       "\n",
       "    .dataframe tbody tr th {\n",
       "        vertical-align: top;\n",
       "    }\n",
       "\n",
       "    .dataframe thead th {\n",
       "        text-align: right;\n",
       "    }\n",
       "</style>\n",
       "<table border=\"1\" class=\"dataframe\">\n",
       "  <thead>\n",
       "    <tr style=\"text-align: right;\">\n",
       "      <th></th>\n",
       "      <th>0</th>\n",
       "      <th>1</th>\n",
       "      <th>2</th>\n",
       "    </tr>\n",
       "  </thead>\n",
       "  <tbody>\n",
       "    <tr>\n",
       "      <th>0</th>\n",
       "      <td>Heres the life of St. MAria Goretti, posted wi...</td>\n",
       "      <td>20.888563</td>\n",
       "      <td>-11.882219</td>\n",
       "    </tr>\n",
       "    <tr>\n",
       "      <th>1</th>\n",
       "      <td>\\nA question for you - can you give me the nam...</td>\n",
       "      <td>6.910991</td>\n",
       "      <td>-3.683920</td>\n",
       "    </tr>\n",
       "    <tr>\n",
       "      <th>2</th>\n",
       "      <td>\\nIf you don't already know it, you should cal...</td>\n",
       "      <td>-5.190654</td>\n",
       "      <td>1.229488</td>\n",
       "    </tr>\n",
       "    <tr>\n",
       "      <th>3</th>\n",
       "      <td>\\n\\nI think you are vastly oversimplifying thi...</td>\n",
       "      <td>-0.077057</td>\n",
       "      <td>-0.581375</td>\n",
       "    </tr>\n",
       "    <tr>\n",
       "      <th>4</th>\n",
       "      <td>My brother has been alienated from my parents ...</td>\n",
       "      <td>9.798003</td>\n",
       "      <td>-12.688911</td>\n",
       "    </tr>\n",
       "    <tr>\n",
       "      <th>5</th>\n",
       "      <td>Is there anyone out there in NetLand that has/...</td>\n",
       "      <td>-4.804293</td>\n",
       "      <td>1.879479</td>\n",
       "    </tr>\n",
       "    <tr>\n",
       "      <th>6</th>\n",
       "      <td>A \"new Christian\" wrote that he was new to the...</td>\n",
       "      <td>1.959111</td>\n",
       "      <td>-0.758290</td>\n",
       "    </tr>\n",
       "    <tr>\n",
       "      <th>7</th>\n",
       "      <td>Hello,\\n \\nI have a 92 Toyota 4X4 and in the l...</td>\n",
       "      <td>-3.347735</td>\n",
       "      <td>0.353671</td>\n",
       "    </tr>\n",
       "    <tr>\n",
       "      <th>8</th>\n",
       "      <td>\\n                           ^^^^^^^^^^^^^^^^^...</td>\n",
       "      <td>-2.089946</td>\n",
       "      <td>2.428579</td>\n",
       "    </tr>\n",
       "    <tr>\n",
       "      <th>9</th>\n",
       "      <td>\\n\\tAs a stong self-defense advocate, you're '...</td>\n",
       "      <td>-3.645447</td>\n",
       "      <td>0.255861</td>\n",
       "    </tr>\n",
       "    <tr>\n",
       "      <th>10</th>\n",
       "      <td>True.\\n\\nAlso read 2 Peter 3:16\\n\\nPeter warns...</td>\n",
       "      <td>-5.277170</td>\n",
       "      <td>2.061611</td>\n",
       "    </tr>\n",
       "    <tr>\n",
       "      <th>11</th>\n",
       "      <td>\\nAn interesting interpretation of Revelation ...</td>\n",
       "      <td>-2.413624</td>\n",
       "      <td>0.226840</td>\n",
       "    </tr>\n",
       "    <tr>\n",
       "      <th>12</th>\n",
       "      <td>\\n\\n\\n\\n\\nThis is the problem. This is not hel...</td>\n",
       "      <td>-3.088329</td>\n",
       "      <td>1.893911</td>\n",
       "    </tr>\n",
       "    <tr>\n",
       "      <th>13</th>\n",
       "      <td>\\nI don't understand the fascination with vent...</td>\n",
       "      <td>-5.273712</td>\n",
       "      <td>2.006461</td>\n",
       "    </tr>\n",
       "    <tr>\n",
       "      <th>14</th>\n",
       "      <td>\\n\\nTerms are being used in a loaded way here....</td>\n",
       "      <td>-4.110696</td>\n",
       "      <td>0.933705</td>\n",
       "    </tr>\n",
       "    <tr>\n",
       "      <th>15</th>\n",
       "      <td>[With Frank's permission, I have added some in...</td>\n",
       "      <td>50.229197</td>\n",
       "      <td>22.272730</td>\n",
       "    </tr>\n",
       "    <tr>\n",
       "      <th>16</th>\n",
       "      <td>Well, there *is* a difference.\\n\\nI don't happ...</td>\n",
       "      <td>-3.478484</td>\n",
       "      <td>0.383633</td>\n",
       "    </tr>\n",
       "    <tr>\n",
       "      <th>17</th>\n",
       "      <td>I wrote in response to dlecoint@garnet.acns.fs...</td>\n",
       "      <td>25.724571</td>\n",
       "      <td>-21.540794</td>\n",
       "    </tr>\n",
       "    <tr>\n",
       "      <th>18</th>\n",
       "      <td>\\n\\n\\nMust there be a \"why\" to this?  I ask be...</td>\n",
       "      <td>-0.924374</td>\n",
       "      <td>1.071104</td>\n",
       "    </tr>\n",
       "    <tr>\n",
       "      <th>19</th>\n",
       "      <td>\\n\\nMy whole point was not to say that the car...</td>\n",
       "      <td>-1.467721</td>\n",
       "      <td>-2.707034</td>\n",
       "    </tr>\n",
       "    <tr>\n",
       "      <th>20</th>\n",
       "      <td>\\nPerhaps it is because witnesses who have lef...</td>\n",
       "      <td>-3.055517</td>\n",
       "      <td>0.904339</td>\n",
       "    </tr>\n",
       "    <tr>\n",
       "      <th>21</th>\n",
       "      <td>Hello World,\\n\\t     just bought a new Stealth...</td>\n",
       "      <td>-5.239782</td>\n",
       "      <td>1.865483</td>\n",
       "    </tr>\n",
       "    <tr>\n",
       "      <th>22</th>\n",
       "      <td>Is clear coat really worth it?  Yes, on the sh...</td>\n",
       "      <td>-2.635255</td>\n",
       "      <td>-1.494168</td>\n",
       "    </tr>\n",
       "    <tr>\n",
       "      <th>23</th>\n",
       "      <td>From article &lt;1993Apr5.200048.23421@ucsu.Color...</td>\n",
       "      <td>-5.122432</td>\n",
       "      <td>2.245909</td>\n",
       "    </tr>\n",
       "    <tr>\n",
       "      <th>24</th>\n",
       "      <td>\\nSounds a lot more like an Opel GT to me. I'd...</td>\n",
       "      <td>-5.164692</td>\n",
       "      <td>2.063422</td>\n",
       "    </tr>\n",
       "    <tr>\n",
       "      <th>25</th>\n",
       "      <td>DeSoto's first year of manufacture was 1928, s...</td>\n",
       "      <td>-4.763166</td>\n",
       "      <td>1.843020</td>\n",
       "    </tr>\n",
       "    <tr>\n",
       "      <th>26</th>\n",
       "      <td>\\nI strongly disagree that absolute truth woul...</td>\n",
       "      <td>1.985821</td>\n",
       "      <td>-5.096715</td>\n",
       "    </tr>\n",
       "    <tr>\n",
       "      <th>27</th>\n",
       "      <td>&gt; [A very nice article on the DSS, which I ...</td>\n",
       "      <td>-2.995490</td>\n",
       "      <td>1.171856</td>\n",
       "    </tr>\n",
       "    <tr>\n",
       "      <th>28</th>\n",
       "      <td>: &gt; \\t   I'm a commited Christian that is batt...</td>\n",
       "      <td>-3.053070</td>\n",
       "      <td>-0.425262</td>\n",
       "    </tr>\n",
       "    <tr>\n",
       "      <th>29</th>\n",
       "      <td>^^^^^^^^^^^^^^^^^^^^^^...</td>\n",
       "      <td>1.253631</td>\n",
       "      <td>0.453374</td>\n",
       "    </tr>\n",
       "    <tr>\n",
       "      <th>30</th>\n",
       "      <td>\\n\\n\\n  &gt;[I'm sort of mystified about how a Ch...</td>\n",
       "      <td>-3.635824</td>\n",
       "      <td>1.257608</td>\n",
       "    </tr>\n",
       "    <tr>\n",
       "      <th>31</th>\n",
       "      <td>Why is it that we have this notion that God ta...</td>\n",
       "      <td>-3.287932</td>\n",
       "      <td>2.316453</td>\n",
       "    </tr>\n",
       "    <tr>\n",
       "      <th>32</th>\n",
       "      <td>\\nOk, here's what I understand:\\n\\nThe SL/SL1/...</td>\n",
       "      <td>-1.863385</td>\n",
       "      <td>0.038125</td>\n",
       "    </tr>\n",
       "    <tr>\n",
       "      <th>33</th>\n",
       "      <td>You can be sure they wouldn't do it if it wasn...</td>\n",
       "      <td>-5.421147</td>\n",
       "      <td>2.031894</td>\n",
       "    </tr>\n",
       "    <tr>\n",
       "      <th>34</th>\n",
       "      <td>Stuff deleted...</td>\n",
       "      <td>-5.598634</td>\n",
       "      <td>2.274243</td>\n",
       "    </tr>\n",
       "    <tr>\n",
       "      <th>35</th>\n",
       "      <td>James Sledd asks:\\n\\n 1. What is the nature of...</td>\n",
       "      <td>-3.852921</td>\n",
       "      <td>0.883526</td>\n",
       "    </tr>\n",
       "    <tr>\n",
       "      <th>36</th>\n",
       "      <td>\\n\\nYes, however, with the top off and the rea...</td>\n",
       "      <td>-5.226312</td>\n",
       "      <td>2.113975</td>\n",
       "    </tr>\n",
       "    <tr>\n",
       "      <th>37</th>\n",
       "      <td>MK48T02 from thomsom.  It has a timekeeper (cl...</td>\n",
       "      <td>-4.156744</td>\n",
       "      <td>1.148229</td>\n",
       "    </tr>\n",
       "    <tr>\n",
       "      <th>38</th>\n",
       "      <td>\\n\\nsure sounds like they got a ringer.  the 3...</td>\n",
       "      <td>-4.870297</td>\n",
       "      <td>1.176062</td>\n",
       "    </tr>\n",
       "    <tr>\n",
       "      <th>39</th>\n",
       "      <td>\\nBecause Greyhound has apparently gotten arou...</td>\n",
       "      <td>-3.618044</td>\n",
       "      <td>0.074094</td>\n",
       "    </tr>\n",
       "  </tbody>\n",
       "</table>\n",
       "</div>"
      ],
      "text/plain": [
       "                                                    0          1          2\n",
       "0   Heres the life of St. MAria Goretti, posted wi...  20.888563 -11.882219\n",
       "1   \\nA question for you - can you give me the nam...   6.910991  -3.683920\n",
       "2   \\nIf you don't already know it, you should cal...  -5.190654   1.229488\n",
       "3   \\n\\nI think you are vastly oversimplifying thi...  -0.077057  -0.581375\n",
       "4   My brother has been alienated from my parents ...   9.798003 -12.688911\n",
       "5   Is there anyone out there in NetLand that has/...  -4.804293   1.879479\n",
       "6   A \"new Christian\" wrote that he was new to the...   1.959111  -0.758290\n",
       "7   Hello,\\n \\nI have a 92 Toyota 4X4 and in the l...  -3.347735   0.353671\n",
       "8   \\n                           ^^^^^^^^^^^^^^^^^...  -2.089946   2.428579\n",
       "9   \\n\\tAs a stong self-defense advocate, you're '...  -3.645447   0.255861\n",
       "10  True.\\n\\nAlso read 2 Peter 3:16\\n\\nPeter warns...  -5.277170   2.061611\n",
       "11  \\nAn interesting interpretation of Revelation ...  -2.413624   0.226840\n",
       "12  \\n\\n\\n\\n\\nThis is the problem. This is not hel...  -3.088329   1.893911\n",
       "13  \\nI don't understand the fascination with vent...  -5.273712   2.006461\n",
       "14  \\n\\nTerms are being used in a loaded way here....  -4.110696   0.933705\n",
       "15  [With Frank's permission, I have added some in...  50.229197  22.272730\n",
       "16  Well, there *is* a difference.\\n\\nI don't happ...  -3.478484   0.383633\n",
       "17  I wrote in response to dlecoint@garnet.acns.fs...  25.724571 -21.540794\n",
       "18  \\n\\n\\nMust there be a \"why\" to this?  I ask be...  -0.924374   1.071104\n",
       "19  \\n\\nMy whole point was not to say that the car...  -1.467721  -2.707034\n",
       "20  \\nPerhaps it is because witnesses who have lef...  -3.055517   0.904339\n",
       "21  Hello World,\\n\\t     just bought a new Stealth...  -5.239782   1.865483\n",
       "22  Is clear coat really worth it?  Yes, on the sh...  -2.635255  -1.494168\n",
       "23  From article <1993Apr5.200048.23421@ucsu.Color...  -5.122432   2.245909\n",
       "24  \\nSounds a lot more like an Opel GT to me. I'd...  -5.164692   2.063422\n",
       "25  DeSoto's first year of manufacture was 1928, s...  -4.763166   1.843020\n",
       "26  \\nI strongly disagree that absolute truth woul...   1.985821  -5.096715\n",
       "27     > [A very nice article on the DSS, which I ...  -2.995490   1.171856\n",
       "28  : > \\t   I'm a commited Christian that is batt...  -3.053070  -0.425262\n",
       "29                          ^^^^^^^^^^^^^^^^^^^^^^...   1.253631   0.453374\n",
       "30  \\n\\n\\n  >[I'm sort of mystified about how a Ch...  -3.635824   1.257608\n",
       "31  Why is it that we have this notion that God ta...  -3.287932   2.316453\n",
       "32  \\nOk, here's what I understand:\\n\\nThe SL/SL1/...  -1.863385   0.038125\n",
       "33  You can be sure they wouldn't do it if it wasn...  -5.421147   2.031894\n",
       "34                                   Stuff deleted...  -5.598634   2.274243\n",
       "35  James Sledd asks:\\n\\n 1. What is the nature of...  -3.852921   0.883526\n",
       "36  \\n\\nYes, however, with the top off and the rea...  -5.226312   2.113975\n",
       "37  MK48T02 from thomsom.  It has a timekeeper (cl...  -4.156744   1.148229\n",
       "38  \\n\\nsure sounds like they got a ringer.  the 3...  -4.870297   1.176062\n",
       "39  \\nBecause Greyhound has apparently gotten arou...  -3.618044   0.074094"
      ]
     },
     "execution_count": 30,
     "metadata": {},
     "output_type": "execute_result"
    }
   ],
   "source": [
    "import pandas as pd\n",
    "df = pd.read_csv(\"output.csv\", header = None)\n",
    "df"
   ]
  },
  {
   "cell_type": "markdown",
   "metadata": {},
   "source": [
    "## SVD"
   ]
  },
  {
   "cell_type": "code",
   "execution_count": 31,
   "metadata": {},
   "outputs": [
    {
     "data": {
      "text/plain": [
       "1193"
      ]
     },
     "execution_count": 31,
     "metadata": {},
     "output_type": "execute_result"
    }
   ],
   "source": [
    "# make longer dataset\n",
    "texts = autotexts + religiontexts\n",
    "len(texts)"
   ]
  },
  {
   "cell_type": "code",
   "execution_count": 32,
   "metadata": {},
   "outputs": [],
   "source": [
    "mysvd = TruncatedSVD(n_components=2)\n",
    "mypipe = make_pipeline(myvec, mysvd)\n",
    "r = mypipe.fit_transform(texts)"
   ]
  },
  {
   "cell_type": "code",
   "execution_count": 18,
   "metadata": {},
   "outputs": [],
   "source": [
    "TruncatedSVD?"
   ]
  },
  {
   "cell_type": "code",
   "execution_count": 33,
   "metadata": {},
   "outputs": [
    {
     "data": {
      "text/plain": [
       "<matplotlib.collections.PathCollection at 0x133923bb0>"
      ]
     },
     "execution_count": 33,
     "metadata": {},
     "output_type": "execute_result"
    },
    {
     "data": {
      "image/png": "[encoded data removed]",
      "text/plain": [
       "<Figure size 432x288 with 1 Axes>"
      ]
     },
     "metadata": {
      "needs_background": "light"
     },
     "output_type": "display_data"
    }
   ],
   "source": [
    "plt.scatter([e[0] for e in r], [e[1] for e in r], alpha=.6)"
   ]
  },
  {
   "cell_type": "markdown",
   "metadata": {},
   "source": [
    "## clustering"
   ]
  },
  {
   "cell_type": "code",
   "execution_count": 34,
   "metadata": {},
   "outputs": [],
   "source": [
    "from sklearn.feature_extraction.text import TfidfVectorizer\n",
    "from sklearn.cluster import KMeans\n",
    "\n",
    "k = 5\n",
    "\n",
    "vec = TfidfVectorizer(min_df=5, max_df=.4)\n",
    "features = vec.fit_transform(texts)\n",
    "km = KMeans(n_clusters=k, init='k-means++', max_iter=100, n_init=1)\n",
    "predictions = km.fit_predict(features)"
   ]
  },
  {
   "cell_type": "code",
   "execution_count": 35,
   "metadata": {},
   "outputs": [
    {
     "name": "stdout",
     "output_type": "stream",
     "text": [
      "Top terms per cluster:\n",
      "Cluster 0: re air want reading friend here year considered thanks phone \n",
      "Cluster 1: your people who will they do all than one by \n",
      "Cluster 2: car was they my had about cars an out at \n",
      "Cluster 3: he god we his was jesus who will they by \n",
      "Cluster 4: my can we me would there any what do about \n"
     ]
    }
   ],
   "source": [
    "order_centroids = km.cluster_centers_.argsort()[:, ::-1]\n",
    "terms = vec.get_feature_names()\n",
    "\n",
    "print(\"Top terms per cluster:\")\n",
    "\n",
    "for i in range(k):\n",
    "    print(\"Cluster {}: \".format(i), end='')\n",
    "    for ind in order_centroids[i, :10]:\n",
    "        print(\"{} \".format(terms[ind]), end='')\n",
    "    print()"
   ]
  },
  {
   "cell_type": "markdown",
   "metadata": {},
   "source": [
    "# Combining cluster analysis and dimensionality reduction\n",
    "\n",
    "First, let's rewrite the code above to use a pipeline instead of separate steps. Note that this is equivalent to the code above."
   ]
  },
  {
   "cell_type": "code",
   "execution_count": 36,
   "metadata": {},
   "outputs": [],
   "source": [
    "k = 5\n",
    "coolpipe = make_pipeline( TfidfVectorizer(min_df=5, max_df=.4), \n",
    "                         KMeans(n_clusters=k, init='k-means++', max_iter=100, n_init=1))\n",
    "\n",
    "mycoolpredictions = coolpipe.fit_predict(texts)"
   ]
  },
  {
   "cell_type": "code",
   "execution_count": null,
   "metadata": {},
   "outputs": [],
   "source": [
    "# Now, lets add a SVD dimension reduction in between:"
   ]
  },
  {
   "cell_type": "code",
   "execution_count": 37,
   "metadata": {},
   "outputs": [],
   "source": [
    "k = 5\n",
    "evencoolerpipe = make_pipeline( TfidfVectorizer(min_df=5, max_df=.4), \n",
    "                               TruncatedSVD(n_components=10),\n",
    "                               KMeans(n_clusters=k, init='k-means++', max_iter=100, n_init=1))\n",
    "\n",
    "mycoolestpredictions = evencoolerpipe.fit_predict(texts)"
   ]
  },
  {
   "cell_type": "markdown",
   "metadata": {},
   "source": [
    "As you see, it's literally just adding the SVD in the middle of the pipe!"
   ]
  }
 ],
 "metadata": {
  "kernelspec": {
   "display_name": "Python 3 (ipykernel)",
   "language": "python",
   "name": "python3"
  },
  "language_info": {
   "codemirror_mode": {
    "name": "ipython",
    "version": 3
   },
   "file_extension": ".py",
   "mimetype": "text/x-python",
   "name": "python",
   "nbconvert_exporter": "python",
   "pygments_lexer": "ipython3",
   "version": "3.8.2"
  }
 },
 "nbformat": 4,
 "nbformat_minor": 2
}
