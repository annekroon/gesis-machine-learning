{
 "cells": [
  {
   "cell_type": "code",
   "execution_count": null,
   "id": "d9a4305e",
   "metadata": {},
   "outputs": [],
   "source": [
    "import sys\n",
    "import csv\n",
    "\n",
    "from sklearn.svm import SVC\n",
    "from sklearn.feature_extraction.text import CountVectorizer, TfidfVectorizer\n",
    "from sklearn.naive_bayes import MultinomialNB \n",
    "from sklearn.svm import LinearSVC\n",
    "from sklearn.linear_model import LogisticRegression\n",
    "from sklearn.ensemble import RandomForestClassifier\n",
    "from sklearn.naive_bayes import MultinomialNB\n",
    "from sklearn import metrics\n",
    "\n",
    "csv.field_size_limit(sys.maxsize)"
   ]
  },
  {
   "cell_type": "code",
   "execution_count": null,
   "id": "2d2226c0",
   "metadata": {},
   "outputs": [],
   "source": [
    "def get_data(t='test'):\n",
    "    text= []\n",
    "    label= []\n",
    "\n",
    "    with open(f'data-vermeer/{t}.csv') as fi:\n",
    "        next(fi) # skips header row\n",
    "        reader = csv.reader(fi, delimiter=',')\n",
    "\n",
    "        for row in reader:\n",
    "            text.append(row[0])\n",
    "            label.append(row[1])\n",
    "\n",
    "    return text, label"
   ]
  },
  {
   "cell_type": "code",
   "execution_count": null,
   "id": "3c05ae92",
   "metadata": {},
   "outputs": [],
   "source": [
    "X_test, y_test = get_data('test')\n",
    "X_train, y_train = get_data('train')"
   ]
  },
  {
   "cell_type": "code",
   "execution_count": null,
   "id": "9ef3d795",
   "metadata": {},
   "outputs": [],
   "source": [
    "configurations = [('NB with Count', CountVectorizer(min_df=5, max_df=.5), MultinomialNB()),\n",
    "                 ('NB with TfIdf', TfidfVectorizer(min_df=5, max_df=.5), MultinomialNB()),\n",
    "                 ('LogReg with Count', CountVectorizer(min_df=5, max_df=.5), LogisticRegression(solver='liblinear')),\n",
    "                 ('LogReg with TfIdf', TfidfVectorizer(min_df=5, max_df=.5), LogisticRegression(solver='liblinear')),\n",
    "                 ('SVM with Count - rbf kernel', CountVectorizer(min_df=5, max_df=.5), SVC(kernel='rbf')),\n",
    "                 ('SVM with Count - linear kernel', CountVectorizer(min_df=5, max_df=.5), SVC(kernel='linear')),\n",
    "                 ('SVM with Tfidf - rbf kernel', TfidfVectorizer(min_df=5, max_df=.5), SVC(kernel='rbf')),\n",
    "                 ('SVM with Tfidf - linear kernel', TfidfVectorizer(min_df=5, max_df=.5), SVC(kernel='linear')),\n",
    "\n",
    "                 ]\n",
    "\n",
    "for description, vectorizer, classifier in configurations:\n",
    "    print(description)\n",
    "    X_tr = vectorizer.fit_transform(X_train)\n",
    "    X_te = vectorizer.transform(X_test)\n",
    "    classifier.fit(X_tr, y_train)\n",
    "    y_pred = classifier.predict(X_te)\n",
    "    print(metrics.classification_report(y_test, y_pred) )\n",
    "    print('\\n')"
   ]
  },
  {
   "cell_type": "code",
   "execution_count": null,
   "id": "743d01e5",
   "metadata": {},
   "outputs": [],
   "source": []
  }
 ],
 "metadata": {
  "kernelspec": {
   "display_name": "Python 3.8.2 64-bit",
   "language": "python",
   "name": "python3"
  },
  "language_info": {
   "codemirror_mode": {
    "name": "ipython",
    "version": 3
   },
   "file_extension": ".py",
   "mimetype": "text/x-python",
   "name": "python",
   "nbconvert_exporter": "python",
   "pygments_lexer": "ipython3",
   "version": "3.10.14"
  },
  "vscode": {
   "interpreter": {
    "hash": "31f2aee4e71d21fbe5cf8b01ff0e069b9275f58929596ceb00d14d90e3e16cd6"
   }
  }
 },
 "nbformat": 4,
 "nbformat_minor": 5
}
