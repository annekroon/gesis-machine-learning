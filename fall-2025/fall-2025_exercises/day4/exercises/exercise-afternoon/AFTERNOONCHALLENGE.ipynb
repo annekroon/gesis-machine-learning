{
 "cells": [
  {
   "cell_type": "markdown",
   "metadata": {},
   "source": [
    "# Can you create the best classifier? \n",
    "\n",
    "1. Use the file [`hatespeech_text_label_vote_RESTRICTED_100K.csv`](hatespeech_text_label_vote_RESTRICTED_100K.csv) that you can find in the current folder. You can also download the data [here](https://www.dropbox.com/sh/4mapojr85a6sc76/AABYMkjLVG-HhueAgd0qM9kwa?dl=0).\n",
    "\n",
    "2. The data contain one column with tweets (their text only) and a column with a label (*Abusive, Hateful, Normal, Spam*). Calculate some descriptives (e.g., distribution of labels; most frequent words per label etc.)\n",
    "\n",
    "3. Create machine learning classifiers to (a) identify spam; and (b) identify abusive and/or hateful tweets.\n",
    "\n",
    "\n",
    "---\n",
    "\n",
    "### Background info on the data\n",
    "\n",
    "Find more information on this dataset here:\n",
    "http://www.wikicfp.com/cfp/servlet/event.showcfp?eventid=99774&copyownerid=99078\n",
    "\n",
    "\n",
    "Founta, Antigoni Maria, Constantinos Djouvas, Despoina Chatzakou, Ilias Leontiadis, Jeremy Blackburn, Gianluca Stringhini, Athena Vakali, Michael Sirivianos, and Nicolas Kourtellis. \"*Large scale crowdsourcing and characterization of twitter abusive behavior.*\" In Proceedings of the International AAAI Conference on Web and Social Media, 2018."
   ]
  },
  {
   "cell_type": "code",
   "execution_count": 3,
   "metadata": {},
   "outputs": [],
   "source": [
    "import csv\n",
    "import re\n",
    "from collections import Counter\n",
    "import matplotlib.pyplot as plt\n",
    "from sklearn.model_selection import train_test_split,ParameterGrid\n",
    "from sklearn.svm import LinearSVC\n",
    "from sklearn.linear_model import LogisticRegression\n",
    "from sklearn.ensemble import RandomForestClassifier\n",
    "from sklearn.neural_network import MLPClassifier\n",
    "from sklearn.model_selection import GridSearchCV\n",
    "from sklearn.model_selection import train_test_split\n",
    "from sklearn.naive_bayes import MultinomialNB\n",
    "import numpy as np\n",
    "from sklearn.pipeline import Pipeline\n",
    "from sklearn.feature_extraction.text import TfidfVectorizer,CountVectorizer\n",
    "from sklearn.metrics import f1_score, make_scorer, classification_report\n",
    "import pandas as pd\n",
    "from sklearn.metrics import classification_report"
   ]
  },
  {
   "cell_type": "code",
   "execution_count": 2,
   "metadata": {},
   "outputs": [],
   "source": [
    "path = 'hatespeech_text_label_vote_RESTRICTED_100K.csv'"
   ]
  },
  {
   "cell_type": "code",
   "execution_count": 4,
   "metadata": {},
   "outputs": [],
   "source": [
    "# load the tweet data\n",
    "tweets = []\n",
    "labels = []\n",
    "with open(path) as fi:\n",
    "    data = csv.reader(fi, delimiter='\\t')\n",
    "    for row in data:\n",
    "        tweets.append(row[0])\n",
    "        labels.append(row[1]) "
   ]
  },
  {
   "cell_type": "code",
   "execution_count": 5,
   "metadata": {},
   "outputs": [
    {
     "name": "stdout",
     "output_type": "stream",
     "text": [
      "True\n",
      "99996\n"
     ]
    }
   ],
   "source": [
    "## sanity checks\n",
    "print(len(tweets) == len(labels))\n",
    "print(len(tweets))"
   ]
  },
  {
   "cell_type": "code",
   "execution_count": 6,
   "metadata": {},
   "outputs": [
    {
     "data": {
      "text/plain": [
       "Counter({'normal': 53851, 'abusive': 27150, 'spam': 14030, 'hateful': 4965})"
      ]
     },
     "execution_count": 6,
     "metadata": {},
     "output_type": "execute_result"
    }
   ],
   "source": [
    "# Classes are imbalanced... this has implications for the training procedure.\n",
    "Counter(labels)"
   ]
  },
  {
   "cell_type": "code",
   "execution_count": 7,
   "metadata": {},
   "outputs": [
    {
     "data": {
      "text/plain": [
       "<BarContainer object of 4 artists>"
      ]
     },
     "execution_count": 7,
     "metadata": {},
     "output_type": "execute_result"
    },
    {
     "data": {
      "image/png": "[encoded data removed]",
      "text/plain": [
       "<Figure size 640x480 with 1 Axes>"
      ]
     },
     "metadata": {},
     "output_type": "display_data"
    }
   ],
   "source": [
    "# Plot the number of tweets per class\n",
    "plt.bar(Counter(labels).keys(), Counter(labels).values())"
   ]
  },
  {
   "cell_type": "code",
   "execution_count": 8,
   "metadata": {},
   "outputs": [],
   "source": [
    "# 80/20 train/test split\n",
    "X_train, X_test, y_train, y_test = train_test_split(tweets, labels, test_size=0.2, random_state=42) "
   ]
  },
  {
   "cell_type": "code",
   "execution_count": 9,
   "metadata": {},
   "outputs": [
    {
     "name": "stdout",
     "output_type": "stream",
     "text": [
      "Label: abusive\n",
      "Tweet: RT @paytons_hawtmom: I knew that girl was fucking Sierra husband &#128514;&#128514;&#128514; #LHHATL\n",
      "\n",
      "Label: abusive\n",
      "Tweet: RT @SheaSerrano: SHE FUCKING DID IT!!!!!!!!!!!!!!!!!!!!!!!!!!!!!!!!!!!!!!!\n",
      "\n",
      "Label: normal\n",
      "Tweet: What happened with all the people concerned about Flynn's alleged story? There was no Russian collusion glad that is over. #Trump #Russia\n",
      "\n",
      "Label: normal\n",
      "Tweet: When you are ready to make excuses and give up... Think of the adversity these folks overcome https://t.co/U06W3gPQBg\n",
      "\n",
      "Label: normal\n",
      "Tweet: @garyashley5 @sommecourt This is a much better picture (not mine - from Pinterest) https://t.co/NnlzSikEpK\n",
      "\n"
     ]
    }
   ],
   "source": [
    "# Print a few tweets and labels to inspect the data\n",
    "for i in range(5):\n",
    "    print(f\"Label: {y_train[i]}\\nTweet: {X_train[i]}\\n\")"
   ]
  },
  {
   "cell_type": "code",
   "execution_count": 10,
   "metadata": {},
   "outputs": [],
   "source": [
    "# one example solution\n",
    "pipeline = Pipeline(steps = [('vectorizer', TfidfVectorizer()), ('classifier', LogisticRegression(solver='liblinear'))])\n",
    "\n",
    "grid = {\n",
    "    'vectorizer__ngram_range' : [(1,1), (1,2)],\n",
    "    'vectorizer__max_df': [0.5, 1.0],\n",
    "    'vectorizer__min_df': [1, 5],\n",
    "    'classifier__C': [0.01, 1, 100]\n",
    "}\n",
    "\n"
   ]
  },
  {
   "cell_type": "code",
   "execution_count": 12,
   "metadata": {},
   "outputs": [
    {
     "name": "stdout",
     "output_type": "stream",
     "text": [
      "Fitting 5 folds for each of 24 candidates, totalling 120 fits\n"
     ]
    },
    {
     "name": "stderr",
     "output_type": "stream",
     "text": [
      "/Users/rupertkiddle/opt/miniconda3/envs/gesis_iml/lib/python3.10/site-packages/joblib/externals/loky/process_executor.py:752: UserWarning: A worker stopped while some jobs were given to the executor. This can be caused by a too short worker timeout or by a memory leak.\n",
      "  warnings.warn(\n"
     ]
    },
    {
     "name": "stdout",
     "output_type": "stream",
     "text": [
      "Using these hyperparameters {'classifier__C': 100, 'vectorizer__max_df': 1.0, 'vectorizer__min_df': 1, 'vectorizer__ngram_range': (1, 2)}, we get the best performance.\n"
     ]
    }
   ],
   "source": [
    "search = GridSearchCV(estimator=pipeline, # first vectorizer, then classifier\n",
    "                      param_grid=grid, # test these parameters\n",
    "                      scoring='f1_macro',     # optimise for macro f1 score (note: we want good performance for all classes )\n",
    "                      cv=5, # 5-fold cross validation \n",
    "                      n_jobs=-3,  # use all cpus\n",
    "                      verbose=1) # print some output\n",
    "                      \n",
    "search.fit(X_train, y_train)\n",
    "print(f'Using these hyperparameters {search.best_params_}, we get the best performance.')\n"
   ]
  },
  {
   "cell_type": "code",
   "execution_count": null,
   "metadata": {},
   "outputs": [],
   "source": [
    "# Save the best model from the grid search\n",
    "import joblib\n",
    "joblib.dump(search.best_estimator_, 'best_model.pkl')"
   ]
  },
  {
   "cell_type": "code",
   "execution_count": null,
   "metadata": {},
   "outputs": [],
   "source": [
    "print(classification_report(y_test, search.predict(X_test)))"
   ]
  },
  {
   "cell_type": "markdown",
   "metadata": {},
   "source": [
    "#### Other options to try: \n",
    "- Different preprocessing steps (e.g., stopword removal, different tokenizers, stemming, lemmatization, ...)\n",
    "- Different vectorizers (e.g. CountVectorizer())\n",
    "- Different classifiers (e.g., MultinomialNB(), SVC())\n",
    "- Class weights\n",
    "- ..."
   ]
  },
  {
   "cell_type": "code",
   "execution_count": null,
   "metadata": {},
   "outputs": [],
   "source": [
    "example_grid = {'vectorizer__stop_words':[None, stopwords], # stopword removal\n",
    "        'vectorizer__max_df':[0.5, 1.0], # exclude terms in more than 50% or 100% of the docs\n",
    "        'vectorizer__min_df':[1, 5], # exclude terms in less than 1 or 5 documents.\n",
    "        'vectorizer__ngram_range':[(1,1), (1,2)], # consider only unigrams, or both unigrams and bigrams\n",
    "        'vectorizer__preprocessor':[None, preprocess], # No preprocessing, or custom preprocessor function\n",
    "        'vectorizer__tokenizer':[None, tokenizer], # word (=whitespace) or  tokenize is your custom tokenizer\n",
    "        'classifier__class_weight':[None, 'balanced'] # class weights: None or balanced.\n",
    "        }"
   ]
  },
  {
   "cell_type": "code",
   "execution_count": 13,
   "metadata": {},
   "outputs": [],
   "source": [
    "#instantiate a tokenizer:\n",
    "from nltk.tokenize import word_tokenize\n",
    "\n",
    "# Example text\n",
    "text = \"Hello, world! This is a tokenizer example.\"\n",
    "\n",
    "# Tokenize the text\n",
    "tokens = word_tokenize(text)"
   ]
  },
  {
   "cell_type": "code",
   "execution_count": 14,
   "metadata": {},
   "outputs": [
    {
     "data": {
      "text/plain": [
       "['Hello', ',', 'world', '!', 'This', 'is', 'a', 'tokenizer', 'example', '.']"
      ]
     },
     "execution_count": 14,
     "metadata": {},
     "output_type": "execute_result"
    }
   ],
   "source": [
    "tokens"
   ]
  },
  {
   "cell_type": "code",
   "execution_count": null,
   "metadata": {},
   "outputs": [],
   "source": []
  }
 ],
 "metadata": {
  "kernelspec": {
   "display_name": "gesis_iml",
   "language": "python",
   "name": "python3"
  },
  "language_info": {
   "codemirror_mode": {
    "name": "ipython",
    "version": 3
   },
   "file_extension": ".py",
   "mimetype": "text/x-python",
   "name": "python",
   "nbconvert_exporter": "python",
   "pygments_lexer": "ipython3",
   "version": "3.10.14"
  }
 },
 "nbformat": 4,
 "nbformat_minor": 2
}
