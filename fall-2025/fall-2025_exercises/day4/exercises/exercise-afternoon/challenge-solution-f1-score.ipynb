{
 "cells": [
  {
   "cell_type": "code",
   "execution_count": null,
   "id": "43c2a279",
   "metadata": {},
   "outputs": [],
   "source": [
    "# reading data\n",
    "## Example with GridSearch CV\n",
    "#https://stackoverflow.com/questions/38555650/try-multiple-estimator-in-one-grid-search/53292354\n",
    "import csv\n",
    "import re\n",
    "from collections import Counter\n",
    "import matplotlib.pyplot as plt\n",
    "from sklearn.model_selection import train_test_split\n",
    "from sklearn.svm import LinearSVC\n",
    "from sklearn.linear_model import LogisticRegression\n",
    "from sklearn.ensemble import RandomForestClassifier\n",
    "from sklearn.neural_network import MLPClassifier\n",
    "from sklearn.model_selection import GridSearchCV\n",
    "from sklearn.model_selection import train_test_split\n",
    "from sklearn.naive_bayes import MultinomialNB\n",
    "import numpy as np\n",
    "from sklearn.pipeline import Pipeline\n",
    "from sklearn.feature_extraction.text import TfidfVectorizer,CountVectorizer\n",
    "from sklearn.metrics import f1_score, make_scorer, classification_report\n",
    "import pandas as pd\n",
    "from sklearn.metrics import classification_report"
   ]
  },
  {
   "cell_type": "code",
   "execution_count": null,
   "id": "a20d5248",
   "metadata": {},
   "outputs": [],
   "source": [
    "path = 'hatespeech_text_label_vote_RESTRICTED_100K.csv'\n",
    "!head hatespeech_text_label_vote_RESTRICTED_100K.csv\n",
    "#tweet, label, number of voters"
   ]
  },
  {
   "cell_type": "code",
   "execution_count": null,
   "id": "70b12239",
   "metadata": {},
   "outputs": [],
   "source": [
    "tweets = []\n",
    "labels = []\n",
    "with open(path) as fi:\n",
    "    data = csv.reader(fi, delimiter='\\t')\n",
    "    for row in data:\n",
    "        tweets.append(row[0])\n",
    "        labels.append(row[1]) "
   ]
  },
  {
   "cell_type": "code",
   "execution_count": null,
   "id": "688576dc",
   "metadata": {},
   "outputs": [],
   "source": [
    "## sanity checks\n",
    "len(tweets) == len(labels)\n",
    "print(len(tweets))"
   ]
  },
  {
   "cell_type": "code",
   "execution_count": null,
   "id": "5df95e2b",
   "metadata": {},
   "outputs": [],
   "source": [
    "# Classes are not balanced... this has implications for the training procedure.\n",
    "Counter(labels)"
   ]
  },
  {
   "cell_type": "code",
   "execution_count": null,
   "id": "bde935c7",
   "metadata": {},
   "outputs": [],
   "source": [
    "plt.bar(Counter(labels).keys(), Counter(labels).values())"
   ]
  },
  {
   "cell_type": "code",
   "execution_count": null,
   "id": "090db905",
   "metadata": {},
   "outputs": [],
   "source": [
    "X_train, X_test, y_train, y_test = train_test_split(tweets, labels, test_size=0.2, random_state=42) \n"
   ]
  },
  {
   "cell_type": "code",
   "execution_count": null,
   "id": "5cc30cb9",
   "metadata": {},
   "outputs": [],
   "source": [
    "y_train[0]"
   ]
  },
  {
   "cell_type": "code",
   "execution_count": null,
   "id": "fb37d538",
   "metadata": {},
   "outputs": [],
   "source": [
    "X_train[0]\n"
   ]
  },
  {
   "cell_type": "code",
   "execution_count": null,
   "id": "8ec6ba91",
   "metadata": {},
   "outputs": [],
   "source": [
    "# one example solution:\n",
    "pipeline = Pipeline(steps = [('vectorizer', TfidfVectorizer()), ('classifier', LogisticRegression(solver='liblinear'))])\n",
    "\n",
    "grid = {\n",
    "    'vectorizer__ngram_range' : [(1,1), (1,2)],\n",
    "    'vectorizer__max_df': [0.5, 1.0],\n",
    "    'vectorizer__min_df': [0, 5],\n",
    "    'classifier__C': [0.01, 1, 100]\n",
    "}\n",
    "\n",
    "f1 = make_scorer(f1_score, average='macro') # macro --> emphasizes the prediction of the smaller classes (in this case: hateful/ spam)\n",
    "\n",
    "search = GridSearchCV(estimator=pipeline,\n",
    "                      param_grid=grid,\n",
    "                      #scoring='accuracy', \n",
    "                      scoring=f1,     # note that this is *not* the string 'f1', but the scorer object we constructed above\n",
    "                      cv=3,\n",
    "                      n_jobs=-1,  # use all cpus\n",
    "                      verbose=10)\n",
    "                      \n",
    "search.fit(X_train, y_train)\n",
    "print(f'Using these hyperparameters {search.best_params_}, we get the best performance.')\n"
   ]
  },
  {
   "cell_type": "code",
   "execution_count": null,
   "id": "321fccad",
   "metadata": {},
   "outputs": [],
   "source": [
    "print(classification_report(y_test, search.predict(X_test)))"
   ]
  },
  {
   "cell_type": "markdown",
   "id": "9a3b031e",
   "metadata": {},
   "source": [
    "#### Other options to try: \n",
    "- Different preprocessing steps (e.g., stopword removal, different tokenizers, stemming, lemmatization, ...)\n",
    "- Different vectorizers (e.g. CountVectorizer())\n",
    "- Different classifiers (e.g., MultinomialNB(), SVC())\n",
    "- Class weights\n",
    "- ..."
   ]
  }
 ],
 "metadata": {
  "kernelspec": {
   "display_name": "Python 3.8.2 64-bit",
   "language": "python",
   "name": "python3"
  },
  "language_info": {
   "codemirror_mode": {
    "name": "ipython",
    "version": 3
   },
   "file_extension": ".py",
   "mimetype": "text/x-python",
   "name": "python",
   "nbconvert_exporter": "python",
   "pygments_lexer": "ipython3",
   "version": "3.10.14"
  },
  "vscode": {
   "interpreter": {
    "hash": "31f2aee4e71d21fbe5cf8b01ff0e069b9275f58929596ceb00d14d90e3e16cd6"
   }
  }
 },
 "nbformat": 4,
 "nbformat_minor": 5
}
