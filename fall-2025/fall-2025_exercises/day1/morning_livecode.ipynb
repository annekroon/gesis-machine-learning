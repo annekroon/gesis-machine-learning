{
 "cells": [
  {
   "cell_type": "markdown",
   "metadata": {},
   "source": [
    "# Day 1 morning - live coding"
   ]
  },
  {
   "cell_type": "markdown",
   "metadata": {},
   "source": [
    "### What is object-oriented programming? "
   ]
  },
  {
   "cell_type": "code",
   "execution_count": 1,
   "metadata": {},
   "outputs": [
    {
     "name": "stdout",
     "output_type": "stream",
     "text": [
      "Hello, my name is Alice and I am 30 years old.\n"
     ]
    }
   ],
   "source": [
    "#define a person cass (sort of like a template)\n",
    "class Person:\n",
    "    def __init__(self, name, age):\n",
    "        self.name = name\n",
    "        self.age = age\n",
    "\n",
    "    def greet(self):\n",
    "        print(f\"Hello, my name is {self.name} and I am {self.age} years old.\")\n",
    "\n",
    "#create an instance of the Person class:\n",
    "person1 = Person(\"Alice\", 30)\n",
    "\n",
    "#call the greet method of the person.  \n",
    "person1.greet()"
   ]
  },
  {
   "cell_type": "markdown",
   "metadata": {},
   "source": [
    "### What are packages? "
   ]
  },
  {
   "cell_type": "code",
   "execution_count": 2,
   "metadata": {},
   "outputs": [
    {
     "name": "stdout",
     "output_type": "stream",
     "text": [
      "3.0\n"
     ]
    }
   ],
   "source": [
    "my_list = [1, 2, 3, 4, 5]\n",
    "\n",
    "#using build-in functions: \n",
    "mean_of_my_list = sum(my_list) / len(my_list)\n",
    "print(mean_of_my_list)\n",
    "\n",
    "#using the 'mean' function from the statistics module: "
   ]
  },
  {
   "cell_type": "markdown",
   "metadata": {},
   "source": [
    "### Reusable vs. Non-resuable code (code-factoring)."
   ]
  },
  {
   "cell_type": "code",
   "execution_count": 3,
   "metadata": {},
   "outputs": [
    {
     "name": "stdout",
     "output_type": "stream",
     "text": [
      "13.0\n"
     ]
    }
   ],
   "source": [
    "#define my__list of numbers: \n",
    "my_list = [1, 2, 3, 4, 5]\n",
    "\n",
    "#calculate the mean of my_list and add my magic_number to it: \n",
    "mean_of_my_list = (sum(my_list) / len(my_list)) + 10\n",
    "\n",
    "#print the result:\n",
    "print(mean_of_my_list)"
   ]
  },
  {
   "cell_type": "code",
   "execution_count": 4,
   "metadata": {},
   "outputs": [
    {
     "name": "stdout",
     "output_type": "stream",
     "text": [
      "13.0\n",
      "35.0\n"
     ]
    }
   ],
   "source": [
    "def calculate_mean_with_magic(numbers, magic_number):\n",
    "    \"\"\"\n",
    "    Calculate the mean of a list of numbers and add a magic number.\n",
    "\n",
    "    Args:\n",
    "    numbers (list): A list of integers.\n",
    "    magic_number (int): An integer to add to the mean.\n",
    "\n",
    "    Returns:\n",
    "    float: The mean of the numbers plus the magic number.\n",
    "    \"\"\"\n",
    "    mean_of_numbers = (sum(numbers) / len(numbers)) + magic_number\n",
    "    return mean_of_numbers\n",
    "\n",
    "# Example usage\n",
    "my_list = [1, 2, 3, 4, 5]\n",
    "magic_number = 10\n",
    "mean_of_my_list = calculate_mean_with_magic(my_list, magic_number)\n",
    "print(mean_of_my_list)\n",
    "\n",
    "# Reusing the function with a different list and magic number\n",
    "another_list = [10, 20, 30, 40, 50]\n",
    "another_magic_number = 5\n",
    "mean_of_another_list = calculate_mean_with_magic(another_list, another_magic_number)\n",
    "print(mean_of_another_list)"
   ]
  },
  {
   "cell_type": "markdown",
   "metadata": {},
   "source": [
    "### (Basic) Data types!\n",
    "\n",
    "#### primitive: `int`, `float`, `string`, `boolean`\n",
    "\n",
    "#### collection: `list`, `dict`, `set`, `tuple`\n"
   ]
  },
  {
   "cell_type": "code",
   "execution_count": null,
   "metadata": {},
   "outputs": [],
   "source": []
  },
  {
   "cell_type": "markdown",
   "metadata": {},
   "source": [
    "### (Advanced) Data types!\n",
    "\n",
    "(remember: everything in Python is an object, with its own methods and attributes, **so you can make your own data types**!)\n",
    "\n",
    "#### numpy: e.g. `array`\n",
    "\n",
    "#### pandas: `dataframe`\n",
    "\n",
    "#### searborn: `plot` "
   ]
  },
  {
   "cell_type": "code",
   "execution_count": null,
   "metadata": {},
   "outputs": [],
   "source": [
    "#load datafrom from pkl:\n",
    "import pickle\n",
    "\n",
    "with open(\"data.pkl\", \"rb\") as file:\n",
    "    data = pickle.load(file)\n",
    "\n",
    "\n",
    "#save data to pkl:\n",
    "import pickle\n",
    "\n",
    "data = [1, 2, 3, 4, 5]\n",
    "\n",
    "with open(\"data.pkl\", \"wb\") as file:\n",
    "    pickle.dump(data, file)\n",
    "    "
   ]
  },
  {
   "cell_type": "markdown",
   "metadata": {},
   "source": [
    "### Iterators vs. Generators"
   ]
  },
  {
   "cell_type": "code",
   "execution_count": null,
   "metadata": {},
   "outputs": [],
   "source": [
    "import sys #for getting size of objects in memory\n",
    "\n",
    "# case1: using a loop to create a list\n",
    "def create_list(n):\n",
    "    result = []\n",
    "    for i in range(n):\n",
    "        result.append(i)\n",
    "    return result\n",
    "\n",
    "# case2: using a generator to create a sequence\n",
    "def create_generator(n):\n",
    "    for i in range(n):\n",
    "        yield i\n",
    "\n",
    "# Number of elements\n",
    "n = 1000000 \n",
    "\n",
    "# Create list and generator\n",
    "my_list = create_list(n)\n",
    "my_generator = create_generator(n)\n",
    "\n",
    "# Print memory usage\n",
    "print(f\"Memory used by list: {sys.getsizeof(my_list)} bytes\")\n",
    "print(f\"Memory used by generator: {sys.getsizeof(my_generator)} bytes\")\n",
    "\n",
    "# Demonstrate iteration\n",
    "print(\"First 5 elements from list:\")\n",
    "for i in range(5):\n",
    "    print(my_list[i])\n",
    "\n",
    "print(\"First 5 elements from generator:\")\n",
    "for i, value in enumerate(my_generator):\n",
    "    if i < 5:\n",
    "        print(value)\n",
    "    else:\n",
    "        break"
   ]
  },
  {
   "cell_type": "markdown",
   "metadata": {},
   "source": [
    "### try/except: "
   ]
  },
  {
   "cell_type": "code",
   "execution_count": null,
   "metadata": {},
   "outputs": [],
   "source": [
    "def divide(a, b):\n",
    "    try:\n",
    "        result = a / b\n",
    "        print(f\"The result is {result}\")\n",
    "    except Exception as e:\n",
    "        print(f\"An error occurred: {e}\")\n",
    "\n",
    "# Example usage\n",
    "divide(10, 2)  # Should print the result\n",
    "divide(10, 0)  # Should print the error message"
   ]
  },
  {
   "cell_type": "markdown",
   "metadata": {},
   "source": [
    "### assert is your friend: "
   ]
  },
  {
   "cell_type": "code",
   "execution_count": null,
   "metadata": {},
   "outputs": [
    {
     "name": "stdout",
     "output_type": "stream",
     "text": [
      "HELLO\n"
     ]
    },
    {
     "ename": "AssertionError",
     "evalue": "Input string must contain only alphabetic characters and must not be empty",
     "output_type": "error",
     "traceback": [
      "\u001b[1;31m---------------------------------------------------------------------------\u001b[0m",
      "\u001b[1;31mAssertionError\u001b[0m                            Traceback (most recent call last)",
      "Cell \u001b[1;32mIn[13], line 12\u001b[0m\n\u001b[0;32m     10\u001b[0m \u001b[38;5;66;03m# Example usage\u001b[39;00m\n\u001b[0;32m     11\u001b[0m \u001b[38;5;28mprint\u001b[39m(process_string(\u001b[38;5;124m\"\u001b[39m\u001b[38;5;124mhello\u001b[39m\u001b[38;5;124m\"\u001b[39m))  \u001b[38;5;66;03m# Should print \"HELLO WORLD\"\u001b[39;00m\n\u001b[1;32m---> 12\u001b[0m \u001b[38;5;28mprint\u001b[39m(\u001b[43mprocess_string\u001b[49m\u001b[43m(\u001b[49m\u001b[38;5;124;43m\"\u001b[39;49m\u001b[38;5;124;43m123\u001b[39;49m\u001b[38;5;124;43m\"\u001b[39;49m\u001b[43m)\u001b[49m)  \u001b[38;5;66;03m# Should raise an AssertionError\u001b[39;00m\n\u001b[0;32m     13\u001b[0m \u001b[38;5;28mprint\u001b[39m(process_string(\u001b[38;5;124m\"\u001b[39m\u001b[38;5;124m\"\u001b[39m))  \u001b[38;5;66;03m# Should raise an AssertionError\u001b[39;00m\n",
      "Cell \u001b[1;32mIn[13], line 4\u001b[0m, in \u001b[0;36mprocess_string\u001b[1;34m(text)\u001b[0m\n\u001b[0;32m      1\u001b[0m \u001b[38;5;28;01mdef\u001b[39;00m\u001b[38;5;250m \u001b[39m\u001b[38;5;21mprocess_string\u001b[39m(text):\n\u001b[0;32m      2\u001b[0m     \n\u001b[0;32m      3\u001b[0m     \u001b[38;5;66;03m# Ensure the input string contains only alphabetic characters and is not empty\u001b[39;00m\n\u001b[1;32m----> 4\u001b[0m     \u001b[38;5;28;01massert\u001b[39;00m text\u001b[38;5;241m.\u001b[39misalpha(), \u001b[38;5;124m\"\u001b[39m\u001b[38;5;124mInput string must contain only alphabetic characters and must not be empty\u001b[39m\u001b[38;5;124m\"\u001b[39m\n\u001b[0;32m      6\u001b[0m     \u001b[38;5;66;03m# Convert the string to uppercase\u001b[39;00m\n\u001b[0;32m      7\u001b[0m     result \u001b[38;5;241m=\u001b[39m text\u001b[38;5;241m.\u001b[39mupper()\n",
      "\u001b[1;31mAssertionError\u001b[0m: Input string must contain only alphabetic characters and must not be empty"
     ]
    }
   ],
   "source": [
    "def process_string(text):\n",
    "    \n",
    "    # Ensure the input string contains only alphabetic characters and is not empty\n",
    "    assert text.isalpha(), \"Input string must contain only alphabetic characters and must not be empty\"\n",
    "    \n",
    "    # Convert the string to uppercase\n",
    "    result = text.upper()\n",
    "    return result\n",
    "\n",
    "# Example usage\n",
    "print(process_string(\"hello\"))  # Should print \"HELLO\"\n",
    "print(process_string(\"hello world\"))  # Should raise an AssertionError, because of space\n",
    "print(process_string(\"123\"))  # Should raise an AssertionError\n",
    "print(process_string(\"\"))  # Should raise an AssertionError"
   ]
  },
  {
   "cell_type": "code",
   "execution_count": null,
   "metadata": {},
   "outputs": [],
   "source": []
  }
 ],
 "metadata": {
  "kernelspec": {
   "display_name": "gesis_iml",
   "language": "python",
   "name": "python3"
  },
  "language_info": {
   "codemirror_mode": {
    "name": "ipython",
    "version": 3
   },
   "file_extension": ".py",
   "mimetype": "text/x-python",
   "name": "python",
   "nbconvert_exporter": "python",
   "pygments_lexer": "ipython3",
   "version": "3.10.18"
  }
 },
 "nbformat": 4,
 "nbformat_minor": 2
}
