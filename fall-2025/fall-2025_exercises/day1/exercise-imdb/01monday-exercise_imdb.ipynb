{
 "cells": [
  {
   "cell_type": "markdown",
   "metadata": {},
   "source": [
    "# A Practical Introduction to Machine Learning in Python\n",
    "Anne Kroon and Damian Trilling\n",
    "\n",
    "## Day 1 (Monday)\n",
    "\n",
    "## Exercise: \"Getting Started\" with the IMDB dataset\n",
    "\n",
    "Download and unpack the ACL IMDB dataset (https://ai.stanford.edu/~amaas/data/sentiment/aclImdb_v1.tar.gz).\n",
    "Windows users may need an additional program to unpack it, such as 7zip. \n",
    "\n",
    "Quick way to get everything on Linux:\n",
    "```\n",
    "wget https://ai.stanford.edu/~amaas/data/sentiment/aclImdb_v1.tar.gz\n",
    "tar -xzf aclImdb_v1.tar.gz\n",
    "\n",
    "```\n",
    "\n",
    "\n",
    "Specific tasks\n",
    "\n",
    "1. Think of a good data structure to read this data in.\n",
    "2. Write a script to read the data in.\n",
    "3. Discuss (first in groups, then plenary) the pro's and con's of different ways of organizing the data.\n",
    "4. Train a first Naive Bayes classifier on the dataset. No worries, we will discuss all the details behind each of the steps in this week; you can for now just rely on the script below. You may need to change variable names such as `y_test`, `y_pred`, `X_train_fulltext` etc. based on how you read your data, though.\n",
    "\n",
    "```\n",
    "from sklearn.naive_bayes import MultinomialNB\n",
    "from sklearn.feature_extraction.text import CountVectorizer\n",
    "from sklearn.metrics import confusion_matrix, classification_report\n",
    "\n",
    "vectorizer = CountVectorizer(stop_words='english')\n",
    "X_train = vectorizer.fit_transform(X_train_fulltext)\n",
    "X_test = vectorizer.transform(X_test_fulltext)\n",
    "\n",
    "nb = MultinomialNB()\n",
    "nb.fit(X_train, y_train)\n",
    "\n",
    "y_pred = nb.predict(X_test)\n",
    "\n",
    "print(confusion_matrix(y_test, y_pred))\n",
    "print(classification_report(y_test, y_pred))\n",
    "```\n",
    "\n",
    "5. What is your first gut feeling about the results?\n",
    "6. Can you explain what the different variables you created contain?\n"
   ]
  },
  {
   "cell_type": "code",
   "execution_count": null,
   "metadata": {},
   "outputs": [],
   "source": [
    "\n"
   ]
  }
 ],
 "metadata": {
  "kernelspec": {
   "display_name": "gesis_iml",
   "language": "python",
   "name": "python3"
  },
  "language_info": {
   "codemirror_mode": {
    "name": "ipython",
    "version": 3
   },
   "file_extension": ".py",
   "mimetype": "text/x-python",
   "name": "python",
   "nbconvert_exporter": "python",
   "pygments_lexer": "ipython3",
   "version": "3.10.18"
  }
 },
 "nbformat": 4,
 "nbformat_minor": 2
}
