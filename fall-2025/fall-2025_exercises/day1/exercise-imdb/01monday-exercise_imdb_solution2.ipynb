{
 "cells": [
  {
   "cell_type": "markdown",
   "metadata": {},
   "source": [
    "# A Practical Introduction to Machine Learning in Python\n",
    "Anne Kroon and Damian Trilling\n",
    "\n",
    "## Day 1 (Monday)\n",
    "\n",
    "## Exercise: \"Getting Started\" with the IMDB dataset\n",
    "\n",
    "Download and unpack the ACL IMDB dataset (https://ai.stanford.edu/~amaas/data/sentiment/aclImdb_v1.tar.gz).\n",
    "Windows users may need an additional program to unpack it, such as 7zip. \n",
    "\n",
    "Quick way to get everything on Linux:\n",
    "```\n",
    "wget https://ai.stanford.edu/~amaas/data/sentiment/aclImdb_v1.tar.gz\n",
    "tar -xzf aclImdb_v1.tar.gz\n",
    "\n",
    "```\n",
    "\n",
    "\n",
    "Specific tasks\n",
    "\n",
    "1. Think of a good data structure to read this data in.\n",
    "2. Write a script to read the data in.\n",
    "3. Discuss (first in groups, then plenary) the pro's and con's of different ways of organizing the data.\n",
    "4. Train a first Naive Bayes classifier on the dataset. No worries, we will discuss all the details behind each of the steps in this week; you can for now just rely on the script below. You may need to change variable names such as `y_test`, `y_pred`, `X_train_fulltext` etc. based on how you read your data, though.\n",
    "\n",
    "```\n",
    "from sklearn.naive_bayes import MultinomialNB\n",
    "from sklearn.feature_extraction.text import CountVectorizer\n",
    "from sklearn.metrics import confusion_matrix, classification_report\n",
    "\n",
    "vectorizer = CountVectorizer(stop_words='english')\n",
    "X_train = vectorizer.fit_transform(X_train_fulltext)\n",
    "X_test = vectorizer.transform(X_test_fulltext)\n",
    "\n",
    "nb = MultinomialNB()\n",
    "nb.fit(X_train, y_train)\n",
    "\n",
    "y_pred = nb.predict(X_test)\n",
    "\n",
    "print(confusion_matrix(y_test, y_pred))\n",
    "print(classification_report(y_test, y_pred))\n",
    "```\n",
    "\n",
    "5. What is your first gut feeling about the results?\n",
    "6. Can you explain what the different variables you created contain?\n"
   ]
  },
  {
   "cell_type": "code",
   "execution_count": null,
   "metadata": {},
   "outputs": [],
   "source": [
    "import os\n",
    "from glob import glob\n",
    "import pandas as pd\n",
    "from sklearn.naive_bayes import MultinomialNB\n",
    "from sklearn.feature_extraction.text import CountVectorizer\n",
    "from sklearn.metrics import confusion_matrix, classification_report\n",
    "\n",
    "data_dir = r\"C:/Data Management/Gesis IML/aclImdb\" #adjust this to your data directory\n"
   ]
  },
  {
   "cell_type": "code",
   "execution_count": null,
   "metadata": {},
   "outputs": [],
   "source": [
    "glob(os.path.join(data_dir, \"train\", \"pos\", \"*.txt\"))"
   ]
  },
  {
   "cell_type": "code",
   "execution_count": 24,
   "metadata": {},
   "outputs": [],
   "source": [
    "#read aclimdb data from C:\\Data Management\\aclImdb\n",
    "#include all .txt files within the test and train subfolders, and the pos and neg subfolders within each of these\n",
    "data_lists = []\n",
    "for file in glob(os.path.join(data_dir, \"train\", \"pos\", \"*.txt\")) + \\\n",
    "           glob(os.path.join(data_dir, \"train\", \"neg\", \"*.txt\")) + \\\n",
    "           glob(os.path.join(data_dir, \"test\", \"pos\", \"*.txt\")) + \\\n",
    "           glob(os.path.join(data_dir, \"test\", \"neg\", \"*.txt\")):\n",
    "    with open(file, \"r\", encoding=\"utf-8\") as f:\n",
    "        text = f.read()\n",
    "    batch = \"train\" if \"train\" in file else \"test\"\n",
    "    label = \"pos\" if \"pos\" in file else \"neg\"\n",
    "    data_lists.append([batch, text, label])\n"
   ]
  },
  {
   "cell_type": "code",
   "execution_count": null,
   "metadata": {},
   "outputs": [],
   "source": [
    "data_lists[:3]"
   ]
  },
  {
   "cell_type": "code",
   "execution_count": null,
   "metadata": {},
   "outputs": [],
   "source": [
    "# 4. Train a first Naive Bayes classifier on the dataset.\n",
    "vectorizer = CountVectorizer(stop_words='english')\n",
    "\n",
    "X_train = vectorizer.fit_transform([text for batch, text, label in data_lists if batch == 'train'])\n",
    "X_test = vectorizer.transform([text for batch, text, label in data_lists if batch == 'test'])\n",
    "Y_train = [label for batch, text, label in data_lists if batch == 'train']\n",
    "Y_test = [label for batch, text, label in data_lists if batch == 'test']\n",
    "\n",
    "nb = MultinomialNB()\n",
    "nb.fit(X_train, Y_train)\n",
    "\n",
    "y_pred = nb.predict(X_test)\n",
    "\n",
    "print(confusion_matrix(Y_test, y_pred))\n",
    "print(classification_report(Y_test, y_pred))"
   ]
  }
 ],
 "metadata": {
  "kernelspec": {
   "display_name": "gesis_iml",
   "language": "python",
   "name": "python3"
  },
  "language_info": {
   "codemirror_mode": {
    "name": "ipython",
    "version": 3
   },
   "file_extension": ".py",
   "mimetype": "text/x-python",
   "name": "python",
   "nbconvert_exporter": "python",
   "pygments_lexer": "ipython3",
   "version": "3.10.18"
  }
 },
 "nbformat": 4,
 "nbformat_minor": 2
}
