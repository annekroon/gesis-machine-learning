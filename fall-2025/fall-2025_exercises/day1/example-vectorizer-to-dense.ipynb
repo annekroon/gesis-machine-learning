{
 "cells": [
  {
   "cell_type": "markdown",
   "metadata": {},
   "source": [
    "#### Inspecting a dense DTM resulting from text vectorized with `sklearn`'s vectorizers"
   ]
  },
  {
   "cell_type": "code",
   "execution_count": null,
   "metadata": {},
   "outputs": [],
   "source": [
    "from sklearn.feature_extraction.text import TfidfVectorizer, CountVectorizer\n",
    "\n",
    "documents = ['the cat loved my sofa',\n",
    "             'the dog loved my chair',\n",
    "             'the bird loved my chair']\n",
    "\n",
    "vectorizers= [(\"Count vectorizer\", CountVectorizer() ) ,  (\"Tfidf vectorizer\", TfidfVectorizer() ) ]"
   ]
  },
  {
   "cell_type": "code",
   "execution_count": null,
   "metadata": {},
   "outputs": [],
   "source": [
    "for name, vec in vectorizers:\n",
    "    vec.fit_transform(documents)\n",
    "\n",
    "    print(f\"\\n{name}\\n\")\n",
    "\n",
    "    print(\"\\t\".join(vec.get_feature_names_out()))  # just for printing nicely\n",
    "    for row in vec.transform(documents).todense():\n",
    "        print(\"\\t\".join([f\"{float(e):.2}\" for e in row[0].tolist()[0]]))"
   ]
  },
  {
   "cell_type": "markdown",
   "metadata": {},
   "source": [
    "or, using `pandas`:"
   ]
  },
  {
   "cell_type": "code",
   "execution_count": null,
   "metadata": {},
   "outputs": [],
   "source": [
    "import pandas as pd\n",
    "\n",
    "vec = TfidfVectorizer() #or CountVectorizer()\n",
    "X = vec.fit_transform(documents)\n",
    "print(pd.DataFrame(X.A, columns=vec.get_feature_names_out()).to_string())\n",
    "df = pd.DataFrame(X.toarray().transpose(), index = vec.get_feature_names_out())\n"
   ]
  }
 ],
 "metadata": {
  "kernelspec": {
   "display_name": "gesis_iml",
   "language": "python",
   "name": "python3"
  },
  "language_info": {
   "codemirror_mode": {
    "name": "ipython",
    "version": 3
   },
   "file_extension": ".py",
   "mimetype": "text/x-python",
   "name": "python",
   "nbconvert_exporter": "python",
   "pygments_lexer": "ipython3",
   "version": "3.10.14"
  }
 },
 "nbformat": 4,
 "nbformat_minor": 2
}
