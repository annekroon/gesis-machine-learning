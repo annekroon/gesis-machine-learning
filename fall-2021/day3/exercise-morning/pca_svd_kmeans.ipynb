{
 "cells": [
  {
   "cell_type": "markdown",
   "metadata": {},
   "source": [
    "# Examples UML"
   ]
  },
  {
   "cell_type": "code",
   "execution_count": 1,
   "metadata": {},
   "outputs": [],
   "source": [
    "from sklearn import datasets\n",
    "from sklearn.decomposition import PCA\n",
    "from sklearn.decomposition import TruncatedSVD\n",
    "from sklearn.feature_extraction.text import CountVectorizer\n",
    "from sklearn.pipeline import make_pipeline\n",
    "from sklearn.preprocessing import FunctionTransformer\n",
    "import random\n",
    "import csv\n",
    "random.seed(555)\n",
    "import matplotlib.pyplot as plt\n",
    "%matplotlib inline\n",
    "\n",
    "autotexts = datasets.fetch_20newsgroups(categories=['rec.autos'], remove=('headers', 'footers', 'quotes'), subset='train')['data']\n",
    "religiontexts = datasets.fetch_20newsgroups(categories=['soc.religion.christian'], remove=('headers', 'footers', 'quotes'), subset='train')['data']\n",
    "\n",
    "texts = autotexts[:20] + religiontexts[:20]\n",
    "random.shuffle(texts)"
   ]
  },
  {
   "cell_type": "code",
   "execution_count": 2,
   "metadata": {},
   "outputs": [
    {
     "data": {
      "text/plain": [
       "(599, 594)"
      ]
     },
     "execution_count": 2,
     "metadata": {},
     "output_type": "execute_result"
    }
   ],
   "source": [
    "len(religiontexts), len(autotexts)"
   ]
  },
  {
   "cell_type": "code",
   "execution_count": 3,
   "metadata": {},
   "outputs": [],
   "source": [
    "datasets.fetch_20newsgroups?"
   ]
  },
  {
   "cell_type": "code",
   "execution_count": 4,
   "metadata": {},
   "outputs": [
    {
     "data": {
      "text/plain": [
       "('I wrote in response to dlecoint@garnet.acns.fsu.edu (Darius_Lecointe):\\n\\n\\nWas Paul a God too? Is an interpretation of the words of Paul of higher\\npriority than the direct word of Jesus in Matt5:14-19? Paul begins\\nRomans 14 with \"If someone is weak in the faith ...\" Do you count\\nyourself as one who is weak in the faith?\\n\\n\\nYes, but what does the Bible have to say? What did Jesus say? Paul\\ncloses Romans 14 with, \"On the other hand, the person with doubts about\\nsomething who eats it anyway is guilty, because he isn\\'t acting on his\\nfaith, and any failure to act on faith is a sin.\" Gaus, ISBN:0-933999-99-2\\nHave you read the Ten Commandments which are a portion of the Law? Have\\nyou read Jesus\\' word in Matt5:14-19? Is there any doubt in your mind\\nabout what is right and what is sin (Greek hamartia = missing the mark)?\\n\\n\\nWhereas, the Ten Commandments and Jesus\\' words in Matt5:14-19 are fairly\\nclear, are they not?\\n\\n\\nMatt5:14-19 doesn\\'t answer your question?\\n\\n\\nBreaking bread - roughly synonymous with eating.\\n\\n\\nHow do you unite this concept of yours with the Ten Commandments and\\nJesus\\'s word in Matt5:14-19?\\n\\n\\nOr, they assumed that the Ten Commandments and Jesus\\' word in\\nMatt5:14-19 actually stood for something? Perhaps they were \"strong in\\nthe faith?\"\\n\\n---------------------------\\n\\n[No, I don\\'t believe that Paul can overrule God.  However Paul was\\nwriting for a largely Gentile audience.  The Law was regarded by Jews\\nat the time (and now) as binding on Jews, but not on Gentiles.  There\\nare rules that were binding on all human beings (the so-called Noachic\\nlaws), but they are quite minimal.  The issue that the Church had to\\nface after Jesus\\' death was what to do about Gentiles who wanted to\\nfollow Christ.  The decision not to impose the Law on them didn\\'t say\\nthat the Law was abolished.  It simply acknowledged that fact that it\\ndidn\\'t apply to Gentiles.  Thus there is no contradiction with Mat 5.\\nAs far as I can tell, both Paul and other Jewish Christians did\\ncontinue to participate in Jewish worship on the Sabbath.  Thus they\\ncontinued to obey the Law.  The issue was (and is) with Gentile\\nChristians, who are not covered by the Law (or at least not by the\\nceremonial aspects of it).\\n\\nJesus dealt mostly with Jews.  I think we can reasonably assume that\\nMat 5 was directed to a Jewish audience.  He did interact with\\nGentiles a few times (e.g. the centurion whose slave was healed and a\\ncouple of others).  The terms used to describe the centurion (see Luke\\n7) suggest that he was a \"God-fearer\", i.e. a Gentile who followed\\nGod, but had not adopted the whole Jewish Law.  He was commended by\\nJewish elders as a worthy person, and Jesus accepted him as such.\\nThis seems to me to indicate that Jesus accepted the prevailing view\\nthat Gentiles need not accept the Law.\\n\\nHowever there\\'s more involved if you want to compare Jesus and Paul on\\nthe Law.  In order to get a full picture of the role of the Law, we\\nhave to come to grips with Paul\\'s apparent rejection of the Law, and\\nhow that relates to Jesus\\' commendation of the Law.  At least as I\\nread Paul, he says that the Law serves a purpose that has been in a\\ncertain sense superceded.  Again, this issue isn\\'t one of the\\nabolition of the Law.  In the middle of his discussion, Paul notes\\nthat he might be understood this way, and assures us that that\\'s not\\nwhat he intends to say.  Rather, he sees the Law as primarily being\\npresent to convict people of their sinfulness.  But ultimately it\\'s an\\nimpossible standard, and one that has been superceded by Christ.\\nPaul\\'s comments are not the world\\'s clearest here, and not everyone\\nagrees with my reading.  But the interesting thing to notice is that\\neven this radical position does not entail an abolition of the Law.\\nIt still remains as an uncompromising standard, from which not an iota\\nor dot may be removed.  For its purpose of convicting of sin, it\\'s\\nimportant that it not be relaxed.  However for Christians, it\\'s not\\nthe end -- ultimately we live in faith, not Law.\\n\\nWhile the theoretical categories they use are rather different, in the\\nend I think Jesus and Paul come to a rather similar conclusion.  The\\nquoted passage from Mat 5 should be taken in the context of the rest\\nof the Sermon on the Mount, where Jesus shows us how he interprets the\\nLaw.  The \"not an iota or dot\" would suggest a rather literal reading,\\nbut in fact that\\'s not Jesus\\' approach.  Jesus\\' interpretations\\nemphasize the intent of the Law, and stay away from the ceremonial\\ndetails.  Indeed he is well known for taking a rather free attitude\\ntowards the Sabbath and kosher laws.  Some scholars claim that Mat\\n5:17-20 needs to be taken in the context of 1st Cent. Jewish\\ndiscussions.  Jesus accuses his opponents of caring about giving a\\ntenth of even the most minor herbs, but neglecting the things that\\nreally matter: justice, mercy and faith, and caring about how cups and\\nplates are cleaned, but not about the fact that inside the people who\\nuse them are full of extortion and rapacity.  (Mat 23:23-25) This, and\\nthe discussion later in Mat 5, suggest that Jesus has a very specific\\nview of the Law in mind, and that when he talks about maintaining the\\nLaw in its full strength, he is thinking of these aspects of it.\\nPaul\\'s conclusion is similar.  While he talks about the Law being\\nsuperceded, all of the specific examples he gives involve the\\n\"ceremonial law\", such as circumcision and the Sabbath.  He is quite\\nconcerned about maintaining moral standards.\\n\\nThe net result of this is that when Paul talks about the Law being\\nsuperceded, and Jesus talks about the Law being maintained, I believe\\nthey are talking about different aspects of the Law.  Paul is\\nembroiled in arguments about circumcision.  As is natural in letters\\nresponding to specific situations, he\\'s looking at the aspect of the\\nLaw that is currently causing trouble: the Law as specifically Jewish\\nceremonies.  He certainly does not intend to abolish divine standards\\nof conduct.  On the other hand, when Jesus commends the Law, he seems\\nto be talking the Law in its broadest implications for morals and\\nhuman relationships, and deemphasizing those aspects that were later\\nto give Paul so much trouble.\\n\\nIt\\'s unfortunate that people use the same terms in different ways, but\\nwe should be familiar with that from current conflicts.  Look at the\\nway terms like \"family values\" take on special meaning from the\\ncurrent context.  Imagine some poor historian of the future trying to\\nfigure out why \"family values\" should be used as a code word for\\nopposition to homosexuality in one specific period in the U.S.  I\\nthink Law had taken on a similar role in the arguments Paul was\\ninvolved in.  Paul was clearly not rejecting all of the Jewish values\\nthat go along with the term \"Law\", any more than people who concerned\\nabout the \"family values\" movement are really opposed to family\\nvalues.',\n",
       " 'From article <1993Apr5.200048.23421@ucsu.Colorado.EDU>, by lorenzo@rintintin.Colorado.EDU (Eric Lorenzo):\\n\\n--Let me put it like this.  The only similarity between the three models\\n  is the \"300\", or 3-liter engine displacement.  Actually, the SC300 (the\\n  coupe) and the GS300 (the funky-looking new sedan) share the same 3.0\\n  liter inline-six, and the ES300 (popular small sedan) uses 3.0 V6 shared\\n  with the Camry.  The SC300 is a luxury/sports coupe, the GS300 is the new\\n  luxury sedan, and the ES300 is the base executive sedan.  All three look\\n  completely different.\\n\\n--Aamir Qazi\\n-- ')"
      ]
     },
     "execution_count": 4,
     "metadata": {},
     "output_type": "execute_result"
    }
   ],
   "source": [
    "religiontexts[0], autotexts[0]"
   ]
  },
  {
   "cell_type": "code",
   "execution_count": 5,
   "metadata": {},
   "outputs": [
    {
     "data": {
      "text/plain": [
       "\"\\nPerhaps it is because witnesses who have left the compound have all\\ntestified that the BATF shot first, they they did not identify themselves\\nbefore tossing in concussion grenades (not that anyone inside could have\\n_heard_ such identification after being near a concussion grenade) and\\nthe announcement from the BATF that they have sealed the warrant under\\nwhich they were operating - which was a _search_ warrant, by the way,\\n_not_ an arrest warrant.  In short, perhaps because the BATF is wildly\\nout of control and perhaps calmer heads have realized that bombing a\\ncompound full of woman and children will not improve their position.\\nThere is a real chance that Koresh will be able to prove self-defense\\nin court.  That will leave - what? - four officers dead and no one to\\nblame but the BATF.\\n\\nFollowups directed to alt.activism, where the discussion has raged nearly\\nas long as the seige, and which shows every sign of not giving up nearly\\nas soon.\\n\\nLarry Smith (smith@ctron.com)  No, I don't speak for Cabletron.  Need you ask?\""
      ]
     },
     "execution_count": 5,
     "metadata": {},
     "output_type": "execute_result"
    }
   ],
   "source": [
    "texts[20]"
   ]
  },
  {
   "cell_type": "code",
   "execution_count": 6,
   "metadata": {},
   "outputs": [
    {
     "data": {
      "text/plain": [
       "'Heres the life of St. MAria Goretti, posted with kind permission of\\nthe editor of the Australian Catholic Magazine \"Morning Star\".\\n\\nHope you like it.\\n\\n    Put up with anything to prevent sin St. Maria Goretti\\n\\n\\n\\n    Maria was born on October 16th 1890 to Luigi and Assunta Goretti,\\n    the  eldest  daughter  in the family of seven. She was a cheerful\\n    girl, always imitating her parents.  She had but one disire,  but\\n    one wish: to receive our Lord in the Blessed Sacrament.\\n\\n    The date was finally set for little Maria to receive our Lord  on\\n    the feast of Corpus Christi. For Maria, time seemed like an eter-\\n    nity as she  slowly  neared  the  great  day.   When  it  finally\\n    arrived, Fr. Jerome( the priest who was to celebrate the Mass and\\n    give the children their First Holy Communion) delivered a  sermon\\n    on\\tthe  immense love of Jesus Christ for them and the great love\\n    we should have in return for Him. He then warmly  urged  them  to\\n    die rather than commit a mortal sin.\\n\\n    Maria humbly approached the Altar of God and  received  the  Holy\\n    Eucharist.\\tHer  only  sadness  was  the  thought of her father\\'s\\n    absence, who died some time beforehand. As for the\\trest  of  the\\n    day,  Maria remained under the spell of the divine visit; that is\\n    until\\n\\n\\t\\t\\t\\t   -4-\\n\\n\\n\\n\\n\\n\\n\\n    her thoughts changed to when she could go next to Holy Communion.\\n    Thus ended the happiest day of Maria\\'s life.\\n\\n    Over the next twelve months, Maria had changed  from  a  giggling\\n    little girl into a quiet young lady with responsibilities. As her\\n    mother went out into the fields in place of  her  husband,\\tMaria\\n    took  on the ironing, cooking, washing and other motherly duties.\\n    She was doing this not only for her own family, but also for  the\\n    Serenellis, a father and son who lived with the Goretti\\'s, owning\\n    a share in the farm. Although Maria was poorer than all the other\\n    children, she by far surpassed them in virtue. In all thi ngs she\\n    did the Holy Will of God.\\n\\n    During the month of June,  Alessandro  Serenelli(the  son)\\ttwice\\n    made advances upon Maria when he chanced to be alone with her. On\\n    both occasions Maria managed to  struggle  free  of  Alessandro\\'s\\n    strong  grip, but on the second, he threatened to kill her if she\\n    even uttered a word to her mother. From this day on, Maria\\tlived\\n    in terror, fearing lest Alessandro attack again.\\n\\n\\n    On July 5th 1902, Alessandro left work in the fields  to  \"get  a\\n    handkerchief,\"  as\\the  claimed. He went to the storeroom beneath\\n    the house where Maria, who was outside on the  landing  with  the\\n    baby,  could  hear him fumbling about in with tools. She wondered\\n    what he was doing. It was later learned that he was sharpening  a\\n    91/2\"  blade. He went to the house and called for Maria. She told\\n    him she wouldn\\'t go to him unless she knew why she was needed. He\\n    stormed out to the landing and dragged her up to her room. Mar ia\\n    instantly realized what he was up to. \"No, No, No! Do  not\\ttouch\\n    me!  It  is a sin, you will go to Hell!\" At this point Alessandro\\n    held the knife over Maria\\'s chest, who was now on the floor.\\n\\n    \"Will you or will you not?\" Maria gathered all her energy.\\t\"No I\\n    will  not,\\tAlessandro,  no!\"   She had chosen her martyrdom over\\n    sin, God over Satan.  Overcome with rage, Alessandro plunged  the\\n    knife  into   Maria\\'s  breast fourteen times.  Finally he came to\\n    his senses and thought Maria was dead.  Frantically he threw  the\\n    knife behind a closet and locked himself in his room.  The crying\\n    of the baby Teresa\\ton  the  landing  brought  the\\tattention  to\\n    Assunta  and the father of Alessandro. As the baby was unattended\\n    and was in danger of falling off, they ran to the house  to  find\\n    Maria,  who,  covered in blood, was dragging herself to the door.\\n    When asked what happened she said Alessandro  stabbed  her.   \"He\\n    wanted to make me do wrong and I would not.\"\\n\\n    The ambulance arrived, then the police who took Alessandro\\taway.\\n    As\\tthe  ambulance\\tcarried  Maria to the hospital, a large crowd\\n    followed on foot.  The doctors at the  hospital held no hope  for\\n    poor  little Maria.  The same Fr. Jerome who gave Maria her First\\n    Communion\\n\\n\\t\\t\\t\\t   -5-\\n\\n\\n\\n\\n\\n\\n\\n    came to administer the last rites and to give her Holy  Viaticum.\\n    He asked Maria if she would forgive her murderer.  \"Yes.  For the\\n    love of Jesus I forgive him.  I wish for him to one day  join  me\\n    in\\tParadise.   May  God forgive him, for I alread y have.\" Maria\\n    died at about three o\\'clock.\\n\\n    Alessandro was tried  and  found  guilty  of  Maria\\'s  death  but\\n    because  of  his  age  he  was  sentenced to only thirty years in\\n    prison.  After eight  years of being a violent prisoner and show-\\n    ing  no regret for his crime, he saw in a dream, in the  midst of\\n    a field of flowers, Maria holding out a bunch of white lilies  to\\n    him.  Soon later he wrote to the local bishop, begging God\\'s par-\\n    don for the grave sin he had committed.  He later gave  testimony\\n    in\\tMaria\\'s  beatification in 1947.  Less than three years later,\\n    on Ju ne 24th 1950, Maria was canonised.  Assunta Goretti was the\\n    first mother ever to be present at her daughter\\'s canonisation.\\n\\n    May St. Maria Goretti help\\tus  to\\tbe  pure  and  grant  us  the\\n    strength to die rather than commit a mortal sin.\\n\\n    Saint Maria Goretti, pray for us.\\n\\n\\n    by Brendan Arthur\\n'"
      ]
     },
     "execution_count": 6,
     "metadata": {},
     "output_type": "execute_result"
    }
   ],
   "source": [
    "texts[0]"
   ]
  },
  {
   "cell_type": "code",
   "execution_count": 7,
   "metadata": {},
   "outputs": [
    {
     "name": "stderr",
     "output_type": "stream",
     "text": [
      "/usr/local/lib/python3.8/dist-packages/sklearn/utils/validation.py:67: FutureWarning: Pass input=['Heres the life of St. MAria Goretti, posted with kind permission of\\nthe editor of the Australian Catholic Magazine \"Morning Star\".\\n\\nHope you like it.\\n\\n    Put up with anything to prevent sin St. Maria Goretti\\n\\n\\n\\n    Maria was born on October 16th 1890 to Luigi and Assunta Goretti,\\n    the  eldest  daughter  in the family of seven. She was a cheerful\\n    girl, always imitating her parents.  She had but one disire,  but\\n    one wish: to receive our Lord in the Blessed Sacrament.\\n\\n    The date was finally set for little Maria to receive our Lord  on\\n    the feast of Corpus Christi. For Maria, time seemed like an eter-\\n    nity as she  slowly  neared  the  great  day.   When  it  finally\\n    arrived, Fr. Jerome( the priest who was to celebrate the Mass and\\n    give the children their First Holy Communion) delivered a  sermon\\n    on\\tthe  immense love of Jesus Christ for them and the great love\\n    we should have in return for Him. He then warmly  urged  them  to\\n    die rather than commit a mortal sin.\\n\\n    Maria humbly approached the Altar of God and  received  the  Holy\\n    Eucharist.\\tHer  only  sadness  was  the  thought of her father\\'s\\n    absence, who died some time beforehand. As for the\\trest  of  the\\n    day,  Maria remained under the spell of the divine visit; that is\\n    until\\n\\n\\t\\t\\t\\t   -4-\\n\\n\\n\\n\\n\\n\\n\\n    her thoughts changed to when she could go next to Holy Communion.\\n    Thus ended the happiest day of Maria\\'s life.\\n\\n    Over the next twelve months, Maria had changed  from  a  giggling\\n    little girl into a quiet young lady with responsibilities. As her\\n    mother went out into the fields in place of  her  husband,\\tMaria\\n    took  on the ironing, cooking, washing and other motherly duties.\\n    She was doing this not only for her own family, but also for  the\\n    Serenellis, a father and son who lived with the Goretti\\'s, owning\\n    a share in the farm. Although Maria was poorer than all the other\\n    children, she by far surpassed them in virtue. In all thi ngs she\\n    did the Holy Will of God.\\n\\n    During the month of June,  Alessandro  Serenelli(the  son)\\ttwice\\n    made advances upon Maria when he chanced to be alone with her. On\\n    both occasions Maria managed to  struggle  free  of  Alessandro\\'s\\n    strong  grip, but on the second, he threatened to kill her if she\\n    even uttered a word to her mother. From this day on, Maria\\tlived\\n    in terror, fearing lest Alessandro attack again.\\n\\n\\n    On July 5th 1902, Alessandro left work in the fields  to  \"get  a\\n    handkerchief,\"  as\\the  claimed. He went to the storeroom beneath\\n    the house where Maria, who was outside on the  landing  with  the\\n    baby,  could  hear him fumbling about in with tools. She wondered\\n    what he was doing. It was later learned that he was sharpening  a\\n    91/2\"  blade. He went to the house and called for Maria. She told\\n    him she wouldn\\'t go to him unless she knew why she was needed. He\\n    stormed out to the landing and dragged her up to her room. Mar ia\\n    instantly realized what he was up to. \"No, No, No! Do  not\\ttouch\\n    me!  It  is a sin, you will go to Hell!\" At this point Alessandro\\n    held the knife over Maria\\'s chest, who was now on the floor.\\n\\n    \"Will you or will you not?\" Maria gathered all her energy.\\t\"No I\\n    will  not,\\tAlessandro,  no!\"   She had chosen her martyrdom over\\n    sin, God over Satan.  Overcome with rage, Alessandro plunged  the\\n    knife  into   Maria\\'s  breast fourteen times.  Finally he came to\\n    his senses and thought Maria was dead.  Frantically he threw  the\\n    knife behind a closet and locked himself in his room.  The crying\\n    of the baby Teresa\\ton  the  landing  brought  the\\tattention  to\\n    Assunta  and the father of Alessandro. As the baby was unattended\\n    and was in danger of falling off, they ran to the house  to  find\\n    Maria,  who,  covered in blood, was dragging herself to the door.\\n    When asked what happened she said Alessandro  stabbed  her.   \"He\\n    wanted to make me do wrong and I would not.\"\\n\\n    The ambulance arrived, then the police who took Alessandro\\taway.\\n    As\\tthe  ambulance\\tcarried  Maria to the hospital, a large crowd\\n    followed on foot.  The doctors at the  hospital held no hope  for\\n    poor  little Maria.  The same Fr. Jerome who gave Maria her First\\n    Communion\\n\\n\\t\\t\\t\\t   -5-\\n\\n\\n\\n\\n\\n\\n\\n    came to administer the last rites and to give her Holy  Viaticum.\\n    He asked Maria if she would forgive her murderer.  \"Yes.  For the\\n    love of Jesus I forgive him.  I wish for him to one day  join  me\\n    in\\tParadise.   May  God forgive him, for I alread y have.\" Maria\\n    died at about three o\\'clock.\\n\\n    Alessandro was tried  and  found  guilty  of  Maria\\'s  death  but\\n    because  of  his  age  he  was  sentenced to only thirty years in\\n    prison.  After eight  years of being a violent prisoner and show-\\n    ing  no regret for his crime, he saw in a dream, in the  midst of\\n    a field of flowers, Maria holding out a bunch of white lilies  to\\n    him.  Soon later he wrote to the local bishop, begging God\\'s par-\\n    don for the grave sin he had committed.  He later gave  testimony\\n    in\\tMaria\\'s  beatification in 1947.  Less than three years later,\\n    on Ju ne 24th 1950, Maria was canonised.  Assunta Goretti was the\\n    first mother ever to be present at her daughter\\'s canonisation.\\n\\n    May St. Maria Goretti help\\tus  to\\tbe  pure  and  grant  us  the\\n    strength to die rather than commit a mortal sin.\\n\\n    Saint Maria Goretti, pray for us.\\n\\n\\n    by Brendan Arthur\\n', '\\nA question for you - can you give me the name of an organization or a\\nphilosophy or a political movement, etc., which has never had anything\\nevil done in its name?  You\\'re missing a central teaching of Christianity -\\nman is inherently sinful.  We are saved through faith by grace.  Knowing\\nthat, believing that, does not make us without sin.  Furthermore, not all\\nwho consider themselves \"christians\" are (even those who manage to head\\ntheir own \"churches\").  \"Not everyone who says to me, \\'Lord, Lord,\\' will\\nenter the kingdom of heaven, but only he who does the will of my Father who\\nis in heaven.\" - Matt. 7:21.\\n\\n\\nAgain, what historical documents do you trust?  Do you think Hannibal\\ncrossed the Alps?  How do you know?  How do you know for sure?  What\\nhistorical documents have stood the scrutiny and the attempts to dis-\\ncredit it as well as the Bible has?\\n\\n\\nWell, it\\'s really a shame you feel this way.  No one can browbeat you\\ninto believing, and those who try will probably only succeed in driving\\nyou further away.  You need to ask yourself some difficult questions:\\n1) is there an afterlife, and if so, does man require salvation to attain\\nit.  If the answer is yes, the next question is 2) how does man attain this\\nsalvation - can he do it on his own as the eastern religions and certain\\nmodern offshoots like the \"new age movement\" teach or does he require God\\'s\\nhelp?  3) If the latter, in what form does - indeed, in what form can such\\nhelp come?  Needless to say, this discussion could take a lifetime, and for\\nsome people it did comprise their life\\'s writings, so I am hardly in a\\nposition to offer the answers here - merely pointers to what to ask.  Few,\\nof us manage to have an unshaken faith our entire lives (certainly not me).\\nThe spritual life is a difficult journey (if you\\'ve never read \"A Pilgrim\\'s\\nProgress,\" I highly recommend this greatest allegory of the english language).\\n\\n\\nNow I see by your close that one possible source of trouble for you may be a\\nconflict between your politcal beliefs and your religious upbringing.  You\\nwrote that \"I (in my own faith) accept and live my life by many if not most\\nof the teachings of christ\".  Well, Christ referred to God as \"My Father\",\\nnot \"My Mother\", and while the \"maleness\" of God is not the same as the\\nmaleness of those of us humans who possess a Y chromosome, it does not\\nhonor God to refer to Him as female purely to be trendy, non-discriminatory,\\nor politically correct.  This in no way disparages women (nor is it my intent\\nto do so by my use of the male pronoun to refer to both men and women - \\nenglish just does not have a decent neuter set of pronouns).  After all, God\\nchose a woman as his only human partner in bringing Christ into the human\\npopulation.\\n\\nWell, I\\'m not about to launch into a detailed discussion of\\nthe role of women in Christianity at 1am with only 6 hours of sleep in the\\nlast 63, and for that reason I also apologize for any shortcomings in this\\narticle.  I just happened across yours and felt moved to reply.  I hope I\\nmay have given you, and anyone else who finds himself in a similar frame of\\nmind, something to contemplate.', \"\\nIf you don't already know it, you should call the bank/credit union/\\nfinance company that holds the loan on your present car and get the\\ncurrent payoff cost.\\n\\nIf you are trading in your current car on the new car, subtract the\\npayoff amount from the trade-in the dealer is giving you.  (If this\\nturns out to be a negative number, you need to reconsider the deal.)\\nSubtract this difference from the price of the new car.  This is the\\nsize of the loan you will need for the new car.\\n\\nThe dealer will take care of paying off the loan on your old car out\\nof the money you give them when you pick up your new car.\\n\\nAt least that's how it worked for me 5 years ago in Ohio...\\n\\n\\n\\n\", '\\n\\nI think you are vastly oversimplifying things. We know that early Christians\\nsuffered totures because of their witness to Christ.  For example:\\n\\nACT 5:40    His speech persuaded them. They called the apostles in and had\\n            them flogged. Then they ordered them not to speak in the name of\\n            Jesus, and let them go.\\n\\nACT 5:41    The apostles left the Sanhedrin, rejoicing because they had been\\n            counted worthy of suffering disgrace for the Name.\\n\\nIt appears that the Jewish rulers of that time had a particular aversion\\nto even hearing Jesus\\'s name.\\nACT 5:28    \"We gave you strict orders not to teach in this name,\" he said.\\n            \"Yet you have filled Jerusalem with your teaching and are\\n            determined to make us guilty of this man\\'s blood.\"\\n\\nFinally, the first apostle\\'s death, James of Zebedee was certainly\\nnot by Rome\\'s hand any more than the first martyr Stephen. \\n\\n\\n\\nThe problem was that if one believed in the Resurrection, then one\\nmust believe in Jesus as truly being the Son of God and what He\\nstood for and preached during His ministry on Earth.  That would\\nhave been extremely difficult for some people, especially those\\nthat had plotted to kill Him. \\n\\n', 'My brother has been alienated from my parents and me since shortly after\\nhis marriage to a domineering and insecure woman, about twelve years ago.\\nWe\\'ve kept things on a painfully polite, Christmas-card sort of level\\nfor most of this time. Attempts to see each other end disastrously, with\\nhis wife throwing a screaming fit and storming out over either our imagined\\nslights to her, or his inattention or insensitivity to her (I mean, this\\'ll\\nhappen by the end of a single restaurant meal). He seems, from what I\\'ve\\nseen, to live in a state of quivering anxiety, hoping futilely to keep\\nthe next storm from breaking. He has sacrificed not only meaningful contact\\nwith us but also other friends and outside interests. Now, this is his\\nchoice, and I need to accept it even if I deplore it. But it\\'s hard.\\n   From time to time I\\'ve wanted to drop the pretense that we have a\\nrelationship--by cutting off contact--or trying to have a real if painful\\nrelationship, by talking honestly with him, but I\\'ve always thought, \"Why\\nbe dramatic? And you know he\\'ll only get evasive and then find some excuse\\nto get off the phone. Just leave the door open, in case he ever decides to\\ncome back.\" It\\'s been an unsatisfying choice, to allow us to go on\\nwith the superficial trappings of a relationship, but it was the best I\\ncould think of.\\n   Now, this weekend, my mother finally decided that she wasn\\'t going\\nto pretend any more and has cut off relations with them. This was the\\noutcome of a phone conversation in which my sister-in-law screamed and\\nraved at my mother, blaming her for everything wrong in their lives, and\\nin which my brother evaded, temporized, claimed the situation was\\nbeyond his control, and as always expected my mother to make all the\\nallowances and concessions. Mom said she would not, that she would not\\nquietly take abuse any more, and that if these were the terms of their\\nrelationship, she didn\\'t want to talk to or see them any more. And she hung\\nup. (I have never seem my mother lose her temper, and I think that this is\\nthe first time she\\'s ever hung up on someone.) Mom says she feels as if\\nshe\\'s divorced my brother, and that it\\'s a relief in some ways to have the\\nbreak out in the open and done with.\\n \\n    I have mixed feelings. I\\'m proud of Mom for sticking up for herself;\\nangry at my brother and sister-in-law for hurting her, for being jerks, for\\npersisting in such a wretched life, which hurts us all and is warping their\\nchildren; angry at my sister-in-law for being so hateful, and angry at my\\nbrother for being a coward and having so little respect for himself or us\\nthat he\\'s willing to throw us aside and use up all his energy trying to\\nappease an unappeasable,\\nemotionally disturbed woman; pained for their children, who are a mess;\\nscared for the future, since this marks the time when either things will\\nchange and improve or the break will become irrevocable; nastily self-\\nrighteous over this bit of proof that they can\\'t \"get away\" with treating\\nus or each other this way, and then disgusted with myself for even\\nbeginning to gloat over others\\' misery; and finally, mostly, sad, sad,\\nsad, to see my parents hurt and my brother and sister-in-law trapped in\\na horrible, destructive situation that they can\\'t see a way out of--or\\nthey can\\'t bear to take whatever paths they do see. And I\\'m frustrated\\nbecause I don\\'t know what if anything to do, and doing nothing drives me\\nup the wall. I try to pray, about my own feelings of rage, impotence,\\nand vindictiveness, and about their situation, but I am not\\nfree of the desire to *DO* something concrete. (The desire to *DO*\\nsomething, to define a problem and fix it, is one of my besetting\\nvices; I\\'m having a terrible time quieting down my internal\\nmental chatter enough to listen for God.)\\n  Do you thoughtful and kind people on the net have advice for me? Is\\nthis a time to reach out to my brother? To let things be? How can I\\nconquer my rage AT him enough to be there FOR him?\\n \\nHere\\'s the big question I\\'ve been evading throughout this long, long\\npost: Is it ok, as a Christian and a proponent of faith, hope, and\\ncharity, to accept the destruction of a relationship? To give up on\\nmy own brother, or at least to accept that I am powerless to help him\\nand can only wait and see what happens? Do please answer--by e-mail or\\npost.\\n \\nThank you.', 'Is there anyone out there in NetLand that has/has had one of these?\\n\\n\\nCan someone give me a non-Consumer Reports review (or point me to a source) ???\\n\\n\\nThanks\\nScott\\n\\n-----------------------\\nsdexter@ucrengr.ucr.edu\\n\\tComputer Science Undergraduate,\\n\\tUniversity of California, Riverside\\n\\tInternet :  138.23.166.21\\n\\nsdexter@technet1.shl.com       \\n  \\t Facilities Engineer,\\n\\t SHL SystemHouse, Inc. ,Technology Network\\n         Internet : 192.75.61.2', 'A \"new Christian\" wrote that he was new to the faith and \\nlearning about it \"by reading the Bible, of course\". I am not\\nat all sure this is the best path to follow.\\n\\tWhile the Bible is, for Christians, the word of God, the \\nrevelation of God is Jesus Christ and the chief legacy of this\\nrevalation is the Church. I am not recommending any one\\ndenommination, but I do recommend finding a comfortable christian\\ncongregation in which to develop your faith, rather than just\\nreading the Bible.\\n\\tThis does not mean that the Bible should not be read, although\\nI would stick to the Gospels, epistles, and Psalms and avoid the\\nBook of Revelation altogether [until you are with friends you are\\ncomfortable with]. I am sure that mistakenly fervent  projects to\\nread the entire Bible have frequently bogged down with a remarkable\\nlack of fervour somewhere in the middle of Leviticus, or for the really\\nsturdy, somewhere in Chronicles.\\n\\tThe point is that the Bible is their to illustrate the Faith\\nof Christians, but does not provide the totality of that faith. Vital\\nbeliefs of virtually all Christians are simply not mentioned -\\nthe Trinity, the duality of natures in Christ, types of Church\\norganization. All these beliefs and practices have developed from the\\nlived experience of the Christian people, an experience lived one\\nhopes in the Spirit. As such the Bible, I think, is better studies\\nin the context of a congregation, and the context of other reading.\\n\\tFollowing up on a suggestion of an old confessor of mine, I \\nwould even suggest that a good novel is a good way to reflect on the\\nchristian life. [Most novels of any profundity are actually discussing\\nthe nature of good and evil in the human heart]. My own induction into\\nthe christian faith was brought about [after grace] through reading\\nGraham Greene: _The Power and the Glory_ and the poetry of Gerard\\nManley Hopkins. I would also recommend Graham Greene\\'s _Monsignor\\nQuixote_ and any novel by Iris Murdoch. The last is not even a Christian,\\nbut such is her insistence on the need for the good life, that, frankly,\\nI often am more uplifted and God directed after reading her than after\\nreading many parts of the Bible. And that after all is what being\\na Christian is all about: letting your soul and your life be, in\\nsome way, directed towards the infinite, represented to us by\\nthe person of Jesus Christ.', 'Hello,\\n \\nI have a 92 Toyota 4X4 and in the last few weeks I have been getting quite\\na few \"dings\" :( in the paint on the hood from rocks and debris off of the\\nroad. I have never had any major problems with other car/trucks in the past\\n(maybe a ding once in a while). I went to the dealer and he said that it\\nhappens all of the time and he recomended putting a bug deflector on the\\nhood. He said that the trucks, for some unknown reason, seem to have this\\nproblem more than some cars.? \\n\\nIt seems to me that either my luck is really bad or there might be a problem\\nwith the paint (painted on a monday morning perhaps?). \\n \\nHow well do these bug deflectors work for small road debris on trucks? \\n \\nIf anyone has any experiences/suggestions please let me know, thanks.\\n \\n--Greg ', \"\\n                           ^^^^^^^^^^^^^^^^^^^^^^^^^^^^^^^^^^^\\nSo you believe in the existance of One creator I assume.\\n\\n\\n\\nOk, god has the disclaimer, reserves the right to judge individual\\ncases.  If we believe him to be loving, then we also believe him to be\\nable to serve justice to all.  Don't worry if a Jew, or athiest is\\ngoing to heaven or hell, for that is god to judge (although truly\\nif you were concerned you could only worry abput those who refuse to\\nbelieve/satisfy gods decrees) as much as keeping yourself straight.\\nIf you see something going on that is wrong, discuss it and explore it\\nbefore making summary judgement.  People have enough free will to choose\\nfor themselves, so don't force choices on them, just inform them\\nof what they're choices are.  God will take care of the rest in his justice.\\n\", \"\\n\\tAs a stong self-defense advocate, you're 'statement', does littel\\nbut irk me.  Of course shooting someone because they throw a rock at your\\ncar is out of the question, but what if they disabled your car with their\\nrock and then wanted to come kill/rape/rob/beat/ or otherwise harm you,\\nyour wife, kids?  \\n\\tI think you would like the power to defend yourself in this situation,\\nwouldn't you?  Or is it that you value the lives of such rock throwers\\nmore than your own or those of your family?  \\n\\tDon't think it couldn't happen to you.  From the sounds of it here\\nit has happened to a few people.  \\n\\n\\tPlease do not misunderstand.  The only justification for using\\ndeadly force on someone, is that if you don't, it will mean your own \\ndeath or grave bodily harm.  I am far far away from supporting\\nvilante justice or anything like that..\\n\\n\\tOh, and if you mean to be funny, please add the appropriate :-)\\n\\t\\nFollowups to talk.politics.guns please...  we're getting a bit off track\\nhere....\", 'True.\\n\\nAlso read 2 Peter 3:16\\n\\nPeter warns that the scriptures are often hard to understand by those who\\nare not learned on the subject.', '\\nAn interesting interpretation of Revelation 17 and 18 has been given by  \\nevangelist David Wilkerson.  I am not saying that I totally agree with his  \\ninterpretation, but it is certainly believable and good food for thought.  He  \\ninterprets the Babylon of Revelation 17-18 as being none other than the good  \\nold U. S. of A.  That\\'s right, America.  He supports his claim in several ways.   \\nThe Babylon of Revelation is THE world leader in trade and commerce, and the  \\nWHOLE WORLD wept when Babylon fell.  The American dollar, despite the Japanese  \\nsuccess of the 20th century, is STILL the most sought after currency in the  \\nworld.  If the U.S. were destroyed, wouldn\\'t the whole world mourn?  The bible  \\nalso talks about Babylon being a home of harlots, sin, and adultery (I am  \\nparaphrasing, of course).  Babylon\\'s sin affected, or should I say, infected,  \\nthe whole world.  It doesn\\'t take much looking to see that the U.S. is in a  \\nstate of moral decay.  Hasn\\'t the American culture and Hollywood spread the \"do  \\nit if it feels good\" mentality all over the world.  I think, though, that what  \\nMr. Wilkerson uses as his strongest argument is the fact that Revelation calls  \\nBabylon \"Babylon the Great\" and portrays it as the most powerful nation on  \\nearth.  No matter how dissatisfied you are with the state of our country, I  \\ndon\\'t think you would have too much trouble agreeing that the U.S. is STILL the  \\nmost powerful nation on earth.\\n\\nAgain, this interpretation is not NECESSARILY my own, but I do find it worthy  \\nof consideration.', '\\n\\n\\n\\n\\nThis is the problem. This is not hell, this is permanent death. It is\\nindeed what atheists (generally) expect and it is neither fair nor\\nunfair, it just is. You might as well argue about whether being made\\nmostly of carbon and water is \"fair\".\\n\\nHowever, the atheists who claim that Hell is unfair are talking about\\nthe fire and brimstone place of endless suffering, which necessarily\\nincludes eternal existance (life, I dunno, but some sort of continuation);\\nnot at all the same thing.\\n\\nGranted, you clearly feel that hell=death, but this is not a univeral\\nsentiment as near as I can tell.\\n\\nIf *your* idea of God \"condemns\" heathens to ordinary death, I have no\\nproblem with that. I do have a problem with the gods that hide from humans\\nand torture the unbelievers eternally for not guessing right.\\n\\n[deletia- Hell, and Literalness.]\\n\\n---\\n\\t\\t\\t- Dan Johnson\\nAnd God said \"Jeeze, this is dull\"... and it *WAS* dull. Genesis 0:0', \"\\nI don't understand the fascination with vent windows. They create a tremendous \\nturbulence and noise that makes even a simple connversation impossible at \\nspeeds above 40mph. The current flow-throuh ventilation, if designed right, \\nare far more superior.\", '\\n\\nTerms are being used in a loaded way here.\\n\\n\"Logical proof\" is an extremely messy thing to apply to real\\nlife. If you think otherwise, try to construct a proof that\\nyesterday happened. Obviously it did; anyone old enough to be\\nreading this was there for it and remembers that it happened.\\nBut *proof*? A proof starts with axioms and goes somewhere.\\nYou need axioms to talk about logical proof. You can say that\\nyou remember yesterday, and that you take as axiom that anything\\nyou clearly remember happened. I could counterclaim that you\\nhallucinated the whole thing.\\n\\nTo talk about proofs of historical events, you have to relax the\\nterms a bit. You can show evidences, not proofs. Evidences of the\\nresurrected Jesus exist. Proofs do not.', '[With Frank\\'s permission, I have added some information here (and in\\none case changed the order of his contributions) in order to clarify\\nthe historical relationship of the views.  My comments are based\\nprimarily on William Rusch\\'s historical summary in \"The Trinitarian\\nControversy\", Fortress.  I\\'m going to save this as an FAQ.  --clh]\\n\\nMAJOR VIEWS OF THE TRINITY\\n \\n[SECOND CENTURY\\n\\nThe writers of the 2nd Cent. are important, because they set up much\\nof the context for the later discussions.  Justin Martyr, Aristides,\\nAthenagoras, Tatian, and Theophilus of Antioch are known as the\\n\"Apologists\".  Their theology has often been described as \"Logos\\ntheology\".  Based strongly on wording in John, they took more or less\\na two-phase approach.  Through eternity, the Logos was with the\\nFather, as his mind or thought.  This \"immanent Word\" became\\n\"expressed\" as God revealed himself in history, ultimately in Jesus.\\nThus Jesus\\' full distinction from the Father only became visible in\\nhistory, though the Logos had been present in God from eternity.\\nRusch regards this view is containing many of the emphases of the\\nfinal orthodox position, but in a form which is less sophisticated,\\nbecause it did not have the technical language to properly deal with\\nthe eternal plurality in the Godhead.\\n\\nIrenaeus held views somewhat similar to the Apologists.  However he\\nwas uncomfortable with the two-stage approach.  He still viewed God as\\none personage, with distinctions that did not become fully visible\\nexcept through his process of self-revelation (the \"economy\").  The\\ndistinctions are present in his essential nature.  Irenaeus emphasized\\nthe Holy Spirit more than the Apologists.  Irenaeus\\' views should\\nprobably be called \"economic trinitarianism\", though that term is\\nnormally used (as below) to refer to later developments.\\n\\n\\nTHIRD CENTURY\\n\\n--clh]\\n\\nDynamic Monarchianism\\n \\nSource: Theodotus\\nAdherents: Paul of Samosota, Artemon, Socinus, Modern Unitarians\\nPerception of God\\'s Essence: The unity of God denotes both oneness of nature\\nand oneness of person. The Son and the Holy Spirit therefore are\\nconsubstantial with the Father\\'s divine essence only as impersonal attributes.\\nThe divine dunamis came upon the man Jesus, but he was not God in the strict\\nsense of the word.\\nPerception of God\\'s Subsistence: The notion of a subsistent God is a palpable\\nimpossibility, since his perfect unity is perfectly indivisible. The\\n\\'diversity\\' of God is apparent and not real, since the Christ event and the\\nwork of the Holy Spirit attest only to a dynamic operation within God, not to\\na hypostatic union.\\nAsignation of Deity/Eternality:\\n Father: Unique originator of the universe. He is eternal, self-existent, and\\nwithout beginning or end.\\n Son: A virtuous (but finite) man in whose life God was dynamically present in\\na unique way; Christ definitely was not deity though his humanity was deified.\\n Holy Spirit: An impersonal attribute of the Godhead. No deity or eternality\\nis ascribed to the Holy Spirit.\\nCriticism(s): Elevates reason above the witness of biblical revelation\\nconcerning the Trinity. Categorically denies the deity of Christ and of the\\nHoly Spirit, thereby undermining the theological undergirding for the biblical\\ndoctrine of salvation.\\n[In summary, this probably best thought of as not being Trinitarianism\\nat all.  God is an undifferentiated one.  Son and Holy Spirit are seen\\nas simply names for the man Jesus and the grace of God active in the\\nChurch.  --clh]\\n\\n \\nModalistic Monarchianism\\n \\nSource: Praxeas\\nAdherents: Noatus, Sabellius, Swedenborg, Scleiermacher, United Pentecostals\\n(Jesus Only)\\nPerception of God\\'s Essence: The unity of God is ultra-simplex. He is\\nqualitatively characterized in his essence by one nature and person.  This\\nessence may be designated interchangeably as Father, Son, and Holy Spirit.\\nThey are different names for but identical with the unified, simplex God. The\\nthree names are the three modes by which God reveals Himself.\\nPerception of God\\'s Subsistence: The concept of a subsistent God is erroneous\\nand confounds the real issue of the phenomenon of God\\'s modalistic manifesting\\nof himself. The paradox of a subsisting \"three in oneness\" is refuted by\\nrecognizing that God is not three persons but one person with three different\\nnames and corresponding roles following one another like parts of a drama.\\nAsignation of Deity/Eternality:\\n Father: Fully God and fully eternal as the primal mode or manifestation of\\nthe only unique and unitary God\\n Son: Full deity/eternality ascribed only in the sense of his being another\\nmode of the one God and identical with his essence. he is the same God\\nmanifested in temporal sequence specific to a role (incarnation).\\n Holy Spirit: Eternal God only as the tile designates the phase in which the\\none God, in temporal sequence, manifested himself pursuant to the role of\\nregeneration and sanctification.\\nCriticism(s): Depersonalizes the Godhead. To compensate for its Trinitarian\\ndeficiencies, this view propounds ideas that are clearly heretical. Its\\nconcept of successive manifestations of the Godhead cannot account for such\\nsimultaneous appearances of the three persons as at Christ\\'s baptism.\\n[Rusch comments that evidence on these beliefs is sketchy.  There are\\nactually two slightly different groups included: Noetus and his\\nfollowers, and Sabellius.  Noetus was apparently more extreme.\\nSabellius followed him, and attempted to use some features of economic\\nTrinitarianism to create a more sophisticated view.  Unfortunately,\\ninformation about Sabellius comes from a century later, and there\\nseems to be some confusion between him and Marcellus of Ancyra. --clh]\\n \\n[I\\'ve moved the following description to be with the other\\nthird-century views.  It originally appeared near the end.  --clh]\\n\\n\"Economic\" Trinitarianism\\n \\nSource: Hippolytus, Tertullian\\nAdherents: Various \"neo-economic\" Trinitarians\\nPerception of God\\'s Essence: The Godhead is characterized by triunity: Father,\\nSon, and Holy Spirit are the three manifestations of one identical,\\nindivisible substance. The perfect unity and consubstantiality are especially\\ncomprehended in such manifest Triadic deeds as creation and redemption.\\nPerception of God\\'s Subsistence: Subsistence within the Godhead is articulated\\nby means of such terms as \"distinction\" and \"distribution\" dispelling\\neffectively the notion of separateness or division.\\nAsignation of Deity/Eternality:\\nThe equal deity of Father, Son, and Holy Spirit is clearly elucidated in\\nobservation of the simultaneous relational/operational features of the\\nGodhead. Co-eternality, at times, does not intelligibly surface in this\\nambiguous view, but it seems to be a logical implication.\\nCriticism(s): Is more tentative and ambiguous in its treatment of the\\nrelational aspect of the Trinity.\\n[Note that this is a development of the Apologists and Irenaeus, as\\nmentioned above.  As with them, the threeness is visible primarily in\\nthe various ways that God revealed himself in history.  However they\\ndid say that this is a manifestation of a plurality that is somehow\\npresent in the Godhead from the beginning.  Tertullian talks of\\nthe Father, Son, and Holy Spirit as being three that are one in\\nsubstance.  Many people regard this view as being essentially\\northodox, but with less developed philosophical categories.  --clh]\\n\\n[Origen, developing further an approach started by Clement, attempted\\nto apply neo-Platonism to Christian thought.  He set many of the terms\\nof the coming battle.  In Platonic fashion, he sees the Son as a\\nmediator, mediating between the absolute One of God and the plurality\\nof creating beings.  The Son is generated, but he is \"eternally\\ngenerated\".  That is, the relationship between Father and Son is\\neternal.  It cannot be said that \"there was once when he was not\" (a\\nphrase that will haunt the discussion for centuries).  Having the Son\\nis intrinsic to his concept of God.  The Father and Son are described\\nas separate \"hypostases\", though this may not have quite the meaning\\nof separate subsistence that it had in some contexts.  The union is\\none of love and action, but there is some reason to think that he may\\nhave used the term homoousios (\"of the same substance\").  The Holy\\nSpirit is also an active, personal substance, originated by the Father\\nthrough the Son.  Origen\\'s intent is trinitarian, not tritheistic, but\\nhe pushes things in the direction of separateness.\\n\\n\\nFOURTH CENTURY\\n\\n--clh]\\n\\nSubordinationism  [often called Arianism --clh]\\n \\nSource: Arius\\nMajor Adherents: Modern Jehovah\\'s Witnesses, and several other lesser known\\ncults\\nPerception of God\\'s Essence: The inherent oneness of God\\'s nature is properly\\nidentifiable with the Father only. The Son and the Holy Spirit are discreet\\nentities who do not share the divine essence.\\nPerception of God\\'s Subsistence: The unipersonal essence of God precludes the\\nconcept of divine subsistence with a Godhead. \"Threeness in oneness\" is self-\\ncontradictory and violates biblical principles of a monotheistic God.\\nAsignation of Deity/Eternality:\\n Father: The only one, unbegotten God who is eternal and without beginning.\\n Son: A created being and therefore not eternal. Though he is to be venerated,\\nhe is not of the divine essence.\\n Holy Spirit: A nonpersonal, noneternal emanation of the Father. He is viewed\\nas an influence, an expression of God.  Deity is not ascribed to him.\\nCriticism(s): It is at variance with abundant scriptural testimony respecting\\nthe deity of both Christ and the Holy Spirit. Its hierarchial concept likewise\\nasserts three essentially separate persons with regard to the Father, Christ,\\nand the Holy Spirit. This results in a totally confused soteriology.\\n[Note also that in most versions of this view, the Son is not fully\\nhuman either.  He is supernatural and sinless.  That distinguishes this\\nview from adoptionism.  --clh]\\n \\nOrthodox Trinitarianism\\n \\nSource: Athanasius\\nAdherents: Basil, Gregory of Nyssa, Gregory of Nazianzus, Augustine, Thomas\\nAquinas, Luther, Calvin, Contemporary orthodox Christianity\\nPerception of God\\'s Essence: God\\'s being is perfectly unified and simplex: of\\none essence.  This essence of deity is held in common by Father, Son, and Holy\\nSpirit. The three persons are consubstantial, coinherent, co-equal, and co-\\neternal.\\nPerception of God\\'s Subsistence: The divine subsistence is said to occur in\\nthree modes of being or hypostases. As such, the Godhead exists \"undivided in\\ndivided persons.\" This view contemplates an identity in nature and cooperation\\nin function without the denial of distinctions of persons in the Godhead.\\nAsignation of Deity/Eternality:\\nIn its final distillation, this view unhesitatingly sets forth Father, Son,\\nand Holy Spirit as co-equal and co-eternal in the Godhead with regard to both\\nthe divine essence and function.\\nCriticism(s): The only shortcoming has to do with the limitations inherent in\\nhuman language and thought itself: the impossibility of totally describing the\\nineffable mystery of \"three in oneness.\"\\n[At least in the 4th Cent, there were several different approaches, all\\nof which fit the description here, and all regarded as orthodox, but which\\nare somewhat different in detail.  Nicea was originally held to respond\\nto Arius.  Arius can be thought of as carrying Origen\\'s thought a bit\\ntoo far, to the point of making the Son a separate entity.  In general\\nthe East tended to take an approach based on Origen\\'s, and it was hard\\nto get acceptance of Nicea in the East.  Its final acceptance was\\nbased on the work of Athanasius with the Cappadocians: Gregory of Nyssa and\\nGregory of Nazianzus, among others.  While starting with three,\\nthey show that their unity in nature and and action is such that one\\nmust think of them as being a single God.  This allowed the Council\\nof Constantinople, in 381, to get wide agreement on the idea of\\nthree hypostatese and one ousia.  --clh]\\n\\nAdapted from _Charts of Christian Theology and Doctrine_, by H. Wayne House.\\n\\n\\nFrank', \"Well, there *is* a difference.\\n\\nI don't happen to have my SAE manual handy, but oil viscosity in general\\n_decreases_ with temperature.  The SAE numbers are based on a `typical'\\ncurve that oils used to all have, running from (say) the viscosity of a\\nroom-temperature 90-weight at 0C, down to (say) that of a room-temperature \\n5-weight at 20C, for a typical 40-weight oil.\\n\\nOils that are designed for operation in `normal' temperatures just have\\na weight specification.  Oils that are designed for operation in exceedingly\\ncold temperatures have a `W' tacked on the end, so in winter in a cold\\nplace, you'd stick 10W in your car in the winter and 40 in it in the summer,\\nto approximate the appropriate viscosity throughout the year.\\n\\nModern multi-viscosity oils change viscosity much less with temperature.\\nAs a result, their viscosity graphs cross over several curves.  A multi-vis\\nspecification pegs the curve at two temperatures, a `normal' operating\\ntemperature and a `cold' one (though I can't remember the numbers...).\\n\\nIn any event, the weights do indicate a significant difference.  Remember\\nthat your engine is temperature-regulated (by the thermostat and\\nradiator or air fins) most of the time -- unless you overheat it or\\nsomething.\\n\\nAny weight of oil is better than no oil, or than very old, carbonized\\noil.  Thin oil won't (in general) lubricate as well at temperature,\\nthicker oil will (like a 20W50) will lubricate better at temperature, \\nbut not as well during startup, when most engine wear occurs.  \\n\\nIf you're planning on making long drives, the 20W50 is probably fine\\n(esp. in the summer) in your 10W40 car.  But if you're making short drives,\\nstick to the 10W40.\\n\\n\", 'I wrote in response to dlecoint@garnet.acns.fsu.edu (Darius_Lecointe):\\n\\n\\nWas Paul a God too? Is an interpretation of the words of Paul of higher\\npriority than the direct word of Jesus in Matt5:14-19? Paul begins\\nRomans 14 with \"If someone is weak in the faith ...\" Do you count\\nyourself as one who is weak in the faith?\\n\\n\\nYes, but what does the Bible have to say? What did Jesus say? Paul\\ncloses Romans 14 with, \"On the other hand, the person with doubts about\\nsomething who eats it anyway is guilty, because he isn\\'t acting on his\\nfaith, and any failure to act on faith is a sin.\" Gaus, ISBN:0-933999-99-2\\nHave you read the Ten Commandments which are a portion of the Law? Have\\nyou read Jesus\\' word in Matt5:14-19? Is there any doubt in your mind\\nabout what is right and what is sin (Greek hamartia = missing the mark)?\\n\\n\\nWhereas, the Ten Commandments and Jesus\\' words in Matt5:14-19 are fairly\\nclear, are they not?\\n\\n\\nMatt5:14-19 doesn\\'t answer your question?\\n\\n\\nBreaking bread - roughly synonymous with eating.\\n\\n\\nHow do you unite this concept of yours with the Ten Commandments and\\nJesus\\'s word in Matt5:14-19?\\n\\n\\nOr, they assumed that the Ten Commandments and Jesus\\' word in\\nMatt5:14-19 actually stood for something? Perhaps they were \"strong in\\nthe faith?\"\\n\\n---------------------------\\n\\n[No, I don\\'t believe that Paul can overrule God.  However Paul was\\nwriting for a largely Gentile audience.  The Law was regarded by Jews\\nat the time (and now) as binding on Jews, but not on Gentiles.  There\\nare rules that were binding on all human beings (the so-called Noachic\\nlaws), but they are quite minimal.  The issue that the Church had to\\nface after Jesus\\' death was what to do about Gentiles who wanted to\\nfollow Christ.  The decision not to impose the Law on them didn\\'t say\\nthat the Law was abolished.  It simply acknowledged that fact that it\\ndidn\\'t apply to Gentiles.  Thus there is no contradiction with Mat 5.\\nAs far as I can tell, both Paul and other Jewish Christians did\\ncontinue to participate in Jewish worship on the Sabbath.  Thus they\\ncontinued to obey the Law.  The issue was (and is) with Gentile\\nChristians, who are not covered by the Law (or at least not by the\\nceremonial aspects of it).\\n\\nJesus dealt mostly with Jews.  I think we can reasonably assume that\\nMat 5 was directed to a Jewish audience.  He did interact with\\nGentiles a few times (e.g. the centurion whose slave was healed and a\\ncouple of others).  The terms used to describe the centurion (see Luke\\n7) suggest that he was a \"God-fearer\", i.e. a Gentile who followed\\nGod, but had not adopted the whole Jewish Law.  He was commended by\\nJewish elders as a worthy person, and Jesus accepted him as such.\\nThis seems to me to indicate that Jesus accepted the prevailing view\\nthat Gentiles need not accept the Law.\\n\\nHowever there\\'s more involved if you want to compare Jesus and Paul on\\nthe Law.  In order to get a full picture of the role of the Law, we\\nhave to come to grips with Paul\\'s apparent rejection of the Law, and\\nhow that relates to Jesus\\' commendation of the Law.  At least as I\\nread Paul, he says that the Law serves a purpose that has been in a\\ncertain sense superceded.  Again, this issue isn\\'t one of the\\nabolition of the Law.  In the middle of his discussion, Paul notes\\nthat he might be understood this way, and assures us that that\\'s not\\nwhat he intends to say.  Rather, he sees the Law as primarily being\\npresent to convict people of their sinfulness.  But ultimately it\\'s an\\nimpossible standard, and one that has been superceded by Christ.\\nPaul\\'s comments are not the world\\'s clearest here, and not everyone\\nagrees with my reading.  But the interesting thing to notice is that\\neven this radical position does not entail an abolition of the Law.\\nIt still remains as an uncompromising standard, from which not an iota\\nor dot may be removed.  For its purpose of convicting of sin, it\\'s\\nimportant that it not be relaxed.  However for Christians, it\\'s not\\nthe end -- ultimately we live in faith, not Law.\\n\\nWhile the theoretical categories they use are rather different, in the\\nend I think Jesus and Paul come to a rather similar conclusion.  The\\nquoted passage from Mat 5 should be taken in the context of the rest\\nof the Sermon on the Mount, where Jesus shows us how he interprets the\\nLaw.  The \"not an iota or dot\" would suggest a rather literal reading,\\nbut in fact that\\'s not Jesus\\' approach.  Jesus\\' interpretations\\nemphasize the intent of the Law, and stay away from the ceremonial\\ndetails.  Indeed he is well known for taking a rather free attitude\\ntowards the Sabbath and kosher laws.  Some scholars claim that Mat\\n5:17-20 needs to be taken in the context of 1st Cent. Jewish\\ndiscussions.  Jesus accuses his opponents of caring about giving a\\ntenth of even the most minor herbs, but neglecting the things that\\nreally matter: justice, mercy and faith, and caring about how cups and\\nplates are cleaned, but not about the fact that inside the people who\\nuse them are full of extortion and rapacity.  (Mat 23:23-25) This, and\\nthe discussion later in Mat 5, suggest that Jesus has a very specific\\nview of the Law in mind, and that when he talks about maintaining the\\nLaw in its full strength, he is thinking of these aspects of it.\\nPaul\\'s conclusion is similar.  While he talks about the Law being\\nsuperceded, all of the specific examples he gives involve the\\n\"ceremonial law\", such as circumcision and the Sabbath.  He is quite\\nconcerned about maintaining moral standards.\\n\\nThe net result of this is that when Paul talks about the Law being\\nsuperceded, and Jesus talks about the Law being maintained, I believe\\nthey are talking about different aspects of the Law.  Paul is\\nembroiled in arguments about circumcision.  As is natural in letters\\nresponding to specific situations, he\\'s looking at the aspect of the\\nLaw that is currently causing trouble: the Law as specifically Jewish\\nceremonies.  He certainly does not intend to abolish divine standards\\nof conduct.  On the other hand, when Jesus commends the Law, he seems\\nto be talking the Law in its broadest implications for morals and\\nhuman relationships, and deemphasizing those aspects that were later\\nto give Paul so much trouble.\\n\\nIt\\'s unfortunate that people use the same terms in different ways, but\\nwe should be familiar with that from current conflicts.  Look at the\\nway terms like \"family values\" take on special meaning from the\\ncurrent context.  Imagine some poor historian of the future trying to\\nfigure out why \"family values\" should be used as a code word for\\nopposition to homosexuality in one specific period in the U.S.  I\\nthink Law had taken on a similar role in the arguments Paul was\\ninvolved in.  Paul was clearly not rejecting all of the Jewish values\\nthat go along with the term \"Law\", any more than people who concerned\\nabout the \"family values\" movement are really opposed to family\\nvalues.', '\\n\\n\\nMust there be a \"why\" to this?  I ask because of what you also\\n     assume about God-- namely, that He just exists, with no \"why\"\\n     to His existence.  So the question is reversed, \"Why can\\'t\\n     we assume the universe just exists as you assume God to\\n     \"just exist\"?  Why must there be a \"why\" to the universe?\"\\n\\n\\nIt may be that one day man not only can create life but can also\\n     create man.  Now, I don\\'t see this happening in my lifetime,\\n     nor do I assert it is probable.  But the possibility is there,\\n     given scientists are working hard at \"decoding\" out \"genetic\\n     code\" to perhaps help cure disease of a genetic variation.\\n     Again, though, must there be \"why\" or a \"divine prupose\" to\\n     man\\'s existence?\\n\\n\\nAs far as we can tell, man falls into the \"mammal\" catagory.  Now,\\n     if there were something more to the man (say, a soul), then\\n     we have yet to find evidence of such.  But as it is now, man\\n     is a mammal (babies are born live, mother gives milk, we\\'re\\n     warm-blooded, etc.) as other mammals are and is similar in\\n     genetic construction to some of them (in particular, primates).\\n     For more on this check out talk.origins.\\n\\n\\nWell, then, Buddhism, Confucianism, Taoism, Hinduism, Judaism,\\n     Zoerasterism, Shintoism, and Islam should fit this bit of logic\\n     quite nicely... :-)  All have depth, all have enduring values,\\n     thus all must be true...\\n\\nStephen\\n\\n    _/_/_/_/  _/_/_/_/   _/       _/    * Atheist\\n   _/        _/    _/   _/ _/ _/ _/     * Libertarian\\n  _/_/_/_/  _/_/_/_/   _/   _/  _/      * Pro-individuality\\n       _/  _/     _/  _/       _/       * Pro-responsibility\\n_/_/_/_/  _/      _/ _/       _/ Jr.    * and all that jazz...\\n', \"\\n\\nMy whole point was not to say that the cars *couldn't* go that fast,\\nbut that they *shouldn't* go that fast.  A family sedan designed to be\\noperable at 85mph doesn't suddenly become operable at 130mph because\\nyou added some plastic aero effects, slightly wider tires, and a much\\nlarger engine.  That's what the SHO is -- a slightly modified family\\nsedan with a powerful engine.  They didn't even bother improving the\\n*brakes.*\\n\\nThe Mustang is essentially the same deal as the SHO -- a big power\\nplant stuck in a mid-size sedan, with almost no other modifications.\\nI have real-life experience with the Mustang -- it handles like a\\nbrick (except when you're invoking oversteer, of course, something I\\npersonally avoid doing on the highway) and stopping power is\\ninadequate even from 80mph.  Lots of accelleration -- but the rest of\\nthe car is not up to par.\\n\\nI picked the Porsche example because they are designed with speed in\\nmind.  It didn't have to be the 911 -- it could have been the much\\ncheaper 944 or one of several Mercedes or Audi models.  All of these\\ncars are fairly expensive -- but so are the parts that make them\\ndrivable at high speed.  This should be elementary.\\n\\nThere are a few things to keep in mind about Europe, since you brought\\nit up.  My Autobahn knowledge is admittedly second-hand, but I believe\\nthe following to be true:\\n\\n1. Drivers are much better disciplined in Europe than they are here.\\n2. The roads comprising the Autobahn are much better designed than\\n   they are here, and usually include animal fences.  This makes them\\n   far more predictable than most US highways.\\n3. Not all of Europe is the Autobahn.  Most places in Europe have\\n   speed limits that aren't out-of-line with what we used to have in\\n   the US -- if my friends weren't lying to me they're typically not\\n   much higher than 120km/h.\\n\\nI strongly suspect you won't find a lot of Rabbit owners doing 120mph\\n(nearly 200km/h) on the Autobahn, but I could be wrong.  Some people\\nhave no respect for their own lives.\\n\\n\\n\\nIf you think so you sure don't pay attention to my postings.\", \"\\nPerhaps it is because witnesses who have left the compound have all\\ntestified that the BATF shot first, they they did not identify themselves\\nbefore tossing in concussion grenades (not that anyone inside could have\\n_heard_ such identification after being near a concussion grenade) and\\nthe announcement from the BATF that they have sealed the warrant under\\nwhich they were operating - which was a _search_ warrant, by the way,\\n_not_ an arrest warrant.  In short, perhaps because the BATF is wildly\\nout of control and perhaps calmer heads have realized that bombing a\\ncompound full of woman and children will not improve their position.\\nThere is a real chance that Koresh will be able to prove self-defense\\nin court.  That will leave - what? - four officers dead and no one to\\nblame but the BATF.\\n\\nFollowups directed to alt.activism, where the discussion has raged nearly\\nas long as the seige, and which shows every sign of not giving up nearly\\nas soon.\\n\\nLarry Smith (smith@ctron.com)  No, I don't speak for Cabletron.  Need you ask?\", \"Hello World,\\n\\t     just bought a new Stealth two weeks ago. Got a grad student \\n rebate. Someone told me that there's another $400 reabet for 1st time\\n Chrysler buyer. True ? If yes can I still get it or am I too late ?\\n\", \"Is clear coat really worth it?  Yes, on the showroom floor, the cars\\nhave this deep, lustrous shine that just can't be found on paint jobs\\nthat aren't clear coated.  On the other hand, it seems that every clear\\ncoated car that I've seen on the road (in a parking lot, etc.) has\\nfine scratches throughout the paint job.  As does, alas, my 1992 Laser.\\n\\nSeveral weeks ago I had my car professionally polished and waxed.\\nWhen I picked it up, it had that same showroom shine that I remember\\nfrom a year ago when I bought it.  Several days ago I took my car\\nto the dealership for some work.  As an added bonus, they washed my\\ncar.  Unfortunately, whoever washed it either didn't get the roof\\n(which is black, the rest of the car is red) completely clean before\\nhe dried it, or he used a dirty towel.  Now my showroom shine is a\\nhaze of fine scratches that aren't really visible until the light\\nhits the roof at a particular angle.\\n\\nI am, to put it mildy, somewhat peeved about this.  Do I have any \\nchance of getting the dealership to do something about this?\\nMy guess is 'no'.  Is there any product on the market that provides\\na solution to this problem?  Or am I faced with the prospect of\\nhaving the car professionally polished again to hide the scratches?\\nInformation, commiseration, and sympathy all greatly appreciated . . .\", 'From article <1993Apr5.200048.23421@ucsu.Colorado.EDU>, by lorenzo@rintintin.Colorado.EDU (Eric Lorenzo):\\n\\n--Let me put it like this.  The only similarity between the three models\\n  is the \"300\", or 3-liter engine displacement.  Actually, the SC300 (the\\n  coupe) and the GS300 (the funky-looking new sedan) share the same 3.0\\n  liter inline-six, and the ES300 (popular small sedan) uses 3.0 V6 shared\\n  with the Camry.  The SC300 is a luxury/sports coupe, the GS300 is the new\\n  luxury sedan, and the ES300 is the base executive sedan.  All three look\\n  completely different.\\n\\n--Aamir Qazi\\n-- ', \"\\nSounds a lot more like an Opel GT to me. I'd guess that this is on the same\\nchassis as the Kadett, rather than the bigger Manta - but I could easily\\nbe wrong.  I think the later Kadett's were sold here as Buick Opels.\", \"DeSoto's first year of manufacture was 1928, so this may indeed have been\\nan export special, as left hand controls were standard here by then.\\n\", '\\nI strongly disagree that absolute truth would not require interpretation.\\nThat\\'s because truth may be absolute, but it may not be obvious.  Like\\nso many things, the truth is always subject to misinterpretation.\\n\\nI strongly suspect that we are reaching an impasse here, which is why I\\ndeign from commenting much further.\\n\\n\\nNow hold it.  I never said that Christians cannot be arrogant.  Indeed, as\\nmany other Christians on SRC have stressed before, this is a trap that\\nChristians must always be wary about.  However, this does not mean that if\\nyou believe in the absolutes established by the Bible, you are necessarily\\nbeing arrogant.  A Christian can believe that the Word of God is absolute,\\nbut he or she should not expect this to be immediately evident to everyone.\\n \\n\\nNot quite.  You say that according to my stance, we cannot *reliably*\\ndetermine what is true.  That is not what I said.  I say that as fallible\\nhuman beings, we cannot discern the truth with 100% certainty.  The \\ndistinction is subtle yet important.\\n\\nWhen a scientist performs an experiment, he can claim that his results\\nare reliable, without claiming that absolutely no mistake whatsoever could\\nhave been made.  In other words, he can admit that he could be mistaken,\\nwithout sacrificing his convictions.\\n\\nNobody can establish what absolute truth is with 100% certainty.\\nThroughout the centuries, philosophers have argued about what we can know\\nwith complete certainty and what we cannot.  Descartes made a step in the\\nright direction when he uttered, \"Cogito, ergo sum,\" yet we have not advanced\\nmuch beyond that.\\n\\nDo you believe that other people aside from you exist?  Do you believe that\\nthe computer terminal you are using exists?  If so, can you be absolutely\\ncertain about that?  Are you sure it is not some grand illusion?  Of course,\\nyou have no such assurance.  This does not mean, however, that for all\\npractical purposes, you can be certain that they exist.  So it is with\\nChristianity.  The most mature Christians I know have deep convictions about\\nabsolute morality, yet they acknowledge that there is a non-zero probability \\nthat they are wrong.  This does not, however, mean that they should (or do) \\nabandon these absolutes.\\n\\n\\nAs I said, we can never be absolutely certain that we are correct.  This does\\nnot mean that we cannot be certain enough, in light of the evidence, to \\nrender all doubts unreasonable.\\n', \"   > [A very nice article on the DSS, which I thought answered\\n   >  David Cruz-Uribe's original queries quite well]\\n\\n   Here are some books I have read recently that helped me not only\\n   prepare for a 5 week series I taught in Sunday School, but greatly\\n   increased my knowledge of the Qumran scrolls. [...]\\n\\nOne other recent book I would heartily recommend is Joseph Fitzmyer's\\n_Response to 101 Questions about the Dead Sea Scrolls_ (Paulist,\\n1992).\\n\\nFitzmyer is one of the preeminent modern NT scholars.  He was also one\\nof the early workers on the DSS.  His book is written in a\\nstraightforward Q&A that allows it to serve as a source for a great\\nwealth of clearly presented basic, up-to-the-moment information about\\nthe DSS.\\n\\n(This book is something of a companion volume to Raymond Brown's\\n_Response to 101 Questions about the Dead Sea Scrolls_.)\\n\\nNichael\", \": > \\t   I'm a commited Christian that is battling with a problem.  I know\\n: > that romans talks about how we are saved by our faith not our deeds, yet\\n: > hebrews and james say that faith without deeds is useless, saying' You fools,\\n: > do you still think that just believing is enough?'\\n: \\n: [Stuff deleted]\\n:  \\n: > Now I am of the opinion that you a saved through faith alone (not what you do)\\n: > as taught in Romans, but how can I square up in my mind the teachings of James\\n: > in conjunction with the lukewarm Christian being 'spat-out'\\n: > \\n: > Can anyone help me, this really bothers me.\\n: \\n\\nI have received tons of mail from people replying to this article I wrote, and\\nI would just like to thank everyone who took the time to give me a hand.  It\\nhas indeed helped me and re-affirmed alot of theories that I held but was a\\nlittle unsure about.\\n\\nGod bless you all\\n\\nWill \", \"                        ^^^^^^^^^^^^^^^^^^^^^^^^^^^^^^^^^^^^^^^^^^^^^^^^^^\\n  ^^^^^^^^^^^^^\\nJoe, just 'cause you say they aren't subject to interpretation doesn't\\nnecesarily make it so.  That's *your* *interpretation* of these texts.\\n\\n\\n2 Peter 1:20-21\\nBut know this first of all, that no prophecy of Scripture is a matter \\nof one's own interpretation, for no prophecy was ever made by an act of\\nhuman will, but men moved by the Holy Spirit spoke from God.\\n\\nThe study notes in my Bible offer three possible meanings for verse 20.\\nApparantly it's not as clear to Charles Ryrie as it is to you.\\n\\n2 Timothy 3:16-17\\nAll Scripture is inspired by God and profitable for teaching, for\\nreproof, for correction, for training in righteousness; that the man of\\nGod may be adequate, equipped for every good work.\\n\\nGalations 1:11-12\\nFor I would have you know, brethren, that the gospel which was preached\\nby me is not according to man.  For I neither received it from man, \\nnor was I taught it, but I receieved it through a revelation of Jesus\\nChrist.\\n\\nWhen I read these passages, it was not immediately clear to me what\\nevery phrase meant.  I had stop and think about the possible\\nconnotations of words, what the intent of the author may have been,\\nwonder if the translator used the correct English word to convey the \\nsame meaning: I had to interpret.  If you want to believe that your \\nare not interpreting Scripture as you read, there's probably nothing \\nI can say to change your mind.  But I think it's naive to think that \\nour culture, experiences, education, do not affect everything we read.\\n\\n\\nIn college, I took an entire course in Biblical interpretation.  Go to\\nany Christian bookstore, there are scores of books on interpreting and\\nunderstanding Scripture.  If interpretation is unnecessary, there are \\nan awful lot of misguided Christians out there wasting a lot of time \\nand energy on it.\", '\\n\\n\\n  >[I\\'m sort of mystified about how a Christian might respond to this.]\\n\\n  I\\'ll start with a parable.\\n \\n  A Christian woman hires a carpenter to build her a birdhouse.  When he comes\\nover, they begin talking about religion.  \"So you believe that you understand\\nGod?\" he asks.  \"Yes, I do,\" she replies.  \"Then have him build you the \\nbirdhouse.\"', 'Why is it that we have this notion that God takes some sort of pleasure\\nfrom punishing people?  The purpose of hell is to destroy the devil and\\nhis angels.\\n\\nTo the earlier poster who tried to support the eternal hell theory with\\nthe fact that the fallen angels were not destroyed, remember the Bible\\nteaches that God has reserved them until the day of judgement.  Their\\njudgement is soon to come.\\n\\nLet me suggest this.  Maybe those who believe in the eternal hell theory\\nshould provide all the biblical evidence they can find for it.  Stay away\\nfrom human theories, and only take into account references in the bible.', '\\nOk, here\\'s what I understand:\\n\\nThe SL/SL1/SL2/SW1/SW2 was meant to compete with the following cars:\\n\\nHonda Civic\\nToyota Tercel (SL,SL1)\\nToyota Corolla (SL1,SL2)\\nNissan Sentra\\nMazda 323/Protoge\\'\\nSubaru Loyale/Impreza\\nIsuzu Stylus\\nGeo Prizm\\nFord Escort\\nMercury Tracer\\nMistubishi Mirage\\nPlymouth/Dodge Colt\\n\\n\\nTheir core competition is the Civic, Corolla, and Sentra.  Most of the other\\nmodels are in the same class, but aren\\'t the first cars you would think of.\\nI threw in the Escort/Tracer because it has a good amount of Japanese\\ntechnology and has similar reliability stats.  I didn\\'t include domestic small\\ncars such as the Cavalier, Sunbird, Shadow, Sundance, Tempo, and Topaz, since I\\nthink Saturn is going after cars that have at least some degree of Japanese\\nroots.\\n\\nThe SC1/SC2 was meant to compete against the following cars:\\n\\nToyota Paseo\\nHonda Civic Si/Civic Coupes/del Sol Si\\nNissan NX1600/NX2000\\nMazda MX-3\\nIsuzu Impulse\\nGeo Storm\\nFord Escort GT\\n\\n\\nIf you look at the prices of these cars, they\\'re more expensive than they\\'re\\n4-door counterparts.  The is good reason for this.  It is a more upscale and\\ntrend-driven market.  Even though many of these models are based on sedan\\nplatforms, their interior, etc. is good enough to warrant slightly higher\\nprices.  Here are some of the platform derivations I can think of:\\n\\nTercel -> Paseo\\nSentra -> NX1600/NX2000\\nCivic -> del Sol\\n323 -> MX-3 (not sure on this one)\\nStylus -> Impulse/Storm\\n\\nTo illustrate, a Tercel starts at around $8000, while the Paseo starts at\\naround $11,000.  Even a 4-door Tercel will cost less than a 2-door Paseo.  Now,\\nyou might be saying that the Tercel doesn\\'t offer the power that some 4-doors\\noffer.  What I mean is that there is no 4-dr Tercel with a comparable\\npowerplant as its sport coupe derivative.  Let\\'s take another example: the\\nIsuzu Stylus XS and Impulse XS/Storm GSi.  Both have the same powerplants (a\\n1.6L 140hp engine), but the smaller 2-dr coupes are generally more expensive.\\nAgain, this is because the two-door sport coupe market is a more\\nfashion-oriented and trend-setting segment.  People are willing to pay more\\nmoney for this type of car.  \\n\\n\\nIn short, even though the SC1/SC2 may be smaller, hence \"less\" car, it\\'s market\\norientation dictates a slightly higher price than its mechanically equivalent\\nsedan (SL1/SL2) version.\\n\\nI hope this clears things up a bit......\\n', \"You can be sure they wouldn't do it if it wasn't to their advantage.\", 'Stuff deleted...', 'James Sledd asks:\\n\\n 1. What is the nature of eternal life?\\n 2. How can we as mortals locked into space-time conceive of it?\\n 2a. If the best we can do is metaphor/analogy, then what is the\\n best metaphor?\\n\\nC S Lewis\\'s essay THE WEIGHT OF GLORY deals with this question. I\\nrecommend it enthusiastically. You might also read the chapter on\\n\"Heaven\" in his book THE PROBLEM OF PAIN. He gives a fictional\\ntreatment in his book THE GREAT DIVORCE. I have found all of these\\nvery helpful.\\n\\nYou might also be helped by the treatment in Dante\\'s DIVINE COMEDY.\\nHeaven occupies the last third of the poem, but I cannot imagine\\nreading it other than from the beginning. I urge you to use the\\ntranslation by Dorothy L Sayers, available from Penguin Paperbacks.', '\\n\\nYes, however, with the top off and the rear window down this car is more \\nlike a convertible than a coupe.  Think of it as a convertible with an \\nintegrated roll-bar like addition.', 'MK48T02 from thomsom.  It has a timekeeper (clock) and 512 bytes of NVRAM which\\nhas a lithium battery backup.  The battery has a life of ~10 years of poweroff\\noperation.  Installed in a car it could be left powered on continuously and not\\ndraw much current.  The battery would only be used when your auto battery was\\ndead or had been removed.\\n\\n\\nIn California they have a line on the transfer of ownership form which states\\nthat the odometer mileage is correct.  If incorrect you are required to \\nfill in what you know (or guesstimate) to be the correct mileage.  If you\\nlie on this form and are caught you can be prosecuted and the buyer can\\nsue you for the value of the mileage differential.', \"\\n\\nsure sounds like they got a ringer.  the 325is i drove was definitely\\nfaster than that.  if you want to quote numbers, my AW AutoFile shows\\n0-60 in 7.4, 1/4 mile in 15.9.  it quotes Car and Driver's figures\\nof 6.9 and 15.3.  oh, BTW, these numbers are for the 325i.\\n\\ni don't know how the addition of variable valve timing for 1993 affects it.\\nbut don't take my word for it.  go drive it.\", '\\nBecause Greyhound has apparently gotten around to installing their\\nRADAR collision-prevention system. They use RADAR to monitor how close\\nother vehicles are and how fast their relative speeds are, and signals\\na warning to the driver if they\\'re coming up on something too fast\\nor are getting too close.\\n\\nThis is all I remember from the news reports a few months back; at\\nthe time, they were only talking about the possibility of installing\\nthe system. (They didn\\'t mention how it worked in bumper-to-bumper\\ntraffic, or how it discriminated between a Camaro approaching at\\n120mph and ye olde bridge support in the median being approached \\nat 60mph on a curve.)\\n\\nI do recall something about progressive stages of warnings, from\\nflashing lights to audible warnings--ie, it goes from a red \"Too\\nclose\" light to hysterically screaming \"WE\\'RE ALL GOING TO DIE!!!!\"  :-)\\n\\n\\t\\t\\t\\tJames'] as keyword args. From version 0.25 passing these as positional arguments will result in an error\n",
      "  warnings.warn(\"Pass {} as keyword args. From version 0.25 \"\n"
     ]
    }
   ],
   "source": [
    "myvec = CountVectorizer(texts, max_df=.5, min_df=5)\n",
    "mypca = PCA(n_components=2)\n",
    "\n",
    "mypca?"
   ]
  },
  {
   "cell_type": "code",
   "execution_count": 8,
   "metadata": {},
   "outputs": [],
   "source": [
    "mypipe = make_pipeline(myvec, FunctionTransformer(lambda x: x.todense(), accept_sparse=True), mypca)\n",
    "\n",
    "r = mypipe.fit_transform(texts)"
   ]
  },
  {
   "cell_type": "code",
   "execution_count": 9,
   "metadata": {},
   "outputs": [
    {
     "data": {
      "text/plain": [
       "(40, 2)"
      ]
     },
     "execution_count": 9,
     "metadata": {},
     "output_type": "execute_result"
    }
   ],
   "source": [
    "r.shape"
   ]
  },
  {
   "cell_type": "code",
   "execution_count": 10,
   "metadata": {},
   "outputs": [
    {
     "data": {
      "text/plain": [
       "array([ 20.88856326, -11.88221923])"
      ]
     },
     "execution_count": 10,
     "metadata": {},
     "output_type": "execute_result"
    }
   ],
   "source": [
    "r[0]"
   ]
  },
  {
   "cell_type": "code",
   "execution_count": 11,
   "metadata": {},
   "outputs": [
    {
     "data": {
      "text/plain": [
       "<matplotlib.collections.PathCollection at 0x7efc91e7c940>"
      ]
     },
     "execution_count": 11,
     "metadata": {},
     "output_type": "execute_result"
    },
    {
     "data": {
      "image/png": "[encoded data removed]",
      "text/plain": [
       "<Figure size 432x288 with 1 Axes>"
      ]
     },
     "metadata": {
      "needs_background": "light"
     },
     "output_type": "display_data"
    }
   ],
   "source": [
    "plt.scatter([e[0] for e in r], [e[1] for e in r], alpha=.6)"
   ]
  },
  {
   "cell_type": "code",
   "execution_count": 12,
   "metadata": {},
   "outputs": [
    {
     "name": "stdout",
     "output_type": "stream",
     "text": [
      "Heres the life of St. MAria Goretti, pos 20.888563261180973 -11.882219232741548\n",
      " A question for you - can you give me th 6.91099095293878 -3.683920182067989\n",
      " If you don't already know it, you shoul -5.190653765732617 1.2294878059475682\n",
      "  I think you are vastly oversimplifying -0.07705748710815591 -0.5813748483996375\n",
      "My brother has been alienated from my pa 9.79800341058532 -12.688910556109985\n",
      "Is there anyone out there in NetLand tha -4.804292519202746 1.8794786968664248\n",
      "A \"new Christian\" wrote that he was new  1.9591114277945898 -0.7582900021479866\n",
      "Hello,   I have a 92 Toyota 4X4 and in t -3.3477354058113225 0.3536708248550779\n",
      "                            ^^^^^^^^^^^^ -2.089946478051476 2.4285794650817265\n",
      " \tAs a stong self-defense advocate, you' -3.645447207800208 0.2558613343150774\n",
      "True.  Also read 2 Peter 3:16  Peter war -5.277169649831602 2.061611199544874\n",
      " An interesting interpretation of Revela -2.413623971396889 0.2268396019784293\n",
      "     This is the problem. This is not he -3.0883288190963905 1.8939110824299765\n",
      " I don't understand the fascination with -5.273711734724383 2.0064613784986305\n",
      "  Terms are being used in a loaded way h -4.110696091285015 0.933705323700833\n",
      "[With Frank's permission, I have added s 50.22919654540346 22.272730390524742\n",
      "Well, there *is* a difference.  I don't  -3.4784842739872595 0.38363252633058414\n",
      "I wrote in response to dlecoint@garnet.a 25.724570707896145 -21.54079352214159\n",
      "   Must there be a \"why\" to this?  I ask -0.924374416885182 1.0711037818553177\n",
      "  My whole point was not to say that the -1.4677213940148548 -2.7070337435200837\n",
      " Perhaps it is because witnesses who hav -3.0555171417788745 0.9043388284211461\n",
      "Hello World, \t     just bought a new Ste -5.239782440460179 1.8654831325091676\n",
      "Is clear coat really worth it?  Yes, on  -2.6352549338509283 -1.4941678210658615\n",
      "From article <1993Apr5.200048.23421@ucsu -5.122431569344466 2.2459092482156087\n",
      " Sounds a lot more like an Opel GT to me -5.164692239201978 2.0634218583578354\n",
      "DeSoto's first year of manufacture was 1 -4.763166096043698 1.84301955997554\n",
      " I strongly disagree that absolute truth 1.9858209320896927 -5.096714593484511\n",
      "   > [A very nice article on the DSS, wh -2.9954900379261984 1.1718556098887936\n",
      ": > \t   I'm a commited Christian that is -3.0530698502944076 -0.4252615070806147\n",
      "                        ^^^^^^^^^^^^^^^^ 1.2536309197139077 0.453374316432266\n",
      "     >[I'm sort of mystified about how a -3.6358244369530173 1.2576079901927513\n",
      "Why is it that we have this notion that  -3.2879324460261343 2.316453265532139\n",
      " Ok, here's what I understand:  The SL/S -1.8633852297179487 0.03812547384131648\n",
      "You can be sure they wouldn't do it if i -5.421147032687404 2.031894164955545\n",
      "Stuff deleted... -5.598634279254133 2.274242665226895\n",
      "James Sledd asks:   1. What is the natur -3.852920547588105 0.883526221083583\n",
      "  Yes, however, with the top off and the -5.226311822840972 2.113974827725344\n",
      "MK48T02 from thomsom.  It has a timekeep -4.156744286989785 1.1482288571144772\n",
      "  sure sounds like they got a ringer.  t -4.870296548649858 1.17606247581755\n",
      " Because Greyhound has apparently gotten -3.6180440030666565 0.07409410154057884\n"
     ]
    }
   ],
   "source": [
    "for i, case in enumerate(r):\n",
    "    print(texts[i][:40].replace(\"\\n\", \" \"), case[0], case[1])"
   ]
  },
  {
   "cell_type": "code",
   "execution_count": 13,
   "metadata": {},
   "outputs": [],
   "source": [
    "i = 0\n",
    "with open(\"output.csv\", mode=\"w\") as f:\n",
    "    writer = csv.writer(f)\n",
    "    for case in r:\n",
    "        writer.writerow([texts[i], case[0], case[1]])\n",
    "        i+=1"
   ]
  },
  {
   "cell_type": "markdown",
   "metadata": {},
   "source": [
    "or, using pandas to convert to a `df`"
   ]
  },
  {
   "cell_type": "code",
   "execution_count": 14,
   "metadata": {
    "scrolled": true
   },
   "outputs": [
    {
     "data": {
      "text/html": [
       "<div>\n",
       "<style scoped>\n",
       "    .dataframe tbody tr th:only-of-type {\n",
       "        vertical-align: middle;\n",
       "    }\n",
       "\n",
       "    .dataframe tbody tr th {\n",
       "        vertical-align: top;\n",
       "    }\n",
       "\n",
       "    .dataframe thead th {\n",
       "        text-align: right;\n",
       "    }\n",
       "</style>\n",
       "<table border=\"1\" class=\"dataframe\">\n",
       "  <thead>\n",
       "    <tr style=\"text-align: right;\">\n",
       "      <th></th>\n",
       "      <th>texts</th>\n",
       "      <th>comp_1</th>\n",
       "      <th>comp_2</th>\n",
       "    </tr>\n",
       "  </thead>\n",
       "  <tbody>\n",
       "    <tr>\n",
       "      <th>0</th>\n",
       "      <td>Heres the life of St. MAria Goretti, posted wi...</td>\n",
       "      <td>20.888563</td>\n",
       "      <td>-11.882219</td>\n",
       "    </tr>\n",
       "    <tr>\n",
       "      <th>1</th>\n",
       "      <td>\\nA question for you - can you give me the nam...</td>\n",
       "      <td>6.910991</td>\n",
       "      <td>-3.683920</td>\n",
       "    </tr>\n",
       "    <tr>\n",
       "      <th>2</th>\n",
       "      <td>\\nIf you don't already know it, you should cal...</td>\n",
       "      <td>-5.190654</td>\n",
       "      <td>1.229488</td>\n",
       "    </tr>\n",
       "    <tr>\n",
       "      <th>3</th>\n",
       "      <td>\\n\\nI think you are vastly oversimplifying thi...</td>\n",
       "      <td>-0.077057</td>\n",
       "      <td>-0.581375</td>\n",
       "    </tr>\n",
       "    <tr>\n",
       "      <th>4</th>\n",
       "      <td>My brother has been alienated from my parents ...</td>\n",
       "      <td>9.798003</td>\n",
       "      <td>-12.688911</td>\n",
       "    </tr>\n",
       "    <tr>\n",
       "      <th>5</th>\n",
       "      <td>Is there anyone out there in NetLand that has/...</td>\n",
       "      <td>-4.804293</td>\n",
       "      <td>1.879479</td>\n",
       "    </tr>\n",
       "    <tr>\n",
       "      <th>6</th>\n",
       "      <td>A \"new Christian\" wrote that he was new to the...</td>\n",
       "      <td>1.959111</td>\n",
       "      <td>-0.758290</td>\n",
       "    </tr>\n",
       "    <tr>\n",
       "      <th>7</th>\n",
       "      <td>Hello,\\n \\nI have a 92 Toyota 4X4 and in the l...</td>\n",
       "      <td>-3.347735</td>\n",
       "      <td>0.353671</td>\n",
       "    </tr>\n",
       "    <tr>\n",
       "      <th>8</th>\n",
       "      <td>\\n                           ^^^^^^^^^^^^^^^^^...</td>\n",
       "      <td>-2.089946</td>\n",
       "      <td>2.428579</td>\n",
       "    </tr>\n",
       "    <tr>\n",
       "      <th>9</th>\n",
       "      <td>\\n\\tAs a stong self-defense advocate, you're '...</td>\n",
       "      <td>-3.645447</td>\n",
       "      <td>0.255861</td>\n",
       "    </tr>\n",
       "    <tr>\n",
       "      <th>10</th>\n",
       "      <td>True.\\n\\nAlso read 2 Peter 3:16\\n\\nPeter warns...</td>\n",
       "      <td>-5.277170</td>\n",
       "      <td>2.061611</td>\n",
       "    </tr>\n",
       "    <tr>\n",
       "      <th>11</th>\n",
       "      <td>\\nAn interesting interpretation of Revelation ...</td>\n",
       "      <td>-2.413624</td>\n",
       "      <td>0.226840</td>\n",
       "    </tr>\n",
       "    <tr>\n",
       "      <th>12</th>\n",
       "      <td>\\n\\n\\n\\n\\nThis is the problem. This is not hel...</td>\n",
       "      <td>-3.088329</td>\n",
       "      <td>1.893911</td>\n",
       "    </tr>\n",
       "    <tr>\n",
       "      <th>13</th>\n",
       "      <td>\\nI don't understand the fascination with vent...</td>\n",
       "      <td>-5.273712</td>\n",
       "      <td>2.006461</td>\n",
       "    </tr>\n",
       "    <tr>\n",
       "      <th>14</th>\n",
       "      <td>\\n\\nTerms are being used in a loaded way here....</td>\n",
       "      <td>-4.110696</td>\n",
       "      <td>0.933705</td>\n",
       "    </tr>\n",
       "    <tr>\n",
       "      <th>15</th>\n",
       "      <td>[With Frank's permission, I have added some in...</td>\n",
       "      <td>50.229197</td>\n",
       "      <td>22.272730</td>\n",
       "    </tr>\n",
       "    <tr>\n",
       "      <th>16</th>\n",
       "      <td>Well, there *is* a difference.\\n\\nI don't happ...</td>\n",
       "      <td>-3.478484</td>\n",
       "      <td>0.383633</td>\n",
       "    </tr>\n",
       "    <tr>\n",
       "      <th>17</th>\n",
       "      <td>I wrote in response to dlecoint@garnet.acns.fs...</td>\n",
       "      <td>25.724571</td>\n",
       "      <td>-21.540794</td>\n",
       "    </tr>\n",
       "    <tr>\n",
       "      <th>18</th>\n",
       "      <td>\\n\\n\\nMust there be a \"why\" to this?  I ask be...</td>\n",
       "      <td>-0.924374</td>\n",
       "      <td>1.071104</td>\n",
       "    </tr>\n",
       "    <tr>\n",
       "      <th>19</th>\n",
       "      <td>\\n\\nMy whole point was not to say that the car...</td>\n",
       "      <td>-1.467721</td>\n",
       "      <td>-2.707034</td>\n",
       "    </tr>\n",
       "    <tr>\n",
       "      <th>20</th>\n",
       "      <td>\\nPerhaps it is because witnesses who have lef...</td>\n",
       "      <td>-3.055517</td>\n",
       "      <td>0.904339</td>\n",
       "    </tr>\n",
       "    <tr>\n",
       "      <th>21</th>\n",
       "      <td>Hello World,\\n\\t     just bought a new Stealth...</td>\n",
       "      <td>-5.239782</td>\n",
       "      <td>1.865483</td>\n",
       "    </tr>\n",
       "    <tr>\n",
       "      <th>22</th>\n",
       "      <td>Is clear coat really worth it?  Yes, on the sh...</td>\n",
       "      <td>-2.635255</td>\n",
       "      <td>-1.494168</td>\n",
       "    </tr>\n",
       "    <tr>\n",
       "      <th>23</th>\n",
       "      <td>From article &lt;1993Apr5.200048.23421@ucsu.Color...</td>\n",
       "      <td>-5.122432</td>\n",
       "      <td>2.245909</td>\n",
       "    </tr>\n",
       "    <tr>\n",
       "      <th>24</th>\n",
       "      <td>\\nSounds a lot more like an Opel GT to me. I'd...</td>\n",
       "      <td>-5.164692</td>\n",
       "      <td>2.063422</td>\n",
       "    </tr>\n",
       "    <tr>\n",
       "      <th>25</th>\n",
       "      <td>DeSoto's first year of manufacture was 1928, s...</td>\n",
       "      <td>-4.763166</td>\n",
       "      <td>1.843020</td>\n",
       "    </tr>\n",
       "    <tr>\n",
       "      <th>26</th>\n",
       "      <td>\\nI strongly disagree that absolute truth woul...</td>\n",
       "      <td>1.985821</td>\n",
       "      <td>-5.096715</td>\n",
       "    </tr>\n",
       "    <tr>\n",
       "      <th>27</th>\n",
       "      <td>&gt; [A very nice article on the DSS, which I ...</td>\n",
       "      <td>-2.995490</td>\n",
       "      <td>1.171856</td>\n",
       "    </tr>\n",
       "    <tr>\n",
       "      <th>28</th>\n",
       "      <td>: &gt; \\t   I'm a commited Christian that is batt...</td>\n",
       "      <td>-3.053070</td>\n",
       "      <td>-0.425262</td>\n",
       "    </tr>\n",
       "    <tr>\n",
       "      <th>29</th>\n",
       "      <td>^^^^^^^^^^^^^^^^^^^^^^...</td>\n",
       "      <td>1.253631</td>\n",
       "      <td>0.453374</td>\n",
       "    </tr>\n",
       "    <tr>\n",
       "      <th>30</th>\n",
       "      <td>\\n\\n\\n  &gt;[I'm sort of mystified about how a Ch...</td>\n",
       "      <td>-3.635824</td>\n",
       "      <td>1.257608</td>\n",
       "    </tr>\n",
       "    <tr>\n",
       "      <th>31</th>\n",
       "      <td>Why is it that we have this notion that God ta...</td>\n",
       "      <td>-3.287932</td>\n",
       "      <td>2.316453</td>\n",
       "    </tr>\n",
       "    <tr>\n",
       "      <th>32</th>\n",
       "      <td>\\nOk, here's what I understand:\\n\\nThe SL/SL1/...</td>\n",
       "      <td>-1.863385</td>\n",
       "      <td>0.038125</td>\n",
       "    </tr>\n",
       "    <tr>\n",
       "      <th>33</th>\n",
       "      <td>You can be sure they wouldn't do it if it wasn...</td>\n",
       "      <td>-5.421147</td>\n",
       "      <td>2.031894</td>\n",
       "    </tr>\n",
       "    <tr>\n",
       "      <th>34</th>\n",
       "      <td>Stuff deleted...</td>\n",
       "      <td>-5.598634</td>\n",
       "      <td>2.274243</td>\n",
       "    </tr>\n",
       "    <tr>\n",
       "      <th>35</th>\n",
       "      <td>James Sledd asks:\\n\\n 1. What is the nature of...</td>\n",
       "      <td>-3.852921</td>\n",
       "      <td>0.883526</td>\n",
       "    </tr>\n",
       "    <tr>\n",
       "      <th>36</th>\n",
       "      <td>\\n\\nYes, however, with the top off and the rea...</td>\n",
       "      <td>-5.226312</td>\n",
       "      <td>2.113975</td>\n",
       "    </tr>\n",
       "    <tr>\n",
       "      <th>37</th>\n",
       "      <td>MK48T02 from thomsom.  It has a timekeeper (cl...</td>\n",
       "      <td>-4.156744</td>\n",
       "      <td>1.148229</td>\n",
       "    </tr>\n",
       "    <tr>\n",
       "      <th>38</th>\n",
       "      <td>\\n\\nsure sounds like they got a ringer.  the 3...</td>\n",
       "      <td>-4.870297</td>\n",
       "      <td>1.176062</td>\n",
       "    </tr>\n",
       "    <tr>\n",
       "      <th>39</th>\n",
       "      <td>\\nBecause Greyhound has apparently gotten arou...</td>\n",
       "      <td>-3.618044</td>\n",
       "      <td>0.074094</td>\n",
       "    </tr>\n",
       "  </tbody>\n",
       "</table>\n",
       "</div>"
      ],
      "text/plain": [
       "                                                texts     comp_1     comp_2\n",
       "0   Heres the life of St. MAria Goretti, posted wi...  20.888563 -11.882219\n",
       "1   \\nA question for you - can you give me the nam...   6.910991  -3.683920\n",
       "2   \\nIf you don't already know it, you should cal...  -5.190654   1.229488\n",
       "3   \\n\\nI think you are vastly oversimplifying thi...  -0.077057  -0.581375\n",
       "4   My brother has been alienated from my parents ...   9.798003 -12.688911\n",
       "5   Is there anyone out there in NetLand that has/...  -4.804293   1.879479\n",
       "6   A \"new Christian\" wrote that he was new to the...   1.959111  -0.758290\n",
       "7   Hello,\\n \\nI have a 92 Toyota 4X4 and in the l...  -3.347735   0.353671\n",
       "8   \\n                           ^^^^^^^^^^^^^^^^^...  -2.089946   2.428579\n",
       "9   \\n\\tAs a stong self-defense advocate, you're '...  -3.645447   0.255861\n",
       "10  True.\\n\\nAlso read 2 Peter 3:16\\n\\nPeter warns...  -5.277170   2.061611\n",
       "11  \\nAn interesting interpretation of Revelation ...  -2.413624   0.226840\n",
       "12  \\n\\n\\n\\n\\nThis is the problem. This is not hel...  -3.088329   1.893911\n",
       "13  \\nI don't understand the fascination with vent...  -5.273712   2.006461\n",
       "14  \\n\\nTerms are being used in a loaded way here....  -4.110696   0.933705\n",
       "15  [With Frank's permission, I have added some in...  50.229197  22.272730\n",
       "16  Well, there *is* a difference.\\n\\nI don't happ...  -3.478484   0.383633\n",
       "17  I wrote in response to dlecoint@garnet.acns.fs...  25.724571 -21.540794\n",
       "18  \\n\\n\\nMust there be a \"why\" to this?  I ask be...  -0.924374   1.071104\n",
       "19  \\n\\nMy whole point was not to say that the car...  -1.467721  -2.707034\n",
       "20  \\nPerhaps it is because witnesses who have lef...  -3.055517   0.904339\n",
       "21  Hello World,\\n\\t     just bought a new Stealth...  -5.239782   1.865483\n",
       "22  Is clear coat really worth it?  Yes, on the sh...  -2.635255  -1.494168\n",
       "23  From article <1993Apr5.200048.23421@ucsu.Color...  -5.122432   2.245909\n",
       "24  \\nSounds a lot more like an Opel GT to me. I'd...  -5.164692   2.063422\n",
       "25  DeSoto's first year of manufacture was 1928, s...  -4.763166   1.843020\n",
       "26  \\nI strongly disagree that absolute truth woul...   1.985821  -5.096715\n",
       "27     > [A very nice article on the DSS, which I ...  -2.995490   1.171856\n",
       "28  : > \\t   I'm a commited Christian that is batt...  -3.053070  -0.425262\n",
       "29                          ^^^^^^^^^^^^^^^^^^^^^^...   1.253631   0.453374\n",
       "30  \\n\\n\\n  >[I'm sort of mystified about how a Ch...  -3.635824   1.257608\n",
       "31  Why is it that we have this notion that God ta...  -3.287932   2.316453\n",
       "32  \\nOk, here's what I understand:\\n\\nThe SL/SL1/...  -1.863385   0.038125\n",
       "33  You can be sure they wouldn't do it if it wasn...  -5.421147   2.031894\n",
       "34                                   Stuff deleted...  -5.598634   2.274243\n",
       "35  James Sledd asks:\\n\\n 1. What is the nature of...  -3.852921   0.883526\n",
       "36  \\n\\nYes, however, with the top off and the rea...  -5.226312   2.113975\n",
       "37  MK48T02 from thomsom.  It has a timekeeper (cl...  -4.156744   1.148229\n",
       "38  \\n\\nsure sounds like they got a ringer.  the 3...  -4.870297   1.176062\n",
       "39  \\nBecause Greyhound has apparently gotten arou...  -3.618044   0.074094"
      ]
     },
     "execution_count": 14,
     "metadata": {},
     "output_type": "execute_result"
    }
   ],
   "source": [
    "import pandas as pd\n",
    "\n",
    "df = pd.DataFrame(zip(texts, [e[0] for e in r], [e[1] for e in r]), columns=['texts', 'comp_1', 'comp_2']) \n",
    "df"
   ]
  },
  {
   "cell_type": "markdown",
   "metadata": {},
   "source": [
    "if you want to display more texts, you may run:  \n",
    "`df.style.set_properties(subset=['texts'], **{'width': '100px'})`"
   ]
  },
  {
   "cell_type": "code",
   "execution_count": 15,
   "metadata": {},
   "outputs": [
    {
     "data": {
      "text/html": [
       "<div>\n",
       "<style scoped>\n",
       "    .dataframe tbody tr th:only-of-type {\n",
       "        vertical-align: middle;\n",
       "    }\n",
       "\n",
       "    .dataframe tbody tr th {\n",
       "        vertical-align: top;\n",
       "    }\n",
       "\n",
       "    .dataframe thead th {\n",
       "        text-align: right;\n",
       "    }\n",
       "</style>\n",
       "<table border=\"1\" class=\"dataframe\">\n",
       "  <thead>\n",
       "    <tr style=\"text-align: right;\">\n",
       "      <th></th>\n",
       "      <th>0</th>\n",
       "      <th>1</th>\n",
       "      <th>2</th>\n",
       "    </tr>\n",
       "  </thead>\n",
       "  <tbody>\n",
       "    <tr>\n",
       "      <th>0</th>\n",
       "      <td>Heres the life of St. MAria Goretti, posted wi...</td>\n",
       "      <td>20.888563</td>\n",
       "      <td>-11.882219</td>\n",
       "    </tr>\n",
       "    <tr>\n",
       "      <th>1</th>\n",
       "      <td>\\nA question for you - can you give me the nam...</td>\n",
       "      <td>6.910991</td>\n",
       "      <td>-3.683920</td>\n",
       "    </tr>\n",
       "    <tr>\n",
       "      <th>2</th>\n",
       "      <td>\\nIf you don't already know it, you should cal...</td>\n",
       "      <td>-5.190654</td>\n",
       "      <td>1.229488</td>\n",
       "    </tr>\n",
       "    <tr>\n",
       "      <th>3</th>\n",
       "      <td>\\n\\nI think you are vastly oversimplifying thi...</td>\n",
       "      <td>-0.077057</td>\n",
       "      <td>-0.581375</td>\n",
       "    </tr>\n",
       "    <tr>\n",
       "      <th>4</th>\n",
       "      <td>My brother has been alienated from my parents ...</td>\n",
       "      <td>9.798003</td>\n",
       "      <td>-12.688911</td>\n",
       "    </tr>\n",
       "    <tr>\n",
       "      <th>5</th>\n",
       "      <td>Is there anyone out there in NetLand that has/...</td>\n",
       "      <td>-4.804293</td>\n",
       "      <td>1.879479</td>\n",
       "    </tr>\n",
       "    <tr>\n",
       "      <th>6</th>\n",
       "      <td>A \"new Christian\" wrote that he was new to the...</td>\n",
       "      <td>1.959111</td>\n",
       "      <td>-0.758290</td>\n",
       "    </tr>\n",
       "    <tr>\n",
       "      <th>7</th>\n",
       "      <td>Hello,\\n \\nI have a 92 Toyota 4X4 and in the l...</td>\n",
       "      <td>-3.347735</td>\n",
       "      <td>0.353671</td>\n",
       "    </tr>\n",
       "    <tr>\n",
       "      <th>8</th>\n",
       "      <td>\\n                           ^^^^^^^^^^^^^^^^^...</td>\n",
       "      <td>-2.089946</td>\n",
       "      <td>2.428579</td>\n",
       "    </tr>\n",
       "    <tr>\n",
       "      <th>9</th>\n",
       "      <td>\\n\\tAs a stong self-defense advocate, you're '...</td>\n",
       "      <td>-3.645447</td>\n",
       "      <td>0.255861</td>\n",
       "    </tr>\n",
       "    <tr>\n",
       "      <th>10</th>\n",
       "      <td>True.\\n\\nAlso read 2 Peter 3:16\\n\\nPeter warns...</td>\n",
       "      <td>-5.277170</td>\n",
       "      <td>2.061611</td>\n",
       "    </tr>\n",
       "    <tr>\n",
       "      <th>11</th>\n",
       "      <td>\\nAn interesting interpretation of Revelation ...</td>\n",
       "      <td>-2.413624</td>\n",
       "      <td>0.226840</td>\n",
       "    </tr>\n",
       "    <tr>\n",
       "      <th>12</th>\n",
       "      <td>\\n\\n\\n\\n\\nThis is the problem. This is not hel...</td>\n",
       "      <td>-3.088329</td>\n",
       "      <td>1.893911</td>\n",
       "    </tr>\n",
       "    <tr>\n",
       "      <th>13</th>\n",
       "      <td>\\nI don't understand the fascination with vent...</td>\n",
       "      <td>-5.273712</td>\n",
       "      <td>2.006461</td>\n",
       "    </tr>\n",
       "    <tr>\n",
       "      <th>14</th>\n",
       "      <td>\\n\\nTerms are being used in a loaded way here....</td>\n",
       "      <td>-4.110696</td>\n",
       "      <td>0.933705</td>\n",
       "    </tr>\n",
       "    <tr>\n",
       "      <th>15</th>\n",
       "      <td>[With Frank's permission, I have added some in...</td>\n",
       "      <td>50.229197</td>\n",
       "      <td>22.272730</td>\n",
       "    </tr>\n",
       "    <tr>\n",
       "      <th>16</th>\n",
       "      <td>Well, there *is* a difference.\\n\\nI don't happ...</td>\n",
       "      <td>-3.478484</td>\n",
       "      <td>0.383633</td>\n",
       "    </tr>\n",
       "    <tr>\n",
       "      <th>17</th>\n",
       "      <td>I wrote in response to dlecoint@garnet.acns.fs...</td>\n",
       "      <td>25.724571</td>\n",
       "      <td>-21.540794</td>\n",
       "    </tr>\n",
       "    <tr>\n",
       "      <th>18</th>\n",
       "      <td>\\n\\n\\nMust there be a \"why\" to this?  I ask be...</td>\n",
       "      <td>-0.924374</td>\n",
       "      <td>1.071104</td>\n",
       "    </tr>\n",
       "    <tr>\n",
       "      <th>19</th>\n",
       "      <td>\\n\\nMy whole point was not to say that the car...</td>\n",
       "      <td>-1.467721</td>\n",
       "      <td>-2.707034</td>\n",
       "    </tr>\n",
       "    <tr>\n",
       "      <th>20</th>\n",
       "      <td>\\nPerhaps it is because witnesses who have lef...</td>\n",
       "      <td>-3.055517</td>\n",
       "      <td>0.904339</td>\n",
       "    </tr>\n",
       "    <tr>\n",
       "      <th>21</th>\n",
       "      <td>Hello World,\\n\\t     just bought a new Stealth...</td>\n",
       "      <td>-5.239782</td>\n",
       "      <td>1.865483</td>\n",
       "    </tr>\n",
       "    <tr>\n",
       "      <th>22</th>\n",
       "      <td>Is clear coat really worth it?  Yes, on the sh...</td>\n",
       "      <td>-2.635255</td>\n",
       "      <td>-1.494168</td>\n",
       "    </tr>\n",
       "    <tr>\n",
       "      <th>23</th>\n",
       "      <td>From article &lt;1993Apr5.200048.23421@ucsu.Color...</td>\n",
       "      <td>-5.122432</td>\n",
       "      <td>2.245909</td>\n",
       "    </tr>\n",
       "    <tr>\n",
       "      <th>24</th>\n",
       "      <td>\\nSounds a lot more like an Opel GT to me. I'd...</td>\n",
       "      <td>-5.164692</td>\n",
       "      <td>2.063422</td>\n",
       "    </tr>\n",
       "    <tr>\n",
       "      <th>25</th>\n",
       "      <td>DeSoto's first year of manufacture was 1928, s...</td>\n",
       "      <td>-4.763166</td>\n",
       "      <td>1.843020</td>\n",
       "    </tr>\n",
       "    <tr>\n",
       "      <th>26</th>\n",
       "      <td>\\nI strongly disagree that absolute truth woul...</td>\n",
       "      <td>1.985821</td>\n",
       "      <td>-5.096715</td>\n",
       "    </tr>\n",
       "    <tr>\n",
       "      <th>27</th>\n",
       "      <td>&gt; [A very nice article on the DSS, which I ...</td>\n",
       "      <td>-2.995490</td>\n",
       "      <td>1.171856</td>\n",
       "    </tr>\n",
       "    <tr>\n",
       "      <th>28</th>\n",
       "      <td>: &gt; \\t   I'm a commited Christian that is batt...</td>\n",
       "      <td>-3.053070</td>\n",
       "      <td>-0.425262</td>\n",
       "    </tr>\n",
       "    <tr>\n",
       "      <th>29</th>\n",
       "      <td>^^^^^^^^^^^^^^^^^^^^^^...</td>\n",
       "      <td>1.253631</td>\n",
       "      <td>0.453374</td>\n",
       "    </tr>\n",
       "    <tr>\n",
       "      <th>30</th>\n",
       "      <td>\\n\\n\\n  &gt;[I'm sort of mystified about how a Ch...</td>\n",
       "      <td>-3.635824</td>\n",
       "      <td>1.257608</td>\n",
       "    </tr>\n",
       "    <tr>\n",
       "      <th>31</th>\n",
       "      <td>Why is it that we have this notion that God ta...</td>\n",
       "      <td>-3.287932</td>\n",
       "      <td>2.316453</td>\n",
       "    </tr>\n",
       "    <tr>\n",
       "      <th>32</th>\n",
       "      <td>\\nOk, here's what I understand:\\n\\nThe SL/SL1/...</td>\n",
       "      <td>-1.863385</td>\n",
       "      <td>0.038125</td>\n",
       "    </tr>\n",
       "    <tr>\n",
       "      <th>33</th>\n",
       "      <td>You can be sure they wouldn't do it if it wasn...</td>\n",
       "      <td>-5.421147</td>\n",
       "      <td>2.031894</td>\n",
       "    </tr>\n",
       "    <tr>\n",
       "      <th>34</th>\n",
       "      <td>Stuff deleted...</td>\n",
       "      <td>-5.598634</td>\n",
       "      <td>2.274243</td>\n",
       "    </tr>\n",
       "    <tr>\n",
       "      <th>35</th>\n",
       "      <td>James Sledd asks:\\n\\n 1. What is the nature of...</td>\n",
       "      <td>-3.852921</td>\n",
       "      <td>0.883526</td>\n",
       "    </tr>\n",
       "    <tr>\n",
       "      <th>36</th>\n",
       "      <td>\\n\\nYes, however, with the top off and the rea...</td>\n",
       "      <td>-5.226312</td>\n",
       "      <td>2.113975</td>\n",
       "    </tr>\n",
       "    <tr>\n",
       "      <th>37</th>\n",
       "      <td>MK48T02 from thomsom.  It has a timekeeper (cl...</td>\n",
       "      <td>-4.156744</td>\n",
       "      <td>1.148229</td>\n",
       "    </tr>\n",
       "    <tr>\n",
       "      <th>38</th>\n",
       "      <td>\\n\\nsure sounds like they got a ringer.  the 3...</td>\n",
       "      <td>-4.870297</td>\n",
       "      <td>1.176062</td>\n",
       "    </tr>\n",
       "    <tr>\n",
       "      <th>39</th>\n",
       "      <td>\\nBecause Greyhound has apparently gotten arou...</td>\n",
       "      <td>-3.618044</td>\n",
       "      <td>0.074094</td>\n",
       "    </tr>\n",
       "  </tbody>\n",
       "</table>\n",
       "</div>"
      ],
      "text/plain": [
       "                                                    0          1          2\n",
       "0   Heres the life of St. MAria Goretti, posted wi...  20.888563 -11.882219\n",
       "1   \\nA question for you - can you give me the nam...   6.910991  -3.683920\n",
       "2   \\nIf you don't already know it, you should cal...  -5.190654   1.229488\n",
       "3   \\n\\nI think you are vastly oversimplifying thi...  -0.077057  -0.581375\n",
       "4   My brother has been alienated from my parents ...   9.798003 -12.688911\n",
       "5   Is there anyone out there in NetLand that has/...  -4.804293   1.879479\n",
       "6   A \"new Christian\" wrote that he was new to the...   1.959111  -0.758290\n",
       "7   Hello,\\n \\nI have a 92 Toyota 4X4 and in the l...  -3.347735   0.353671\n",
       "8   \\n                           ^^^^^^^^^^^^^^^^^...  -2.089946   2.428579\n",
       "9   \\n\\tAs a stong self-defense advocate, you're '...  -3.645447   0.255861\n",
       "10  True.\\n\\nAlso read 2 Peter 3:16\\n\\nPeter warns...  -5.277170   2.061611\n",
       "11  \\nAn interesting interpretation of Revelation ...  -2.413624   0.226840\n",
       "12  \\n\\n\\n\\n\\nThis is the problem. This is not hel...  -3.088329   1.893911\n",
       "13  \\nI don't understand the fascination with vent...  -5.273712   2.006461\n",
       "14  \\n\\nTerms are being used in a loaded way here....  -4.110696   0.933705\n",
       "15  [With Frank's permission, I have added some in...  50.229197  22.272730\n",
       "16  Well, there *is* a difference.\\n\\nI don't happ...  -3.478484   0.383633\n",
       "17  I wrote in response to dlecoint@garnet.acns.fs...  25.724571 -21.540794\n",
       "18  \\n\\n\\nMust there be a \"why\" to this?  I ask be...  -0.924374   1.071104\n",
       "19  \\n\\nMy whole point was not to say that the car...  -1.467721  -2.707034\n",
       "20  \\nPerhaps it is because witnesses who have lef...  -3.055517   0.904339\n",
       "21  Hello World,\\n\\t     just bought a new Stealth...  -5.239782   1.865483\n",
       "22  Is clear coat really worth it?  Yes, on the sh...  -2.635255  -1.494168\n",
       "23  From article <1993Apr5.200048.23421@ucsu.Color...  -5.122432   2.245909\n",
       "24  \\nSounds a lot more like an Opel GT to me. I'd...  -5.164692   2.063422\n",
       "25  DeSoto's first year of manufacture was 1928, s...  -4.763166   1.843020\n",
       "26  \\nI strongly disagree that absolute truth woul...   1.985821  -5.096715\n",
       "27     > [A very nice article on the DSS, which I ...  -2.995490   1.171856\n",
       "28  : > \\t   I'm a commited Christian that is batt...  -3.053070  -0.425262\n",
       "29                          ^^^^^^^^^^^^^^^^^^^^^^...   1.253631   0.453374\n",
       "30  \\n\\n\\n  >[I'm sort of mystified about how a Ch...  -3.635824   1.257608\n",
       "31  Why is it that we have this notion that God ta...  -3.287932   2.316453\n",
       "32  \\nOk, here's what I understand:\\n\\nThe SL/SL1/...  -1.863385   0.038125\n",
       "33  You can be sure they wouldn't do it if it wasn...  -5.421147   2.031894\n",
       "34                                   Stuff deleted...  -5.598634   2.274243\n",
       "35  James Sledd asks:\\n\\n 1. What is the nature of...  -3.852921   0.883526\n",
       "36  \\n\\nYes, however, with the top off and the rea...  -5.226312   2.113975\n",
       "37  MK48T02 from thomsom.  It has a timekeeper (cl...  -4.156744   1.148229\n",
       "38  \\n\\nsure sounds like they got a ringer.  the 3...  -4.870297   1.176062\n",
       "39  \\nBecause Greyhound has apparently gotten arou...  -3.618044   0.074094"
      ]
     },
     "execution_count": 15,
     "metadata": {},
     "output_type": "execute_result"
    }
   ],
   "source": [
    "import pandas as pd\n",
    "df = pd.read_csv(\"output.csv\", header = None)\n",
    "df"
   ]
  },
  {
   "cell_type": "markdown",
   "metadata": {},
   "source": [
    "## SVD"
   ]
  },
  {
   "cell_type": "code",
   "execution_count": 16,
   "metadata": {},
   "outputs": [
    {
     "data": {
      "text/plain": [
       "1193"
      ]
     },
     "execution_count": 16,
     "metadata": {},
     "output_type": "execute_result"
    }
   ],
   "source": [
    "# make longer dataset\n",
    "texts = autotexts + religiontexts\n",
    "len(texts)"
   ]
  },
  {
   "cell_type": "code",
   "execution_count": 17,
   "metadata": {},
   "outputs": [],
   "source": [
    "mysvd = TruncatedSVD(n_components=2)\n",
    "mypipe = make_pipeline(myvec, mysvd)\n",
    "r = mypipe.fit_transform(texts)"
   ]
  },
  {
   "cell_type": "code",
   "execution_count": 18,
   "metadata": {},
   "outputs": [],
   "source": [
    "TruncatedSVD?"
   ]
  },
  {
   "cell_type": "code",
   "execution_count": 19,
   "metadata": {},
   "outputs": [
    {
     "data": {
      "text/plain": [
       "<matplotlib.collections.PathCollection at 0x7efc8305f760>"
      ]
     },
     "execution_count": 19,
     "metadata": {},
     "output_type": "execute_result"
    },
    {
     "data": {
      "image/png": "[encoded data removed]",
      "text/plain": [
       "<Figure size 432x288 with 1 Axes>"
      ]
     },
     "metadata": {
      "needs_background": "light"
     },
     "output_type": "display_data"
    }
   ],
   "source": [
    "plt.scatter([e[0] for e in r], [e[1] for e in r], alpha=.6)"
   ]
  },
  {
   "cell_type": "markdown",
   "metadata": {},
   "source": [
    "## clustering"
   ]
  },
  {
   "cell_type": "code",
   "execution_count": 20,
   "metadata": {},
   "outputs": [],
   "source": [
    "from sklearn.feature_extraction.text import TfidfVectorizer\n",
    "from sklearn.cluster import KMeans\n",
    "\n",
    "k = 5\n",
    "\n",
    "vec = TfidfVectorizer(min_df=5, max_df=.4)\n",
    "features = vec.fit_transform(texts)\n",
    "km = KMeans(n_clusters=k, init='k-means++', max_iter=100, n_init=1)\n",
    "predictions = km.fit_predict(features)"
   ]
  },
  {
   "cell_type": "code",
   "execution_count": 21,
   "metadata": {},
   "outputs": [
    {
     "name": "stdout",
     "output_type": "stream",
     "text": [
      "Top terms per cluster:\n",
      "Cluster 0: ford gt __ was taurus had engine my edu they \n",
      "Cluster 1: car my they was about your can at an out \n",
      "Cluster 2: he was his god jesus who they will would from \n",
      "Cluster 3: thanks any anyone please mail me interested am was wondering \n",
      "Cluster 4: we god can do what by all there people your \n"
     ]
    }
   ],
   "source": [
    "order_centroids = km.cluster_centers_.argsort()[:, ::-1]\n",
    "terms = vec.get_feature_names()\n",
    "\n",
    "print(\"Top terms per cluster:\")\n",
    "\n",
    "for i in range(k):\n",
    "    print(\"Cluster {}: \".format(i), end='')\n",
    "    for ind in order_centroids[i, :10]:\n",
    "        print(\"{} \".format(terms[ind]), end='')\n",
    "    print()"
   ]
  },
  {
   "cell_type": "code",
   "execution_count": 22,
   "metadata": {},
   "outputs": [],
   "source": []
  },
  {
   "cell_type": "markdown",
   "metadata": {},
   "source": [
    "# Combining cluster analysis and dimensionality reduction\n",
    "\n",
    "First, let's rewrite the code above to use a pipeline instead of separate steps. Note that this is equivalent to the code above."
   ]
  },
  {
   "cell_type": "code",
   "execution_count": 26,
   "metadata": {},
   "outputs": [],
   "source": [
    "k = 5\n",
    "coolpipe = make_pipeline( TfidfVectorizer(min_df=5, max_df=.4), \n",
    "                         KMeans(n_clusters=k, init='k-means++', max_iter=100, n_init=1))\n",
    "\n",
    "mycoolpredictions = coolpipe.fit_predict(texts)"
   ]
  },
  {
   "cell_type": "code",
   "execution_count": null,
   "metadata": {},
   "outputs": [],
   "source": [
    "# Now, lets add a SVD dimension reduction in between:"
   ]
  },
  {
   "cell_type": "code",
   "execution_count": 28,
   "metadata": {},
   "outputs": [],
   "source": [
    "k = 5\n",
    "evencoolerpipe = make_pipeline( TfidfVectorizer(min_df=5, max_df=.4), \n",
    "                               TruncatedSVD(n_components=10),\n",
    "                               KMeans(n_clusters=k, init='k-means++', max_iter=100, n_init=1))\n",
    "\n",
    "mycoolestpredictions = evencoolerpipe.fit_predict(texts)"
   ]
  },
  {
   "cell_type": "markdown",
   "metadata": {},
   "source": [
    "As you see, it's literally just adding the SVD in the middle of the pipe!"
   ]
  },
  {
   "cell_type": "code",
   "execution_count": null,
   "metadata": {},
   "outputs": [],
   "source": []
  }
 ],
 "metadata": {
  "kernelspec": {
   "display_name": "Python 3",
   "language": "python",
   "name": "python3"
  },
  "language_info": {
   "codemirror_mode": {
    "name": "ipython",
    "version": 3
   },
   "file_extension": ".py",
   "mimetype": "text/x-python",
   "name": "python",
   "nbconvert_exporter": "python",
   "pygments_lexer": "ipython3",
   "version": "3.8.10"
  }
 },
 "nbformat": 4,
 "nbformat_minor": 2
}
